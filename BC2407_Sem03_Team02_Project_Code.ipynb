{
 "cells": [
  {
   "cell_type": "markdown",
   "metadata": {},
   "source": [
    "# Section 4: Data and Approach (Run from Section 4.4)"
   ]
  },
  {
   "cell_type": "markdown",
   "metadata": {},
   "source": [
    "Dear Prof, kindly run the code from Section 4.4 onwards! Do rename the path to your corresponding file path too."
   ]
  },
  {
   "cell_type": "markdown",
   "metadata": {},
   "source": [
    "## Imports"
   ]
  },
  {
   "cell_type": "code",
   "execution_count": 1,
   "metadata": {},
   "outputs": [
    {
     "name": "stdout",
     "output_type": "stream",
     "text": [
      "Current working directory: C:\\Users\\roydo\\Desktop\\BC2407 Analytics 2\\Project\n"
     ]
    }
   ],
   "source": [
    "import os\n",
    "import random\n",
    "import numpy as np\n",
    "import pandas as pd\n",
    "import seaborn as sb\n",
    "import matplotlib as plt\n",
    "sb.set()\n",
    "from sklearn.model_selection import train_test_split\n",
    "from sklearn import metrics\n",
    "from sklearn import preprocessing\n",
    "path = r'/Users/paullow/Documents/0. UNI WORK!!/5. Analytics 2/Project/BC2407_Submission_Sem03_Team2'\n",
    "\n",
    "try:\n",
    "    os.chdir(path)\n",
    "    print(\"Current working directory: {0}\".format(os.getcwd()))\n",
    "except FileNotFoundError:\n",
    "    print(\"Directory: {0} does not exist\".format(path))\n",
    "except NotADirectoryError:\n",
    "    print(\"{0} is not a directory\".format(path))\n",
    "except PermissionError:\n",
    "    print(\"You do not have permissions to change to {0}\".format(path))\n",
    "\n",
    "# fullData = pd.read_csv('fullDataCleaned.csv')"
   ]
  },
  {
   "cell_type": "markdown",
   "metadata": {},
   "source": [
    "# Section 4.2: Data Merging and Preparation"
   ]
  },
  {
   "cell_type": "markdown",
   "metadata": {},
   "source": [
    "## Standardising datatypes"
   ]
  },
  {
   "cell_type": "code",
   "execution_count": 2,
   "metadata": {},
   "outputs": [
    {
     "name": "stdout",
     "output_type": "stream",
     "text": [
      "318438\n"
     ]
    }
   ],
   "source": [
    "afrData = pd.read_csv('train_data.csv',header = 0)\n",
    "afrData = afrData[afrData['Severity of Illness'].notna()]\n",
    "afrData.head()\n",
    "print(len(afrData))"
   ]
  },
  {
   "cell_type": "code",
   "execution_count": 3,
   "metadata": {},
   "outputs": [
    {
     "name": "stderr",
     "output_type": "stream",
     "text": [
      "C:\\NTU Tutorials\\Year 1\\Sem 2\\Data Science and AI\\DSAI\\Anaconda\\lib\\site-packages\\IPython\\core\\interactiveshell.py:3146: DtypeWarning: Columns (10) have mixed types.Specify dtype option on import or set low_memory=False.\n",
      "  has_raised = await self.run_ast_nodes(code_ast.body, cell_name,\n"
     ]
    }
   ],
   "source": [
    "nyData = pd.read_csv(\n",
    "         'Hospital_Inpatient_Discharges__SPARCS_De-Identified___2015.csv',\n",
    "         header=0, \n",
    "         )"
   ]
  },
  {
   "cell_type": "code",
   "execution_count": 4,
   "metadata": {},
   "outputs": [
    {
     "name": "stdout",
     "output_type": "stream",
     "text": [
      "0\n",
      "2346820\n"
     ]
    }
   ],
   "source": [
    "nyData = nyData[nyData['Length of Stay'].notna()]\n",
    "nyData = nyData[nyData['APR Severity of Illness Description'].notna()]\n",
    "nyData.drop(['Type of Admission'], axis=1)\n",
    "nyData['Length of Stay'] = nyData['Length of Stay'].astype('str')\n",
    "print(nyData['Length of Stay'].isna().sum())\n",
    "print(len(nyData))"
   ]
  },
  {
   "cell_type": "code",
   "execution_count": 5,
   "metadata": {},
   "outputs": [
    {
     "data": {
      "text/html": [
       "<div>\n",
       "<style scoped>\n",
       "    .dataframe tbody tr th:only-of-type {\n",
       "        vertical-align: middle;\n",
       "    }\n",
       "\n",
       "    .dataframe tbody tr th {\n",
       "        vertical-align: top;\n",
       "    }\n",
       "\n",
       "    .dataframe thead th {\n",
       "        text-align: right;\n",
       "    }\n",
       "</style>\n",
       "<table border=\"1\" class=\"dataframe\">\n",
       "  <thead>\n",
       "    <tr style=\"text-align: right;\">\n",
       "      <th></th>\n",
       "      <th>Health Service Area</th>\n",
       "      <th>Hospital County</th>\n",
       "      <th>Operating Certificate Number</th>\n",
       "      <th>Facility Id</th>\n",
       "      <th>Facility Name</th>\n",
       "      <th>Age Group</th>\n",
       "      <th>Zip Code - 3 digits</th>\n",
       "      <th>Gender</th>\n",
       "      <th>Race</th>\n",
       "      <th>Ethnicity</th>\n",
       "      <th>...</th>\n",
       "      <th>APR Risk of Mortality</th>\n",
       "      <th>APR Medical Surgical Description</th>\n",
       "      <th>Payment Typology 1</th>\n",
       "      <th>Payment Typology 2</th>\n",
       "      <th>Payment Typology 3</th>\n",
       "      <th>Birth Weight</th>\n",
       "      <th>Abortion Edit Indicator</th>\n",
       "      <th>Emergency Department Indicator</th>\n",
       "      <th>Total Charges</th>\n",
       "      <th>Total Costs</th>\n",
       "    </tr>\n",
       "  </thead>\n",
       "  <tbody>\n",
       "    <tr>\n",
       "      <th>0</th>\n",
       "      <td>Western NY</td>\n",
       "      <td>Allegany</td>\n",
       "      <td>226700.0</td>\n",
       "      <td>37.0</td>\n",
       "      <td>Cuba Memorial Hospital Inc</td>\n",
       "      <td>70 or Older</td>\n",
       "      <td>147</td>\n",
       "      <td>F</td>\n",
       "      <td>White</td>\n",
       "      <td>Not Span/Hispanic</td>\n",
       "      <td>...</td>\n",
       "      <td>Minor</td>\n",
       "      <td>Medical</td>\n",
       "      <td>Medicare</td>\n",
       "      <td>Private Health Insurance</td>\n",
       "      <td>NaN</td>\n",
       "      <td>0</td>\n",
       "      <td>N</td>\n",
       "      <td>Y</td>\n",
       "      <td>5,333.90</td>\n",
       "      <td>4,818.42</td>\n",
       "    </tr>\n",
       "    <tr>\n",
       "      <th>1</th>\n",
       "      <td>Western NY</td>\n",
       "      <td>Allegany</td>\n",
       "      <td>226700.0</td>\n",
       "      <td>37.0</td>\n",
       "      <td>Cuba Memorial Hospital Inc</td>\n",
       "      <td>70 or Older</td>\n",
       "      <td>147</td>\n",
       "      <td>F</td>\n",
       "      <td>White</td>\n",
       "      <td>Not Span/Hispanic</td>\n",
       "      <td>...</td>\n",
       "      <td>Moderate</td>\n",
       "      <td>Medical</td>\n",
       "      <td>Medicare</td>\n",
       "      <td>NaN</td>\n",
       "      <td>NaN</td>\n",
       "      <td>0</td>\n",
       "      <td>N</td>\n",
       "      <td>Y</td>\n",
       "      <td>4,865.99</td>\n",
       "      <td>4,588.78</td>\n",
       "    </tr>\n",
       "    <tr>\n",
       "      <th>2</th>\n",
       "      <td>Western NY</td>\n",
       "      <td>Allegany</td>\n",
       "      <td>226700.0</td>\n",
       "      <td>37.0</td>\n",
       "      <td>Cuba Memorial Hospital Inc</td>\n",
       "      <td>70 or Older</td>\n",
       "      <td>147</td>\n",
       "      <td>F</td>\n",
       "      <td>White</td>\n",
       "      <td>Not Span/Hispanic</td>\n",
       "      <td>...</td>\n",
       "      <td>Minor</td>\n",
       "      <td>Medical</td>\n",
       "      <td>Medicare</td>\n",
       "      <td>Private Health Insurance</td>\n",
       "      <td>NaN</td>\n",
       "      <td>0</td>\n",
       "      <td>N</td>\n",
       "      <td>Y</td>\n",
       "      <td>5,901.54</td>\n",
       "      <td>5,559.56</td>\n",
       "    </tr>\n",
       "    <tr>\n",
       "      <th>3</th>\n",
       "      <td>Western NY</td>\n",
       "      <td>Allegany</td>\n",
       "      <td>226700.0</td>\n",
       "      <td>37.0</td>\n",
       "      <td>Cuba Memorial Hospital Inc</td>\n",
       "      <td>50 to 69</td>\n",
       "      <td>147</td>\n",
       "      <td>F</td>\n",
       "      <td>White</td>\n",
       "      <td>Not Span/Hispanic</td>\n",
       "      <td>...</td>\n",
       "      <td>Minor</td>\n",
       "      <td>Medical</td>\n",
       "      <td>Medicare</td>\n",
       "      <td>NaN</td>\n",
       "      <td>NaN</td>\n",
       "      <td>0</td>\n",
       "      <td>N</td>\n",
       "      <td>Y</td>\n",
       "      <td>3,619.08</td>\n",
       "      <td>3,567.25</td>\n",
       "    </tr>\n",
       "    <tr>\n",
       "      <th>4</th>\n",
       "      <td>Western NY</td>\n",
       "      <td>Allegany</td>\n",
       "      <td>226700.0</td>\n",
       "      <td>37.0</td>\n",
       "      <td>Cuba Memorial Hospital Inc</td>\n",
       "      <td>70 or Older</td>\n",
       "      <td>147</td>\n",
       "      <td>M</td>\n",
       "      <td>White</td>\n",
       "      <td>Not Span/Hispanic</td>\n",
       "      <td>...</td>\n",
       "      <td>Moderate</td>\n",
       "      <td>Medical</td>\n",
       "      <td>Medicare</td>\n",
       "      <td>Blue Cross/Blue Shield</td>\n",
       "      <td>Private Health Insurance</td>\n",
       "      <td>0</td>\n",
       "      <td>N</td>\n",
       "      <td>Y</td>\n",
       "      <td>3,185.87</td>\n",
       "      <td>3,167.89</td>\n",
       "    </tr>\n",
       "    <tr>\n",
       "      <th>...</th>\n",
       "      <td>...</td>\n",
       "      <td>...</td>\n",
       "      <td>...</td>\n",
       "      <td>...</td>\n",
       "      <td>...</td>\n",
       "      <td>...</td>\n",
       "      <td>...</td>\n",
       "      <td>...</td>\n",
       "      <td>...</td>\n",
       "      <td>...</td>\n",
       "      <td>...</td>\n",
       "      <td>...</td>\n",
       "      <td>...</td>\n",
       "      <td>...</td>\n",
       "      <td>...</td>\n",
       "      <td>...</td>\n",
       "      <td>...</td>\n",
       "      <td>...</td>\n",
       "      <td>...</td>\n",
       "      <td>...</td>\n",
       "      <td>...</td>\n",
       "    </tr>\n",
       "    <tr>\n",
       "      <th>2346926</th>\n",
       "      <td>Long Island</td>\n",
       "      <td>Suffolk</td>\n",
       "      <td>5157003.0</td>\n",
       "      <td>943.0</td>\n",
       "      <td>St Catherine of Siena Hospital</td>\n",
       "      <td>70 or Older</td>\n",
       "      <td>117</td>\n",
       "      <td>M</td>\n",
       "      <td>White</td>\n",
       "      <td>Not Span/Hispanic</td>\n",
       "      <td>...</td>\n",
       "      <td>Moderate</td>\n",
       "      <td>Medical</td>\n",
       "      <td>Medicare</td>\n",
       "      <td>Medicare</td>\n",
       "      <td>Private Health Insurance</td>\n",
       "      <td>0</td>\n",
       "      <td>N</td>\n",
       "      <td>Y</td>\n",
       "      <td>43,494.00</td>\n",
       "      <td>5,588.26</td>\n",
       "    </tr>\n",
       "    <tr>\n",
       "      <th>2346927</th>\n",
       "      <td>Long Island</td>\n",
       "      <td>Suffolk</td>\n",
       "      <td>5157003.0</td>\n",
       "      <td>943.0</td>\n",
       "      <td>St Catherine of Siena Hospital</td>\n",
       "      <td>50 to 69</td>\n",
       "      <td>117</td>\n",
       "      <td>M</td>\n",
       "      <td>White</td>\n",
       "      <td>Not Span/Hispanic</td>\n",
       "      <td>...</td>\n",
       "      <td>Minor</td>\n",
       "      <td>Medical</td>\n",
       "      <td>Private Health Insurance</td>\n",
       "      <td>NaN</td>\n",
       "      <td>NaN</td>\n",
       "      <td>0</td>\n",
       "      <td>N</td>\n",
       "      <td>Y</td>\n",
       "      <td>16,662.00</td>\n",
       "      <td>2,907.62</td>\n",
       "    </tr>\n",
       "    <tr>\n",
       "      <th>2346928</th>\n",
       "      <td>NaN</td>\n",
       "      <td>NaN</td>\n",
       "      <td>NaN</td>\n",
       "      <td>NaN</td>\n",
       "      <td>Redacted for Confidentiality</td>\n",
       "      <td>50 to 69</td>\n",
       "      <td>NaN</td>\n",
       "      <td>M</td>\n",
       "      <td>White</td>\n",
       "      <td>Unknown</td>\n",
       "      <td>...</td>\n",
       "      <td>Minor</td>\n",
       "      <td>Medical</td>\n",
       "      <td>Medicaid</td>\n",
       "      <td>NaN</td>\n",
       "      <td>NaN</td>\n",
       "      <td>0</td>\n",
       "      <td>N</td>\n",
       "      <td>N</td>\n",
       "      <td>7,142.00</td>\n",
       "      <td>1,692.55</td>\n",
       "    </tr>\n",
       "    <tr>\n",
       "      <th>2346929</th>\n",
       "      <td>Long Island</td>\n",
       "      <td>Suffolk</td>\n",
       "      <td>5157003.0</td>\n",
       "      <td>943.0</td>\n",
       "      <td>St Catherine of Siena Hospital</td>\n",
       "      <td>70 or Older</td>\n",
       "      <td>117</td>\n",
       "      <td>M</td>\n",
       "      <td>White</td>\n",
       "      <td>Not Span/Hispanic</td>\n",
       "      <td>...</td>\n",
       "      <td>Moderate</td>\n",
       "      <td>Medical</td>\n",
       "      <td>Medicare</td>\n",
       "      <td>Medicare</td>\n",
       "      <td>Blue Cross/Blue Shield</td>\n",
       "      <td>0</td>\n",
       "      <td>N</td>\n",
       "      <td>Y</td>\n",
       "      <td>13,070.00</td>\n",
       "      <td>2,447.75</td>\n",
       "    </tr>\n",
       "    <tr>\n",
       "      <th>2346930</th>\n",
       "      <td>Long Island</td>\n",
       "      <td>Suffolk</td>\n",
       "      <td>5157003.0</td>\n",
       "      <td>943.0</td>\n",
       "      <td>St Catherine of Siena Hospital</td>\n",
       "      <td>30 to 49</td>\n",
       "      <td>117</td>\n",
       "      <td>M</td>\n",
       "      <td>White</td>\n",
       "      <td>Spanish/Hispanic</td>\n",
       "      <td>...</td>\n",
       "      <td>Minor</td>\n",
       "      <td>Medical</td>\n",
       "      <td>Self-Pay</td>\n",
       "      <td>NaN</td>\n",
       "      <td>NaN</td>\n",
       "      <td>0</td>\n",
       "      <td>N</td>\n",
       "      <td>Y</td>\n",
       "      <td>14,637.00</td>\n",
       "      <td>1,976.90</td>\n",
       "    </tr>\n",
       "  </tbody>\n",
       "</table>\n",
       "<p>2346820 rows × 34 columns</p>\n",
       "</div>"
      ],
      "text/plain": [
       "        Health Service Area Hospital County  Operating Certificate Number  \\\n",
       "0                Western NY        Allegany                      226700.0   \n",
       "1                Western NY        Allegany                      226700.0   \n",
       "2                Western NY        Allegany                      226700.0   \n",
       "3                Western NY        Allegany                      226700.0   \n",
       "4                Western NY        Allegany                      226700.0   \n",
       "...                     ...             ...                           ...   \n",
       "2346926         Long Island         Suffolk                     5157003.0   \n",
       "2346927         Long Island         Suffolk                     5157003.0   \n",
       "2346928                 NaN             NaN                           NaN   \n",
       "2346929         Long Island         Suffolk                     5157003.0   \n",
       "2346930         Long Island         Suffolk                     5157003.0   \n",
       "\n",
       "         Facility Id                   Facility Name    Age Group  \\\n",
       "0               37.0      Cuba Memorial Hospital Inc  70 or Older   \n",
       "1               37.0      Cuba Memorial Hospital Inc  70 or Older   \n",
       "2               37.0      Cuba Memorial Hospital Inc  70 or Older   \n",
       "3               37.0      Cuba Memorial Hospital Inc     50 to 69   \n",
       "4               37.0      Cuba Memorial Hospital Inc  70 or Older   \n",
       "...              ...                             ...          ...   \n",
       "2346926        943.0  St Catherine of Siena Hospital  70 or Older   \n",
       "2346927        943.0  St Catherine of Siena Hospital     50 to 69   \n",
       "2346928          NaN    Redacted for Confidentiality     50 to 69   \n",
       "2346929        943.0  St Catherine of Siena Hospital  70 or Older   \n",
       "2346930        943.0  St Catherine of Siena Hospital     30 to 49   \n",
       "\n",
       "        Zip Code - 3 digits Gender   Race          Ethnicity  ...  \\\n",
       "0                       147      F  White  Not Span/Hispanic  ...   \n",
       "1                       147      F  White  Not Span/Hispanic  ...   \n",
       "2                       147      F  White  Not Span/Hispanic  ...   \n",
       "3                       147      F  White  Not Span/Hispanic  ...   \n",
       "4                       147      M  White  Not Span/Hispanic  ...   \n",
       "...                     ...    ...    ...                ...  ...   \n",
       "2346926                 117      M  White  Not Span/Hispanic  ...   \n",
       "2346927                 117      M  White  Not Span/Hispanic  ...   \n",
       "2346928                 NaN      M  White            Unknown  ...   \n",
       "2346929                 117      M  White  Not Span/Hispanic  ...   \n",
       "2346930                 117      M  White   Spanish/Hispanic  ...   \n",
       "\n",
       "        APR Risk of Mortality APR Medical Surgical Description  \\\n",
       "0                       Minor                          Medical   \n",
       "1                    Moderate                          Medical   \n",
       "2                       Minor                          Medical   \n",
       "3                       Minor                          Medical   \n",
       "4                    Moderate                          Medical   \n",
       "...                       ...                              ...   \n",
       "2346926              Moderate                          Medical   \n",
       "2346927                 Minor                          Medical   \n",
       "2346928                 Minor                          Medical   \n",
       "2346929              Moderate                          Medical   \n",
       "2346930                 Minor                          Medical   \n",
       "\n",
       "               Payment Typology 1        Payment Typology 2  \\\n",
       "0                        Medicare  Private Health Insurance   \n",
       "1                        Medicare                       NaN   \n",
       "2                        Medicare  Private Health Insurance   \n",
       "3                        Medicare                       NaN   \n",
       "4                        Medicare    Blue Cross/Blue Shield   \n",
       "...                           ...                       ...   \n",
       "2346926                  Medicare                  Medicare   \n",
       "2346927  Private Health Insurance                       NaN   \n",
       "2346928                  Medicaid                       NaN   \n",
       "2346929                  Medicare                  Medicare   \n",
       "2346930                  Self-Pay                       NaN   \n",
       "\n",
       "               Payment Typology 3 Birth Weight  Abortion Edit Indicator  \\\n",
       "0                             NaN            0                        N   \n",
       "1                             NaN            0                        N   \n",
       "2                             NaN            0                        N   \n",
       "3                             NaN            0                        N   \n",
       "4        Private Health Insurance            0                        N   \n",
       "...                           ...          ...                      ...   \n",
       "2346926  Private Health Insurance            0                        N   \n",
       "2346927                       NaN            0                        N   \n",
       "2346928                       NaN            0                        N   \n",
       "2346929    Blue Cross/Blue Shield            0                        N   \n",
       "2346930                       NaN            0                        N   \n",
       "\n",
       "        Emergency Department Indicator  Total Charges Total Costs  \n",
       "0                                    Y       5,333.90    4,818.42  \n",
       "1                                    Y       4,865.99    4,588.78  \n",
       "2                                    Y       5,901.54    5,559.56  \n",
       "3                                    Y       3,619.08    3,567.25  \n",
       "4                                    Y       3,185.87    3,167.89  \n",
       "...                                ...            ...         ...  \n",
       "2346926                              Y      43,494.00    5,588.26  \n",
       "2346927                              Y      16,662.00    2,907.62  \n",
       "2346928                              N       7,142.00    1,692.55  \n",
       "2346929                              Y      13,070.00    2,447.75  \n",
       "2346930                              Y      14,637.00    1,976.90  \n",
       "\n",
       "[2346820 rows x 34 columns]"
      ]
     },
     "execution_count": 5,
     "metadata": {},
     "output_type": "execute_result"
    }
   ],
   "source": [
    "nyData"
   ]
  },
  {
   "cell_type": "code",
   "execution_count": 6,
   "metadata": {},
   "outputs": [
    {
     "name": "stdout",
     "output_type": "stream",
     "text": [
      "0\n",
      "0\n"
     ]
    }
   ],
   "source": [
    "nyData['Length of Stay'] = nyData['Length of Stay'].str.replace(' +','',regex=True)\n",
    "nyData['Length of Stay'] = nyData['Length of Stay'].str.replace('+','',regex=True)\n",
    "print((nyData['Length of Stay'] == '120 +').sum())\n",
    "print((nyData['Length of Stay'] == '120+').sum())\n",
    "nyData['Length of Stay'] = nyData['Length of Stay'].astype('int')\n",
    "nyData['Length of Stay'] = nyData['Length of Stay'].astype('float') * 1.5\n",
    "#nyData['Length of Stay'].str.replace(' +','', regex = True)    "
   ]
  },
  {
   "cell_type": "code",
   "execution_count": 7,
   "metadata": {},
   "outputs": [
    {
     "name": "stdout",
     "output_type": "stream",
     "text": [
      "0\n",
      "0\n",
      "0\n",
      "2346820\n"
     ]
    }
   ],
   "source": [
    "print(nyData['Length of Stay'].isna().sum())\n",
    "print((nyData['Length of Stay'] == '120+').sum())\n",
    "print((nyData['Length of Stay'] == '120 +').sum())\n",
    "print(len(nyData))"
   ]
  },
  {
   "cell_type": "markdown",
   "metadata": {},
   "source": [
    "## Merging of columns\n",
    "1. Rename nyData Severity Column to 'Severity of Illness'\n",
    "2. Change Major to Moderate\n",
    "3. Sample rows to match afrData"
   ]
  },
  {
   "cell_type": "code",
   "execution_count": 8,
   "metadata": {},
   "outputs": [
    {
     "name": "stderr",
     "output_type": "stream",
     "text": [
      "<ipython-input-8-560c984ce367>:9: SettingWithCopyWarning: \n",
      "A value is trying to be set on a copy of a slice from a DataFrame.\n",
      "Try using .loc[row_indexer,col_indexer] = value instead\n",
      "\n",
      "See the caveats in the documentation: https://pandas.pydata.org/pandas-docs/stable/user_guide/indexing.html#returning-a-view-versus-a-copy\n",
      "  nyData[cat] = nyData[cat].astype('category')\n",
      "<ipython-input-8-560c984ce367>:13: SettingWithCopyWarning: \n",
      "A value is trying to be set on a copy of a slice from a DataFrame.\n",
      "Try using .loc[row_indexer,col_indexer] = value instead\n",
      "\n",
      "See the caveats in the documentation: https://pandas.pydata.org/pandas-docs/stable/user_guide/indexing.html#returning-a-view-versus-a-copy\n",
      "  nyData[cont] = nyData[cont].str.replace(',','')\n",
      "<ipython-input-8-560c984ce367>:14: SettingWithCopyWarning: \n",
      "A value is trying to be set on a copy of a slice from a DataFrame.\n",
      "Try using .loc[row_indexer,col_indexer] = value instead\n",
      "\n",
      "See the caveats in the documentation: https://pandas.pydata.org/pandas-docs/stable/user_guide/indexing.html#returning-a-view-versus-a-copy\n",
      "  nyData[cont] = nyData[cont].astype('float')\n"
     ]
    },
    {
     "name": "stdout",
     "output_type": "stream",
     "text": [
      "Length of Stay                         category\n",
      "Age Group                              category\n",
      "Gender                                 category\n",
      "Patient Disposition                    category\n",
      "CCS Diagnosis Code                     category\n",
      "CCS Procedure Code                     category\n",
      "APR DRG Code                           category\n",
      "APR MDC Code                           category\n",
      "APR Severity of Illness Description    category\n",
      "APR Risk of Mortality                  category\n",
      "APR Medical Surgical Description       category\n",
      "Payment Typology 1                     category\n",
      "Payment Typology 2                     category\n",
      "Payment Typology 3                     category\n",
      "Total Charges                           float64\n",
      "Total Costs                             float64\n",
      "dtype: object\n"
     ]
    }
   ],
   "source": [
    "# Extracting of features\n",
    "catFeatures = ['Length of Stay','Age Group','Gender','Patient Disposition',\n",
    "            'CCS Diagnosis Code','CCS Procedure Code','APR DRG Code','APR MDC Code','APR Severity of Illness Description',\n",
    "            'APR Risk of Mortality','APR Medical Surgical Description','Payment Typology 1','Payment Typology 2','Payment Typology 3']\n",
    "contFeatures = ['Total Charges','Total Costs']\n",
    "nyData = nyData[catFeatures + contFeatures]\n",
    "#Convert categorical variables\n",
    "for cat in catFeatures:\n",
    "    nyData[cat] = nyData[cat].astype('category')\n",
    "\n",
    "\n",
    "for cont in contFeatures:\n",
    "    nyData[cont] = nyData[cont].str.replace(',','')\n",
    "    nyData[cont] = nyData[cont].astype('float')\n",
    "print(nyData.dtypes)"
   ]
  },
  {
   "cell_type": "code",
   "execution_count": 9,
   "metadata": {},
   "outputs": [
    {
     "data": {
      "text/plain": [
       "['Moderate', 'Minor', 'Extreme']\n",
       "Categories (3, object): ['Moderate', 'Minor', 'Extreme']"
      ]
     },
     "execution_count": 9,
     "metadata": {},
     "output_type": "execute_result"
    }
   ],
   "source": [
    "nyData = nyData.rename(columns={'APR Severity of Illness Description': 'Severity of Illness'})\n",
    "nyData['Severity of Illness'] = nyData['Severity of Illness'].replace('Major','Moderate')\n",
    "nyData['Severity of Illness'].unique()"
   ]
  },
  {
   "cell_type": "code",
   "execution_count": 10,
   "metadata": {},
   "outputs": [
    {
     "data": {
      "text/plain": [
       "Moderate    175843\n",
       "Minor        85872\n",
       "Extreme      56723\n",
       "Name: Severity of Illness, dtype: int64"
      ]
     },
     "execution_count": 10,
     "metadata": {},
     "output_type": "execute_result"
    }
   ],
   "source": [
    "#Number of values in each Severity category for afrData\n",
    "afrData['Severity of Illness'].value_counts() "
   ]
  },
  {
   "cell_type": "code",
   "execution_count": 11,
   "metadata": {},
   "outputs": [
    {
     "data": {
      "text/plain": [
       "Moderate    1414386\n",
       "Minor        785636\n",
       "Extreme      146798\n",
       "Name: Severity of Illness, dtype: int64"
      ]
     },
     "execution_count": 11,
     "metadata": {},
     "output_type": "execute_result"
    }
   ],
   "source": [
    "nyData['Severity of Illness'].value_counts()"
   ]
  },
  {
   "cell_type": "code",
   "execution_count": 12,
   "metadata": {},
   "outputs": [
    {
     "data": {
      "text/plain": [
       "Moderate    175843\n",
       "Minor        85872\n",
       "Extreme      56723\n",
       "Name: Severity of Illness, dtype: int64"
      ]
     },
     "execution_count": 12,
     "metadata": {},
     "output_type": "execute_result"
    }
   ],
   "source": [
    "#Extract 85872 Minor from nyData\n",
    "nyMinor = nyData[nyData['Severity of Illness'] == 'Minor']\n",
    "nyMinor = nyMinor.sample(n = 85872)\n",
    "#Extract 175843 Moderate from nyData\n",
    "nyModerate = nyData[nyData['Severity of Illness'] == 'Moderate']\n",
    "nyModerate = nyModerate.sample(n = 175843)\n",
    "#Extract 56723 Extreme from nyData\n",
    "nyExtreme = nyData[nyData['Severity of Illness'] == 'Extreme']\n",
    "nyExtreme = nyExtreme.sample(n = 56723)\n",
    "\n",
    "frames = [nyMinor,nyModerate,nyExtreme]\n",
    "newNYData = pd.concat(frames)\n",
    "newNYData['Severity of Illness'].value_counts()"
   ]
  },
  {
   "cell_type": "code",
   "execution_count": 13,
   "metadata": {},
   "outputs": [
    {
     "name": "stdout",
     "output_type": "stream",
     "text": [
      "Length of afrData:  318438\n",
      "Length of NYData:  318438\n"
     ]
    }
   ],
   "source": [
    "#Give unique ID to each row\n",
    "afrData = afrData.sort_values(by = 'Severity of Illness')\n",
    "#afrID = pd.DataFrame({'ID': range(len(afrData))})\n",
    "#afrID\n",
    "#afrData = pd.concat([afrID,afrData])\n",
    "\n",
    "newNYData = newNYData.sort_values(by = 'Severity of Illness')\n",
    "#nyID = pd.DataFrame({'ID': range(len(newNYData))})\n",
    "#newNYData = pd.concat([nyID,newNYData])\n",
    "\n",
    "print(\"Length of afrData: \", len(afrData))\n",
    "print(\"Length of NYData: \", len(newNYData))"
   ]
  },
  {
   "cell_type": "code",
   "execution_count": 14,
   "metadata": {},
   "outputs": [],
   "source": [
    "# Inner join dataset\n",
    "afrData = afrData.reset_index()\n",
    "afrData = afrData.drop(columns = [\"Severity of Illness\"])\n",
    "newNYData = newNYData.reset_index()\n",
    "fullData = pd.concat([afrData,newNYData], axis = 1)"
   ]
  },
  {
   "cell_type": "code",
   "execution_count": 15,
   "metadata": {},
   "outputs": [
    {
     "data": {
      "text/html": [
       "<div>\n",
       "<style scoped>\n",
       "    .dataframe tbody tr th:only-of-type {\n",
       "        vertical-align: middle;\n",
       "    }\n",
       "\n",
       "    .dataframe tbody tr th {\n",
       "        vertical-align: top;\n",
       "    }\n",
       "\n",
       "    .dataframe thead th {\n",
       "        text-align: right;\n",
       "    }\n",
       "</style>\n",
       "<table border=\"1\" class=\"dataframe\">\n",
       "  <thead>\n",
       "    <tr style=\"text-align: right;\">\n",
       "      <th></th>\n",
       "      <th>index</th>\n",
       "      <th>case_id</th>\n",
       "      <th>Hospital_code</th>\n",
       "      <th>Hospital_type_code</th>\n",
       "      <th>City_Code_Hospital</th>\n",
       "      <th>Hospital_region_code</th>\n",
       "      <th>Available Extra Rooms in Hospital</th>\n",
       "      <th>Department</th>\n",
       "      <th>Ward_Type</th>\n",
       "      <th>Ward_Facility_Code</th>\n",
       "      <th>...</th>\n",
       "      <th>APR DRG Code</th>\n",
       "      <th>APR MDC Code</th>\n",
       "      <th>Severity of Illness</th>\n",
       "      <th>APR Risk of Mortality</th>\n",
       "      <th>APR Medical Surgical Description</th>\n",
       "      <th>Payment Typology 1</th>\n",
       "      <th>Payment Typology 2</th>\n",
       "      <th>Payment Typology 3</th>\n",
       "      <th>Total Charges</th>\n",
       "      <th>Total Costs</th>\n",
       "    </tr>\n",
       "  </thead>\n",
       "  <tbody>\n",
       "    <tr>\n",
       "      <th>0</th>\n",
       "      <td>0</td>\n",
       "      <td>1</td>\n",
       "      <td>8</td>\n",
       "      <td>c</td>\n",
       "      <td>3</td>\n",
       "      <td>Z</td>\n",
       "      <td>3</td>\n",
       "      <td>radiotherapy</td>\n",
       "      <td>R</td>\n",
       "      <td>F</td>\n",
       "      <td>...</td>\n",
       "      <td>49</td>\n",
       "      <td>1</td>\n",
       "      <td>Extreme</td>\n",
       "      <td>Extreme</td>\n",
       "      <td>Medical</td>\n",
       "      <td>Medicare</td>\n",
       "      <td>Private Health Insurance</td>\n",
       "      <td>NaN</td>\n",
       "      <td>213055.22</td>\n",
       "      <td>55810.62</td>\n",
       "    </tr>\n",
       "    <tr>\n",
       "      <th>1</th>\n",
       "      <td>117224</td>\n",
       "      <td>117225</td>\n",
       "      <td>6</td>\n",
       "      <td>a</td>\n",
       "      <td>6</td>\n",
       "      <td>X</td>\n",
       "      <td>3</td>\n",
       "      <td>gynecology</td>\n",
       "      <td>R</td>\n",
       "      <td>F</td>\n",
       "      <td>...</td>\n",
       "      <td>136</td>\n",
       "      <td>4</td>\n",
       "      <td>Extreme</td>\n",
       "      <td>Extreme</td>\n",
       "      <td>Medical</td>\n",
       "      <td>Medicaid</td>\n",
       "      <td>Self-Pay</td>\n",
       "      <td>NaN</td>\n",
       "      <td>117580.69</td>\n",
       "      <td>47617.64</td>\n",
       "    </tr>\n",
       "    <tr>\n",
       "      <th>2</th>\n",
       "      <td>117223</td>\n",
       "      <td>117224</td>\n",
       "      <td>28</td>\n",
       "      <td>b</td>\n",
       "      <td>11</td>\n",
       "      <td>X</td>\n",
       "      <td>3</td>\n",
       "      <td>gynecology</td>\n",
       "      <td>R</td>\n",
       "      <td>F</td>\n",
       "      <td>...</td>\n",
       "      <td>460</td>\n",
       "      <td>11</td>\n",
       "      <td>Extreme</td>\n",
       "      <td>Major</td>\n",
       "      <td>Medical</td>\n",
       "      <td>Medicare</td>\n",
       "      <td>Medicare</td>\n",
       "      <td>Blue Cross/Blue Shield</td>\n",
       "      <td>68772.67</td>\n",
       "      <td>13219.23</td>\n",
       "    </tr>\n",
       "    <tr>\n",
       "      <th>3</th>\n",
       "      <td>117222</td>\n",
       "      <td>117223</td>\n",
       "      <td>17</td>\n",
       "      <td>e</td>\n",
       "      <td>1</td>\n",
       "      <td>X</td>\n",
       "      <td>3</td>\n",
       "      <td>gynecology</td>\n",
       "      <td>R</td>\n",
       "      <td>E</td>\n",
       "      <td>...</td>\n",
       "      <td>447</td>\n",
       "      <td>11</td>\n",
       "      <td>Extreme</td>\n",
       "      <td>Extreme</td>\n",
       "      <td>Surgical</td>\n",
       "      <td>Medicare</td>\n",
       "      <td>Medicare</td>\n",
       "      <td>Medicaid</td>\n",
       "      <td>514242.62</td>\n",
       "      <td>127996.03</td>\n",
       "    </tr>\n",
       "    <tr>\n",
       "      <th>4</th>\n",
       "      <td>117221</td>\n",
       "      <td>117222</td>\n",
       "      <td>4</td>\n",
       "      <td>a</td>\n",
       "      <td>4</td>\n",
       "      <td>X</td>\n",
       "      <td>3</td>\n",
       "      <td>gynecology</td>\n",
       "      <td>R</td>\n",
       "      <td>F</td>\n",
       "      <td>...</td>\n",
       "      <td>142</td>\n",
       "      <td>4</td>\n",
       "      <td>Extreme</td>\n",
       "      <td>Major</td>\n",
       "      <td>Medical</td>\n",
       "      <td>Medicaid</td>\n",
       "      <td>Medicaid</td>\n",
       "      <td>NaN</td>\n",
       "      <td>39195.54</td>\n",
       "      <td>23770.21</td>\n",
       "    </tr>\n",
       "    <tr>\n",
       "      <th>...</th>\n",
       "      <td>...</td>\n",
       "      <td>...</td>\n",
       "      <td>...</td>\n",
       "      <td>...</td>\n",
       "      <td>...</td>\n",
       "      <td>...</td>\n",
       "      <td>...</td>\n",
       "      <td>...</td>\n",
       "      <td>...</td>\n",
       "      <td>...</td>\n",
       "      <td>...</td>\n",
       "      <td>...</td>\n",
       "      <td>...</td>\n",
       "      <td>...</td>\n",
       "      <td>...</td>\n",
       "      <td>...</td>\n",
       "      <td>...</td>\n",
       "      <td>...</td>\n",
       "      <td>...</td>\n",
       "      <td>...</td>\n",
       "      <td>...</td>\n",
       "    </tr>\n",
       "    <tr>\n",
       "      <th>318433</th>\n",
       "      <td>191439</td>\n",
       "      <td>191440</td>\n",
       "      <td>26</td>\n",
       "      <td>b</td>\n",
       "      <td>2</td>\n",
       "      <td>Y</td>\n",
       "      <td>4</td>\n",
       "      <td>gynecology</td>\n",
       "      <td>Q</td>\n",
       "      <td>D</td>\n",
       "      <td>...</td>\n",
       "      <td>560</td>\n",
       "      <td>14</td>\n",
       "      <td>Moderate</td>\n",
       "      <td>Minor</td>\n",
       "      <td>Medical</td>\n",
       "      <td>Medicaid</td>\n",
       "      <td>Medicaid</td>\n",
       "      <td>Self-Pay</td>\n",
       "      <td>29295.60</td>\n",
       "      <td>9948.16</td>\n",
       "    </tr>\n",
       "    <tr>\n",
       "      <th>318434</th>\n",
       "      <td>191440</td>\n",
       "      <td>191441</td>\n",
       "      <td>18</td>\n",
       "      <td>d</td>\n",
       "      <td>13</td>\n",
       "      <td>Y</td>\n",
       "      <td>4</td>\n",
       "      <td>gynecology</td>\n",
       "      <td>R</td>\n",
       "      <td>B</td>\n",
       "      <td>...</td>\n",
       "      <td>47</td>\n",
       "      <td>1</td>\n",
       "      <td>Moderate</td>\n",
       "      <td>Minor</td>\n",
       "      <td>Medical</td>\n",
       "      <td>Medicare</td>\n",
       "      <td>NaN</td>\n",
       "      <td>NaN</td>\n",
       "      <td>18424.34</td>\n",
       "      <td>4920.83</td>\n",
       "    </tr>\n",
       "    <tr>\n",
       "      <th>318435</th>\n",
       "      <td>191441</td>\n",
       "      <td>191442</td>\n",
       "      <td>18</td>\n",
       "      <td>d</td>\n",
       "      <td>13</td>\n",
       "      <td>Y</td>\n",
       "      <td>3</td>\n",
       "      <td>gynecology</td>\n",
       "      <td>R</td>\n",
       "      <td>B</td>\n",
       "      <td>...</td>\n",
       "      <td>560</td>\n",
       "      <td>14</td>\n",
       "      <td>Moderate</td>\n",
       "      <td>Minor</td>\n",
       "      <td>Medical</td>\n",
       "      <td>Medicaid</td>\n",
       "      <td>Medicaid</td>\n",
       "      <td>NaN</td>\n",
       "      <td>22206.05</td>\n",
       "      <td>7809.33</td>\n",
       "    </tr>\n",
       "    <tr>\n",
       "      <th>318436</th>\n",
       "      <td>191443</td>\n",
       "      <td>191444</td>\n",
       "      <td>19</td>\n",
       "      <td>a</td>\n",
       "      <td>7</td>\n",
       "      <td>Y</td>\n",
       "      <td>2</td>\n",
       "      <td>gynecology</td>\n",
       "      <td>R</td>\n",
       "      <td>C</td>\n",
       "      <td>...</td>\n",
       "      <td>136</td>\n",
       "      <td>4</td>\n",
       "      <td>Moderate</td>\n",
       "      <td>Major</td>\n",
       "      <td>Medical</td>\n",
       "      <td>Blue Cross/Blue Shield</td>\n",
       "      <td>NaN</td>\n",
       "      <td>NaN</td>\n",
       "      <td>41444.96</td>\n",
       "      <td>11248.80</td>\n",
       "    </tr>\n",
       "    <tr>\n",
       "      <th>318437</th>\n",
       "      <td>182771</td>\n",
       "      <td>182772</td>\n",
       "      <td>25</td>\n",
       "      <td>e</td>\n",
       "      <td>1</td>\n",
       "      <td>X</td>\n",
       "      <td>2</td>\n",
       "      <td>gynecology</td>\n",
       "      <td>S</td>\n",
       "      <td>E</td>\n",
       "      <td>...</td>\n",
       "      <td>134</td>\n",
       "      <td>4</td>\n",
       "      <td>Moderate</td>\n",
       "      <td>Minor</td>\n",
       "      <td>Medical</td>\n",
       "      <td>Private Health Insurance</td>\n",
       "      <td>NaN</td>\n",
       "      <td>NaN</td>\n",
       "      <td>14020.53</td>\n",
       "      <td>6172.19</td>\n",
       "    </tr>\n",
       "  </tbody>\n",
       "</table>\n",
       "<p>318438 rows × 35 columns</p>\n",
       "</div>"
      ],
      "text/plain": [
       "         index  case_id  Hospital_code Hospital_type_code  City_Code_Hospital  \\\n",
       "0            0        1              8                  c                   3   \n",
       "1       117224   117225              6                  a                   6   \n",
       "2       117223   117224             28                  b                  11   \n",
       "3       117222   117223             17                  e                   1   \n",
       "4       117221   117222              4                  a                   4   \n",
       "...        ...      ...            ...                ...                 ...   \n",
       "318433  191439   191440             26                  b                   2   \n",
       "318434  191440   191441             18                  d                  13   \n",
       "318435  191441   191442             18                  d                  13   \n",
       "318436  191443   191444             19                  a                   7   \n",
       "318437  182771   182772             25                  e                   1   \n",
       "\n",
       "       Hospital_region_code  Available Extra Rooms in Hospital    Department  \\\n",
       "0                         Z                                  3  radiotherapy   \n",
       "1                         X                                  3    gynecology   \n",
       "2                         X                                  3    gynecology   \n",
       "3                         X                                  3    gynecology   \n",
       "4                         X                                  3    gynecology   \n",
       "...                     ...                                ...           ...   \n",
       "318433                    Y                                  4    gynecology   \n",
       "318434                    Y                                  4    gynecology   \n",
       "318435                    Y                                  3    gynecology   \n",
       "318436                    Y                                  2    gynecology   \n",
       "318437                    X                                  2    gynecology   \n",
       "\n",
       "       Ward_Type Ward_Facility_Code  ...  APR DRG Code  APR MDC Code  \\\n",
       "0              R                  F  ...            49             1   \n",
       "1              R                  F  ...           136             4   \n",
       "2              R                  F  ...           460            11   \n",
       "3              R                  E  ...           447            11   \n",
       "4              R                  F  ...           142             4   \n",
       "...          ...                ...  ...           ...           ...   \n",
       "318433         Q                  D  ...           560            14   \n",
       "318434         R                  B  ...            47             1   \n",
       "318435         R                  B  ...           560            14   \n",
       "318436         R                  C  ...           136             4   \n",
       "318437         S                  E  ...           134             4   \n",
       "\n",
       "        Severity of Illness APR Risk of Mortality  \\\n",
       "0                   Extreme               Extreme   \n",
       "1                   Extreme               Extreme   \n",
       "2                   Extreme                 Major   \n",
       "3                   Extreme               Extreme   \n",
       "4                   Extreme                 Major   \n",
       "...                     ...                   ...   \n",
       "318433             Moderate                 Minor   \n",
       "318434             Moderate                 Minor   \n",
       "318435             Moderate                 Minor   \n",
       "318436             Moderate                 Major   \n",
       "318437             Moderate                 Minor   \n",
       "\n",
       "        APR Medical Surgical Description        Payment Typology 1  \\\n",
       "0                                Medical                  Medicare   \n",
       "1                                Medical                  Medicaid   \n",
       "2                                Medical                  Medicare   \n",
       "3                               Surgical                  Medicare   \n",
       "4                                Medical                  Medicaid   \n",
       "...                                  ...                       ...   \n",
       "318433                           Medical                  Medicaid   \n",
       "318434                           Medical                  Medicare   \n",
       "318435                           Medical                  Medicaid   \n",
       "318436                           Medical    Blue Cross/Blue Shield   \n",
       "318437                           Medical  Private Health Insurance   \n",
       "\n",
       "              Payment Typology 2      Payment Typology 3  Total Charges  \\\n",
       "0       Private Health Insurance                     NaN      213055.22   \n",
       "1                       Self-Pay                     NaN      117580.69   \n",
       "2                       Medicare  Blue Cross/Blue Shield       68772.67   \n",
       "3                       Medicare                Medicaid      514242.62   \n",
       "4                       Medicaid                     NaN       39195.54   \n",
       "...                          ...                     ...            ...   \n",
       "318433                  Medicaid                Self-Pay       29295.60   \n",
       "318434                       NaN                     NaN       18424.34   \n",
       "318435                  Medicaid                     NaN       22206.05   \n",
       "318436                       NaN                     NaN       41444.96   \n",
       "318437                       NaN                     NaN       14020.53   \n",
       "\n",
       "       Total Costs  \n",
       "0         55810.62  \n",
       "1         47617.64  \n",
       "2         13219.23  \n",
       "3        127996.03  \n",
       "4         23770.21  \n",
       "...            ...  \n",
       "318433     9948.16  \n",
       "318434     4920.83  \n",
       "318435     7809.33  \n",
       "318436    11248.80  \n",
       "318437     6172.19  \n",
       "\n",
       "[318438 rows x 35 columns]"
      ]
     },
     "execution_count": 15,
     "metadata": {},
     "output_type": "execute_result"
    }
   ],
   "source": [
    "fullData"
   ]
  },
  {
   "cell_type": "code",
   "execution_count": 16,
   "metadata": {},
   "outputs": [
    {
     "data": {
      "text/plain": [
       "Index(['index', 'case_id', 'Hospital_code', 'Hospital_type_code',\n",
       "       'City_Code_Hospital', 'Hospital_region_code',\n",
       "       'Available Extra Rooms in Hospital', 'Department', 'Ward_Type',\n",
       "       'Ward_Facility_Code', 'Bed Grade', 'patientid', 'City_Code_Patient',\n",
       "       'Type of Admission', 'Visitors with Patient', 'Age',\n",
       "       'Admission_Deposit', 'Stay', 'index', 'Length of Stay', 'Age Group',\n",
       "       'Gender', 'Patient Disposition', 'CCS Diagnosis Code',\n",
       "       'CCS Procedure Code', 'APR DRG Code', 'APR MDC Code',\n",
       "       'Severity of Illness', 'APR Risk of Mortality',\n",
       "       'APR Medical Surgical Description', 'Payment Typology 1',\n",
       "       'Payment Typology 2', 'Payment Typology 3', 'Total Charges',\n",
       "       'Total Costs'],\n",
       "      dtype='object')"
      ]
     },
     "execution_count": 16,
     "metadata": {},
     "output_type": "execute_result"
    }
   ],
   "source": [
    "fullData.columns"
   ]
  },
  {
   "cell_type": "markdown",
   "metadata": {},
   "source": [
    "## Full Feature extraction (From combined dataset)"
   ]
  },
  {
   "cell_type": "code",
   "execution_count": 17,
   "metadata": {},
   "outputs": [
    {
     "name": "stderr",
     "output_type": "stream",
     "text": [
      "<ipython-input-17-1c1868ec7b6b>:9: SettingWithCopyWarning: \n",
      "A value is trying to be set on a copy of a slice from a DataFrame.\n",
      "Try using .loc[row_indexer,col_indexer] = value instead\n",
      "\n",
      "See the caveats in the documentation: https://pandas.pydata.org/pandas-docs/stable/user_guide/indexing.html#returning-a-view-versus-a-copy\n",
      "  fullData[cat] = fullData[cat].astype('category')\n",
      "<ipython-input-17-1c1868ec7b6b>:13: SettingWithCopyWarning: \n",
      "A value is trying to be set on a copy of a slice from a DataFrame.\n",
      "Try using .loc[row_indexer,col_indexer] = value instead\n",
      "\n",
      "See the caveats in the documentation: https://pandas.pydata.org/pandas-docs/stable/user_guide/indexing.html#returning-a-view-versus-a-copy\n",
      "  fullData[cont] = fullData[cont].astype('int')\n"
     ]
    },
    {
     "data": {
      "text/html": [
       "<div>\n",
       "<style scoped>\n",
       "    .dataframe tbody tr th:only-of-type {\n",
       "        vertical-align: middle;\n",
       "    }\n",
       "\n",
       "    .dataframe tbody tr th {\n",
       "        vertical-align: top;\n",
       "    }\n",
       "\n",
       "    .dataframe thead th {\n",
       "        text-align: right;\n",
       "    }\n",
       "</style>\n",
       "<table border=\"1\" class=\"dataframe\">\n",
       "  <thead>\n",
       "    <tr style=\"text-align: right;\">\n",
       "      <th></th>\n",
       "      <th>Length of Stay</th>\n",
       "      <th>Available Extra Rooms in Hospital</th>\n",
       "      <th>Admission_Deposit</th>\n",
       "      <th>Total Charges</th>\n",
       "      <th>Total Costs</th>\n",
       "      <th>Visitors with Patient</th>\n",
       "      <th>Type of Admission</th>\n",
       "      <th>Age</th>\n",
       "      <th>Severity of Illness</th>\n",
       "      <th>Ward_Type</th>\n",
       "      <th>CCS Diagnosis Code</th>\n",
       "      <th>CCS Procedure Code</th>\n",
       "      <th>Patient Disposition</th>\n",
       "      <th>APR DRG Code</th>\n",
       "      <th>APR MDC Code</th>\n",
       "      <th>APR Risk of Mortality</th>\n",
       "      <th>APR Medical Surgical Description</th>\n",
       "      <th>Payment Typology 1</th>\n",
       "      <th>Payment Typology 2</th>\n",
       "      <th>Payment Typology 3</th>\n",
       "    </tr>\n",
       "  </thead>\n",
       "  <tbody>\n",
       "    <tr>\n",
       "      <th>0</th>\n",
       "      <td>15</td>\n",
       "      <td>3</td>\n",
       "      <td>4911</td>\n",
       "      <td>213055</td>\n",
       "      <td>55810</td>\n",
       "      <td>2</td>\n",
       "      <td>Emergency</td>\n",
       "      <td>51-60</td>\n",
       "      <td>Extreme</td>\n",
       "      <td>R</td>\n",
       "      <td>95</td>\n",
       "      <td>216</td>\n",
       "      <td>Hospice - Medical Facility</td>\n",
       "      <td>49</td>\n",
       "      <td>1</td>\n",
       "      <td>Extreme</td>\n",
       "      <td>Medical</td>\n",
       "      <td>Medicare</td>\n",
       "      <td>Private Health Insurance</td>\n",
       "      <td>NaN</td>\n",
       "    </tr>\n",
       "    <tr>\n",
       "      <th>1</th>\n",
       "      <td>22</td>\n",
       "      <td>3</td>\n",
       "      <td>7666</td>\n",
       "      <td>117580</td>\n",
       "      <td>47617</td>\n",
       "      <td>3</td>\n",
       "      <td>Trauma</td>\n",
       "      <td>41-50</td>\n",
       "      <td>Extreme</td>\n",
       "      <td>R</td>\n",
       "      <td>19</td>\n",
       "      <td>216</td>\n",
       "      <td>Expired</td>\n",
       "      <td>136</td>\n",
       "      <td>4</td>\n",
       "      <td>Extreme</td>\n",
       "      <td>Medical</td>\n",
       "      <td>Medicaid</td>\n",
       "      <td>Self-Pay</td>\n",
       "      <td>NaN</td>\n",
       "    </tr>\n",
       "    <tr>\n",
       "      <th>2</th>\n",
       "      <td>13</td>\n",
       "      <td>3</td>\n",
       "      <td>4539</td>\n",
       "      <td>68772</td>\n",
       "      <td>13219</td>\n",
       "      <td>2</td>\n",
       "      <td>Emergency</td>\n",
       "      <td>41-50</td>\n",
       "      <td>Extreme</td>\n",
       "      <td>R</td>\n",
       "      <td>157</td>\n",
       "      <td>193</td>\n",
       "      <td>Skilled Nursing Home</td>\n",
       "      <td>460</td>\n",
       "      <td>11</td>\n",
       "      <td>Major</td>\n",
       "      <td>Medical</td>\n",
       "      <td>Medicare</td>\n",
       "      <td>Medicare</td>\n",
       "      <td>Blue Cross/Blue Shield</td>\n",
       "    </tr>\n",
       "    <tr>\n",
       "      <th>3</th>\n",
       "      <td>43</td>\n",
       "      <td>3</td>\n",
       "      <td>6304</td>\n",
       "      <td>514242</td>\n",
       "      <td>127996</td>\n",
       "      <td>3</td>\n",
       "      <td>Trauma</td>\n",
       "      <td>41-50</td>\n",
       "      <td>Extreme</td>\n",
       "      <td>R</td>\n",
       "      <td>99</td>\n",
       "      <td>61</td>\n",
       "      <td>Skilled Nursing Home</td>\n",
       "      <td>447</td>\n",
       "      <td>11</td>\n",
       "      <td>Extreme</td>\n",
       "      <td>Surgical</td>\n",
       "      <td>Medicare</td>\n",
       "      <td>Medicare</td>\n",
       "      <td>Medicaid</td>\n",
       "    </tr>\n",
       "    <tr>\n",
       "      <th>4</th>\n",
       "      <td>10</td>\n",
       "      <td>3</td>\n",
       "      <td>8626</td>\n",
       "      <td>39195</td>\n",
       "      <td>23770</td>\n",
       "      <td>3</td>\n",
       "      <td>Emergency</td>\n",
       "      <td>41-50</td>\n",
       "      <td>Extreme</td>\n",
       "      <td>R</td>\n",
       "      <td>133</td>\n",
       "      <td>216</td>\n",
       "      <td>Short-term Hospital</td>\n",
       "      <td>142</td>\n",
       "      <td>4</td>\n",
       "      <td>Major</td>\n",
       "      <td>Medical</td>\n",
       "      <td>Medicaid</td>\n",
       "      <td>Medicaid</td>\n",
       "      <td>NaN</td>\n",
       "    </tr>\n",
       "  </tbody>\n",
       "</table>\n",
       "</div>"
      ],
      "text/plain": [
       "   Length of Stay  Available Extra Rooms in Hospital  Admission_Deposit  \\\n",
       "0              15                                  3               4911   \n",
       "1              22                                  3               7666   \n",
       "2              13                                  3               4539   \n",
       "3              43                                  3               6304   \n",
       "4              10                                  3               8626   \n",
       "\n",
       "   Total Charges  Total Costs  Visitors with Patient Type of Admission    Age  \\\n",
       "0         213055        55810                      2         Emergency  51-60   \n",
       "1         117580        47617                      3            Trauma  41-50   \n",
       "2          68772        13219                      2         Emergency  41-50   \n",
       "3         514242       127996                      3            Trauma  41-50   \n",
       "4          39195        23770                      3         Emergency  41-50   \n",
       "\n",
       "  Severity of Illness Ward_Type CCS Diagnosis Code CCS Procedure Code  \\\n",
       "0             Extreme         R                 95                216   \n",
       "1             Extreme         R                 19                216   \n",
       "2             Extreme         R                157                193   \n",
       "3             Extreme         R                 99                 61   \n",
       "4             Extreme         R                133                216   \n",
       "\n",
       "          Patient Disposition APR DRG Code APR MDC Code APR Risk of Mortality  \\\n",
       "0  Hospice - Medical Facility           49            1               Extreme   \n",
       "1                     Expired          136            4               Extreme   \n",
       "2        Skilled Nursing Home          460           11                 Major   \n",
       "3        Skilled Nursing Home          447           11               Extreme   \n",
       "4         Short-term Hospital          142            4                 Major   \n",
       "\n",
       "  APR Medical Surgical Description Payment Typology 1  \\\n",
       "0                          Medical           Medicare   \n",
       "1                          Medical           Medicaid   \n",
       "2                          Medical           Medicare   \n",
       "3                         Surgical           Medicare   \n",
       "4                          Medical           Medicaid   \n",
       "\n",
       "         Payment Typology 2      Payment Typology 3  \n",
       "0  Private Health Insurance                     NaN  \n",
       "1                  Self-Pay                     NaN  \n",
       "2                  Medicare  Blue Cross/Blue Shield  \n",
       "3                  Medicare                Medicaid  \n",
       "4                  Medicaid                     NaN  "
      ]
     },
     "execution_count": 17,
     "metadata": {},
     "output_type": "execute_result"
    }
   ],
   "source": [
    "contFeatures = ['Length of Stay','Available Extra Rooms in Hospital','Admission_Deposit','Total Charges','Total Costs','Visitors with Patient']\n",
    "catFeatures = ['Type of Admission','Age','Severity of Illness','Ward_Type','CCS Diagnosis Code','CCS Procedure Code','Patient Disposition',\n",
    "                'APR DRG Code','APR MDC Code','APR Risk of Mortality','APR Medical Surgical Description','Payment Typology 1',\n",
    "                'Payment Typology 2','Payment Typology 3']\n",
    "\n",
    "fullData = fullData[contFeatures + catFeatures]\n",
    "#Convert categorical variables\n",
    "for cat in catFeatures:\n",
    "    fullData[cat] = fullData[cat].astype('category')\n",
    "\n",
    "for cont in contFeatures:\n",
    "    #fullData[cont] = fullData[cont].str.replace(',','')\n",
    "    fullData[cont] = fullData[cont].astype('int')\n",
    "fullData.head()"
   ]
  },
  {
   "cell_type": "code",
   "execution_count": 18,
   "metadata": {},
   "outputs": [
    {
     "name": "stdout",
     "output_type": "stream",
     "text": [
      "2.49\n"
     ]
    },
    {
     "name": "stderr",
     "output_type": "stream",
     "text": [
      "<ipython-input-18-9cf2d045f8b6>:3: SettingWithCopyWarning: \n",
      "A value is trying to be set on a copy of a slice from a DataFrame.\n",
      "Try using .loc[row_indexer,col_indexer] = value instead\n",
      "\n",
      "See the caveats in the documentation: https://pandas.pydata.org/pandas-docs/stable/user_guide/indexing.html#returning-a-view-versus-a-copy\n",
      "  fullData['Administrative Delay'] = abs(round(np.log(abs((fullData['Total Costs'])*fullData['Total Costs']) + 1.0)/10 + random.randint(0,50)/100,2))\n"
     ]
    }
   ],
   "source": [
    "#Creation of delay column\n",
    "random.seed(2022)\n",
    "fullData['Administrative Delay'] = abs(round(np.log(abs((fullData['Total Costs'])*fullData['Total Costs']) + 1.0)/10 + random.randint(0,50)/100,2))\n",
    "fullData.head()\n",
    "print(fullData['Administrative Delay'].max())"
   ]
  },
  {
   "cell_type": "code",
   "execution_count": 19,
   "metadata": {},
   "outputs": [
    {
     "data": {
      "text/plain": [
       "Length of Stay                          int32\n",
       "Available Extra Rooms in Hospital       int32\n",
       "Admission_Deposit                       int32\n",
       "Total Charges                           int32\n",
       "Total Costs                             int32\n",
       "Visitors with Patient                   int32\n",
       "Type of Admission                    category\n",
       "Age                                  category\n",
       "Severity of Illness                  category\n",
       "Ward_Type                            category\n",
       "CCS Diagnosis Code                   category\n",
       "CCS Procedure Code                   category\n",
       "Patient Disposition                  category\n",
       "APR DRG Code                         category\n",
       "APR MDC Code                         category\n",
       "APR Risk of Mortality                category\n",
       "APR Medical Surgical Description     category\n",
       "Payment Typology 1                   category\n",
       "Payment Typology 2                   category\n",
       "Payment Typology 3                   category\n",
       "Administrative Delay                  float64\n",
       "dtype: object"
      ]
     },
     "execution_count": 19,
     "metadata": {},
     "output_type": "execute_result"
    }
   ],
   "source": [
    "fullData.dtypes"
   ]
  },
  {
   "cell_type": "markdown",
   "metadata": {},
   "source": [
    "# Section 4.3: Data Cleaning"
   ]
  },
  {
   "cell_type": "code",
   "execution_count": 20,
   "metadata": {},
   "outputs": [
    {
     "data": {
      "text/html": [
       "<div>\n",
       "<style scoped>\n",
       "    .dataframe tbody tr th:only-of-type {\n",
       "        vertical-align: middle;\n",
       "    }\n",
       "\n",
       "    .dataframe tbody tr th {\n",
       "        vertical-align: top;\n",
       "    }\n",
       "\n",
       "    .dataframe thead th {\n",
       "        text-align: right;\n",
       "    }\n",
       "</style>\n",
       "<table border=\"1\" class=\"dataframe\">\n",
       "  <thead>\n",
       "    <tr style=\"text-align: right;\">\n",
       "      <th></th>\n",
       "      <th>Length of Stay</th>\n",
       "      <th>Available Extra Rooms in Hospital</th>\n",
       "      <th>Admission_Deposit</th>\n",
       "      <th>Total Charges</th>\n",
       "      <th>Total Costs</th>\n",
       "      <th>Administrative Delay</th>\n",
       "      <th>Visitors with Patient</th>\n",
       "      <th>Type of Admission</th>\n",
       "      <th>Age</th>\n",
       "      <th>Ward_Type</th>\n",
       "      <th>...</th>\n",
       "      <th>CCS Diagnosis Code</th>\n",
       "      <th>CCS Procedure Code</th>\n",
       "      <th>Severity of Illness</th>\n",
       "      <th>APR DRG Code</th>\n",
       "      <th>APR MDC Code</th>\n",
       "      <th>APR Risk of Mortality</th>\n",
       "      <th>APR Medical Surgical Description</th>\n",
       "      <th>Payment Typology 1</th>\n",
       "      <th>Payment Typology 2</th>\n",
       "      <th>Payment Typology 3</th>\n",
       "    </tr>\n",
       "  </thead>\n",
       "  <tbody>\n",
       "    <tr>\n",
       "      <th>0</th>\n",
       "      <td>15.0</td>\n",
       "      <td>3.0</td>\n",
       "      <td>4911.0</td>\n",
       "      <td>213055.0</td>\n",
       "      <td>55810.0</td>\n",
       "      <td>2.43</td>\n",
       "      <td>2.0</td>\n",
       "      <td>Emergency</td>\n",
       "      <td>51-60</td>\n",
       "      <td>R</td>\n",
       "      <td>...</td>\n",
       "      <td>95</td>\n",
       "      <td>216</td>\n",
       "      <td>Extreme</td>\n",
       "      <td>49</td>\n",
       "      <td>1</td>\n",
       "      <td>Extreme</td>\n",
       "      <td>Medical</td>\n",
       "      <td>Medicare</td>\n",
       "      <td>Private Health Insurance</td>\n",
       "      <td>NaN</td>\n",
       "    </tr>\n",
       "    <tr>\n",
       "      <th>1</th>\n",
       "      <td>22.0</td>\n",
       "      <td>3.0</td>\n",
       "      <td>7666.0</td>\n",
       "      <td>117580.0</td>\n",
       "      <td>47617.0</td>\n",
       "      <td>2.48</td>\n",
       "      <td>3.0</td>\n",
       "      <td>Trauma</td>\n",
       "      <td>41-50</td>\n",
       "      <td>R</td>\n",
       "      <td>...</td>\n",
       "      <td>19</td>\n",
       "      <td>216</td>\n",
       "      <td>Extreme</td>\n",
       "      <td>136</td>\n",
       "      <td>4</td>\n",
       "      <td>Extreme</td>\n",
       "      <td>Medical</td>\n",
       "      <td>Medicaid</td>\n",
       "      <td>Self-Pay</td>\n",
       "      <td>NaN</td>\n",
       "    </tr>\n",
       "    <tr>\n",
       "      <th>2</th>\n",
       "      <td>13.0</td>\n",
       "      <td>3.0</td>\n",
       "      <td>4539.0</td>\n",
       "      <td>68772.0</td>\n",
       "      <td>13219.0</td>\n",
       "      <td>2.24</td>\n",
       "      <td>2.0</td>\n",
       "      <td>Emergency</td>\n",
       "      <td>41-50</td>\n",
       "      <td>R</td>\n",
       "      <td>...</td>\n",
       "      <td>157</td>\n",
       "      <td>193</td>\n",
       "      <td>Extreme</td>\n",
       "      <td>460</td>\n",
       "      <td>11</td>\n",
       "      <td>Major</td>\n",
       "      <td>Medical</td>\n",
       "      <td>Medicare</td>\n",
       "      <td>Medicare</td>\n",
       "      <td>Blue Cross/Blue Shield</td>\n",
       "    </tr>\n",
       "    <tr>\n",
       "      <th>3</th>\n",
       "      <td>43.0</td>\n",
       "      <td>3.0</td>\n",
       "      <td>6304.0</td>\n",
       "      <td>514242.0</td>\n",
       "      <td>127996.0</td>\n",
       "      <td>2.39</td>\n",
       "      <td>3.0</td>\n",
       "      <td>Trauma</td>\n",
       "      <td>41-50</td>\n",
       "      <td>R</td>\n",
       "      <td>...</td>\n",
       "      <td>99</td>\n",
       "      <td>61</td>\n",
       "      <td>Extreme</td>\n",
       "      <td>447</td>\n",
       "      <td>11</td>\n",
       "      <td>Extreme</td>\n",
       "      <td>Surgical</td>\n",
       "      <td>Medicare</td>\n",
       "      <td>Medicare</td>\n",
       "      <td>Medicaid</td>\n",
       "    </tr>\n",
       "    <tr>\n",
       "      <th>4</th>\n",
       "      <td>10.0</td>\n",
       "      <td>3.0</td>\n",
       "      <td>8626.0</td>\n",
       "      <td>39195.0</td>\n",
       "      <td>23770.0</td>\n",
       "      <td>2.36</td>\n",
       "      <td>3.0</td>\n",
       "      <td>Emergency</td>\n",
       "      <td>41-50</td>\n",
       "      <td>R</td>\n",
       "      <td>...</td>\n",
       "      <td>133</td>\n",
       "      <td>216</td>\n",
       "      <td>Extreme</td>\n",
       "      <td>142</td>\n",
       "      <td>4</td>\n",
       "      <td>Major</td>\n",
       "      <td>Medical</td>\n",
       "      <td>Medicaid</td>\n",
       "      <td>Medicaid</td>\n",
       "      <td>NaN</td>\n",
       "    </tr>\n",
       "  </tbody>\n",
       "</table>\n",
       "<p>5 rows × 21 columns</p>\n",
       "</div>"
      ],
      "text/plain": [
       "   Length of Stay  Available Extra Rooms in Hospital  Admission_Deposit  \\\n",
       "0            15.0                                3.0             4911.0   \n",
       "1            22.0                                3.0             7666.0   \n",
       "2            13.0                                3.0             4539.0   \n",
       "3            43.0                                3.0             6304.0   \n",
       "4            10.0                                3.0             8626.0   \n",
       "\n",
       "   Total Charges  Total Costs  Administrative Delay  Visitors with Patient  \\\n",
       "0       213055.0      55810.0                  2.43                    2.0   \n",
       "1       117580.0      47617.0                  2.48                    3.0   \n",
       "2        68772.0      13219.0                  2.24                    2.0   \n",
       "3       514242.0     127996.0                  2.39                    3.0   \n",
       "4        39195.0      23770.0                  2.36                    3.0   \n",
       "\n",
       "  Type of Admission    Age Ward_Type  ... CCS Diagnosis Code  \\\n",
       "0         Emergency  51-60         R  ...                 95   \n",
       "1            Trauma  41-50         R  ...                 19   \n",
       "2         Emergency  41-50         R  ...                157   \n",
       "3            Trauma  41-50         R  ...                 99   \n",
       "4         Emergency  41-50         R  ...                133   \n",
       "\n",
       "  CCS Procedure Code Severity of Illness APR DRG Code APR MDC Code  \\\n",
       "0                216             Extreme           49            1   \n",
       "1                216             Extreme          136            4   \n",
       "2                193             Extreme          460           11   \n",
       "3                 61             Extreme          447           11   \n",
       "4                216             Extreme          142            4   \n",
       "\n",
       "  APR Risk of Mortality APR Medical Surgical Description Payment Typology 1  \\\n",
       "0               Extreme                          Medical           Medicare   \n",
       "1               Extreme                          Medical           Medicaid   \n",
       "2                 Major                          Medical           Medicare   \n",
       "3               Extreme                         Surgical           Medicare   \n",
       "4                 Major                          Medical           Medicaid   \n",
       "\n",
       "         Payment Typology 2      Payment Typology 3  \n",
       "0  Private Health Insurance                     NaN  \n",
       "1                  Self-Pay                     NaN  \n",
       "2                  Medicare  Blue Cross/Blue Shield  \n",
       "3                  Medicare                Medicaid  \n",
       "4                  Medicaid                     NaN  \n",
       "\n",
       "[5 rows x 21 columns]"
      ]
     },
     "execution_count": 20,
     "metadata": {},
     "output_type": "execute_result"
    }
   ],
   "source": [
    "contFeatures = ['Length of Stay','Available Extra Rooms in Hospital','Admission_Deposit','Total Charges','Total Costs','Administrative Delay','Visitors with Patient']\n",
    "catFeatures = ['Type of Admission','Age','Ward_Type','Patient Disposition','CCS Diagnosis Code','CCS Procedure Code', 'Severity of Illness',\n",
    "                'APR DRG Code','APR MDC Code','APR Risk of Mortality','APR Medical Surgical Description','Payment Typology 1',\n",
    "                'Payment Typology 2','Payment Typology 3']\n",
    "\n",
    "fullData = fullData[contFeatures + catFeatures]\n",
    "#Convert categorical variables\n",
    "for cat in catFeatures:\n",
    "    fullData[cat] = fullData[cat].astype('category')\n",
    "\n",
    "for cont in contFeatures:\n",
    "    #fullData[cont] = fullData[cont].str.replace(',','')\n",
    "    fullData[cont] = fullData[cont].astype('float')\n",
    "fullData.head()"
   ]
  },
  {
   "cell_type": "code",
   "execution_count": 21,
   "metadata": {},
   "outputs": [
    {
     "name": "stdout",
     "output_type": "stream",
     "text": [
      "<class 'pandas.core.frame.DataFrame'>\n",
      "RangeIndex: 318438 entries, 0 to 318437\n",
      "Data columns (total 21 columns):\n",
      " #   Column                             Non-Null Count   Dtype   \n",
      "---  ------                             --------------   -----   \n",
      " 0   Length of Stay                     318438 non-null  float64 \n",
      " 1   Available Extra Rooms in Hospital  318438 non-null  float64 \n",
      " 2   Admission_Deposit                  318438 non-null  float64 \n",
      " 3   Total Charges                      318438 non-null  float64 \n",
      " 4   Total Costs                        318438 non-null  float64 \n",
      " 5   Administrative Delay               318438 non-null  float64 \n",
      " 6   Visitors with Patient              318438 non-null  float64 \n",
      " 7   Type of Admission                  318438 non-null  category\n",
      " 8   Age                                318438 non-null  category\n",
      " 9   Ward_Type                          318438 non-null  category\n",
      " 10  Patient Disposition                318438 non-null  category\n",
      " 11  CCS Diagnosis Code                 318438 non-null  category\n",
      " 12  CCS Procedure Code                 318438 non-null  category\n",
      " 13  Severity of Illness                318438 non-null  category\n",
      " 14  APR DRG Code                       318438 non-null  category\n",
      " 15  APR MDC Code                       318438 non-null  category\n",
      " 16  APR Risk of Mortality              318438 non-null  category\n",
      " 17  APR Medical Surgical Description   318438 non-null  category\n",
      " 18  Payment Typology 1                 318438 non-null  category\n",
      " 19  Payment Typology 2                 219806 non-null  category\n",
      " 20  Payment Typology 3                 98816 non-null   category\n",
      "dtypes: category(14), float64(7)\n",
      "memory usage: 22.2 MB\n"
     ]
    }
   ],
   "source": [
    "fullData.info()"
   ]
  },
  {
   "cell_type": "code",
   "execution_count": 22,
   "metadata": {},
   "outputs": [
    {
     "name": "stdout",
     "output_type": "stream",
     "text": [
      "Null/Empty Values for Length of Stay:  0\n",
      "Null/Empty Values for Available Extra Rooms in Hospital:  0\n",
      "Null/Empty Values for Admission_Deposit:  0\n",
      "Null/Empty Values for Total Charges:  0\n",
      "Null/Empty Values for Total Costs:  0\n",
      "Null/Empty Values for Administrative Delay:  0\n",
      "Null/Empty Values for Visitors with Patient:  0\n",
      "Null/Empty Values for Type of Admission:  0\n",
      "Null/Empty Values for Age:  0\n",
      "Null/Empty Values for Ward_Type:  0\n",
      "Null/Empty Values for Patient Disposition:  0\n",
      "Null/Empty Values for CCS Diagnosis Code:  0\n",
      "Null/Empty Values for CCS Procedure Code:  0\n",
      "Null/Empty Values for Severity of Illness:  0\n",
      "Null/Empty Values for APR DRG Code:  0\n",
      "Null/Empty Values for APR MDC Code:  0\n",
      "Null/Empty Values for APR Risk of Mortality:  0\n",
      "Null/Empty Values for APR Medical Surgical Description:  0\n",
      "Null/Empty Values for Payment Typology 1:  0\n",
      "Null/Empty Values for Payment Typology 2:  98632\n",
      "Null/Empty Values for Payment Typology 3:  219622\n"
     ]
    }
   ],
   "source": [
    "for col in fullData.columns:\n",
    "    print(f'Null/Empty Values for {col}: ', fullData[col].isna().sum())"
   ]
  },
  {
   "cell_type": "markdown",
   "metadata": {},
   "source": [
    "## Replace missing values for Payment Typology 2 and 3"
   ]
  },
  {
   "cell_type": "code",
   "execution_count": 23,
   "metadata": {},
   "outputs": [
    {
     "data": {
      "text/plain": [
       "Self-Pay                     66154\n",
       "Medicaid                     18632\n",
       "Private Health Insurance      5112\n",
       "Blue Cross/Blue Shield        3195\n",
       "Medicare                      2787\n",
       "Unknown                       2253\n",
       "Federal/State/Local/VA         445\n",
       "Managed Care, Unspecified      150\n",
       "Miscellaneous/Other             86\n",
       "Department of Corrections        2\n",
       "Name: Payment Typology 3, dtype: int64"
      ]
     },
     "execution_count": 23,
     "metadata": {},
     "output_type": "execute_result"
    }
   ],
   "source": [
    "fullData['Payment Typology 2'].value_counts()\n",
    "fullData['Payment Typology 3'].value_counts()"
   ]
  },
  {
   "cell_type": "code",
   "execution_count": 24,
   "metadata": {},
   "outputs": [
    {
     "name": "stdout",
     "output_type": "stream",
     "text": [
      "Unknown                      99773\n",
      "Medicaid                     74778\n",
      "Medicare                     50001\n",
      "Self-Pay                     47577\n",
      "Private Health Insurance     23545\n",
      "Blue Cross/Blue Shield       18304\n",
      "Miscellaneous/Other           2182\n",
      "Federal/State/Local/VA        1556\n",
      "Managed Care, Unspecified      612\n",
      "Department of Corrections      110\n",
      "Name: Payment Typology 2, dtype: int64\n",
      "0\n",
      "Unknown                      221875\n",
      "Self-Pay                      66154\n",
      "Medicaid                      18632\n",
      "Private Health Insurance       5112\n",
      "Blue Cross/Blue Shield         3195\n",
      "Medicare                       2787\n",
      "Federal/State/Local/VA          445\n",
      "Managed Care, Unspecified       150\n",
      "Miscellaneous/Other              86\n",
      "Department of Corrections         2\n",
      "Name: Payment Typology 3, dtype: int64\n",
      "0\n"
     ]
    }
   ],
   "source": [
    "#Replace missing values with Unknown\n",
    "fullData['Payment Typology 2'].fillna('Unknown', inplace= True)\n",
    "fullData['Payment Typology 3'].fillna('Unknown', inplace= True)\n",
    "\n",
    "print(fullData['Payment Typology 2'].value_counts())\n",
    "print(fullData['Payment Typology 2'].isna().sum())\n",
    "print(fullData['Payment Typology 3'].value_counts())\n",
    "print(fullData['Payment Typology 3'].isna().sum())"
   ]
  },
  {
   "cell_type": "code",
   "execution_count": 25,
   "metadata": {},
   "outputs": [],
   "source": [
    "# Convert Age to continuous:\n",
    "age = []\n",
    "\n",
    "random.seed(2022)\n",
    "for i in range(0,len(fullData['Age'])):\n",
    "    if fullData['Age'][i] == '0-10':\n",
    "        age.append(random.randint(0,9))\n",
    "    elif fullData['Age'][i] == '11-20':\n",
    "        age.append(random.randint(11,19))\n",
    "    elif fullData['Age'][i] == '21-30':\n",
    "        age.append(random.randint(21,29))\n",
    "    elif fullData['Age'][i] == '31-40':\n",
    "        age.append(random.randint(31,39))\n",
    "    elif fullData['Age'][i] == '41-50':\n",
    "        age.append(random.randint(41,49))\n",
    "    elif fullData['Age'][i] == '51-60':\n",
    "        age.append(random.randint(51,59))\n",
    "    elif fullData['Age'][i] == '61-70':\n",
    "        age.append(random.randint(61,69))\n",
    "    elif fullData['Age'][i] == '71-80':\n",
    "        age.append(random.randint(71,79))\n",
    "    elif fullData['Age'][i] == '81-90':\n",
    "        age.append(random.randint(81,89))\n",
    "    elif fullData['Age'][i] == '91-100':\n",
    "        age.append(random.randint(91,99))\n",
    "\n",
    "fullData['Age'] = age"
   ]
  },
  {
   "cell_type": "code",
   "execution_count": 26,
   "metadata": {},
   "outputs": [],
   "source": [
    "fullData.columns = fullData.columns.str.replace(' ','_')"
   ]
  },
  {
   "cell_type": "code",
   "execution_count": 27,
   "metadata": {},
   "outputs": [],
   "source": [
    "fullData.to_csv(f'{path}/fullDataCleaned.csv')"
   ]
  },
  {
   "cell_type": "code",
   "execution_count": 28,
   "metadata": {},
   "outputs": [
    {
     "data": {
      "text/plain": [
       "Index(['Length_of_Stay', 'Available_Extra_Rooms_in_Hospital',\n",
       "       'Admission_Deposit', 'Total_Charges', 'Total_Costs',\n",
       "       'Administrative_Delay', 'Visitors_with_Patient', 'Type_of_Admission',\n",
       "       'Age', 'Ward_Type', 'Patient_Disposition', 'CCS_Diagnosis_Code',\n",
       "       'CCS_Procedure_Code', 'Severity_of_Illness', 'APR_DRG_Code',\n",
       "       'APR_MDC_Code', 'APR_Risk_of_Mortality',\n",
       "       'APR_Medical_Surgical_Description', 'Payment_Typology_1',\n",
       "       'Payment_Typology_2', 'Payment_Typology_3'],\n",
       "      dtype='object')"
      ]
     },
     "execution_count": 28,
     "metadata": {},
     "output_type": "execute_result"
    }
   ],
   "source": [
    "fullData.columns"
   ]
  },
  {
   "cell_type": "markdown",
   "metadata": {},
   "source": [
    "## Further data prep when re-reading excel"
   ]
  },
  {
   "cell_type": "code",
   "execution_count": 29,
   "metadata": {},
   "outputs": [],
   "source": [
    "fullData = pd.read_csv('fullDataCleaned.csv')"
   ]
  },
  {
   "cell_type": "code",
   "execution_count": 30,
   "metadata": {},
   "outputs": [
    {
     "data": {
      "text/plain": [
       "Length_of_Stay                         int32\n",
       "Available_Extra_Rooms_in_Hospital    float64\n",
       "Admission_Deposit                    float64\n",
       "Total_Charges                        float64\n",
       "Total_Costs                          float64\n",
       "Administrative_Delay                 float64\n",
       "Visitors_with_Patient                float64\n",
       "Type_of_Admission                     object\n",
       "Age                                    int64\n",
       "Ward_Type                             object\n",
       "Patient_Disposition                   object\n",
       "CCS_Diagnosis_Code                    object\n",
       "CCS_Procedure_Code                    object\n",
       "Severity_of_Illness                   object\n",
       "APR_DRG_Code                          object\n",
       "APR_MDC_Code                          object\n",
       "APR_Risk_of_Mortality                 object\n",
       "APR_Medical_Surgical_Description      object\n",
       "Payment_Typology_1                    object\n",
       "Payment_Typology_2                    object\n",
       "Payment_Typology_3                    object\n",
       "dtype: object"
      ]
     },
     "execution_count": 30,
     "metadata": {},
     "output_type": "execute_result"
    }
   ],
   "source": [
    "# Convert all to integer type\n",
    "fullData['CCS_Diagnosis_Code'] = fullData['CCS_Diagnosis_Code'].astype('str')\n",
    "fullData['CCS_Procedure_Code'] = fullData['CCS_Procedure_Code'].astype('str')\n",
    "fullData['APR_DRG_Code'] = fullData['APR_DRG_Code'].astype('str')\n",
    "fullData['APR_MDC_Code'] = fullData['APR_MDC_Code'].astype('str')\n",
    "\n",
    "# Drop v1 column\n",
    "fullData = fullData.drop('Unnamed: 0', axis = 1)\n",
    "\n",
    "# Convert LOS to int\n",
    "fullData['Length_of_Stay'] = fullData['Length_of_Stay'].astype('int')\n",
    "\n",
    "fullData.dtypes"
   ]
  },
  {
   "cell_type": "code",
   "execution_count": 31,
   "metadata": {},
   "outputs": [
    {
     "name": "stdout",
     "output_type": "stream",
     "text": [
      "Type_of_Admission 3\n",
      "Ward_Type 6\n",
      "Severity_of_Illness 3\n",
      "APR_Risk_of_Mortality 4\n",
      "APR_Medical_Surgical_Description 2\n",
      "Payment_Typology_1 10\n",
      "Payment_Typology_2 10\n",
      "Payment_Typology_3 10\n"
     ]
    }
   ],
   "source": [
    "#Keep only selected features\n",
    "contFeatures = ['Length_of_Stay','Available_Extra_Rooms_in_Hospital','Admission_Deposit','Administrative_Delay','Visitors_with_Patient', 'Age']\n",
    "catFeatures = ['Type_of_Admission','Ward_Type', 'Severity_of_Illness', 'APR_Risk_of_Mortality','APR_Medical_Surgical_Description','Payment_Typology_1','Payment_Typology_2','Payment_Typology_3']\n",
    "\n",
    "# Viewing unique values in catfeatures to encode\n",
    "for cat in catFeatures:\n",
    "    if cat in fullData.columns:\n",
    "        print(cat, len(fullData[cat].unique()))"
   ]
  },
  {
   "cell_type": "code",
   "execution_count": 32,
   "metadata": {},
   "outputs": [
    {
     "data": {
      "text/plain": [
       "Home or Self Care               193120\n",
       "Others                           44777\n",
       "Home w/ Home Health Services     43346\n",
       "Skilled Nursing Home             37195\n",
       "Name: Patient_Disposition, dtype: int64"
      ]
     },
     "execution_count": 32,
     "metadata": {},
     "output_type": "execute_result"
    }
   ],
   "source": [
    "keepcats = ['Home or Self Care','Home w/ Home Health Services','Skilled Nursing Home']\n",
    "\n",
    "for i, row in fullData.iterrows():\n",
    "    if (fullData.at[i, 'Patient_Disposition'] not in keepcats):\n",
    "        fullData.at[i, 'Patient_Disposition'] = 'Others'\n",
    "\n",
    "fullData['Patient_Disposition'].value_counts()"
   ]
  },
  {
   "cell_type": "code",
   "execution_count": 33,
   "metadata": {},
   "outputs": [],
   "source": [
    "fullData = fullData.drop(['CCS_Procedure_Code' , 'Total_Charges','Total_Costs','APR_DRG_Code', 'APR_MDC_Code', 'CCS_Diagnosis_Code','Payment_Typology_2','Payment_Typology_3'] ,axis= 1)"
   ]
  },
  {
   "cell_type": "code",
   "execution_count": 34,
   "metadata": {},
   "outputs": [],
   "source": [
    "fullData.to_csv(f'{path}/Sem03Team02fullDataCleaned(final).csv')  "
   ]
  },
  {
   "cell_type": "markdown",
   "metadata": {},
   "source": [
    "# Section 4.4: Model Preparation (Run from here)"
   ]
  },
  {
   "cell_type": "code",
   "execution_count": 35,
   "metadata": {},
   "outputs": [],
   "source": [
    "# !pip install shap\n",
    "import os\n",
    "import random\n",
    "import numpy as np\n",
    "import pandas as pd\n",
    "import seaborn as sb\n",
    "import matplotlib as plt\n",
    "import time\n",
    "\n",
    "#Imports for preprocessing\n",
    "from sklearn.preprocessing import OneHotEncoder\n",
    "\n",
    "## Models\n",
    "from sklearn.model_selection import train_test_split\n",
    "from sklearn import metrics\n",
    "from sklearn.metrics import r2_score\n",
    "import numpy\n",
    "# MARS\n",
    "from pyearth import Earth\n",
    "from matplotlib import pyplot\n",
    "# CART\n",
    "from sklearn.tree import DecisionTreeRegressor  \n",
    "from sklearn.model_selection import cross_val_score  \n",
    "from sklearn.metrics import mean_squared_error\n",
    "from sklearn import tree\n",
    "# Random Forest\n",
    "from sklearn.ensemble import RandomForestRegressor\n",
    "\n",
    "# Variable importance and hyperparameter tuning\n",
    "from sklearn.inspection import permutation_importance\n",
    "import shap\n",
    "from matplotlib import pyplot as plt\n",
    "from sklearn.model_selection import GridSearchCV"
   ]
  },
  {
   "cell_type": "code",
   "execution_count": 36,
   "metadata": {},
   "outputs": [
    {
     "name": "stdout",
     "output_type": "stream",
     "text": [
      "Current working directory: /Users/paullow/Documents/0. UNI WORK!!/5. Analytics 2/Project\n"
     ]
    }
   ],
   "source": [
    "path = r'/Users/paullow/Documents/0. UNI WORK!!/5. Analytics 2/Project/BC2407_Submission_Sem03_Team2'\n",
    "\n",
    "try:\n",
    "    os.chdir(path)\n",
    "    print(\"Current working directory: {0}\".format(os.getcwd()))\n",
    "except FileNotFoundError:\n",
    "    print(\"Directory: {0} does not exist\".format(path))\n",
    "except NotADirectoryError:\n",
    "    print(\"{0} is not a directory\".format(path))\n",
    "except PermissionError:\n",
    "    print(\"You do not have permissions to change to {0}\".format(path))"
   ]
  },
  {
   "cell_type": "code",
   "execution_count": 37,
   "metadata": {},
   "outputs": [],
   "source": [
    "fullData = pd.read_csv('Sem03Team02fullDataCleaned(final).csv')\n",
    "fullData = fullData.drop(\"Unnamed: 0\", axis = 1)"
   ]
  },
  {
   "cell_type": "code",
   "execution_count": 38,
   "metadata": {},
   "outputs": [
    {
     "data": {
      "text/plain": [
       "Length_of_Stay                         int64\n",
       "Available_Extra_Rooms_in_Hospital    float64\n",
       "Admission_Deposit                    float64\n",
       "Administrative_Delay                 float64\n",
       "Visitors_with_Patient                float64\n",
       "Type_of_Admission                     object\n",
       "Age                                    int64\n",
       "Ward_Type                             object\n",
       "Patient_Disposition                   object\n",
       "Severity_of_Illness                   object\n",
       "APR_Risk_of_Mortality                 object\n",
       "APR_Medical_Surgical_Description      object\n",
       "Payment_Typology_1                    object\n",
       "dtype: object"
      ]
     },
     "execution_count": 38,
     "metadata": {},
     "output_type": "execute_result"
    }
   ],
   "source": [
    "fullData.dtypes"
   ]
  },
  {
   "cell_type": "code",
   "execution_count": 39,
   "metadata": {},
   "outputs": [
    {
     "data": {
      "text/html": [
       "<div>\n",
       "<style scoped>\n",
       "    .dataframe tbody tr th:only-of-type {\n",
       "        vertical-align: middle;\n",
       "    }\n",
       "\n",
       "    .dataframe tbody tr th {\n",
       "        vertical-align: top;\n",
       "    }\n",
       "\n",
       "    .dataframe thead th {\n",
       "        text-align: right;\n",
       "    }\n",
       "</style>\n",
       "<table border=\"1\" class=\"dataframe\">\n",
       "  <thead>\n",
       "    <tr style=\"text-align: right;\">\n",
       "      <th></th>\n",
       "      <th>Available_Extra_Rooms_in_Hospital</th>\n",
       "      <th>Admission_Deposit</th>\n",
       "      <th>Administrative_Delay</th>\n",
       "      <th>Visitors_with_Patient</th>\n",
       "      <th>Age</th>\n",
       "      <th>Severity_of_Illness</th>\n",
       "      <th>APR_Risk_of_Mortality</th>\n",
       "      <th>Type_of_Admission_Emergency</th>\n",
       "      <th>Type_of_Admission_Trauma</th>\n",
       "      <th>Type_of_Admission_Urgent</th>\n",
       "      <th>...</th>\n",
       "      <th>Payment_Typology_1_Medicaid</th>\n",
       "      <th>Payment_Typology_1_Medicare</th>\n",
       "      <th>Payment_Typology_1_Miscellaneous/Other</th>\n",
       "      <th>Payment_Typology_1_Private Health Insurance</th>\n",
       "      <th>Payment_Typology_1_Self-Pay</th>\n",
       "      <th>Payment_Typology_1_Unknown</th>\n",
       "      <th>Patient_Disposition_Home or Self Care</th>\n",
       "      <th>Patient_Disposition_Home w/ Home Health Services</th>\n",
       "      <th>Patient_Disposition_Others</th>\n",
       "      <th>Patient_Disposition_Skilled Nursing Home</th>\n",
       "    </tr>\n",
       "  </thead>\n",
       "  <tbody>\n",
       "    <tr>\n",
       "      <th>0</th>\n",
       "      <td>3.0</td>\n",
       "      <td>4911.0</td>\n",
       "      <td>2.32</td>\n",
       "      <td>2.0</td>\n",
       "      <td>59</td>\n",
       "      <td>2</td>\n",
       "      <td>3</td>\n",
       "      <td>1</td>\n",
       "      <td>0</td>\n",
       "      <td>0</td>\n",
       "      <td>...</td>\n",
       "      <td>0</td>\n",
       "      <td>1</td>\n",
       "      <td>0</td>\n",
       "      <td>0</td>\n",
       "      <td>0</td>\n",
       "      <td>0</td>\n",
       "      <td>0</td>\n",
       "      <td>0</td>\n",
       "      <td>1</td>\n",
       "      <td>0</td>\n",
       "    </tr>\n",
       "    <tr>\n",
       "      <th>1</th>\n",
       "      <td>3.0</td>\n",
       "      <td>7666.0</td>\n",
       "      <td>2.24</td>\n",
       "      <td>3.0</td>\n",
       "      <td>45</td>\n",
       "      <td>2</td>\n",
       "      <td>3</td>\n",
       "      <td>0</td>\n",
       "      <td>1</td>\n",
       "      <td>0</td>\n",
       "      <td>...</td>\n",
       "      <td>0</td>\n",
       "      <td>1</td>\n",
       "      <td>0</td>\n",
       "      <td>0</td>\n",
       "      <td>0</td>\n",
       "      <td>0</td>\n",
       "      <td>0</td>\n",
       "      <td>0</td>\n",
       "      <td>0</td>\n",
       "      <td>1</td>\n",
       "    </tr>\n",
       "    <tr>\n",
       "      <th>2</th>\n",
       "      <td>3.0</td>\n",
       "      <td>4539.0</td>\n",
       "      <td>2.45</td>\n",
       "      <td>2.0</td>\n",
       "      <td>48</td>\n",
       "      <td>2</td>\n",
       "      <td>2</td>\n",
       "      <td>1</td>\n",
       "      <td>0</td>\n",
       "      <td>0</td>\n",
       "      <td>...</td>\n",
       "      <td>0</td>\n",
       "      <td>1</td>\n",
       "      <td>0</td>\n",
       "      <td>0</td>\n",
       "      <td>0</td>\n",
       "      <td>0</td>\n",
       "      <td>0</td>\n",
       "      <td>0</td>\n",
       "      <td>0</td>\n",
       "      <td>1</td>\n",
       "    </tr>\n",
       "    <tr>\n",
       "      <th>3</th>\n",
       "      <td>3.0</td>\n",
       "      <td>6304.0</td>\n",
       "      <td>1.99</td>\n",
       "      <td>3.0</td>\n",
       "      <td>49</td>\n",
       "      <td>2</td>\n",
       "      <td>3</td>\n",
       "      <td>0</td>\n",
       "      <td>1</td>\n",
       "      <td>0</td>\n",
       "      <td>...</td>\n",
       "      <td>1</td>\n",
       "      <td>0</td>\n",
       "      <td>0</td>\n",
       "      <td>0</td>\n",
       "      <td>0</td>\n",
       "      <td>0</td>\n",
       "      <td>0</td>\n",
       "      <td>0</td>\n",
       "      <td>1</td>\n",
       "      <td>0</td>\n",
       "    </tr>\n",
       "    <tr>\n",
       "      <th>4</th>\n",
       "      <td>3.0</td>\n",
       "      <td>8626.0</td>\n",
       "      <td>2.33</td>\n",
       "      <td>3.0</td>\n",
       "      <td>45</td>\n",
       "      <td>2</td>\n",
       "      <td>3</td>\n",
       "      <td>1</td>\n",
       "      <td>0</td>\n",
       "      <td>0</td>\n",
       "      <td>...</td>\n",
       "      <td>0</td>\n",
       "      <td>1</td>\n",
       "      <td>0</td>\n",
       "      <td>0</td>\n",
       "      <td>0</td>\n",
       "      <td>0</td>\n",
       "      <td>0</td>\n",
       "      <td>0</td>\n",
       "      <td>0</td>\n",
       "      <td>1</td>\n",
       "    </tr>\n",
       "    <tr>\n",
       "      <th>...</th>\n",
       "      <td>...</td>\n",
       "      <td>...</td>\n",
       "      <td>...</td>\n",
       "      <td>...</td>\n",
       "      <td>...</td>\n",
       "      <td>...</td>\n",
       "      <td>...</td>\n",
       "      <td>...</td>\n",
       "      <td>...</td>\n",
       "      <td>...</td>\n",
       "      <td>...</td>\n",
       "      <td>...</td>\n",
       "      <td>...</td>\n",
       "      <td>...</td>\n",
       "      <td>...</td>\n",
       "      <td>...</td>\n",
       "      <td>...</td>\n",
       "      <td>...</td>\n",
       "      <td>...</td>\n",
       "      <td>...</td>\n",
       "      <td>...</td>\n",
       "    </tr>\n",
       "    <tr>\n",
       "      <th>318433</th>\n",
       "      <td>4.0</td>\n",
       "      <td>4587.0</td>\n",
       "      <td>2.07</td>\n",
       "      <td>2.0</td>\n",
       "      <td>37</td>\n",
       "      <td>1</td>\n",
       "      <td>0</td>\n",
       "      <td>0</td>\n",
       "      <td>1</td>\n",
       "      <td>0</td>\n",
       "      <td>...</td>\n",
       "      <td>0</td>\n",
       "      <td>0</td>\n",
       "      <td>0</td>\n",
       "      <td>0</td>\n",
       "      <td>0</td>\n",
       "      <td>0</td>\n",
       "      <td>1</td>\n",
       "      <td>0</td>\n",
       "      <td>0</td>\n",
       "      <td>0</td>\n",
       "    </tr>\n",
       "    <tr>\n",
       "      <th>318434</th>\n",
       "      <td>4.0</td>\n",
       "      <td>4176.0</td>\n",
       "      <td>2.38</td>\n",
       "      <td>2.0</td>\n",
       "      <td>34</td>\n",
       "      <td>1</td>\n",
       "      <td>2</td>\n",
       "      <td>0</td>\n",
       "      <td>0</td>\n",
       "      <td>1</td>\n",
       "      <td>...</td>\n",
       "      <td>0</td>\n",
       "      <td>1</td>\n",
       "      <td>0</td>\n",
       "      <td>0</td>\n",
       "      <td>0</td>\n",
       "      <td>0</td>\n",
       "      <td>0</td>\n",
       "      <td>1</td>\n",
       "      <td>0</td>\n",
       "      <td>0</td>\n",
       "    </tr>\n",
       "    <tr>\n",
       "      <th>318435</th>\n",
       "      <td>3.0</td>\n",
       "      <td>3885.0</td>\n",
       "      <td>2.16</td>\n",
       "      <td>4.0</td>\n",
       "      <td>33</td>\n",
       "      <td>1</td>\n",
       "      <td>2</td>\n",
       "      <td>0</td>\n",
       "      <td>0</td>\n",
       "      <td>1</td>\n",
       "      <td>...</td>\n",
       "      <td>0</td>\n",
       "      <td>1</td>\n",
       "      <td>0</td>\n",
       "      <td>0</td>\n",
       "      <td>0</td>\n",
       "      <td>0</td>\n",
       "      <td>0</td>\n",
       "      <td>0</td>\n",
       "      <td>0</td>\n",
       "      <td>1</td>\n",
       "    </tr>\n",
       "    <tr>\n",
       "      <th>318436</th>\n",
       "      <td>2.0</td>\n",
       "      <td>4636.0</td>\n",
       "      <td>1.97</td>\n",
       "      <td>6.0</td>\n",
       "      <td>39</td>\n",
       "      <td>1</td>\n",
       "      <td>2</td>\n",
       "      <td>1</td>\n",
       "      <td>0</td>\n",
       "      <td>0</td>\n",
       "      <td>...</td>\n",
       "      <td>0</td>\n",
       "      <td>1</td>\n",
       "      <td>0</td>\n",
       "      <td>0</td>\n",
       "      <td>0</td>\n",
       "      <td>0</td>\n",
       "      <td>0</td>\n",
       "      <td>0</td>\n",
       "      <td>1</td>\n",
       "      <td>0</td>\n",
       "    </tr>\n",
       "    <tr>\n",
       "      <th>318437</th>\n",
       "      <td>2.0</td>\n",
       "      <td>4334.0</td>\n",
       "      <td>2.20</td>\n",
       "      <td>5.0</td>\n",
       "      <td>44</td>\n",
       "      <td>1</td>\n",
       "      <td>2</td>\n",
       "      <td>0</td>\n",
       "      <td>0</td>\n",
       "      <td>1</td>\n",
       "      <td>...</td>\n",
       "      <td>0</td>\n",
       "      <td>1</td>\n",
       "      <td>0</td>\n",
       "      <td>0</td>\n",
       "      <td>0</td>\n",
       "      <td>0</td>\n",
       "      <td>0</td>\n",
       "      <td>1</td>\n",
       "      <td>0</td>\n",
       "      <td>0</td>\n",
       "    </tr>\n",
       "  </tbody>\n",
       "</table>\n",
       "<p>318438 rows × 32 columns</p>\n",
       "</div>"
      ],
      "text/plain": [
       "        Available_Extra_Rooms_in_Hospital  Admission_Deposit  \\\n",
       "0                                     3.0             4911.0   \n",
       "1                                     3.0             7666.0   \n",
       "2                                     3.0             4539.0   \n",
       "3                                     3.0             6304.0   \n",
       "4                                     3.0             8626.0   \n",
       "...                                   ...                ...   \n",
       "318433                                4.0             4587.0   \n",
       "318434                                4.0             4176.0   \n",
       "318435                                3.0             3885.0   \n",
       "318436                                2.0             4636.0   \n",
       "318437                                2.0             4334.0   \n",
       "\n",
       "        Administrative_Delay  Visitors_with_Patient  Age  Severity_of_Illness  \\\n",
       "0                       2.32                    2.0   59                    2   \n",
       "1                       2.24                    3.0   45                    2   \n",
       "2                       2.45                    2.0   48                    2   \n",
       "3                       1.99                    3.0   49                    2   \n",
       "4                       2.33                    3.0   45                    2   \n",
       "...                      ...                    ...  ...                  ...   \n",
       "318433                  2.07                    2.0   37                    1   \n",
       "318434                  2.38                    2.0   34                    1   \n",
       "318435                  2.16                    4.0   33                    1   \n",
       "318436                  1.97                    6.0   39                    1   \n",
       "318437                  2.20                    5.0   44                    1   \n",
       "\n",
       "        APR_Risk_of_Mortality  Type_of_Admission_Emergency  \\\n",
       "0                           3                            1   \n",
       "1                           3                            0   \n",
       "2                           2                            1   \n",
       "3                           3                            0   \n",
       "4                           3                            1   \n",
       "...                       ...                          ...   \n",
       "318433                      0                            0   \n",
       "318434                      2                            0   \n",
       "318435                      2                            0   \n",
       "318436                      2                            1   \n",
       "318437                      2                            0   \n",
       "\n",
       "        Type_of_Admission_Trauma  Type_of_Admission_Urgent  ...  \\\n",
       "0                              0                         0  ...   \n",
       "1                              1                         0  ...   \n",
       "2                              0                         0  ...   \n",
       "3                              1                         0  ...   \n",
       "4                              0                         0  ...   \n",
       "...                          ...                       ...  ...   \n",
       "318433                         1                         0  ...   \n",
       "318434                         0                         1  ...   \n",
       "318435                         0                         1  ...   \n",
       "318436                         0                         0  ...   \n",
       "318437                         0                         1  ...   \n",
       "\n",
       "        Payment_Typology_1_Medicaid  Payment_Typology_1_Medicare  \\\n",
       "0                                 0                            1   \n",
       "1                                 0                            1   \n",
       "2                                 0                            1   \n",
       "3                                 1                            0   \n",
       "4                                 0                            1   \n",
       "...                             ...                          ...   \n",
       "318433                            0                            0   \n",
       "318434                            0                            1   \n",
       "318435                            0                            1   \n",
       "318436                            0                            1   \n",
       "318437                            0                            1   \n",
       "\n",
       "        Payment_Typology_1_Miscellaneous/Other  \\\n",
       "0                                            0   \n",
       "1                                            0   \n",
       "2                                            0   \n",
       "3                                            0   \n",
       "4                                            0   \n",
       "...                                        ...   \n",
       "318433                                       0   \n",
       "318434                                       0   \n",
       "318435                                       0   \n",
       "318436                                       0   \n",
       "318437                                       0   \n",
       "\n",
       "        Payment_Typology_1_Private Health Insurance  \\\n",
       "0                                                 0   \n",
       "1                                                 0   \n",
       "2                                                 0   \n",
       "3                                                 0   \n",
       "4                                                 0   \n",
       "...                                             ...   \n",
       "318433                                            0   \n",
       "318434                                            0   \n",
       "318435                                            0   \n",
       "318436                                            0   \n",
       "318437                                            0   \n",
       "\n",
       "        Payment_Typology_1_Self-Pay  Payment_Typology_1_Unknown  \\\n",
       "0                                 0                           0   \n",
       "1                                 0                           0   \n",
       "2                                 0                           0   \n",
       "3                                 0                           0   \n",
       "4                                 0                           0   \n",
       "...                             ...                         ...   \n",
       "318433                            0                           0   \n",
       "318434                            0                           0   \n",
       "318435                            0                           0   \n",
       "318436                            0                           0   \n",
       "318437                            0                           0   \n",
       "\n",
       "        Patient_Disposition_Home or Self Care  \\\n",
       "0                                           0   \n",
       "1                                           0   \n",
       "2                                           0   \n",
       "3                                           0   \n",
       "4                                           0   \n",
       "...                                       ...   \n",
       "318433                                      1   \n",
       "318434                                      0   \n",
       "318435                                      0   \n",
       "318436                                      0   \n",
       "318437                                      0   \n",
       "\n",
       "        Patient_Disposition_Home w/ Home Health Services  \\\n",
       "0                                                      0   \n",
       "1                                                      0   \n",
       "2                                                      0   \n",
       "3                                                      0   \n",
       "4                                                      0   \n",
       "...                                                  ...   \n",
       "318433                                                 0   \n",
       "318434                                                 1   \n",
       "318435                                                 0   \n",
       "318436                                                 0   \n",
       "318437                                                 1   \n",
       "\n",
       "        Patient_Disposition_Others  Patient_Disposition_Skilled Nursing Home  \n",
       "0                                1                                         0  \n",
       "1                                0                                         1  \n",
       "2                                0                                         1  \n",
       "3                                1                                         0  \n",
       "4                                0                                         1  \n",
       "...                            ...                                       ...  \n",
       "318433                           0                                         0  \n",
       "318434                           0                                         0  \n",
       "318435                           0                                         1  \n",
       "318436                           1                                         0  \n",
       "318437                           0                                         0  \n",
       "\n",
       "[318438 rows x 32 columns]"
      ]
     },
     "execution_count": 39,
     "metadata": {},
     "output_type": "execute_result"
    }
   ],
   "source": [
    "Y = fullData['Length_of_Stay']\n",
    "X = fullData.drop([\"Length_of_Stay\"] ,axis= 1)\n",
    "\n",
    "# One hot encode\n",
    "X = pd.get_dummies(X, columns=['Type_of_Admission','Ward_Type', 'APR_Medical_Surgical_Description','Payment_Typology_1', 'Patient_Disposition'])\n",
    "\n",
    "# Label encode\n",
    "X['Severity_of_Illness'] = X['Severity_of_Illness'].apply(lambda x: ['Minor', 'Moderate', 'Extreme'].index(x))\n",
    "X['APR_Risk_of_Mortality'] = X['APR_Risk_of_Mortality'].apply(lambda y: ['Minor', 'Moderate', 'Major','Extreme'].index(y))\n",
    "X"
   ]
  },
  {
   "cell_type": "code",
   "execution_count": 40,
   "metadata": {},
   "outputs": [],
   "source": [
    "X_train, X_test, Y_train, Y_test = train_test_split(X, Y, test_size = 0.25, random_state = 2022)"
   ]
  },
  {
   "cell_type": "code",
   "execution_count": 41,
   "metadata": {},
   "outputs": [
    {
     "name": "stdout",
     "output_type": "stream",
     "text": [
      "Training Features Shape: (238828, 32)\n",
      "Training Labels Shape: (238828,)\n",
      "Testing Features Shape: (79610, 32)\n",
      "Testing Labels Shape: (79610,)\n"
     ]
    }
   ],
   "source": [
    "print('Training Features Shape:', X_train.shape)\n",
    "print('Training Labels Shape:',  Y_train.shape)\n",
    "print('Testing Features Shape:', X_test.shape)\n",
    "print('Testing Labels Shape:', Y_test.shape)"
   ]
  },
  {
   "cell_type": "code",
   "execution_count": 42,
   "metadata": {},
   "outputs": [
    {
     "data": {
      "text/plain": [
       "Available_Extra_Rooms_in_Hospital                   float64\n",
       "Admission_Deposit                                   float64\n",
       "Administrative_Delay                                float64\n",
       "Visitors_with_Patient                               float64\n",
       "Age                                                   int64\n",
       "Severity_of_Illness                                   int64\n",
       "APR_Risk_of_Mortality                                 int64\n",
       "Type_of_Admission_Emergency                           uint8\n",
       "Type_of_Admission_Trauma                              uint8\n",
       "Type_of_Admission_Urgent                              uint8\n",
       "Ward_Type_P                                           uint8\n",
       "Ward_Type_Q                                           uint8\n",
       "Ward_Type_R                                           uint8\n",
       "Ward_Type_S                                           uint8\n",
       "Ward_Type_T                                           uint8\n",
       "Ward_Type_U                                           uint8\n",
       "APR_Medical_Surgical_Description_Medical              uint8\n",
       "APR_Medical_Surgical_Description_Surgical             uint8\n",
       "Payment_Typology_1_Blue Cross/Blue Shield             uint8\n",
       "Payment_Typology_1_Department of Corrections          uint8\n",
       "Payment_Typology_1_Federal/State/Local/VA             uint8\n",
       "Payment_Typology_1_Managed Care, Unspecified          uint8\n",
       "Payment_Typology_1_Medicaid                           uint8\n",
       "Payment_Typology_1_Medicare                           uint8\n",
       "Payment_Typology_1_Miscellaneous/Other                uint8\n",
       "Payment_Typology_1_Private Health Insurance           uint8\n",
       "Payment_Typology_1_Self-Pay                           uint8\n",
       "Payment_Typology_1_Unknown                            uint8\n",
       "Patient_Disposition_Home or Self Care                 uint8\n",
       "Patient_Disposition_Home w/ Home Health Services      uint8\n",
       "Patient_Disposition_Others                            uint8\n",
       "Patient_Disposition_Skilled Nursing Home              uint8\n",
       "dtype: object"
      ]
     },
     "execution_count": 42,
     "metadata": {},
     "output_type": "execute_result"
    }
   ],
   "source": [
    "X_train.dtypes"
   ]
  },
  {
   "cell_type": "code",
   "execution_count": 43,
   "metadata": {},
   "outputs": [],
   "source": [
    "# Preparing log dataset\n",
    "log_X = fullData.drop([\"Length_of_Stay\"] ,axis= 1)"
   ]
  },
  {
   "cell_type": "code",
   "execution_count": 44,
   "metadata": {},
   "outputs": [],
   "source": [
    "# Logging of variables\n",
    "log_X['Visitors_with_Patient'] = np.log(log_X['Visitors_with_Patient'] + 1)\n",
    "log_X['Admission_Deposit'] = np.log(log_X['Admission_Deposit'] + 1)\n",
    "\n",
    "# Logging of Y\n",
    "log_Y = np.log(Y+1)"
   ]
  },
  {
   "cell_type": "code",
   "execution_count": 45,
   "metadata": {},
   "outputs": [
    {
     "data": {
      "text/html": [
       "<div>\n",
       "<style scoped>\n",
       "    .dataframe tbody tr th:only-of-type {\n",
       "        vertical-align: middle;\n",
       "    }\n",
       "\n",
       "    .dataframe tbody tr th {\n",
       "        vertical-align: top;\n",
       "    }\n",
       "\n",
       "    .dataframe thead th {\n",
       "        text-align: right;\n",
       "    }\n",
       "</style>\n",
       "<table border=\"1\" class=\"dataframe\">\n",
       "  <thead>\n",
       "    <tr style=\"text-align: right;\">\n",
       "      <th></th>\n",
       "      <th>Available_Extra_Rooms_in_Hospital</th>\n",
       "      <th>Admission_Deposit</th>\n",
       "      <th>Administrative_Delay</th>\n",
       "      <th>Visitors_with_Patient</th>\n",
       "      <th>Age</th>\n",
       "      <th>Severity_of_Illness</th>\n",
       "      <th>APR_Risk_of_Mortality</th>\n",
       "      <th>Type_of_Admission_Emergency</th>\n",
       "      <th>Type_of_Admission_Trauma</th>\n",
       "      <th>Type_of_Admission_Urgent</th>\n",
       "      <th>...</th>\n",
       "      <th>Payment_Typology_1_Medicaid</th>\n",
       "      <th>Payment_Typology_1_Medicare</th>\n",
       "      <th>Payment_Typology_1_Miscellaneous/Other</th>\n",
       "      <th>Payment_Typology_1_Private Health Insurance</th>\n",
       "      <th>Payment_Typology_1_Self-Pay</th>\n",
       "      <th>Payment_Typology_1_Unknown</th>\n",
       "      <th>Patient_Disposition_Home or Self Care</th>\n",
       "      <th>Patient_Disposition_Home w/ Home Health Services</th>\n",
       "      <th>Patient_Disposition_Others</th>\n",
       "      <th>Patient_Disposition_Skilled Nursing Home</th>\n",
       "    </tr>\n",
       "  </thead>\n",
       "  <tbody>\n",
       "    <tr>\n",
       "      <th>0</th>\n",
       "      <td>3.0</td>\n",
       "      <td>8.499436</td>\n",
       "      <td>2.32</td>\n",
       "      <td>1.098612</td>\n",
       "      <td>59</td>\n",
       "      <td>2</td>\n",
       "      <td>3</td>\n",
       "      <td>1</td>\n",
       "      <td>0</td>\n",
       "      <td>0</td>\n",
       "      <td>...</td>\n",
       "      <td>0</td>\n",
       "      <td>1</td>\n",
       "      <td>0</td>\n",
       "      <td>0</td>\n",
       "      <td>0</td>\n",
       "      <td>0</td>\n",
       "      <td>0</td>\n",
       "      <td>0</td>\n",
       "      <td>1</td>\n",
       "      <td>0</td>\n",
       "    </tr>\n",
       "    <tr>\n",
       "      <th>1</th>\n",
       "      <td>3.0</td>\n",
       "      <td>8.944681</td>\n",
       "      <td>2.24</td>\n",
       "      <td>1.386294</td>\n",
       "      <td>45</td>\n",
       "      <td>2</td>\n",
       "      <td>3</td>\n",
       "      <td>0</td>\n",
       "      <td>1</td>\n",
       "      <td>0</td>\n",
       "      <td>...</td>\n",
       "      <td>0</td>\n",
       "      <td>1</td>\n",
       "      <td>0</td>\n",
       "      <td>0</td>\n",
       "      <td>0</td>\n",
       "      <td>0</td>\n",
       "      <td>0</td>\n",
       "      <td>0</td>\n",
       "      <td>0</td>\n",
       "      <td>1</td>\n",
       "    </tr>\n",
       "    <tr>\n",
       "      <th>2</th>\n",
       "      <td>3.0</td>\n",
       "      <td>8.420682</td>\n",
       "      <td>2.45</td>\n",
       "      <td>1.098612</td>\n",
       "      <td>48</td>\n",
       "      <td>2</td>\n",
       "      <td>2</td>\n",
       "      <td>1</td>\n",
       "      <td>0</td>\n",
       "      <td>0</td>\n",
       "      <td>...</td>\n",
       "      <td>0</td>\n",
       "      <td>1</td>\n",
       "      <td>0</td>\n",
       "      <td>0</td>\n",
       "      <td>0</td>\n",
       "      <td>0</td>\n",
       "      <td>0</td>\n",
       "      <td>0</td>\n",
       "      <td>0</td>\n",
       "      <td>1</td>\n",
       "    </tr>\n",
       "    <tr>\n",
       "      <th>3</th>\n",
       "      <td>3.0</td>\n",
       "      <td>8.749098</td>\n",
       "      <td>1.99</td>\n",
       "      <td>1.386294</td>\n",
       "      <td>49</td>\n",
       "      <td>2</td>\n",
       "      <td>3</td>\n",
       "      <td>0</td>\n",
       "      <td>1</td>\n",
       "      <td>0</td>\n",
       "      <td>...</td>\n",
       "      <td>1</td>\n",
       "      <td>0</td>\n",
       "      <td>0</td>\n",
       "      <td>0</td>\n",
       "      <td>0</td>\n",
       "      <td>0</td>\n",
       "      <td>0</td>\n",
       "      <td>0</td>\n",
       "      <td>1</td>\n",
       "      <td>0</td>\n",
       "    </tr>\n",
       "    <tr>\n",
       "      <th>4</th>\n",
       "      <td>3.0</td>\n",
       "      <td>9.062652</td>\n",
       "      <td>2.33</td>\n",
       "      <td>1.386294</td>\n",
       "      <td>45</td>\n",
       "      <td>2</td>\n",
       "      <td>3</td>\n",
       "      <td>1</td>\n",
       "      <td>0</td>\n",
       "      <td>0</td>\n",
       "      <td>...</td>\n",
       "      <td>0</td>\n",
       "      <td>1</td>\n",
       "      <td>0</td>\n",
       "      <td>0</td>\n",
       "      <td>0</td>\n",
       "      <td>0</td>\n",
       "      <td>0</td>\n",
       "      <td>0</td>\n",
       "      <td>0</td>\n",
       "      <td>1</td>\n",
       "    </tr>\n",
       "    <tr>\n",
       "      <th>...</th>\n",
       "      <td>...</td>\n",
       "      <td>...</td>\n",
       "      <td>...</td>\n",
       "      <td>...</td>\n",
       "      <td>...</td>\n",
       "      <td>...</td>\n",
       "      <td>...</td>\n",
       "      <td>...</td>\n",
       "      <td>...</td>\n",
       "      <td>...</td>\n",
       "      <td>...</td>\n",
       "      <td>...</td>\n",
       "      <td>...</td>\n",
       "      <td>...</td>\n",
       "      <td>...</td>\n",
       "      <td>...</td>\n",
       "      <td>...</td>\n",
       "      <td>...</td>\n",
       "      <td>...</td>\n",
       "      <td>...</td>\n",
       "      <td>...</td>\n",
       "    </tr>\n",
       "    <tr>\n",
       "      <th>318433</th>\n",
       "      <td>4.0</td>\n",
       "      <td>8.431199</td>\n",
       "      <td>2.07</td>\n",
       "      <td>1.098612</td>\n",
       "      <td>37</td>\n",
       "      <td>1</td>\n",
       "      <td>0</td>\n",
       "      <td>0</td>\n",
       "      <td>1</td>\n",
       "      <td>0</td>\n",
       "      <td>...</td>\n",
       "      <td>0</td>\n",
       "      <td>0</td>\n",
       "      <td>0</td>\n",
       "      <td>0</td>\n",
       "      <td>0</td>\n",
       "      <td>0</td>\n",
       "      <td>1</td>\n",
       "      <td>0</td>\n",
       "      <td>0</td>\n",
       "      <td>0</td>\n",
       "    </tr>\n",
       "    <tr>\n",
       "      <th>318434</th>\n",
       "      <td>4.0</td>\n",
       "      <td>8.337349</td>\n",
       "      <td>2.38</td>\n",
       "      <td>1.098612</td>\n",
       "      <td>34</td>\n",
       "      <td>1</td>\n",
       "      <td>2</td>\n",
       "      <td>0</td>\n",
       "      <td>0</td>\n",
       "      <td>1</td>\n",
       "      <td>...</td>\n",
       "      <td>0</td>\n",
       "      <td>1</td>\n",
       "      <td>0</td>\n",
       "      <td>0</td>\n",
       "      <td>0</td>\n",
       "      <td>0</td>\n",
       "      <td>0</td>\n",
       "      <td>1</td>\n",
       "      <td>0</td>\n",
       "      <td>0</td>\n",
       "    </tr>\n",
       "    <tr>\n",
       "      <th>318435</th>\n",
       "      <td>3.0</td>\n",
       "      <td>8.265136</td>\n",
       "      <td>2.16</td>\n",
       "      <td>1.609438</td>\n",
       "      <td>33</td>\n",
       "      <td>1</td>\n",
       "      <td>2</td>\n",
       "      <td>0</td>\n",
       "      <td>0</td>\n",
       "      <td>1</td>\n",
       "      <td>...</td>\n",
       "      <td>0</td>\n",
       "      <td>1</td>\n",
       "      <td>0</td>\n",
       "      <td>0</td>\n",
       "      <td>0</td>\n",
       "      <td>0</td>\n",
       "      <td>0</td>\n",
       "      <td>0</td>\n",
       "      <td>0</td>\n",
       "      <td>1</td>\n",
       "    </tr>\n",
       "    <tr>\n",
       "      <th>318436</th>\n",
       "      <td>2.0</td>\n",
       "      <td>8.441823</td>\n",
       "      <td>1.97</td>\n",
       "      <td>1.945910</td>\n",
       "      <td>39</td>\n",
       "      <td>1</td>\n",
       "      <td>2</td>\n",
       "      <td>1</td>\n",
       "      <td>0</td>\n",
       "      <td>0</td>\n",
       "      <td>...</td>\n",
       "      <td>0</td>\n",
       "      <td>1</td>\n",
       "      <td>0</td>\n",
       "      <td>0</td>\n",
       "      <td>0</td>\n",
       "      <td>0</td>\n",
       "      <td>0</td>\n",
       "      <td>0</td>\n",
       "      <td>1</td>\n",
       "      <td>0</td>\n",
       "    </tr>\n",
       "    <tr>\n",
       "      <th>318437</th>\n",
       "      <td>2.0</td>\n",
       "      <td>8.374477</td>\n",
       "      <td>2.20</td>\n",
       "      <td>1.791759</td>\n",
       "      <td>44</td>\n",
       "      <td>1</td>\n",
       "      <td>2</td>\n",
       "      <td>0</td>\n",
       "      <td>0</td>\n",
       "      <td>1</td>\n",
       "      <td>...</td>\n",
       "      <td>0</td>\n",
       "      <td>1</td>\n",
       "      <td>0</td>\n",
       "      <td>0</td>\n",
       "      <td>0</td>\n",
       "      <td>0</td>\n",
       "      <td>0</td>\n",
       "      <td>1</td>\n",
       "      <td>0</td>\n",
       "      <td>0</td>\n",
       "    </tr>\n",
       "  </tbody>\n",
       "</table>\n",
       "<p>318438 rows × 32 columns</p>\n",
       "</div>"
      ],
      "text/plain": [
       "        Available_Extra_Rooms_in_Hospital  Admission_Deposit  \\\n",
       "0                                     3.0           8.499436   \n",
       "1                                     3.0           8.944681   \n",
       "2                                     3.0           8.420682   \n",
       "3                                     3.0           8.749098   \n",
       "4                                     3.0           9.062652   \n",
       "...                                   ...                ...   \n",
       "318433                                4.0           8.431199   \n",
       "318434                                4.0           8.337349   \n",
       "318435                                3.0           8.265136   \n",
       "318436                                2.0           8.441823   \n",
       "318437                                2.0           8.374477   \n",
       "\n",
       "        Administrative_Delay  Visitors_with_Patient  Age  Severity_of_Illness  \\\n",
       "0                       2.32               1.098612   59                    2   \n",
       "1                       2.24               1.386294   45                    2   \n",
       "2                       2.45               1.098612   48                    2   \n",
       "3                       1.99               1.386294   49                    2   \n",
       "4                       2.33               1.386294   45                    2   \n",
       "...                      ...                    ...  ...                  ...   \n",
       "318433                  2.07               1.098612   37                    1   \n",
       "318434                  2.38               1.098612   34                    1   \n",
       "318435                  2.16               1.609438   33                    1   \n",
       "318436                  1.97               1.945910   39                    1   \n",
       "318437                  2.20               1.791759   44                    1   \n",
       "\n",
       "        APR_Risk_of_Mortality  Type_of_Admission_Emergency  \\\n",
       "0                           3                            1   \n",
       "1                           3                            0   \n",
       "2                           2                            1   \n",
       "3                           3                            0   \n",
       "4                           3                            1   \n",
       "...                       ...                          ...   \n",
       "318433                      0                            0   \n",
       "318434                      2                            0   \n",
       "318435                      2                            0   \n",
       "318436                      2                            1   \n",
       "318437                      2                            0   \n",
       "\n",
       "        Type_of_Admission_Trauma  Type_of_Admission_Urgent  ...  \\\n",
       "0                              0                         0  ...   \n",
       "1                              1                         0  ...   \n",
       "2                              0                         0  ...   \n",
       "3                              1                         0  ...   \n",
       "4                              0                         0  ...   \n",
       "...                          ...                       ...  ...   \n",
       "318433                         1                         0  ...   \n",
       "318434                         0                         1  ...   \n",
       "318435                         0                         1  ...   \n",
       "318436                         0                         0  ...   \n",
       "318437                         0                         1  ...   \n",
       "\n",
       "        Payment_Typology_1_Medicaid  Payment_Typology_1_Medicare  \\\n",
       "0                                 0                            1   \n",
       "1                                 0                            1   \n",
       "2                                 0                            1   \n",
       "3                                 1                            0   \n",
       "4                                 0                            1   \n",
       "...                             ...                          ...   \n",
       "318433                            0                            0   \n",
       "318434                            0                            1   \n",
       "318435                            0                            1   \n",
       "318436                            0                            1   \n",
       "318437                            0                            1   \n",
       "\n",
       "        Payment_Typology_1_Miscellaneous/Other  \\\n",
       "0                                            0   \n",
       "1                                            0   \n",
       "2                                            0   \n",
       "3                                            0   \n",
       "4                                            0   \n",
       "...                                        ...   \n",
       "318433                                       0   \n",
       "318434                                       0   \n",
       "318435                                       0   \n",
       "318436                                       0   \n",
       "318437                                       0   \n",
       "\n",
       "        Payment_Typology_1_Private Health Insurance  \\\n",
       "0                                                 0   \n",
       "1                                                 0   \n",
       "2                                                 0   \n",
       "3                                                 0   \n",
       "4                                                 0   \n",
       "...                                             ...   \n",
       "318433                                            0   \n",
       "318434                                            0   \n",
       "318435                                            0   \n",
       "318436                                            0   \n",
       "318437                                            0   \n",
       "\n",
       "        Payment_Typology_1_Self-Pay  Payment_Typology_1_Unknown  \\\n",
       "0                                 0                           0   \n",
       "1                                 0                           0   \n",
       "2                                 0                           0   \n",
       "3                                 0                           0   \n",
       "4                                 0                           0   \n",
       "...                             ...                         ...   \n",
       "318433                            0                           0   \n",
       "318434                            0                           0   \n",
       "318435                            0                           0   \n",
       "318436                            0                           0   \n",
       "318437                            0                           0   \n",
       "\n",
       "        Patient_Disposition_Home or Self Care  \\\n",
       "0                                           0   \n",
       "1                                           0   \n",
       "2                                           0   \n",
       "3                                           0   \n",
       "4                                           0   \n",
       "...                                       ...   \n",
       "318433                                      1   \n",
       "318434                                      0   \n",
       "318435                                      0   \n",
       "318436                                      0   \n",
       "318437                                      0   \n",
       "\n",
       "        Patient_Disposition_Home w/ Home Health Services  \\\n",
       "0                                                      0   \n",
       "1                                                      0   \n",
       "2                                                      0   \n",
       "3                                                      0   \n",
       "4                                                      0   \n",
       "...                                                  ...   \n",
       "318433                                                 0   \n",
       "318434                                                 1   \n",
       "318435                                                 0   \n",
       "318436                                                 0   \n",
       "318437                                                 1   \n",
       "\n",
       "        Patient_Disposition_Others  Patient_Disposition_Skilled Nursing Home  \n",
       "0                                1                                         0  \n",
       "1                                0                                         1  \n",
       "2                                0                                         1  \n",
       "3                                1                                         0  \n",
       "4                                0                                         1  \n",
       "...                            ...                                       ...  \n",
       "318433                           0                                         0  \n",
       "318434                           0                                         0  \n",
       "318435                           0                                         1  \n",
       "318436                           1                                         0  \n",
       "318437                           0                                         0  \n",
       "\n",
       "[318438 rows x 32 columns]"
      ]
     },
     "execution_count": 45,
     "metadata": {},
     "output_type": "execute_result"
    }
   ],
   "source": [
    "# One hot encode\n",
    "log_X = pd.get_dummies(log_X, columns=['Type_of_Admission','Ward_Type', 'APR_Medical_Surgical_Description','Payment_Typology_1', 'Patient_Disposition'])\n",
    "\n",
    "# Label encode\n",
    "log_X['Severity_of_Illness'] = log_X['Severity_of_Illness'].apply(lambda x: ['Minor', 'Moderate', 'Extreme'].index(x))\n",
    "log_X['APR_Risk_of_Mortality'] = log_X['APR_Risk_of_Mortality'].apply(lambda y: ['Minor', 'Moderate', 'Major','Extreme'].index(y))\n",
    "log_X"
   ]
  },
  {
   "cell_type": "code",
   "execution_count": 46,
   "metadata": {},
   "outputs": [],
   "source": [
    "# Train test split\n",
    "log_X_train, log_X_test, log_Y_train, log_Y_test = train_test_split(log_X, log_Y, test_size = 0.25, random_state = 2022)"
   ]
  },
  {
   "cell_type": "code",
   "execution_count": 47,
   "metadata": {},
   "outputs": [
    {
     "name": "stdout",
     "output_type": "stream",
     "text": [
      "Training Features Shape: (238828, 32)\n",
      "Training Labels Shape: (238828,)\n",
      "Testing Features Shape: (79610, 32)\n",
      "Testing Labels Shape: (79610,)\n"
     ]
    }
   ],
   "source": [
    "print('Training Features Shape:', log_X_train.shape)\n",
    "print('Training Labels Shape:',  log_Y_train.shape)\n",
    "print('Testing Features Shape:', log_X_test.shape)\n",
    "print('Testing Labels Shape:', log_Y_test.shape)"
   ]
  },
  {
   "cell_type": "markdown",
   "metadata": {},
   "source": [
    "## Model Prep for Administrative variables"
   ]
  },
  {
   "cell_type": "code",
   "execution_count": 112,
   "metadata": {},
   "outputs": [
    {
     "data": {
      "text/plain": [
       "Length_of_Stay                         int64\n",
       "Available_Extra_Rooms_in_Hospital    float64\n",
       "Admission_Deposit                    float64\n",
       "Administrative_Delay                 float64\n",
       "Visitors_with_Patient                float64\n",
       "Type_of_Admission                     object\n",
       "Age                                    int64\n",
       "Ward_Type                             object\n",
       "Patient_Disposition                   object\n",
       "Severity_of_Illness                   object\n",
       "APR_Risk_of_Mortality                 object\n",
       "APR_Medical_Surgical_Description      object\n",
       "Payment_Typology_1                    object\n",
       "dtype: object"
      ]
     },
     "execution_count": 112,
     "metadata": {},
     "output_type": "execute_result"
    }
   ],
   "source": [
    "fullData.dtypes"
   ]
  },
  {
   "cell_type": "code",
   "execution_count": 113,
   "metadata": {},
   "outputs": [],
   "source": [
    "X_Admin = fullData.drop(['Type_of_Admission', 'Severity_of_Illness', 'APR_Risk_of_Mortality', 'APR_Medical_Surgical_Description', 'Length_of_Stay', 'Payment_Typology_1', 'Patient_Disposition'],axis = 1)\n",
    "Y_Admin = Y"
   ]
  },
  {
   "cell_type": "code",
   "execution_count": 114,
   "metadata": {},
   "outputs": [
    {
     "data": {
      "text/plain": [
       "((318438, 6), (318438,))"
      ]
     },
     "execution_count": 114,
     "metadata": {},
     "output_type": "execute_result"
    }
   ],
   "source": [
    "X_Admin.shape, Y.shape"
   ]
  },
  {
   "cell_type": "code",
   "execution_count": 115,
   "metadata": {},
   "outputs": [
    {
     "data": {
      "text/plain": [
       "Available_Extra_Rooms_in_Hospital    float64\n",
       "Admission_Deposit                    float64\n",
       "Administrative_Delay                 float64\n",
       "Visitors_with_Patient                float64\n",
       "Age                                    int64\n",
       "Ward_Type                             object\n",
       "dtype: object"
      ]
     },
     "execution_count": 115,
     "metadata": {},
     "output_type": "execute_result"
    }
   ],
   "source": [
    "X_Admin.dtypes"
   ]
  },
  {
   "cell_type": "code",
   "execution_count": 116,
   "metadata": {},
   "outputs": [],
   "source": [
    "X_Admin = pd.get_dummies(X_Admin, columns=['Ward_Type'])"
   ]
  },
  {
   "cell_type": "code",
   "execution_count": 117,
   "metadata": {},
   "outputs": [],
   "source": [
    "# Split the data into training and testing sets\n",
    "X_train_Admin, X_test_Admin, Y_train_Admin, Y_test_Admin = train_test_split(X_Admin, Y_Admin, test_size = 0.25, random_state = 2022)"
   ]
  },
  {
   "cell_type": "code",
   "execution_count": 118,
   "metadata": {},
   "outputs": [
    {
     "name": "stdout",
     "output_type": "stream",
     "text": [
      "Training Features_Admin Shape: (238828, 11)\n",
      "Training Labels_Admin Shape: (79610, 11)\n",
      "Testing Features_Admin Shape: (238828,)\n",
      "Testing Labels_Admin Shape: (79610,)\n"
     ]
    }
   ],
   "source": [
    "print('Training Features_Admin Shape:', X_train_Admin.shape)\n",
    "print('Training Labels_Admin Shape:', X_test_Admin.shape)\n",
    "print('Testing Features_Admin Shape:', Y_train_Admin.shape)\n",
    "print('Testing Labels_Admin Shape:', Y_test_Admin.shape)"
   ]
  },
  {
   "cell_type": "markdown",
   "metadata": {},
   "source": [
    "# Section 5: Data Exploration"
   ]
  },
  {
   "cell_type": "markdown",
   "metadata": {},
   "source": [
    "## Section 5.1: Correlation Matrix"
   ]
  },
  {
   "cell_type": "code",
   "execution_count": 48,
   "metadata": {},
   "outputs": [],
   "source": [
    "corrData = fullData[[\"Length_of_Stay\", \"Available_Extra_Rooms_in_Hospital\", \"Admission_Deposit\", \"Administrative_Delay\",\n",
    "          \"Visitors_with_Patient\",\"Age\"]]"
   ]
  },
  {
   "cell_type": "code",
   "execution_count": 49,
   "metadata": {},
   "outputs": [
    {
     "data": {
      "text/html": [
       "<div>\n",
       "<style scoped>\n",
       "    .dataframe tbody tr th:only-of-type {\n",
       "        vertical-align: middle;\n",
       "    }\n",
       "\n",
       "    .dataframe tbody tr th {\n",
       "        vertical-align: top;\n",
       "    }\n",
       "\n",
       "    .dataframe thead th {\n",
       "        text-align: right;\n",
       "    }\n",
       "</style>\n",
       "<table border=\"1\" class=\"dataframe\">\n",
       "  <thead>\n",
       "    <tr style=\"text-align: right;\">\n",
       "      <th></th>\n",
       "      <th>Length_of_Stay</th>\n",
       "      <th>Available_Extra_Rooms_in_Hospital</th>\n",
       "      <th>Admission_Deposit</th>\n",
       "      <th>Administrative_Delay</th>\n",
       "      <th>Visitors_with_Patient</th>\n",
       "      <th>Age</th>\n",
       "    </tr>\n",
       "  </thead>\n",
       "  <tbody>\n",
       "    <tr>\n",
       "      <th>Length_of_Stay</th>\n",
       "      <td>1.000000</td>\n",
       "      <td>-0.008038</td>\n",
       "      <td>-0.027686</td>\n",
       "      <td>0.459448</td>\n",
       "      <td>0.018956</td>\n",
       "      <td>0.046794</td>\n",
       "    </tr>\n",
       "    <tr>\n",
       "      <th>Available_Extra_Rooms_in_Hospital</th>\n",
       "      <td>-0.008038</td>\n",
       "      <td>1.000000</td>\n",
       "      <td>-0.143739</td>\n",
       "      <td>-0.003580</td>\n",
       "      <td>0.096714</td>\n",
       "      <td>-0.131621</td>\n",
       "    </tr>\n",
       "    <tr>\n",
       "      <th>Admission_Deposit</th>\n",
       "      <td>-0.027686</td>\n",
       "      <td>-0.143739</td>\n",
       "      <td>1.000000</td>\n",
       "      <td>-0.034101</td>\n",
       "      <td>-0.150358</td>\n",
       "      <td>0.025073</td>\n",
       "    </tr>\n",
       "    <tr>\n",
       "      <th>Administrative_Delay</th>\n",
       "      <td>0.459448</td>\n",
       "      <td>-0.003580</td>\n",
       "      <td>-0.034101</td>\n",
       "      <td>1.000000</td>\n",
       "      <td>0.023111</td>\n",
       "      <td>0.060338</td>\n",
       "    </tr>\n",
       "    <tr>\n",
       "      <th>Visitors_with_Patient</th>\n",
       "      <td>0.018956</td>\n",
       "      <td>0.096714</td>\n",
       "      <td>-0.150358</td>\n",
       "      <td>0.023111</td>\n",
       "      <td>1.000000</td>\n",
       "      <td>0.073469</td>\n",
       "    </tr>\n",
       "    <tr>\n",
       "      <th>Age</th>\n",
       "      <td>0.046794</td>\n",
       "      <td>-0.131621</td>\n",
       "      <td>0.025073</td>\n",
       "      <td>0.060338</td>\n",
       "      <td>0.073469</td>\n",
       "      <td>1.000000</td>\n",
       "    </tr>\n",
       "  </tbody>\n",
       "</table>\n",
       "</div>"
      ],
      "text/plain": [
       "                                   Length_of_Stay  \\\n",
       "Length_of_Stay                           1.000000   \n",
       "Available_Extra_Rooms_in_Hospital       -0.008038   \n",
       "Admission_Deposit                       -0.027686   \n",
       "Administrative_Delay                     0.459448   \n",
       "Visitors_with_Patient                    0.018956   \n",
       "Age                                      0.046794   \n",
       "\n",
       "                                   Available_Extra_Rooms_in_Hospital  \\\n",
       "Length_of_Stay                                             -0.008038   \n",
       "Available_Extra_Rooms_in_Hospital                           1.000000   \n",
       "Admission_Deposit                                          -0.143739   \n",
       "Administrative_Delay                                       -0.003580   \n",
       "Visitors_with_Patient                                       0.096714   \n",
       "Age                                                        -0.131621   \n",
       "\n",
       "                                   Admission_Deposit  Administrative_Delay  \\\n",
       "Length_of_Stay                             -0.027686              0.459448   \n",
       "Available_Extra_Rooms_in_Hospital          -0.143739             -0.003580   \n",
       "Admission_Deposit                           1.000000             -0.034101   \n",
       "Administrative_Delay                       -0.034101              1.000000   \n",
       "Visitors_with_Patient                      -0.150358              0.023111   \n",
       "Age                                         0.025073              0.060338   \n",
       "\n",
       "                                   Visitors_with_Patient       Age  \n",
       "Length_of_Stay                                  0.018956  0.046794  \n",
       "Available_Extra_Rooms_in_Hospital               0.096714 -0.131621  \n",
       "Admission_Deposit                              -0.150358  0.025073  \n",
       "Administrative_Delay                            0.023111  0.060338  \n",
       "Visitors_with_Patient                           1.000000  0.073469  \n",
       "Age                                             0.073469  1.000000  "
      ]
     },
     "execution_count": 49,
     "metadata": {},
     "output_type": "execute_result"
    }
   ],
   "source": [
    "#import pandas.rpy2.common as com\n",
    "import seaborn as sns\n",
    "#%matplotlib inline\n",
    "\n",
    "# calculate the correlation matrix\n",
    "corr = corrData.corr(method ='pearson')\n",
    "corr"
   ]
  },
  {
   "cell_type": "code",
   "execution_count": 50,
   "metadata": {},
   "outputs": [
    {
     "data": {
      "text/plain": [
       "[Text(0.5, 1.0, 'Correlation Matrix of Continuous Variables')]"
      ]
     },
     "execution_count": 50,
     "metadata": {},
     "output_type": "execute_result"
    },
    {
     "data": {
      "image/png": "[encoded data removed]",
      "text/plain": [
       "<Figure size 2160x2160 with 2 Axes>"
      ]
     },
     "metadata": {},
     "output_type": "display_data"
    }
   ],
   "source": [
    "# plot the heatmap\n",
    "sns.set(font_scale=3)  \n",
    "fig, ax = plt.subplots(figsize=(30,30))\n",
    "colormap = sns.color_palette(\"Blues\")\n",
    "\n",
    "sns.heatmap(corr, \n",
    "        xticklabels=corr.columns,\n",
    "        yticklabels=corr.columns,\n",
    "        cmap=colormap).set(title='Correlation Matrix of Continuous Variables')"
   ]
  },
  {
   "cell_type": "code",
   "execution_count": 234,
   "metadata": {},
   "outputs": [
    {
     "data": {
      "text/html": [
       "<style  type=\"text/css\" >\n",
       "    #T_e903b_ th {\n",
       "          font-size: 7pt;\n",
       "    }    #T_e903b_ td {\n",
       "          padding: 0em 0em;\n",
       "    }    #T_e903b_ th:hover {\n",
       "          font-size: 12pt;\n",
       "    }    #T_e903b_ tr:hover td:hover {\n",
       "          max-width: 200px;\n",
       "          font-size: 12pt;\n",
       "    }#T_e903b_row0_col0,#T_e903b_row1_col1,#T_e903b_row2_col2,#T_e903b_row3_col3,#T_e903b_row4_col4,#T_e903b_row5_col5{\n",
       "            background-color:  #4479bb;\n",
       "            color:  #000000;\n",
       "            max-width:  80px;\n",
       "            font-size:  10pt;\n",
       "        }#T_e903b_row0_col1{\n",
       "            background-color:  #d8415f;\n",
       "            color:  #f1f1f1;\n",
       "            max-width:  80px;\n",
       "            font-size:  10pt;\n",
       "        }#T_e903b_row0_col2,#T_e903b_row1_col2,#T_e903b_row2_col4,#T_e903b_row3_col2,#T_e903b_row4_col2,#T_e903b_row5_col1{\n",
       "            background-color:  #d73c5b;\n",
       "            color:  #f1f1f1;\n",
       "            max-width:  80px;\n",
       "            font-size:  10pt;\n",
       "        }#T_e903b_row0_col3{\n",
       "            background-color:  #f1e8ea;\n",
       "            color:  #000000;\n",
       "            max-width:  80px;\n",
       "            font-size:  10pt;\n",
       "        }#T_e903b_row0_col4{\n",
       "            background-color:  #da4b68;\n",
       "            color:  #000000;\n",
       "            max-width:  80px;\n",
       "            font-size:  10pt;\n",
       "        }#T_e903b_row0_col5{\n",
       "            background-color:  #db5570;\n",
       "            color:  #000000;\n",
       "            max-width:  80px;\n",
       "            font-size:  10pt;\n",
       "        }#T_e903b_row1_col0{\n",
       "            background-color:  #de667e;\n",
       "            color:  #000000;\n",
       "            max-width:  80px;\n",
       "            font-size:  10pt;\n",
       "        }#T_e903b_row1_col3{\n",
       "            background-color:  #de687f;\n",
       "            color:  #000000;\n",
       "            max-width:  80px;\n",
       "            font-size:  10pt;\n",
       "        }#T_e903b_row1_col4{\n",
       "            background-color:  #e28799;\n",
       "            color:  #000000;\n",
       "            max-width:  80px;\n",
       "            font-size:  10pt;\n",
       "        }#T_e903b_row1_col5{\n",
       "            background-color:  #d83e5d;\n",
       "            color:  #f1f1f1;\n",
       "            max-width:  80px;\n",
       "            font-size:  10pt;\n",
       "        }#T_e903b_row2_col0{\n",
       "            background-color:  #dd627b;\n",
       "            color:  #000000;\n",
       "            max-width:  80px;\n",
       "            font-size:  10pt;\n",
       "        }#T_e903b_row2_col1{\n",
       "            background-color:  #d73d5c;\n",
       "            color:  #f1f1f1;\n",
       "            max-width:  80px;\n",
       "            font-size:  10pt;\n",
       "        }#T_e903b_row2_col3{\n",
       "            background-color:  #dd5f78;\n",
       "            color:  #000000;\n",
       "            max-width:  80px;\n",
       "            font-size:  10pt;\n",
       "        }#T_e903b_row2_col5{\n",
       "            background-color:  #e07389;\n",
       "            color:  #000000;\n",
       "            max-width:  80px;\n",
       "            font-size:  10pt;\n",
       "        }#T_e903b_row3_col0{\n",
       "            background-color:  #f1eaeb;\n",
       "            color:  #000000;\n",
       "            max-width:  80px;\n",
       "            font-size:  10pt;\n",
       "        }#T_e903b_row3_col1{\n",
       "            background-color:  #d94663;\n",
       "            color:  #f1f1f1;\n",
       "            max-width:  80px;\n",
       "            font-size:  10pt;\n",
       "        }#T_e903b_row3_col4{\n",
       "            background-color:  #da506b;\n",
       "            color:  #000000;\n",
       "            max-width:  80px;\n",
       "            font-size:  10pt;\n",
       "        }#T_e903b_row3_col5{\n",
       "            background-color:  #dc5c76;\n",
       "            color:  #000000;\n",
       "            max-width:  80px;\n",
       "            font-size:  10pt;\n",
       "        }#T_e903b_row4_col0{\n",
       "            background-color:  #df7086;\n",
       "            color:  #000000;\n",
       "            max-width:  80px;\n",
       "            font-size:  10pt;\n",
       "        }#T_e903b_row4_col1{\n",
       "            background-color:  #e3889a;\n",
       "            color:  #000000;\n",
       "            max-width:  80px;\n",
       "            font-size:  10pt;\n",
       "        }#T_e903b_row4_col3{\n",
       "            background-color:  #df7288;\n",
       "            color:  #000000;\n",
       "            max-width:  80px;\n",
       "            font-size:  10pt;\n",
       "        }#T_e903b_row4_col5{\n",
       "            background-color:  #e28194;\n",
       "            color:  #000000;\n",
       "            max-width:  80px;\n",
       "            font-size:  10pt;\n",
       "        }#T_e903b_row5_col0{\n",
       "            background-color:  #e0748a;\n",
       "            color:  #000000;\n",
       "            max-width:  80px;\n",
       "            font-size:  10pt;\n",
       "        }#T_e903b_row5_col2{\n",
       "            background-color:  #df6d84;\n",
       "            color:  #000000;\n",
       "            max-width:  80px;\n",
       "            font-size:  10pt;\n",
       "        }#T_e903b_row5_col3{\n",
       "            background-color:  #e0798d;\n",
       "            color:  #000000;\n",
       "            max-width:  80px;\n",
       "            font-size:  10pt;\n",
       "        }#T_e903b_row5_col4{\n",
       "            background-color:  #e17d91;\n",
       "            color:  #000000;\n",
       "            max-width:  80px;\n",
       "            font-size:  10pt;\n",
       "        }</style><table id=\"T_e903b_\" ><caption>Hover to magify</caption><thead>    <tr>        <th class=\"blank level0\" ></th>        <th class=\"col_heading level0 col0\" >Length_of_Stay</th>        <th class=\"col_heading level0 col1\" >Available_Extra_Rooms_in_Hospital</th>        <th class=\"col_heading level0 col2\" >Admission_Deposit</th>        <th class=\"col_heading level0 col3\" >Administrative_Delay</th>        <th class=\"col_heading level0 col4\" >Visitors_with_Patient</th>        <th class=\"col_heading level0 col5\" >Age</th>    </tr></thead><tbody>\n",
       "                <tr>\n",
       "                        <th id=\"T_e903b_level0_row0\" class=\"row_heading level0 row0\" >Length_of_Stay</th>\n",
       "                        <td id=\"T_e903b_row0_col0\" class=\"data row0 col0\" >1.00</td>\n",
       "                        <td id=\"T_e903b_row0_col1\" class=\"data row0 col1\" >-0.01</td>\n",
       "                        <td id=\"T_e903b_row0_col2\" class=\"data row0 col2\" >-0.03</td>\n",
       "                        <td id=\"T_e903b_row0_col3\" class=\"data row0 col3\" >0.46</td>\n",
       "                        <td id=\"T_e903b_row0_col4\" class=\"data row0 col4\" >0.02</td>\n",
       "                        <td id=\"T_e903b_row0_col5\" class=\"data row0 col5\" >0.05</td>\n",
       "            </tr>\n",
       "            <tr>\n",
       "                        <th id=\"T_e903b_level0_row1\" class=\"row_heading level0 row1\" >Available_Extra_Rooms_in_Hospital</th>\n",
       "                        <td id=\"T_e903b_row1_col0\" class=\"data row1 col0\" >-0.01</td>\n",
       "                        <td id=\"T_e903b_row1_col1\" class=\"data row1 col1\" >1.00</td>\n",
       "                        <td id=\"T_e903b_row1_col2\" class=\"data row1 col2\" >-0.14</td>\n",
       "                        <td id=\"T_e903b_row1_col3\" class=\"data row1 col3\" >-0.00</td>\n",
       "                        <td id=\"T_e903b_row1_col4\" class=\"data row1 col4\" >0.10</td>\n",
       "                        <td id=\"T_e903b_row1_col5\" class=\"data row1 col5\" >-0.13</td>\n",
       "            </tr>\n",
       "            <tr>\n",
       "                        <th id=\"T_e903b_level0_row2\" class=\"row_heading level0 row2\" >Admission_Deposit</th>\n",
       "                        <td id=\"T_e903b_row2_col0\" class=\"data row2 col0\" >-0.03</td>\n",
       "                        <td id=\"T_e903b_row2_col1\" class=\"data row2 col1\" >-0.14</td>\n",
       "                        <td id=\"T_e903b_row2_col2\" class=\"data row2 col2\" >1.00</td>\n",
       "                        <td id=\"T_e903b_row2_col3\" class=\"data row2 col3\" >-0.03</td>\n",
       "                        <td id=\"T_e903b_row2_col4\" class=\"data row2 col4\" >-0.15</td>\n",
       "                        <td id=\"T_e903b_row2_col5\" class=\"data row2 col5\" >0.03</td>\n",
       "            </tr>\n",
       "            <tr>\n",
       "                        <th id=\"T_e903b_level0_row3\" class=\"row_heading level0 row3\" >Administrative_Delay</th>\n",
       "                        <td id=\"T_e903b_row3_col0\" class=\"data row3 col0\" >0.46</td>\n",
       "                        <td id=\"T_e903b_row3_col1\" class=\"data row3 col1\" >-0.00</td>\n",
       "                        <td id=\"T_e903b_row3_col2\" class=\"data row3 col2\" >-0.03</td>\n",
       "                        <td id=\"T_e903b_row3_col3\" class=\"data row3 col3\" >1.00</td>\n",
       "                        <td id=\"T_e903b_row3_col4\" class=\"data row3 col4\" >0.02</td>\n",
       "                        <td id=\"T_e903b_row3_col5\" class=\"data row3 col5\" >0.06</td>\n",
       "            </tr>\n",
       "            <tr>\n",
       "                        <th id=\"T_e903b_level0_row4\" class=\"row_heading level0 row4\" >Visitors_with_Patient</th>\n",
       "                        <td id=\"T_e903b_row4_col0\" class=\"data row4 col0\" >0.02</td>\n",
       "                        <td id=\"T_e903b_row4_col1\" class=\"data row4 col1\" >0.10</td>\n",
       "                        <td id=\"T_e903b_row4_col2\" class=\"data row4 col2\" >-0.15</td>\n",
       "                        <td id=\"T_e903b_row4_col3\" class=\"data row4 col3\" >0.02</td>\n",
       "                        <td id=\"T_e903b_row4_col4\" class=\"data row4 col4\" >1.00</td>\n",
       "                        <td id=\"T_e903b_row4_col5\" class=\"data row4 col5\" >0.07</td>\n",
       "            </tr>\n",
       "            <tr>\n",
       "                        <th id=\"T_e903b_level0_row5\" class=\"row_heading level0 row5\" >Age</th>\n",
       "                        <td id=\"T_e903b_row5_col0\" class=\"data row5 col0\" >0.05</td>\n",
       "                        <td id=\"T_e903b_row5_col1\" class=\"data row5 col1\" >-0.13</td>\n",
       "                        <td id=\"T_e903b_row5_col2\" class=\"data row5 col2\" >0.03</td>\n",
       "                        <td id=\"T_e903b_row5_col3\" class=\"data row5 col3\" >0.06</td>\n",
       "                        <td id=\"T_e903b_row5_col4\" class=\"data row5 col4\" >0.07</td>\n",
       "                        <td id=\"T_e903b_row5_col5\" class=\"data row5 col5\" >1.00</td>\n",
       "            </tr>\n",
       "    </tbody></table>"
      ],
      "text/plain": [
       "<pandas.io.formats.style.Styler at 0x7f84f8b024c0>"
      ]
     },
     "execution_count": 234,
     "metadata": {},
     "output_type": "execute_result"
    }
   ],
   "source": [
    "# Correlation map, hover to zoom\n",
    "cmap = cmap=sns.diverging_palette(5, 250, as_cmap=True)\n",
    "\n",
    "def magnify():\n",
    "    return [dict(selector=\"th\",\n",
    "                 props=[(\"font-size\", \"7pt\")]),\n",
    "            dict(selector=\"td\",\n",
    "                 props=[('padding', \"0em 0em\")]),\n",
    "            dict(selector=\"th:hover\",\n",
    "                 props=[(\"font-size\", \"12pt\")]),\n",
    "            dict(selector=\"tr:hover td:hover\",\n",
    "                 props=[('max-width', '200px'),\n",
    "                        ('font-size', '12pt')])\n",
    "]\n",
    "\n",
    "corr.style.background_gradient(cmap, axis=1)\\\n",
    "    .set_properties(**{'max-width': '80px', 'font-size': '10pt'})\\\n",
    "    .set_caption(\"Hover to magify\")\\\n",
    "    .set_precision(2)\\\n",
    "    .set_table_styles(magnify())"
   ]
  },
  {
   "cell_type": "markdown",
   "metadata": {},
   "source": [
    "# Section 6: Comparison of Models"
   ]
  },
  {
   "cell_type": "markdown",
   "metadata": {},
   "source": [
    "# Section 6.2: MARS Model\n",
    "\n",
    "Steps of installation: Must use pyearth"
   ]
  },
  {
   "cell_type": "code",
   "execution_count": 52,
   "metadata": {},
   "outputs": [],
   "source": [
    "marsResults = pd.DataFrame(columns = ['Model','RMSE','Normalised RMSE'])"
   ]
  },
  {
   "cell_type": "markdown",
   "metadata": {},
   "source": [
    "## MARS Degree 1"
   ]
  },
  {
   "cell_type": "code",
   "execution_count": 53,
   "metadata": {},
   "outputs": [
    {
     "name": "stderr",
     "output_type": "stream",
     "text": [
      "`rcond` parameter will change to the default of machine precision times ``max(M, N)`` where M and N are the input matrix dimensions.\n",
      "To use the future default and silence this warning we advise to pass `rcond=None`, to keep using the old, explicitly pass `rcond=-1`.\n",
      "`rcond` parameter will change to the default of machine precision times ``max(M, N)`` where M and N are the input matrix dimensions.\n",
      "To use the future default and silence this warning we advise to pass `rcond=None`, to keep using the old, explicitly pass `rcond=-1`.\n"
     ]
    },
    {
     "data": {
      "text/plain": [
       "Earth(feature_importance_type='gcv')"
      ]
     },
     "execution_count": 53,
     "metadata": {},
     "output_type": "execute_result"
    }
   ],
   "source": [
    "#Fit an Earth model\n",
    "random.seed(2022)\n",
    "mars1 = Earth(feature_importance_type='gcv')\n",
    "mars1.fit(X_train,Y_train)"
   ]
  },
  {
   "cell_type": "code",
   "execution_count": 54,
   "metadata": {},
   "outputs": [
    {
     "name": "stdout",
     "output_type": "stream",
     "text": [
      "Forward Pass\n",
      "-------------------------------------------------------------------\n",
      "iter  parent  var  knot  mse         terms  gcv      rsq    grsq   \n",
      "-------------------------------------------------------------------\n",
      "0     -       -    -     239.039047  1      239.041  0.000  0.000  \n",
      "1     0       2    -1    188.359730  2      188.365  0.212  0.212  \n",
      "2     0       5    -1    180.139994  3      180.149  0.246  0.246  \n",
      "3     0       22   -1    179.172062  4      179.185  0.250  0.250  \n",
      "4     0       6    -1    177.825704  5      177.842  0.256  0.256  \n",
      "5     0       31   -1    176.939706  6      176.960  0.260  0.260  \n",
      "6     0       23   -1    176.127599  7      176.151  0.263  0.263  \n",
      "7     0       30   -1    175.832337  8      175.860  0.264  0.264  \n",
      "8     0       16   -1    175.593656  9      175.625  0.265  0.265  \n",
      "-------------------------------------------------------------------\n",
      "Stopping Condition 2: Improvement below threshold\n",
      "\n",
      "Pruning Pass\n",
      "--------------------------------------------------\n",
      "iter  bf  terms  mse     gcv      rsq     grsq    \n",
      "--------------------------------------------------\n",
      "0     -   9      175.59  175.625  0.265   0.265   \n",
      "1     8   8      175.83  175.860  0.264   0.264   \n",
      "2     7   7      176.13  176.151  0.263   0.263   \n",
      "3     3   6      176.55  176.573  0.261   0.261   \n",
      "4     5   5      177.73  177.751  0.256   0.256   \n",
      "5     6   4      179.22  179.236  0.250   0.250   \n",
      "6     4   3      180.14  180.149  0.246   0.246   \n",
      "7     2   2      188.36  188.365  0.212   0.212   \n",
      "8     1   1      239.04  239.041  -0.000  -0.000  \n",
      "--------------------------------------------------\n",
      "Selected iteration: 0\n",
      "\n",
      "Earth Model\n",
      "---------------------------------------------------------------\n",
      "Basis Function                            Pruned  Coefficient  \n",
      "---------------------------------------------------------------\n",
      "(Intercept)                               No      -59.8922     \n",
      "Administrative_Delay                      No      29.8776      \n",
      "Severity_of_Illness                       No      3.08154      \n",
      "Payment_Typology_1_Medicaid               No      1.53382      \n",
      "APR_Risk_of_Mortality                     No      1.50742      \n",
      "Patient_Disposition_Skilled Nursing Home  No      4.14387      \n",
      "Payment_Typology_1_Medicare               No      -2.56967     \n",
      "Patient_Disposition_Others                No      1.71616      \n",
      "APR_Medical_Surgical_Description_Medical  No      1.27148      \n",
      "---------------------------------------------------------------\n",
      "MSE: 175.5937, GCV: 175.6245, RSQ: 0.2654, GRSQ: 0.2653\n"
     ]
    }
   ],
   "source": [
    "#Print the model\n",
    "print(mars1.trace())\n",
    "print(mars1.summary())"
   ]
  },
  {
   "cell_type": "code",
   "execution_count": 55,
   "metadata": {},
   "outputs": [
    {
     "data": {
      "text/plain": [
       "7.402891422939308"
      ]
     },
     "execution_count": 55,
     "metadata": {},
     "output_type": "execute_result"
    }
   ],
   "source": [
    "# Train RMSE\n",
    "rmse_mars1 = np.sqrt(mars1.mse_)\n",
    "#rmse_log_mars\n",
    "\n",
    "rmse_normalised_mars1 = rmse_mars1/(Y_train.max()-Y_train.min())*100\n",
    "rmse_normalised_mars1"
   ]
  },
  {
   "cell_type": "code",
   "execution_count": 56,
   "metadata": {},
   "outputs": [
    {
     "name": "stdout",
     "output_type": "stream",
     "text": [
      "Time for prediction: 0.03311896324157715 seconds\n"
     ]
    }
   ],
   "source": [
    "#Test mars1\n",
    "start_time = time.time()\n",
    "Y_prediction1 = mars1.predict(X_test)\n",
    "print(\"Time for prediction: %s seconds\" % (time.time() - start_time))"
   ]
  },
  {
   "cell_type": "code",
   "execution_count": 57,
   "metadata": {},
   "outputs": [
    {
     "name": "stdout",
     "output_type": "stream",
     "text": [
      "RMSE:  13.396317575020314\n",
      "Normalised RMSE:  7.48397629889403\n"
     ]
    }
   ],
   "source": [
    "# RMSE error and normalised\n",
    "rmse_mars1_prediction = np.sqrt(metrics.mean_squared_error(Y_test, Y_prediction1))\n",
    "print('RMSE: ', rmse_mars1_prediction)\n",
    "\n",
    "# Normalised RMSE\n",
    "rmse_normalised_mars1_test = np.sqrt(metrics.mean_squared_error(Y_test, Y_prediction1)) / (max(Y_test) - min(Y_test)) * 100\n",
    "print('Normalised RMSE: ', rmse_normalised_mars1_test)\n",
    "\n",
    "marsResults = marsResults.append({'Model': 'MARS Degree 1', 'RMSE': rmse_mars1_prediction, 'Normalised RMSE': rmse_normalised_mars1_test}, ignore_index = True)"
   ]
  },
  {
   "cell_type": "markdown",
   "metadata": {},
   "source": [
    "## MARS Degree 2"
   ]
  },
  {
   "cell_type": "code",
   "execution_count": 58,
   "metadata": {},
   "outputs": [
    {
     "name": "stderr",
     "output_type": "stream",
     "text": [
      "`rcond` parameter will change to the default of machine precision times ``max(M, N)`` where M and N are the input matrix dimensions.\n",
      "To use the future default and silence this warning we advise to pass `rcond=None`, to keep using the old, explicitly pass `rcond=-1`.\n"
     ]
    },
    {
     "name": "stdout",
     "output_type": "stream",
     "text": [
      "Forward Pass\n",
      "-------------------------------------------------------------------\n",
      "iter  parent  var  knot  mse         terms  gcv      rsq    grsq   \n",
      "-------------------------------------------------------------------\n",
      "0     -       -    -     239.039047  1      239.041  0.000  0.000  \n",
      "1     0       2    -1    188.359730  2      188.365  0.212  0.212  \n",
      "2     1       2    -1    174.302251  3      174.311  0.271  0.271  \n",
      "3     1       5    -1    167.208300  4      167.220  0.300  0.300  \n",
      "4     0       5    -1    163.115370  5      163.130  0.318  0.318  \n",
      "5     4       31   -1    162.237113  6      162.255  0.321  0.321  \n",
      "6     4       22   -1    161.215437  7      161.237  0.326  0.325  \n",
      "7     1       16   -1    160.680669  8      160.706  0.328  0.328  \n",
      "8     4       16   -1    156.708452  9      156.736  0.344  0.344  \n",
      "9     4       5    -1    155.058079  10     155.089  0.351  0.351  \n",
      "10    0       16   -1    153.795453  11     153.829  0.357  0.356  \n",
      "11    10      6    -1    152.631166  12     152.668  0.361  0.361  \n",
      "12    0       6    -1    149.739031  13     149.778  0.374  0.373  \n",
      "13    1       6    -1    149.411129  14     149.453  0.375  0.375  \n",
      "14    12      28   -1    149.081418  15     149.126  0.376  0.376  \n",
      "15    4       23   -1    148.878385  16     148.926  0.377  0.377  \n",
      "-------------------------------------------------------------------\n",
      "Stopping Condition 2: Improvement below threshold\n",
      "\n",
      "Pruning Pass\n",
      "--------------------------------------------------\n",
      "iter  bf  terms  mse     gcv      rsq     grsq    \n",
      "--------------------------------------------------\n",
      "0     -   16     148.88  148.926  0.377   0.377   \n",
      "1     8   15     149.04  149.081  0.377   0.376   \n",
      "2     6   14     149.23  149.275  0.376   0.376   \n",
      "3     14  13     149.61  149.649  0.374   0.374   \n",
      "4     13  12     150.12  150.160  0.372   0.372   \n",
      "5     3   11     150.39  150.422  0.371   0.371   \n",
      "6     4   10     150.67  150.698  0.370   0.370   \n",
      "7     15  9      151.38  151.407  0.367   0.367   \n",
      "8     5   8      152.27  152.298  0.363   0.363   \n",
      "9     10  7      154.83  154.853  0.352   0.352   \n",
      "10    9   6      158.19  158.207  0.338   0.338   \n",
      "11    1   5      165.39  165.406  0.308   0.308   \n",
      "12    7   4      173.39  173.402  0.275   0.275   \n",
      "13    11  3      179.05  179.057  0.251   0.251   \n",
      "14    12  2      185.11  185.116  0.226   0.226   \n",
      "15    2   1      239.04  239.041  -0.000  -0.000  \n",
      "--------------------------------------------------\n",
      "Selected iteration: 0\n",
      "\n",
      "Earth Model\n",
      "-------------------------------------------------------------------------------------\n",
      "Basis Function                                                  Pruned  Coefficient  \n",
      "-------------------------------------------------------------------------------------\n",
      "(Intercept)                                                     No      288.922      \n",
      "Administrative_Delay                                            No      -271.061     \n",
      "Administrative_Delay*Administrative_Delay                       No      63.7315      \n",
      "Severity_of_Illness*Administrative_Delay                        No      9.45217      \n",
      "Severity_of_Illness                                             No      -20.4108     \n",
      "Patient_Disposition_Skilled Nursing Home*Severity_of_Illness    No      2.04776      \n",
      "Payment_Typology_1_Medicaid*Severity_of_Illness                 No      1.2557       \n",
      "APR_Medical_Surgical_Description_Medical*Administrative_Delay   No      36.9541      \n",
      "APR_Medical_Surgical_Description_Medical*Severity_of_Illness    No      -2.33418     \n",
      "Severity_of_Illness*Severity_of_Illness                         No      2.48579      \n",
      "APR_Medical_Surgical_Description_Medical                        No      -71.9991     \n",
      "APR_Risk_of_Mortality*APR_Medical_Surgical_Description_Medical  No      -7.53646     \n",
      "APR_Risk_of_Mortality                                           No      19.0507      \n",
      "APR_Risk_of_Mortality*Administrative_Delay                      No      -5.79567     \n",
      "Patient_Disposition_Home or Self Care*APR_Risk_of_Mortality     No      -1.08234     \n",
      "Payment_Typology_1_Medicare*Severity_of_Illness                 No      -1.08598     \n",
      "-------------------------------------------------------------------------------------\n",
      "MSE: 148.8784, GCV: 148.9264, RSQ: 0.3772, GRSQ: 0.3770\n"
     ]
    },
    {
     "name": "stderr",
     "output_type": "stream",
     "text": [
      "`rcond` parameter will change to the default of machine precision times ``max(M, N)`` where M and N are the input matrix dimensions.\n",
      "To use the future default and silence this warning we advise to pass `rcond=None`, to keep using the old, explicitly pass `rcond=-1`.\n"
     ]
    }
   ],
   "source": [
    "#Fit an Earth model\n",
    "random.seed(2022)\n",
    "mars2 = Earth(feature_importance_type='gcv', max_degree=2)\n",
    "mars2.fit(X_train,Y_train)\n",
    "\n",
    "#Print the model\n",
    "print(mars2.trace())\n",
    "print(mars2.summary())"
   ]
  },
  {
   "cell_type": "code",
   "execution_count": 59,
   "metadata": {},
   "outputs": [
    {
     "data": {
      "text/plain": [
       "6.816521249666428"
      ]
     },
     "execution_count": 59,
     "metadata": {},
     "output_type": "execute_result"
    }
   ],
   "source": [
    "rmse_mars2 = np.sqrt(mars2.mse_)\n",
    "#rmse_log_mars\n",
    "\n",
    "rmse_normalised_mars2 = rmse_mars2/(Y_train.max()-Y_train.min())*100\n",
    "rmse_normalised_mars2"
   ]
  },
  {
   "cell_type": "code",
   "execution_count": 60,
   "metadata": {},
   "outputs": [
    {
     "name": "stdout",
     "output_type": "stream",
     "text": [
      "Time for prediction: 0.03992199897766113 seconds\n"
     ]
    }
   ],
   "source": [
    "# Prediction\n",
    "start_time = time.time()\n",
    "Y_prediction2 = mars2.predict(X_test)\n",
    "print(\"Time for prediction: %s seconds\" % (time.time() - start_time))"
   ]
  },
  {
   "cell_type": "code",
   "execution_count": 61,
   "metadata": {},
   "outputs": [
    {
     "name": "stdout",
     "output_type": "stream",
     "text": [
      "RMSE:  12.309775004794508\n",
      "Normalised RMSE:  6.876969276421513\n"
     ]
    }
   ],
   "source": [
    "#Test erros Mars2\n",
    "rmse_mars2_prediction = np.sqrt(metrics.mean_squared_error(Y_test, Y_prediction2))\n",
    "print('RMSE: ', rmse_mars2_prediction)\n",
    "\n",
    "# Normalised RMSE\n",
    "rmse_normalised_mars2_test = np.sqrt(metrics.mean_squared_error(Y_test, Y_prediction2)) / (max(Y_test) - min(Y_test)) * 100\n",
    "print('Normalised RMSE: ', rmse_normalised_mars2_test)\n",
    "\n",
    "marsResults = marsResults.append({'Model': 'MARS Degree 2', 'RMSE': rmse_mars2_prediction, 'Normalised RMSE': rmse_normalised_mars2_test}, ignore_index = True)"
   ]
  },
  {
   "cell_type": "code",
   "execution_count": 62,
   "metadata": {},
   "outputs": [
    {
     "data": {
      "text/html": [
       "<div>\n",
       "<style scoped>\n",
       "    .dataframe tbody tr th:only-of-type {\n",
       "        vertical-align: middle;\n",
       "    }\n",
       "\n",
       "    .dataframe tbody tr th {\n",
       "        vertical-align: top;\n",
       "    }\n",
       "\n",
       "    .dataframe thead th {\n",
       "        text-align: right;\n",
       "    }\n",
       "</style>\n",
       "<table border=\"1\" class=\"dataframe\">\n",
       "  <thead>\n",
       "    <tr style=\"text-align: right;\">\n",
       "      <th></th>\n",
       "      <th>Model</th>\n",
       "      <th>RMSE</th>\n",
       "      <th>Normalised RMSE</th>\n",
       "    </tr>\n",
       "  </thead>\n",
       "  <tbody>\n",
       "    <tr>\n",
       "      <th>0</th>\n",
       "      <td>MARS Degree 1</td>\n",
       "      <td>13.396318</td>\n",
       "      <td>7.483976</td>\n",
       "    </tr>\n",
       "    <tr>\n",
       "      <th>1</th>\n",
       "      <td>MARS Degree 2</td>\n",
       "      <td>12.309775</td>\n",
       "      <td>6.876969</td>\n",
       "    </tr>\n",
       "  </tbody>\n",
       "</table>\n",
       "</div>"
      ],
      "text/plain": [
       "           Model       RMSE  Normalised RMSE\n",
       "0  MARS Degree 1  13.396318         7.483976\n",
       "1  MARS Degree 2  12.309775         6.876969"
      ]
     },
     "execution_count": 62,
     "metadata": {},
     "output_type": "execute_result"
    }
   ],
   "source": [
    "marsResults"
   ]
  },
  {
   "cell_type": "markdown",
   "metadata": {},
   "source": [
    "## MARS Degree 1 (Log Dataset)"
   ]
  },
  {
   "cell_type": "code",
   "execution_count": 63,
   "metadata": {},
   "outputs": [
    {
     "name": "stderr",
     "output_type": "stream",
     "text": [
      "`rcond` parameter will change to the default of machine precision times ``max(M, N)`` where M and N are the input matrix dimensions.\n",
      "To use the future default and silence this warning we advise to pass `rcond=None`, to keep using the old, explicitly pass `rcond=-1`.\n",
      "`rcond` parameter will change to the default of machine precision times ``max(M, N)`` where M and N are the input matrix dimensions.\n",
      "To use the future default and silence this warning we advise to pass `rcond=None`, to keep using the old, explicitly pass `rcond=-1`.\n"
     ]
    },
    {
     "data": {
      "text/plain": [
       "Earth(feature_importance_type='gcv', max_degree=1)"
      ]
     },
     "execution_count": 63,
     "metadata": {},
     "output_type": "execute_result"
    }
   ],
   "source": [
    "#Fit an Earth model\n",
    "random.seed(2022)\n",
    "log_mars1 = Earth(feature_importance_type='gcv', max_degree = 1)\n",
    "log_mars1.fit(log_X_train,log_Y_train)"
   ]
  },
  {
   "cell_type": "code",
   "execution_count": 64,
   "metadata": {},
   "outputs": [
    {
     "name": "stdout",
     "output_type": "stream",
     "text": [
      "Forward Pass\n",
      "---------------------------------------------------------------\n",
      "iter  parent  var  knot  mse       terms  gcv    rsq    grsq   \n",
      "---------------------------------------------------------------\n",
      "0     -       -    -     0.729567  1      0.730  0.000  0.000  \n",
      "1     0       2    -1    0.398597  2      0.399  0.454  0.454  \n",
      "2     0       5    -1    0.370130  3      0.370  0.493  0.493  \n",
      "3     0       16   -1    0.354120  4      0.354  0.515  0.515  \n",
      "4     0       31   -1    0.347013  5      0.347  0.524  0.524  \n",
      "5     0       6    -1    0.345062  6      0.345  0.527  0.527  \n",
      "6     0       22   -1    0.342279  7      0.342  0.531  0.531  \n",
      "7     0       23   -1    0.341652  8      0.342  0.532  0.532  \n",
      "---------------------------------------------------------------\n",
      "Stopping Condition 2: Improvement below threshold\n",
      "\n",
      "Pruning Pass\n",
      "--------------------------------------------\n",
      "iter  bf  terms  mse   gcv    rsq    grsq   \n",
      "--------------------------------------------\n",
      "0     -   8      0.34  0.342  0.532  0.532  \n",
      "1     7   7      0.34  0.342  0.531  0.531  \n",
      "2     6   6      0.35  0.345  0.527  0.527  \n",
      "3     5   5      0.35  0.347  0.524  0.524  \n",
      "4     4   4      0.35  0.354  0.515  0.515  \n",
      "5     3   3      0.37  0.370  0.493  0.493  \n",
      "6     2   2      0.40  0.399  0.454  0.454  \n",
      "7     1   1      0.73  0.730  0.000  0.000  \n",
      "--------------------------------------------\n",
      "Selected iteration: 0\n",
      "\n",
      "Earth Model\n",
      "---------------------------------------------------------------\n",
      "Basis Function                            Pruned  Coefficient  \n",
      "---------------------------------------------------------------\n",
      "(Intercept)                               No      -4.56486     \n",
      "Administrative_Delay                      No      2.79514      \n",
      "Severity_of_Illness                       No      0.147343     \n",
      "APR_Medical_Surgical_Description_Medical  No      0.305183     \n",
      "Patient_Disposition_Skilled Nursing Home  No      0.278822     \n",
      "APR_Risk_of_Mortality                     No      0.0844392    \n",
      "Payment_Typology_1_Medicaid               No      0.087837     \n",
      "Payment_Typology_1_Medicare               No      -0.066778    \n",
      "---------------------------------------------------------------\n",
      "MSE: 0.3417, GCV: 0.3417, RSQ: 0.5317, GRSQ: 0.5316\n"
     ]
    }
   ],
   "source": [
    "#Print the model\n",
    "print(log_mars1.trace())\n",
    "print(log_mars1.summary())"
   ]
  },
  {
   "cell_type": "code",
   "execution_count": 65,
   "metadata": {},
   "outputs": [
    {
     "data": {
      "text/plain": [
       "12.97369588936747"
      ]
     },
     "execution_count": 65,
     "metadata": {},
     "output_type": "execute_result"
    }
   ],
   "source": [
    "rmse_log_mars1 = np.sqrt(log_mars1.mse_)\n",
    "#rmse_log_mars\n",
    "rmse_normalised_log_mars1 = rmse_log_mars1/(log_Y_train.max()-log_Y_train.min())*100\n",
    "rmse_normalised_log_mars1"
   ]
  },
  {
   "cell_type": "code",
   "execution_count": 66,
   "metadata": {},
   "outputs": [
    {
     "name": "stdout",
     "output_type": "stream",
     "text": [
      "Time for prediction: 0.04447793960571289 seconds\n"
     ]
    }
   ],
   "source": [
    "# Predictions on test\n",
    "start_time = time.time()\n",
    "log_Y_prediction1 = log_mars1.predict(log_X_test)\n",
    "print(\"Time for prediction: %s seconds\" % (time.time() - start_time))"
   ]
  },
  {
   "cell_type": "code",
   "execution_count": 67,
   "metadata": {},
   "outputs": [
    {
     "name": "stdout",
     "output_type": "stream",
     "text": [
      "RMSE:  0.5820102033843154\n",
      "Normalised RMSE:  12.918202196731254\n"
     ]
    },
    {
     "data": {
      "text/html": [
       "<div>\n",
       "<style scoped>\n",
       "    .dataframe tbody tr th:only-of-type {\n",
       "        vertical-align: middle;\n",
       "    }\n",
       "\n",
       "    .dataframe tbody tr th {\n",
       "        vertical-align: top;\n",
       "    }\n",
       "\n",
       "    .dataframe thead th {\n",
       "        text-align: right;\n",
       "    }\n",
       "</style>\n",
       "<table border=\"1\" class=\"dataframe\">\n",
       "  <thead>\n",
       "    <tr style=\"text-align: right;\">\n",
       "      <th></th>\n",
       "      <th>Model</th>\n",
       "      <th>RMSE</th>\n",
       "      <th>Normalised RMSE</th>\n",
       "    </tr>\n",
       "  </thead>\n",
       "  <tbody>\n",
       "    <tr>\n",
       "      <th>0</th>\n",
       "      <td>MARS Degree 1</td>\n",
       "      <td>13.396318</td>\n",
       "      <td>7.483976</td>\n",
       "    </tr>\n",
       "    <tr>\n",
       "      <th>1</th>\n",
       "      <td>MARS Degree 2</td>\n",
       "      <td>12.309775</td>\n",
       "      <td>6.876969</td>\n",
       "    </tr>\n",
       "    <tr>\n",
       "      <th>2</th>\n",
       "      <td>Log MARS Degree 1</td>\n",
       "      <td>0.582010</td>\n",
       "      <td>12.918202</td>\n",
       "    </tr>\n",
       "  </tbody>\n",
       "</table>\n",
       "</div>"
      ],
      "text/plain": [
       "               Model       RMSE  Normalised RMSE\n",
       "0      MARS Degree 1  13.396318         7.483976\n",
       "1      MARS Degree 2  12.309775         6.876969\n",
       "2  Log MARS Degree 1   0.582010        12.918202"
      ]
     },
     "execution_count": 67,
     "metadata": {},
     "output_type": "execute_result"
    }
   ],
   "source": [
    "# Test set errors\n",
    "rmse_log_Y_mars_prediction1 = np.sqrt(metrics.mean_squared_error(log_Y_test, log_Y_prediction1))\n",
    "print('RMSE: ', rmse_log_Y_mars_prediction1)\n",
    "\n",
    "# Normalised RMSE\n",
    "rmse_normalised_log_mars_test = np.sqrt(metrics.mean_squared_error(log_Y_test, log_Y_prediction1)) / (max(log_Y_test) - min(log_Y_test)) * 100\n",
    "print('Normalised RMSE: ', rmse_normalised_log_mars_test)\n",
    "\n",
    "marsResults = marsResults.append({'Model': 'Log MARS Degree 1', 'RMSE': rmse_log_Y_mars_prediction1, 'Normalised RMSE': rmse_normalised_log_mars_test}, ignore_index = True)\n",
    "marsResults"
   ]
  },
  {
   "cell_type": "markdown",
   "metadata": {},
   "source": [
    "## MARS Degree 2 (Log Dataset)"
   ]
  },
  {
   "cell_type": "code",
   "execution_count": 68,
   "metadata": {},
   "outputs": [
    {
     "name": "stderr",
     "output_type": "stream",
     "text": [
      "`rcond` parameter will change to the default of machine precision times ``max(M, N)`` where M and N are the input matrix dimensions.\n",
      "To use the future default and silence this warning we advise to pass `rcond=None`, to keep using the old, explicitly pass `rcond=-1`.\n",
      "`rcond` parameter will change to the default of machine precision times ``max(M, N)`` where M and N are the input matrix dimensions.\n",
      "To use the future default and silence this warning we advise to pass `rcond=None`, to keep using the old, explicitly pass `rcond=-1`.\n"
     ]
    },
    {
     "data": {
      "text/plain": [
       "Earth(feature_importance_type='gcv', max_degree=2)"
      ]
     },
     "execution_count": 68,
     "metadata": {},
     "output_type": "execute_result"
    }
   ],
   "source": [
    "#Fit an Earth model\n",
    "random.seed(2022)\n",
    "log_mars2 = Earth(feature_importance_type='gcv', max_degree = 2)\n",
    "log_mars2.fit(log_X_train,log_Y_train)"
   ]
  },
  {
   "cell_type": "code",
   "execution_count": 69,
   "metadata": {},
   "outputs": [
    {
     "name": "stdout",
     "output_type": "stream",
     "text": [
      "Forward Pass\n",
      "---------------------------------------------------------------\n",
      "iter  parent  var  knot  mse       terms  gcv    rsq    grsq   \n",
      "---------------------------------------------------------------\n",
      "0     -       -    -     0.729567  1      0.730  0.000  0.000  \n",
      "1     0       2    -1    0.398597  2      0.399  0.454  0.454  \n",
      "2     1       5    -1    0.363960  3      0.364  0.501  0.501  \n",
      "3     0       5    -1    0.336537  4      0.337  0.539  0.539  \n",
      "4     0       16   -1    0.321842  5      0.322  0.559  0.559  \n",
      "5     1       2    -1    0.310821  6      0.311  0.574  0.574  \n",
      "6     3       16   -1    0.301825  7      0.302  0.586  0.586  \n",
      "7     1       16   -1    0.296449  8      0.296  0.594  0.594  \n",
      "8     0       31   -1    0.290972  9      0.291  0.601  0.601  \n",
      "9     4       6    -1    0.289808  10     0.290  0.603  0.603  \n",
      "10    0       6    -1    0.281615  11     0.282  0.614  0.614  \n",
      "11    10      29   -1    0.280619  12     0.281  0.615  0.615  \n",
      "12    1       22   -1    0.279891  13     0.280  0.616  0.616  \n",
      "---------------------------------------------------------------\n",
      "Stopping Condition 2: Improvement below threshold\n",
      "\n",
      "Pruning Pass\n",
      "--------------------------------------------\n",
      "iter  bf  terms  mse   gcv    rsq    grsq   \n",
      "--------------------------------------------\n",
      "0     -   13     0.28  0.280  0.616  0.616  \n",
      "1     12  12     0.28  0.281  0.615  0.615  \n",
      "2     6   11     0.28  0.282  0.614  0.614  \n",
      "3     11  10     0.28  0.283  0.613  0.613  \n",
      "4     3   9      0.29  0.285  0.609  0.609  \n",
      "5     2   8      0.29  0.288  0.605  0.605  \n",
      "6     8   7      0.29  0.293  0.598  0.598  \n",
      "7     4   6      0.30  0.300  0.589  0.589  \n",
      "8     1   5      0.32  0.316  0.567  0.567  \n",
      "9     9   4      0.34  0.345  0.527  0.527  \n",
      "10    10  3      0.36  0.360  0.507  0.507  \n",
      "11    7   2      0.39  0.386  0.471  0.471  \n",
      "12    5   1      0.73  0.730  0.000  0.000  \n",
      "--------------------------------------------\n",
      "Selected iteration: 0\n",
      "\n",
      "Earth Model\n",
      "---------------------------------------------------------------------------------------------\n",
      "Basis Function                                                          Pruned  Coefficient  \n",
      "---------------------------------------------------------------------------------------------\n",
      "(Intercept)                                                             No      13.264       \n",
      "Administrative_Delay                                                    No      -12.384      \n",
      "Severity_of_Illness*Administrative_Delay                                No      0.424842     \n",
      "Severity_of_Illness                                                     No      -0.672632    \n",
      "APR_Medical_Surgical_Description_Medical                                No      -3.55379     \n",
      "Administrative_Delay*Administrative_Delay                               No      3.15502      \n",
      "APR_Medical_Surgical_Description_Medical*Severity_of_Illness            No      -0.166313    \n",
      "APR_Medical_Surgical_Description_Medical*Administrative_Delay           No      1.91807      \n",
      "Patient_Disposition_Skilled Nursing Home                                No      0.26886      \n",
      "APR_Risk_of_Mortality*APR_Medical_Surgical_Description_Medical          No      -0.307755    \n",
      "APR_Risk_of_Mortality                                                   No      0.252954     \n",
      "Patient_Disposition_Home w/ Home Health Services*APR_Risk_of_Mortality  No      0.0628701    \n",
      "Payment_Typology_1_Medicaid*Administrative_Delay                        No      0.0290302    \n",
      "---------------------------------------------------------------------------------------------\n",
      "MSE: 0.2799, GCV: 0.2800, RSQ: 0.6164, GRSQ: 0.6163\n"
     ]
    }
   ],
   "source": [
    "#Print the model\n",
    "print(log_mars2.trace())\n",
    "print(log_mars2.summary())"
   ]
  },
  {
   "cell_type": "code",
   "execution_count": 70,
   "metadata": {},
   "outputs": [
    {
     "name": "stdout",
     "output_type": "stream",
     "text": [
      "Time for prediction: 0.00033593177795410156 seconds\n"
     ]
    }
   ],
   "source": [
    "# Predictions on test\n",
    "start_time = time.time()\n",
    "rmse_log_mars2 = np.sqrt(log_mars2.mse_)\n",
    "print(\"Time for prediction: %s seconds\" % (time.time() - start_time))"
   ]
  },
  {
   "cell_type": "code",
   "execution_count": 71,
   "metadata": {},
   "outputs": [
    {
     "name": "stdout",
     "output_type": "stream",
     "text": [
      "RMSE:  0.5252140080267542\n",
      "Normalised RMSE:  11.657563239943858\n"
     ]
    },
    {
     "data": {
      "text/html": [
       "<div>\n",
       "<style scoped>\n",
       "    .dataframe tbody tr th:only-of-type {\n",
       "        vertical-align: middle;\n",
       "    }\n",
       "\n",
       "    .dataframe tbody tr th {\n",
       "        vertical-align: top;\n",
       "    }\n",
       "\n",
       "    .dataframe thead th {\n",
       "        text-align: right;\n",
       "    }\n",
       "</style>\n",
       "<table border=\"1\" class=\"dataframe\">\n",
       "  <thead>\n",
       "    <tr style=\"text-align: right;\">\n",
       "      <th></th>\n",
       "      <th>Model</th>\n",
       "      <th>RMSE</th>\n",
       "      <th>Normalised RMSE</th>\n",
       "    </tr>\n",
       "  </thead>\n",
       "  <tbody>\n",
       "    <tr>\n",
       "      <th>0</th>\n",
       "      <td>MARS Degree 1</td>\n",
       "      <td>13.396318</td>\n",
       "      <td>7.483976</td>\n",
       "    </tr>\n",
       "    <tr>\n",
       "      <th>1</th>\n",
       "      <td>MARS Degree 2</td>\n",
       "      <td>12.309775</td>\n",
       "      <td>6.876969</td>\n",
       "    </tr>\n",
       "    <tr>\n",
       "      <th>2</th>\n",
       "      <td>Log MARS Degree 1</td>\n",
       "      <td>0.582010</td>\n",
       "      <td>12.918202</td>\n",
       "    </tr>\n",
       "    <tr>\n",
       "      <th>3</th>\n",
       "      <td>Log MARS Degree 2</td>\n",
       "      <td>0.525214</td>\n",
       "      <td>11.657563</td>\n",
       "    </tr>\n",
       "  </tbody>\n",
       "</table>\n",
       "</div>"
      ],
      "text/plain": [
       "               Model       RMSE  Normalised RMSE\n",
       "0      MARS Degree 1  13.396318         7.483976\n",
       "1      MARS Degree 2  12.309775         6.876969\n",
       "2  Log MARS Degree 1   0.582010        12.918202\n",
       "3  Log MARS Degree 2   0.525214        11.657563"
      ]
     },
     "execution_count": 71,
     "metadata": {},
     "output_type": "execute_result"
    }
   ],
   "source": [
    "#rmse_log_mars\n",
    "rmse_normalised_log_mars2 = rmse_log_mars2/(log_Y_train.max()-log_Y_train.min())*100\n",
    "rmse_normalised_log_mars2\n",
    "\n",
    "# Run on test\n",
    "log_Y_prediction2 = log_mars2.predict(log_X_test)\n",
    "\n",
    "rmse_log_Y_mars_prediction2 = np.sqrt(metrics.mean_squared_error(log_Y_test, log_Y_prediction2))\n",
    "print('RMSE: ', rmse_log_Y_mars_prediction2)\n",
    "\n",
    "# Normalised RMSE\n",
    "rmse_normalised_log_mars_test2 = np.sqrt(metrics.mean_squared_error(log_Y_test, log_Y_prediction2)) / (max(log_Y_test) - min(log_Y_test)) * 100\n",
    "print('Normalised RMSE: ', rmse_normalised_log_mars_test2)\n",
    "\n",
    "marsResults = marsResults.append({'Model': 'Log MARS Degree 2', 'RMSE': rmse_log_Y_mars_prediction2, 'Normalised RMSE': rmse_normalised_log_mars_test2}, ignore_index = True)\n",
    "marsResults"
   ]
  },
  {
   "cell_type": "code",
   "execution_count": 72,
   "metadata": {},
   "outputs": [
    {
     "data": {
      "image/png": "[encoded data removed]",
      "text/plain": [
       "<Figure size 432x288 with 1 Axes>"
      ]
     },
     "metadata": {},
     "output_type": "display_data"
    }
   ],
   "source": [
    "#Plot the model (NON-LOG)\n",
    "\n",
    "sns.set(font_scale=1)  \n",
    "pyplot.figure()\n",
    "pyplot.plot(X_test[0:1000],Y_test[0:1000],'r.')\n",
    "pyplot.plot(X_test[0:1000],Y_prediction2[0:1000],'b.')\n",
    "pyplot.xlabel('Predictors')\n",
    "pyplot.ylabel('Length of Stay')\n",
    "pyplot.title('MARS Degree 2')\n",
    "pyplot.show()"
   ]
  },
  {
   "cell_type": "code",
   "execution_count": 73,
   "metadata": {},
   "outputs": [
    {
     "data": {
      "image/png": "[encoded data removed]",
      "text/plain": [
       "<Figure size 432x288 with 1 Axes>"
      ]
     },
     "metadata": {},
     "output_type": "display_data"
    }
   ],
   "source": [
    "#Plot the model\n",
    "\n",
    "  \n",
    "pyplot.figure()\n",
    "pyplot.plot(log_X_test[0:100],log_Y_test[0:100],'r.')\n",
    "pyplot.plot(log_X_test[0:100], log_Y_prediction2[0:100],'b.')\n",
    "pyplot.xlabel('Predictors')\n",
    "pyplot.ylabel('Length of Stay')\n",
    "pyplot.title('MARS Degree 2 log')\n",
    "pyplot.show()"
   ]
  },
  {
   "cell_type": "markdown",
   "metadata": {},
   "source": [
    "## Variable importance for MARS on degree 2"
   ]
  },
  {
   "cell_type": "code",
   "execution_count": 74,
   "metadata": {},
   "outputs": [
    {
     "data": {
      "text/plain": [
       "'Earth Model\\n-------------------------------------------------------------------------------------\\nBasis Function                                                  Pruned  Coefficient  \\n-------------------------------------------------------------------------------------\\n(Intercept)                                                     No      288.922      \\nAdministrative_Delay                                            No      -271.061     \\nAdministrative_Delay*Administrative_Delay                       No      63.7315      \\nSeverity_of_Illness*Administrative_Delay                        No      9.45217      \\nSeverity_of_Illness                                             No      -20.4108     \\nPatient_Disposition_Skilled Nursing Home*Severity_of_Illness    No      2.04776      \\nPayment_Typology_1_Medicaid*Severity_of_Illness                 No      1.2557       \\nAPR_Medical_Surgical_Description_Medical*Administrative_Delay   No      36.9541      \\nAPR_Medical_Surgical_Description_Medical*Severity_of_Illness    No      -2.33418     \\nSeverity_of_Illness*Severity_of_Illness                         No      2.48579      \\nAPR_Medical_Surgical_Description_Medical                        No      -71.9991     \\nAPR_Risk_of_Mortality*APR_Medical_Surgical_Description_Medical  No      -7.53646     \\nAPR_Risk_of_Mortality                                           No      19.0507      \\nAPR_Risk_of_Mortality*Administrative_Delay                      No      -5.79567     \\nPatient_Disposition_Home or Self Care*APR_Risk_of_Mortality     No      -1.08234     \\nPayment_Typology_1_Medicare*Severity_of_Illness                 No      -1.08598     \\n-------------------------------------------------------------------------------------\\nMSE: 148.8784, GCV: 148.9264, RSQ: 0.3772, GRSQ: 0.3770'"
      ]
     },
     "execution_count": 74,
     "metadata": {},
     "output_type": "execute_result"
    }
   ],
   "source": [
    "mars2.summary()"
   ]
  },
  {
   "cell_type": "code",
   "execution_count": 75,
   "metadata": {},
   "outputs": [
    {
     "data": {
      "text/plain": [
       "['                                                     gcv',\n",
       " 'Administrative_Delay                                 0.66   ',\n",
       " 'APR_Medical_Surgical_Description_Medical             0.15   ',\n",
       " 'APR_Risk_of_Mortality                                0.12   ',\n",
       " 'Severity_of_Illness                                  0.05   ',\n",
       " 'Patient_Disposition_Skilled Nursing Home             0.01   ',\n",
       " 'Payment_Typology_1_Medicare                          0.01   ',\n",
       " 'Patient_Disposition_Home or Self Care                0.00   ',\n",
       " 'Payment_Typology_1_Medicaid                          0.00   ',\n",
       " 'Age                                                  0.00   ',\n",
       " 'Ward_Type_S                                          0.00   ',\n",
       " 'Visitors_with_Patient                                0.00   ',\n",
       " 'Type_of_Admission_Emergency                          0.00   ',\n",
       " 'Type_of_Admission_Trauma                             0.00   ',\n",
       " 'Type_of_Admission_Urgent                             0.00   ',\n",
       " 'Ward_Type_P                                          0.00   ',\n",
       " 'Admission_Deposit                                    0.00   ',\n",
       " 'Ward_Type_Q                                          0.00   ',\n",
       " 'Ward_Type_R                                          0.00   ',\n",
       " 'Ward_Type_U                                          0.00   ',\n",
       " 'Ward_Type_T                                          0.00   ',\n",
       " 'Patient_Disposition_Others                           0.00   ',\n",
       " 'APR_Medical_Surgical_Description_Surgical            0.00   ',\n",
       " 'Payment_Typology_1_Blue Cross/Blue Shield            0.00   ',\n",
       " 'Payment_Typology_1_Department of Corrections         0.00   ',\n",
       " 'Payment_Typology_1_Federal/State/Local/VA            0.00   ',\n",
       " 'Payment_Typology_1_Managed Care, Unspecified         0.00   ',\n",
       " 'Payment_Typology_1_Miscellaneous/Other               0.00   ',\n",
       " 'Payment_Typology_1_Private Health Insurance          0.00   ',\n",
       " 'Payment_Typology_1_Self-Pay                          0.00   ',\n",
       " 'Payment_Typology_1_Unknown                           0.00   ',\n",
       " 'Patient_Disposition_Home w/ Home Health Services     0.00   ',\n",
       " 'Available_Extra_Rooms_in_Hospital                    0.00   ']"
      ]
     },
     "execution_count": 75,
     "metadata": {},
     "output_type": "execute_result"
    }
   ],
   "source": [
    "varImpt = mars2.summary_feature_importances(sort_by='gcv')\n",
    "varImpt = varImpt.splitlines()\n",
    "\n",
    "# varImpt = pd.DataFrame(varImpt)\n",
    "varImpt"
   ]
  },
  {
   "cell_type": "markdown",
   "metadata": {},
   "source": [
    "# Section 6.3: CART"
   ]
  },
  {
   "cell_type": "markdown",
   "metadata": {},
   "source": [
    "## CART Finding Optimal Parameters"
   ]
  },
  {
   "cell_type": "code",
   "execution_count": 76,
   "metadata": {},
   "outputs": [
    {
     "data": {
      "text/plain": [
       "DecisionTreeRegressor(random_state=0)"
      ]
     },
     "execution_count": 76,
     "metadata": {},
     "output_type": "execute_result"
    }
   ],
   "source": [
    "# Training without pruning\n",
    "model1 = DecisionTreeRegressor(random_state=0)\n",
    "model1.fit(X_train, Y_train)"
   ]
  },
  {
   "cell_type": "code",
   "execution_count": 77,
   "metadata": {},
   "outputs": [
    {
     "name": "stdout",
     "output_type": "stream",
     "text": [
      "Time for prediction: 0.07697200775146484 seconds\n"
     ]
    }
   ],
   "source": [
    "# Preediction on test set\n",
    "start_time = time.time()\n",
    "predicted = model1.predict(X_test)\n",
    "print(\"Time for prediction: %s seconds\" % (time.time() - start_time))"
   ]
  },
  {
   "cell_type": "code",
   "execution_count": 78,
   "metadata": {},
   "outputs": [
    {
     "name": "stdout",
     "output_type": "stream",
     "text": [
      "Training Features Shape: (238828, 32)\n",
      "Training Labels Shape: (238828,)\n",
      "Testing Features Shape: (79610, 32)\n",
      "Testing Labels Shape: (79610,)\n"
     ]
    }
   ],
   "source": [
    "print('Training Features Shape:', X_train.shape)\n",
    "print('Training Labels Shape:',  Y_train.shape)\n",
    "print('Testing Features Shape:', X_test.shape)\n",
    "print('Testing Labels Shape:', Y_test.shape)"
   ]
  },
  {
   "cell_type": "code",
   "execution_count": 79,
   "metadata": {},
   "outputs": [],
   "source": [
    "X_tr = X_train.values #transform data frame to array \n",
    "X_tra= X_tr.reshape((X_train.shape[0],-1)) #reshape array so that [[]] are used\n",
    "\n",
    "y_ar = Y_train.values #transform data frame to array "
   ]
  },
  {
   "cell_type": "code",
   "execution_count": 80,
   "metadata": {},
   "outputs": [
    {
     "name": "stdout",
     "output_type": "stream",
     "text": [
      "0.398981144484057 {'max_depth': 7}\n"
     ]
    }
   ],
   "source": [
    "# Testing out pruning\n",
    "parameters = {'max_depth':range(3,20)}\n",
    "regressor1 = GridSearchCV(DecisionTreeRegressor(), parameters, n_jobs=4)\n",
    "regressor1.fit(X=X_tra, y=y_ar)\n",
    "tree_model = regressor1.best_estimator_\n",
    "print (regressor1.best_score_, regressor1.best_params_)"
   ]
  },
  {
   "cell_type": "markdown",
   "metadata": {},
   "source": [
    "## CART Optimal Model (Original dataset)"
   ]
  },
  {
   "cell_type": "code",
   "execution_count": 81,
   "metadata": {},
   "outputs": [],
   "source": [
    "#Optimal Pruning\n",
    "clf_pruned = DecisionTreeRegressor(criterion = 'mse',random_state = 2022, max_depth = regressor1.best_params_['max_depth'])\n",
    "clf_reg = clf_pruned.fit(X_train, Y_train)"
   ]
  },
  {
   "cell_type": "code",
   "execution_count": 82,
   "metadata": {},
   "outputs": [
    {
     "name": "stdout",
     "output_type": "stream",
     "text": [
      "Time for prediction: 0.04991316795349121 seconds\n"
     ]
    }
   ],
   "source": [
    "# Prediction\n",
    "start_time = time.time()\n",
    "clf_predict = clf_reg.predict(X_train)\n",
    "print(\"Time for prediction: %s seconds\" % (time.time() - start_time))"
   ]
  },
  {
   "cell_type": "code",
   "execution_count": 83,
   "metadata": {},
   "outputs": [
    {
     "name": "stdout",
     "output_type": "stream",
     "text": [
      "Train Set Errors\n",
      "Root Mean Squared Error: 11.82817\n",
      "Normalized Root Mean Squared Error: 6.608%\n",
      "\n",
      "Test Set Errors\n",
      "Root Mean Squared Error: 12.12861\n",
      "Normalized Root Mean Squared Error: 6.776%\n"
     ]
    }
   ],
   "source": [
    "#Train RMSE\n",
    "rmse_c1_train = np.sqrt(metrics.mean_squared_error(Y_train, clf_predict))\n",
    "norm_rmse_c1_train = rmse_c1_train/(max(Y_train)-min(Y_train))* 100\n",
    "print(\"Train Set Errors\")\n",
    "print('Root Mean Squared Error:',  round(rmse_c1_train,5))\n",
    "print('Normalized Root Mean Squared Error:',  str(round(norm_rmse_c1_train,3)) + \"%\\n\")\n",
    "\n",
    "#Test RMSE\n",
    "clf_predict_test = clf_reg.predict(X_test)\n",
    "rmse_c1_test = np.sqrt(metrics.mean_squared_error(Y_test, clf_predict_test))\n",
    "norm_rmse_c1_test = rmse_c1_test/(max(Y_test)-min(Y_test))* 100\n",
    "print(\"Test Set Errors\")\n",
    "print('Root Mean Squared Error:',  round(rmse_c1_test,5))\n",
    "print('Normalized Root Mean Squared Error:',  str(round(norm_rmse_c1_test,3)) + \"%\")"
   ]
  },
  {
   "cell_type": "code",
   "execution_count": 84,
   "metadata": {},
   "outputs": [
    {
     "data": {
      "text/html": [
       "<div>\n",
       "<style scoped>\n",
       "    .dataframe tbody tr th:only-of-type {\n",
       "        vertical-align: middle;\n",
       "    }\n",
       "\n",
       "    .dataframe tbody tr th {\n",
       "        vertical-align: top;\n",
       "    }\n",
       "\n",
       "    .dataframe thead th {\n",
       "        text-align: right;\n",
       "    }\n",
       "</style>\n",
       "<table border=\"1\" class=\"dataframe\">\n",
       "  <thead>\n",
       "    <tr style=\"text-align: right;\">\n",
       "      <th></th>\n",
       "      <th>Feature_Importance</th>\n",
       "    </tr>\n",
       "  </thead>\n",
       "  <tbody>\n",
       "    <tr>\n",
       "      <th>Administrative_Delay</th>\n",
       "      <td>0.668621</td>\n",
       "    </tr>\n",
       "    <tr>\n",
       "      <th>Severity_of_Illness</th>\n",
       "      <td>0.119980</td>\n",
       "    </tr>\n",
       "    <tr>\n",
       "      <th>APR_Medical_Surgical_Description_Surgical</th>\n",
       "      <td>0.104354</td>\n",
       "    </tr>\n",
       "    <tr>\n",
       "      <th>APR_Risk_of_Mortality</th>\n",
       "      <td>0.041229</td>\n",
       "    </tr>\n",
       "    <tr>\n",
       "      <th>APR_Medical_Surgical_Description_Medical</th>\n",
       "      <td>0.016504</td>\n",
       "    </tr>\n",
       "    <tr>\n",
       "      <th>Patient_Disposition_Home or Self Care</th>\n",
       "      <td>0.010561</td>\n",
       "    </tr>\n",
       "    <tr>\n",
       "      <th>Patient_Disposition_Skilled Nursing Home</th>\n",
       "      <td>0.008066</td>\n",
       "    </tr>\n",
       "    <tr>\n",
       "      <th>Payment_Typology_1_Medicare</th>\n",
       "      <td>0.007202</td>\n",
       "    </tr>\n",
       "    <tr>\n",
       "      <th>Patient_Disposition_Home w/ Home Health Services</th>\n",
       "      <td>0.006695</td>\n",
       "    </tr>\n",
       "    <tr>\n",
       "      <th>Payment_Typology_1_Medicaid</th>\n",
       "      <td>0.006291</td>\n",
       "    </tr>\n",
       "  </tbody>\n",
       "</table>\n",
       "</div>"
      ],
      "text/plain": [
       "                                                  Feature_Importance\n",
       "Administrative_Delay                                        0.668621\n",
       "Severity_of_Illness                                         0.119980\n",
       "APR_Medical_Surgical_Description_Surgical                   0.104354\n",
       "APR_Risk_of_Mortality                                       0.041229\n",
       "APR_Medical_Surgical_Description_Medical                    0.016504\n",
       "Patient_Disposition_Home or Self Care                       0.010561\n",
       "Patient_Disposition_Skilled Nursing Home                    0.008066\n",
       "Payment_Typology_1_Medicare                                 0.007202\n",
       "Patient_Disposition_Home w/ Home Health Services            0.006695\n",
       "Payment_Typology_1_Medicaid                                 0.006291"
      ]
     },
     "execution_count": 84,
     "metadata": {},
     "output_type": "execute_result"
    }
   ],
   "source": [
    "#clf_reg.feature_importances_\n",
    "feat_imp_dict = dict(zip(X_train.columns, clf_reg.feature_importances_))\n",
    "feat_imp = pd.DataFrame.from_dict(feat_imp_dict, orient='index')\n",
    "feat_imp.rename(columns = {0:'Feature_Importance'}, inplace = True)\n",
    "feat_imp.sort_values(by=['Feature_Importance'], ascending=False).head(10)"
   ]
  },
  {
   "cell_type": "markdown",
   "metadata": {},
   "source": [
    "## CART Optimal Model (Log dataset)"
   ]
  },
  {
   "cell_type": "code",
   "execution_count": 85,
   "metadata": {},
   "outputs": [
    {
     "data": {
      "text/plain": [
       "DecisionTreeRegressor(random_state=0)"
      ]
     },
     "execution_count": 85,
     "metadata": {},
     "output_type": "execute_result"
    }
   ],
   "source": [
    "# Training with pruning\n",
    "model2 = DecisionTreeRegressor(random_state=0)\n",
    "model2.fit(log_X_train, log_Y_train)"
   ]
  },
  {
   "cell_type": "code",
   "execution_count": 86,
   "metadata": {},
   "outputs": [
    {
     "name": "stdout",
     "output_type": "stream",
     "text": [
      "Time for prediction: 0.08061385154724121 seconds\n"
     ]
    }
   ],
   "source": [
    "# Prediction on test\n",
    "start_time = time.time()\n",
    "predicted2 = model2.predict(log_X_test)\n",
    "print(\"Time for prediction: %s seconds\" % (time.time() - start_time))"
   ]
  },
  {
   "cell_type": "code",
   "execution_count": 87,
   "metadata": {},
   "outputs": [],
   "source": [
    "X_tr_log = log_X_train.values #transform data frame to array \n",
    "X_tra_log=X_tr_log.reshape((log_X_train.shape[0],-1)) #reshape array so that [[]] are used\n",
    "\n",
    "y_ar_log = log_Y_train.values #transform data frame to array "
   ]
  },
  {
   "cell_type": "code",
   "execution_count": 88,
   "metadata": {},
   "outputs": [
    {
     "name": "stdout",
     "output_type": "stream",
     "text": [
      "0.6294265601263692 {'max_depth': 9}\n"
     ]
    }
   ],
   "source": [
    "# Hyperparameter tuning to find out prune depth\n",
    "parameters = {'max_depth':range(3,20)}\n",
    "regressor2 = GridSearchCV(DecisionTreeRegressor(), parameters, n_jobs=4)\n",
    "regressor2.fit(X=X_tra_log, y=y_ar_log)\n",
    "tree_model = regressor2.best_estimator_\n",
    "print (regressor2.best_score_, regressor2.best_params_)"
   ]
  },
  {
   "cell_type": "code",
   "execution_count": 89,
   "metadata": {},
   "outputs": [],
   "source": [
    "#Optimal Pruning\n",
    "clf_pruned_log = DecisionTreeRegressor(criterion = 'mse',random_state = 2022, max_depth = regressor2.best_params_['max_depth'])\n",
    "clf_reg_log = clf_pruned_log.fit(log_X_train, log_Y_train)"
   ]
  },
  {
   "cell_type": "code",
   "execution_count": 90,
   "metadata": {},
   "outputs": [
    {
     "name": "stdout",
     "output_type": "stream",
     "text": [
      "Time for prediction: 0.05405902862548828 seconds\n"
     ]
    }
   ],
   "source": [
    "start_time = time.time()\n",
    "clf_predict2 = clf_reg_log.predict(X_train)\n",
    "print(\"Time for prediction: %s seconds\" % (time.time() - start_time))"
   ]
  },
  {
   "cell_type": "code",
   "execution_count": 91,
   "metadata": {},
   "outputs": [
    {
     "name": "stdout",
     "output_type": "stream",
     "text": [
      "Train Set Errors\n",
      "Root Mean Squared Error: 0.55191\n",
      "Normalized Root Mean Squared Error: 12.25%\n",
      "\n",
      "Test Set Errors\n",
      "Root Mean Squared Error: 0.55157\n",
      "Normalized Root Mean Squared Error: 12.243%\n"
     ]
    }
   ],
   "source": [
    "#Train RMSE\n",
    "rmse_c2_train = np.sqrt(metrics.mean_squared_error(log_Y_train, clf_predict2))\n",
    "norm_rmse_c2_train = rmse_c2_train/(max(log_Y_train)-min(log_Y_train))* 100\n",
    "print(\"Train Set Errors\")\n",
    "print('Root Mean Squared Error:', round(rmse_c2_train,5))\n",
    "print('Normalized Root Mean Squared Error:',  str(round(norm_rmse_c2_train,3)) + \"%\\n\")\n",
    "\n",
    "#Test RMSE - rmse as a percentage\n",
    "clf_predict_test2 = clf_reg_log.predict(X_test)\n",
    "rmse_c2_test = np.sqrt(metrics.mean_squared_error(log_Y_test, clf_predict_test2))\n",
    "norm_rmse_c2_test = rmse_c2_test/(max(log_Y_test)-min(log_Y_test))* 100\n",
    "print(\"Test Set Errors\")\n",
    "print('Root Mean Squared Error:',  round(rmse_c2_test,5))\n",
    "print('Normalized Root Mean Squared Error:',  str(round(norm_rmse_c2_test,3)) + \"%\")"
   ]
  },
  {
   "cell_type": "markdown",
   "metadata": {},
   "source": [
    "# Section 6.4: Random Forest"
   ]
  },
  {
   "cell_type": "markdown",
   "metadata": {},
   "source": [
    "## Random Forest Testing between log and non log"
   ]
  },
  {
   "cell_type": "code",
   "execution_count": 92,
   "metadata": {},
   "outputs": [
    {
     "data": {
      "text/plain": [
       "RandomForestRegressor(max_features=20, max_samples=2500, n_estimators=2000,\n",
       "                      random_state=2022)"
      ]
     },
     "execution_count": 92,
     "metadata": {},
     "output_type": "execute_result"
    }
   ],
   "source": [
    "# Instantiate model with 500 decision trees\n",
    "rf = RandomForestRegressor(n_estimators = 2000, max_samples = 2500, max_features = 20, random_state = 2022)\n",
    "\n",
    "# Train the model on training data\n",
    "rf.fit(X_train, Y_train)"
   ]
  },
  {
   "cell_type": "code",
   "execution_count": 93,
   "metadata": {},
   "outputs": [],
   "source": [
    "# Use the forest's predict method on the test data\n",
    "predictions = rf.predict(X_test)"
   ]
  },
  {
   "cell_type": "code",
   "execution_count": 94,
   "metadata": {},
   "outputs": [
    {
     "name": "stdout",
     "output_type": "stream",
     "text": [
      "Mean Absolute Error: 5.257595955281999\n",
      "Mean Squared Error: 147.60045509090565\n",
      "Root Mean Squared Error: 12.14909276822371\n",
      "R-Squared Error:\n"
     ]
    },
    {
     "data": {
      "text/plain": [
       "(None, 0.3923351342843252)"
      ]
     },
     "execution_count": 94,
     "metadata": {},
     "output_type": "execute_result"
    }
   ],
   "source": [
    "# Checking of test_set errors\n",
    "print('Mean Absolute Error:', metrics.mean_absolute_error(Y_test, predictions))  \n",
    "print('Mean Squared Error:', metrics.mean_squared_error(Y_test, predictions))  \n",
    "print('Root Mean Squared Error:', np.sqrt(metrics.mean_squared_error(Y_test, predictions)))\n",
    "print('R-Squared Error:'), r2_score(Y_test, predictions)"
   ]
  },
  {
   "cell_type": "code",
   "execution_count": 95,
   "metadata": {},
   "outputs": [
    {
     "data": {
      "text/plain": [
       "6.787202663812128"
      ]
     },
     "execution_count": 95,
     "metadata": {},
     "output_type": "execute_result"
    }
   ],
   "source": [
    "# Normalised RMSE\n",
    "np.sqrt(metrics.mean_squared_error(Y_test, predictions)) / (max(Y_test) - min(Y_test)) * 100"
   ]
  },
  {
   "cell_type": "code",
   "execution_count": 96,
   "metadata": {},
   "outputs": [
    {
     "data": {
      "text/plain": [
       "RandomForestRegressor(max_features=20, max_samples=2500, n_estimators=2000,\n",
       "                      random_state=2022)"
      ]
     },
     "execution_count": 96,
     "metadata": {},
     "output_type": "execute_result"
    }
   ],
   "source": [
    "# Running for log\n",
    "# Instantiate model with 500 decision trees\n",
    "rf_log = RandomForestRegressor(n_estimators = 2000, max_samples = 2500, max_features = 20, random_state = 2022)\n",
    "\n",
    "# Train the model on training data\n",
    "rf_log.fit(log_X_train, log_Y_train)"
   ]
  },
  {
   "cell_type": "code",
   "execution_count": 97,
   "metadata": {},
   "outputs": [],
   "source": [
    "# Use the forest's predict method on the test data, log\n",
    "predictions_log = rf_log.predict(log_X_test)"
   ]
  },
  {
   "cell_type": "code",
   "execution_count": 98,
   "metadata": {},
   "outputs": [
    {
     "name": "stdout",
     "output_type": "stream",
     "text": [
      "Mean Absolute Error: 0.3845568867410254\n",
      "Mean Squared Error: 0.2629884758150258\n",
      "Root Mean Squared Error: 0.5128240203179116\n"
     ]
    }
   ],
   "source": [
    "# Checking of test_set, log errors\n",
    "print('Mean Absolute Error:', metrics.mean_absolute_error(log_Y_test, predictions_log))  \n",
    "print('Mean Squared Error:', metrics.mean_squared_error(log_Y_test, predictions_log))  \n",
    "print('Root Mean Squared Error:', np.sqrt(metrics.mean_squared_error(log_Y_test, predictions_log)))"
   ]
  },
  {
   "cell_type": "code",
   "execution_count": 99,
   "metadata": {},
   "outputs": [
    {
     "data": {
      "text/plain": [
       "11.382557122341218"
      ]
     },
     "execution_count": 99,
     "metadata": {},
     "output_type": "execute_result"
    }
   ],
   "source": [
    "# Normalised RMSE\n",
    "np.sqrt(metrics.mean_squared_error(log_Y_test, predictions_log)) / (max(log_Y_test) - min(log_Y_test)) * 100"
   ]
  },
  {
   "cell_type": "markdown",
   "metadata": {},
   "source": [
    "## Random Forest Finding Optimal Parameters"
   ]
  },
  {
   "cell_type": "code",
   "execution_count": 46,
   "metadata": {},
   "outputs": [
    {
     "name": "stdout",
     "output_type": "stream",
     "text": [
      "Wall time: 12h 57min 39s\n"
     ]
    },
    {
     "data": {
      "text/plain": [
       "GridSearchCV(cv=10, estimator=RandomForestRegressor(random_state=2022),\n",
       "             param_grid=[{'max_features': [10, 15, 20, 30],\n",
       "                          'max_samples': [500, 1000, 2000, 3000],\n",
       "                          'n_estimators': [500, 1000, 1500, 2000, 2500]}],\n",
       "             return_train_score=True, scoring='neg_mean_squared_error')"
      ]
     },
     "execution_count": 46,
     "metadata": {},
     "output_type": "execute_result"
    }
   ],
   "source": [
    "%%time\n",
    "param_grid = [\n",
    "    # combinations of hyperparameters\n",
    "    {'n_estimators': [500, 1000, 1500, 2000, 2500], \n",
    "     'max_features': [10, 15, 20, 30], \n",
    "     'max_samples': [500,1000,2000,3000]\n",
    "     }, \n",
    "  ]\n",
    "\n",
    "rf = RandomForestRegressor(random_state = 2022)\n",
    "\n",
    "# train across 5 folds, that's a total of (12+6)*5=90 rounds of training \n",
    "grid_search_RandomForest = GridSearchCV(rf, param_grid, cv=10, # 5\n",
    "                           scoring='neg_mean_squared_error',\n",
    "                           return_train_score=True)\n",
    "\n",
    "grid_search_RandomForest.fit(X_train, Y_train)"
   ]
  },
  {
   "cell_type": "code",
   "execution_count": 47,
   "metadata": {},
   "outputs": [
    {
     "data": {
      "text/plain": [
       "{'max_features': 10, 'max_samples': 3000, 'n_estimators': 2500}"
      ]
     },
     "execution_count": 47,
     "metadata": {},
     "output_type": "execute_result"
    }
   ],
   "source": [
    "grid_search_RandomForest.best_params_"
   ]
  },
  {
   "cell_type": "code",
   "execution_count": 48,
   "metadata": {},
   "outputs": [
    {
     "data": {
      "text/plain": [
       "RandomForestRegressor(max_features=10, max_samples=3000, n_estimators=2500,\n",
       "                      random_state=2022)"
      ]
     },
     "execution_count": 48,
     "metadata": {},
     "output_type": "execute_result"
    }
   ],
   "source": [
    "grid_search_RandomForest.best_estimator_"
   ]
  },
  {
   "cell_type": "code",
   "execution_count": 49,
   "metadata": {},
   "outputs": [
    {
     "name": "stdout",
     "output_type": "stream",
     "text": [
      "12.181347318078746 {'max_features': 10, 'max_samples': 500, 'n_estimators': 500}\n",
      "12.179677190041271 {'max_features': 10, 'max_samples': 500, 'n_estimators': 1000}\n",
      "12.179036675451517 {'max_features': 10, 'max_samples': 500, 'n_estimators': 1500}\n",
      "12.176960963309135 {'max_features': 10, 'max_samples': 500, 'n_estimators': 2000}\n",
      "12.177580961371872 {'max_features': 10, 'max_samples': 500, 'n_estimators': 2500}\n",
      "12.070266357350768 {'max_features': 10, 'max_samples': 1000, 'n_estimators': 500}\n",
      "12.060618360449569 {'max_features': 10, 'max_samples': 1000, 'n_estimators': 1000}\n",
      "12.05863071164728 {'max_features': 10, 'max_samples': 1000, 'n_estimators': 1500}\n",
      "12.057479934225919 {'max_features': 10, 'max_samples': 1000, 'n_estimators': 2000}\n",
      "12.057374374079426 {'max_features': 10, 'max_samples': 1000, 'n_estimators': 2500}\n",
      "11.986423212029276 {'max_features': 10, 'max_samples': 2000, 'n_estimators': 500}\n",
      "11.978203895436554 {'max_features': 10, 'max_samples': 2000, 'n_estimators': 1000}\n",
      "11.976391957587309 {'max_features': 10, 'max_samples': 2000, 'n_estimators': 1500}\n",
      "11.974329714024426 {'max_features': 10, 'max_samples': 2000, 'n_estimators': 2000}\n",
      "11.972693714058606 {'max_features': 10, 'max_samples': 2000, 'n_estimators': 2500}\n",
      "11.946197928148164 {'max_features': 10, 'max_samples': 3000, 'n_estimators': 500}\n",
      "11.937843849617947 {'max_features': 10, 'max_samples': 3000, 'n_estimators': 1000}\n",
      "11.936993842392015 {'max_features': 10, 'max_samples': 3000, 'n_estimators': 1500}\n",
      "11.93792649666989 {'max_features': 10, 'max_samples': 3000, 'n_estimators': 2000}\n",
      "11.936590871232461 {'max_features': 10, 'max_samples': 3000, 'n_estimators': 2500}\n",
      "12.176839002588402 {'max_features': 15, 'max_samples': 500, 'n_estimators': 500}\n",
      "12.15786582751389 {'max_features': 15, 'max_samples': 500, 'n_estimators': 1000}\n",
      "12.1575501990393 {'max_features': 15, 'max_samples': 500, 'n_estimators': 1500}\n",
      "12.159341355687582 {'max_features': 15, 'max_samples': 500, 'n_estimators': 2000}\n",
      "12.157157921638087 {'max_features': 15, 'max_samples': 500, 'n_estimators': 2500}\n",
      "12.065948285436626 {'max_features': 15, 'max_samples': 1000, 'n_estimators': 500}\n",
      "12.053557534708595 {'max_features': 15, 'max_samples': 1000, 'n_estimators': 1000}\n",
      "12.051765333450282 {'max_features': 15, 'max_samples': 1000, 'n_estimators': 1500}\n",
      "12.050451647216663 {'max_features': 15, 'max_samples': 1000, 'n_estimators': 2000}\n",
      "12.048410051760097 {'max_features': 15, 'max_samples': 1000, 'n_estimators': 2500}\n",
      "11.988860301393757 {'max_features': 15, 'max_samples': 2000, 'n_estimators': 500}\n",
      "11.98170890642257 {'max_features': 15, 'max_samples': 2000, 'n_estimators': 1000}\n",
      "11.978097755030047 {'max_features': 15, 'max_samples': 2000, 'n_estimators': 1500}\n",
      "11.978122668664993 {'max_features': 15, 'max_samples': 2000, 'n_estimators': 2000}\n",
      "11.976542224776217 {'max_features': 15, 'max_samples': 2000, 'n_estimators': 2500}\n",
      "11.9697148492813 {'max_features': 15, 'max_samples': 3000, 'n_estimators': 500}\n",
      "11.956148043892584 {'max_features': 15, 'max_samples': 3000, 'n_estimators': 1000}\n",
      "11.953475443963894 {'max_features': 15, 'max_samples': 3000, 'n_estimators': 1500}\n",
      "11.952279910187292 {'max_features': 15, 'max_samples': 3000, 'n_estimators': 2000}\n",
      "11.950247734078678 {'max_features': 15, 'max_samples': 3000, 'n_estimators': 2500}\n",
      "12.197603884084819 {'max_features': 20, 'max_samples': 500, 'n_estimators': 500}\n",
      "12.180838968811518 {'max_features': 20, 'max_samples': 500, 'n_estimators': 1000}\n",
      "12.181220561165294 {'max_features': 20, 'max_samples': 500, 'n_estimators': 1500}\n",
      "12.184301198872403 {'max_features': 20, 'max_samples': 500, 'n_estimators': 2000}\n",
      "12.181329118213334 {'max_features': 20, 'max_samples': 500, 'n_estimators': 2500}\n",
      "12.080659613998954 {'max_features': 20, 'max_samples': 1000, 'n_estimators': 500}\n",
      "12.072539729444914 {'max_features': 20, 'max_samples': 1000, 'n_estimators': 1000}\n",
      "12.072318046115313 {'max_features': 20, 'max_samples': 1000, 'n_estimators': 1500}\n",
      "12.071545924081581 {'max_features': 20, 'max_samples': 1000, 'n_estimators': 2000}\n",
      "12.06847833191495 {'max_features': 20, 'max_samples': 1000, 'n_estimators': 2500}\n",
      "12.016726941391076 {'max_features': 20, 'max_samples': 2000, 'n_estimators': 500}\n",
      "12.00398668680313 {'max_features': 20, 'max_samples': 2000, 'n_estimators': 1000}\n",
      "12.002333376962047 {'max_features': 20, 'max_samples': 2000, 'n_estimators': 1500}\n",
      "12.001009936281566 {'max_features': 20, 'max_samples': 2000, 'n_estimators': 2000}\n",
      "11.998752829621584 {'max_features': 20, 'max_samples': 2000, 'n_estimators': 2500}\n",
      "11.99167214985175 {'max_features': 20, 'max_samples': 3000, 'n_estimators': 500}\n",
      "11.97895539457603 {'max_features': 20, 'max_samples': 3000, 'n_estimators': 1000}\n",
      "11.977602882383152 {'max_features': 20, 'max_samples': 3000, 'n_estimators': 1500}\n",
      "11.97511477376467 {'max_features': 20, 'max_samples': 3000, 'n_estimators': 2000}\n",
      "11.974278628592398 {'max_features': 20, 'max_samples': 3000, 'n_estimators': 2500}\n",
      "12.281138000694726 {'max_features': 30, 'max_samples': 500, 'n_estimators': 500}\n",
      "12.261336143623453 {'max_features': 30, 'max_samples': 500, 'n_estimators': 1000}\n",
      "12.270585209855525 {'max_features': 30, 'max_samples': 500, 'n_estimators': 1500}\n",
      "12.271726820171835 {'max_features': 30, 'max_samples': 500, 'n_estimators': 2000}\n",
      "12.2679254048293 {'max_features': 30, 'max_samples': 500, 'n_estimators': 2500}\n",
      "12.154151491431369 {'max_features': 30, 'max_samples': 1000, 'n_estimators': 500}\n",
      "12.141719945169033 {'max_features': 30, 'max_samples': 1000, 'n_estimators': 1000}\n",
      "12.139170764198203 {'max_features': 30, 'max_samples': 1000, 'n_estimators': 1500}\n",
      "12.135188589723416 {'max_features': 30, 'max_samples': 1000, 'n_estimators': 2000}\n",
      "12.131536574237852 {'max_features': 30, 'max_samples': 1000, 'n_estimators': 2500}\n",
      "12.074191929582923 {'max_features': 30, 'max_samples': 2000, 'n_estimators': 500}\n",
      "12.061911136798567 {'max_features': 30, 'max_samples': 2000, 'n_estimators': 1000}\n",
      "12.056836561559166 {'max_features': 30, 'max_samples': 2000, 'n_estimators': 1500}\n",
      "12.055225982681847 {'max_features': 30, 'max_samples': 2000, 'n_estimators': 2000}\n",
      "12.051508331562692 {'max_features': 30, 'max_samples': 2000, 'n_estimators': 2500}\n",
      "12.036587308420474 {'max_features': 30, 'max_samples': 3000, 'n_estimators': 500}\n",
      "12.02481992679019 {'max_features': 30, 'max_samples': 3000, 'n_estimators': 1000}\n",
      "12.02299715183862 {'max_features': 30, 'max_samples': 3000, 'n_estimators': 1500}\n",
      "12.022382565731126 {'max_features': 30, 'max_samples': 3000, 'n_estimators': 2000}\n",
      "12.021370987309737 {'max_features': 30, 'max_samples': 3000, 'n_estimators': 2500}\n"
     ]
    }
   ],
   "source": [
    "cvres = grid_search_RandomForest.cv_results_\n",
    "for mean_score, params in zip(cvres[\"mean_test_score\"], cvres[\"params\"]):\n",
    "    print(np.sqrt(-mean_score), params)"
   ]
  },
  {
   "cell_type": "code",
   "execution_count": 50,
   "metadata": {},
   "outputs": [],
   "source": [
    "grid_Search_results = pd.DataFrame(grid_search_RandomForest.cv_results_)"
   ]
  },
  {
   "cell_type": "code",
   "execution_count": 51,
   "metadata": {},
   "outputs": [],
   "source": [
    "grid_Search_results.to_csv(f'{path}/gridSearchResults.csv')"
   ]
  },
  {
   "cell_type": "code",
   "execution_count": 52,
   "metadata": {},
   "outputs": [],
   "source": [
    "# Using tuned Random Forest model to fit and test\n",
    "final_model_RandomForest = grid_search_RandomForest.best_estimator_\n",
    "#final_model_RandomForest = RandomForestRegressor(n_estimators = 2500, max_samples = 3000, max_features = 10, random_state = 2022)\n",
    "#final_model_RandomForest.fit(X_train, Y_train)"
   ]
  },
  {
   "cell_type": "markdown",
   "metadata": {},
   "source": [
    "##  Random Forest using Original Dataset"
   ]
  },
  {
   "cell_type": "code",
   "execution_count": 100,
   "metadata": {},
   "outputs": [
    {
     "data": {
      "text/plain": [
       "RandomForestRegressor(max_features=10, max_samples=3000, n_estimators=2500,\n",
       "                      random_state=2022)"
      ]
     },
     "execution_count": 100,
     "metadata": {},
     "output_type": "execute_result"
    }
   ],
   "source": [
    "# Optional: to run the optimal RF Model\n",
    "final_model_RandomForest = RandomForestRegressor(n_estimators = 2500, max_samples = 3000, max_features = 10, random_state = 2022)\n",
    "final_model_RandomForest.fit(X_train, Y_train)"
   ]
  },
  {
   "cell_type": "code",
   "execution_count": 101,
   "metadata": {},
   "outputs": [
    {
     "name": "stdout",
     "output_type": "stream",
     "text": [
      "Time for prediction: 35.6861047744751 seconds\n"
     ]
    }
   ],
   "source": [
    "start_time = time.time()\n",
    "final_test_RandomForest_pred = final_model_RandomForest.predict(X_test) #(test set)\n",
    "print(\"Time for prediction: %s seconds\" % (time.time() - start_time))"
   ]
  },
  {
   "cell_type": "code",
   "execution_count": 102,
   "metadata": {},
   "outputs": [
    {
     "name": "stdout",
     "output_type": "stream",
     "text": [
      "Mean Absolute Error: 5.18493756563246\n",
      "Mean Squared Error: 146.27644788638818\n",
      "Root Mean Squared Error: 12.094480058538613\n"
     ]
    }
   ],
   "source": [
    "# Checking of test_set, log errors\n",
    "print('Mean Absolute Error:', metrics.mean_absolute_error(Y_test, final_test_RandomForest_pred))  \n",
    "print('Mean Squared Error:', metrics.mean_squared_error(Y_test, final_test_RandomForest_pred))  \n",
    "print('Root Mean Squared Error:', np.sqrt(metrics.mean_squared_error(Y_test, final_test_RandomForest_pred)))"
   ]
  },
  {
   "cell_type": "code",
   "execution_count": 103,
   "metadata": {},
   "outputs": [
    {
     "data": {
      "text/plain": [
       "6.756692770133303"
      ]
     },
     "execution_count": 103,
     "metadata": {},
     "output_type": "execute_result"
    }
   ],
   "source": [
    "# Normalised RMSE\n",
    "np.sqrt(metrics.mean_squared_error(Y_test, final_test_RandomForest_pred)) / (max(Y_test) - min(Y_test)) * 100"
   ]
  },
  {
   "cell_type": "markdown",
   "metadata": {},
   "source": [
    "##  Random Forest using Log Dataset"
   ]
  },
  {
   "cell_type": "code",
   "execution_count": 104,
   "metadata": {},
   "outputs": [
    {
     "data": {
      "text/plain": [
       "RandomForestRegressor(max_features=10, max_samples=3000, n_estimators=2500,\n",
       "                      random_state=2022)"
      ]
     },
     "execution_count": 104,
     "metadata": {},
     "output_type": "execute_result"
    }
   ],
   "source": [
    "# For log variables, view if trend same (log is worst)\n",
    "# Running for log\n",
    "# Instantiate model with 500 decision trees\n",
    "rf_log = RandomForestRegressor(n_estimators = 2500, max_samples = 3000, max_features = 10, random_state = 2022)\n",
    "\n",
    "# Train the model on training data\n",
    "rf_log.fit(log_X_train, log_Y_train)"
   ]
  },
  {
   "cell_type": "code",
   "execution_count": 105,
   "metadata": {},
   "outputs": [
    {
     "name": "stdout",
     "output_type": "stream",
     "text": [
      "Time for prediction: 39.244492053985596 seconds\n"
     ]
    }
   ],
   "source": [
    "# Use the forest's predict method on the test data, log\n",
    "start_time = time.time()\n",
    "predictions_log = rf_log.predict(log_X_test)\n",
    "print(\"Time for prediction: %s seconds\" % (time.time() - start_time))"
   ]
  },
  {
   "cell_type": "code",
   "execution_count": 106,
   "metadata": {},
   "outputs": [
    {
     "name": "stdout",
     "output_type": "stream",
     "text": [
      "Mean Absolute Error: 0.3844283206694972\n",
      "Mean Squared Error: 0.2627345220056909\n",
      "Root Mean Squared Error: 0.5125763572441582\n"
     ]
    }
   ],
   "source": [
    "# Checking of test_set, log errors\n",
    "print('Mean Absolute Error:', metrics.mean_absolute_error(log_Y_test, predictions_log))  \n",
    "print('Mean Squared Error:', metrics.mean_squared_error(log_Y_test, predictions_log))  \n",
    "print('Root Mean Squared Error:', np.sqrt(metrics.mean_squared_error(log_Y_test, predictions_log)))"
   ]
  },
  {
   "cell_type": "code",
   "execution_count": 107,
   "metadata": {},
   "outputs": [
    {
     "data": {
      "text/plain": [
       "11.377060033725233"
      ]
     },
     "execution_count": 107,
     "metadata": {},
     "output_type": "execute_result"
    }
   ],
   "source": [
    "# Normalised RMSE\n",
    "np.sqrt(metrics.mean_squared_error(log_Y_test, predictions_log)) / (max(log_Y_test) - min(log_Y_test)) * 100"
   ]
  },
  {
   "cell_type": "markdown",
   "metadata": {},
   "source": [
    "## Random Forest Variable Importance"
   ]
  },
  {
   "cell_type": "code",
   "execution_count": 108,
   "metadata": {},
   "outputs": [
    {
     "data": {
      "text/plain": [
       "RandomForestRegressor(max_features=10, max_samples=3000, n_estimators=2500,\n",
       "                      random_state=2022)"
      ]
     },
     "execution_count": 108,
     "metadata": {},
     "output_type": "execute_result"
    }
   ],
   "source": [
    "# Instantiate model with 2500 decision trees\n",
    "final_model_RandomForest = RandomForestRegressor(n_estimators = 2500, max_samples = 3000, max_features = 10, random_state = 2022)\n",
    "\n",
    "# Train the model on training data\n",
    "final_model_RandomForest.fit(X_train, Y_train)"
   ]
  },
  {
   "cell_type": "code",
   "execution_count": 109,
   "metadata": {},
   "outputs": [
    {
     "data": {
      "text/plain": [
       "<BarContainer object of 15 artists>"
      ]
     },
     "execution_count": 109,
     "metadata": {},
     "output_type": "execute_result"
    },
    {
     "data": {
      "image/png": "[encoded data removed]",
      "text/plain": [
       "<Figure size 432x288 with 1 Axes>"
      ]
     },
     "metadata": {},
     "output_type": "display_data"
    }
   ],
   "source": [
    "# Basic but inaccurate\n",
    "final_model_RandomForest.feature_importances_\n",
    "plt.barh(X_train.columns[0:15], final_model_RandomForest.feature_importances_[0:15])"
   ]
  },
  {
   "cell_type": "code",
   "execution_count": 110,
   "metadata": {},
   "outputs": [
    {
     "data": {
      "text/plain": [
       "array([4.02839546e-02, 1.13992201e-01, 2.81012880e-01, 4.32471789e-02,\n",
       "       1.00172560e-01, 8.33130802e-02, 6.38274278e-02, 1.48947072e-02,\n",
       "       1.52939611e-02, 1.15575041e-02, 3.01522610e-03, 1.46180425e-02,\n",
       "       1.51972276e-02, 1.32816176e-02, 1.67576184e-03, 2.71012357e-05,\n",
       "       2.80767108e-02, 2.82883796e-02, 9.22119207e-03, 2.15041275e-03,\n",
       "       1.30903256e-03, 1.03514798e-03, 1.86547141e-02, 1.49788342e-02,\n",
       "       4.46056260e-03, 9.59805650e-03, 3.09473918e-03, 1.26307122e-03,\n",
       "       2.07657551e-02, 1.05358227e-02, 1.45604926e-02, 1.65966439e-02])"
      ]
     },
     "execution_count": 110,
     "metadata": {},
     "output_type": "execute_result"
    }
   ],
   "source": [
    "final_model_RandomForest.feature_importances_"
   ]
  },
  {
   "cell_type": "code",
   "execution_count": 111,
   "metadata": {},
   "outputs": [
    {
     "data": {
      "text/plain": [
       "Text(0.5, 0, 'Random Forest Feature Importance')"
      ]
     },
     "execution_count": 111,
     "metadata": {},
     "output_type": "execute_result"
    },
    {
     "data": {
      "image/png": "[encoded data removed]",
      "text/plain": [
       "<Figure size 432x288 with 1 Axes>"
      ]
     },
     "metadata": {},
     "output_type": "display_data"
    }
   ],
   "source": [
    "sorted_idx = (-final_model_RandomForest.feature_importances_).argsort()\n",
    "plt.barh(X_train.columns[sorted_idx][0:15], final_model_RandomForest.feature_importances_[sorted_idx][0:15])\n",
    "plt.xlabel(\"Random Forest Feature Importance\")"
   ]
  },
  {
   "cell_type": "markdown",
   "metadata": {},
   "source": [
    "# Section 7: Model Evaluation"
   ]
  },
  {
   "cell_type": "markdown",
   "metadata": {},
   "source": [
    "## Section 7.1: Predictive Accuracy - Overprediction / Underprediction"
   ]
  },
  {
   "cell_type": "markdown",
   "metadata": {},
   "source": [
    "## Prediction Type for MARS"
   ]
  },
  {
   "cell_type": "code",
   "execution_count": 125,
   "metadata": {},
   "outputs": [],
   "source": [
    "over_mars = 0\n",
    "under_mars = 0\n",
    "equal_mars = 0\n",
    "\n",
    "#Using Best MARS model\n",
    "for i in range(len(Y_test)):\n",
    "    if Y_prediction2[i] > Y_test.tolist()[i]:\n",
    "        over_mars += 1\n",
    "    elif Y_prediction2[i] < Y_test.tolist()[i]:\n",
    "        under_mars += 1\n",
    "    else:\n",
    "        equal_mars += 1"
   ]
  },
  {
   "cell_type": "code",
   "execution_count": 217,
   "metadata": {},
   "outputs": [
    {
     "name": "stdout",
     "output_type": "stream",
     "text": [
      "Over: 55.536% (44212)\n",
      "Under: 44.464% (35398)\n",
      "Equal: 0.0% (0)\n"
     ]
    }
   ],
   "source": [
    "print(\"Over:\", str(round(over_mars / (over_mars + under_mars + equal_mars)*100,3)) + \"%\", \"(\" + str(over_mars) + \")\")\n",
    "print(\"Under:\", str(round(under_mars / (over_mars + under_mars + equal_mars)*100,3)) + \"%\", \"(\" + str(under_mars) + \")\")\n",
    "print(\"Equal:\", str(round(equal_mars / (over_mars + under_mars + equal_mars)*100,3)) + \"%\", \"(\" + str(equal_mars) + \")\")"
   ]
  },
  {
   "cell_type": "markdown",
   "metadata": {},
   "source": [
    "## Prediction Type for CART"
   ]
  },
  {
   "cell_type": "code",
   "execution_count": 127,
   "metadata": {},
   "outputs": [],
   "source": [
    "over_cart = 0\n",
    "under_cart = 0\n",
    "equal_cart = 0\n",
    "\n",
    "#Using Best CART model\n",
    "for i in range(len(Y_test)):\n",
    "    if clf_predict_test[i] > Y_test.tolist()[i]:\n",
    "        over_cart += 1\n",
    "    elif clf_predict_test[i] < Y_test.tolist()[i]:\n",
    "        under_cart += 1\n",
    "    else:\n",
    "        equal_cart += 1"
   ]
  },
  {
   "cell_type": "code",
   "execution_count": 218,
   "metadata": {
    "scrolled": true
   },
   "outputs": [
    {
     "name": "stdout",
     "output_type": "stream",
     "text": [
      "Over: 59.112% (47059)\n",
      "Under: 40.887% (32550)\n",
      "Equal: 0.001% (1)\n"
     ]
    }
   ],
   "source": [
    "print(\"Over:\", str(round(over_cart / (over_cart + under_cart + equal_cart)*100,3)) + \"%\", \"(\" + str(over_cart) + \")\")\n",
    "print(\"Under:\", str(round(under_cart / (over_cart + under_cart + equal_cart)*100,3)) + \"%\", \"(\" + str(under_cart) + \")\")\n",
    "print(\"Equal:\", str(round(equal_cart / (over_cart + under_cart + equal_cart)*100,3)) + \"%\", \"(\" + str(equal_cart) + \")\")"
   ]
  },
  {
   "cell_type": "markdown",
   "metadata": {},
   "source": [
    "## Prediction Type for Random Forest"
   ]
  },
  {
   "cell_type": "code",
   "execution_count": 130,
   "metadata": {},
   "outputs": [],
   "source": [
    "over_rf = 0\n",
    "under_rf = 0\n",
    "equal_rf = 0\n",
    "\n",
    "#Using Best RF model\n",
    "for i in range(len(Y_test)):\n",
    "    if final_test_RandomForest_pred[i] > Y_test.tolist()[i]:\n",
    "        over_rf += 1\n",
    "    elif final_test_RandomForest_pred[i] < Y_test.tolist()[i]:\n",
    "        under_rf += 1\n",
    "    else:\n",
    "        equal_rf += 1"
   ]
  },
  {
   "cell_type": "code",
   "execution_count": 219,
   "metadata": {
    "scrolled": false
   },
   "outputs": [
    {
     "name": "stdout",
     "output_type": "stream",
     "text": [
      "Over: 64.375% (51249)\n",
      "Under: 35.615% (28353)\n",
      "Equal: 0.01% (8)\n"
     ]
    }
   ],
   "source": [
    "print(\"Over:\", str(round(over_rf / (over_rf + under_rf + equal_rf)*100,3)) + \"%\", \"(\" + str(over_rf) + \")\")\n",
    "print(\"Under:\", str(round(under_rf / (over_rf + under_rf + equal_rf)*100,3)) + \"%\", \"(\" + str(under_rf) + \")\")\n",
    "print(\"Equal:\", str(round(equal_rf / (over_rf + under_rf + equal_rf)*100,3)) + \"%\", \"(\" + str(equal_rf) + \")\")"
   ]
  },
  {
   "cell_type": "markdown",
   "metadata": {},
   "source": [
    "# Section 8: Variable Importance Analysis"
   ]
  },
  {
   "cell_type": "markdown",
   "metadata": {},
   "source": [
    "## Section 8.2: Variable Importance Administrative Variables - CART"
   ]
  },
  {
   "cell_type": "code",
   "execution_count": 227,
   "metadata": {},
   "outputs": [],
   "source": [
    "#Optimal Pruning\n",
    "clf_pruned_Admin = DecisionTreeRegressor(criterion = 'mse',random_state = 2022, max_depth = regressor1.best_params_['max_depth'])\n",
    "clf_reg_Admin = clf_pruned_Admin.fit(X_train_Admin, Y_train_Admin)"
   ]
  },
  {
   "cell_type": "code",
   "execution_count": 231,
   "metadata": {},
   "outputs": [],
   "source": [
    "#Prediction\n",
    "clf_predict_Admin = clf_reg_Admin.predict(X_test_Admin)"
   ]
  },
  {
   "cell_type": "code",
   "execution_count": 232,
   "metadata": {},
   "outputs": [
    {
     "name": "stdout",
     "output_type": "stream",
     "text": [
      "Root Mean Squared Error: 13.26116\n",
      "Normalized Root Mean Squared Error: 7.408%\n"
     ]
    }
   ],
   "source": [
    "#Test RMSE\n",
    "rmse_Admin = np.sqrt(metrics.mean_squared_error(Y_test_Admin, clf_predict_Admin))\n",
    "norm_rmse_Admin = rmse_Admin/(max(Y_test_Admin)-min(Y_test_Admin))* 100\n",
    "print('Root Mean Squared Error:',  round(rmse_Admin,5))\n",
    "print('Normalized Root Mean Squared Error:',  str(round(norm_rmse_Admin,3)) + \"%\")"
   ]
  },
  {
   "cell_type": "code",
   "execution_count": 233,
   "metadata": {
    "scrolled": true
   },
   "outputs": [
    {
     "data": {
      "text/html": [
       "<div>\n",
       "<style scoped>\n",
       "    .dataframe tbody tr th:only-of-type {\n",
       "        vertical-align: middle;\n",
       "    }\n",
       "\n",
       "    .dataframe tbody tr th {\n",
       "        vertical-align: top;\n",
       "    }\n",
       "\n",
       "    .dataframe thead th {\n",
       "        text-align: right;\n",
       "    }\n",
       "</style>\n",
       "<table border=\"1\" class=\"dataframe\">\n",
       "  <thead>\n",
       "    <tr style=\"text-align: right;\">\n",
       "      <th></th>\n",
       "      <th>Feature_Importance</th>\n",
       "    </tr>\n",
       "  </thead>\n",
       "  <tbody>\n",
       "    <tr>\n",
       "      <th>Administrative_Delay</th>\n",
       "      <td>0.974970</td>\n",
       "    </tr>\n",
       "    <tr>\n",
       "      <th>Admission_Deposit</th>\n",
       "      <td>0.012506</td>\n",
       "    </tr>\n",
       "    <tr>\n",
       "      <th>Age</th>\n",
       "      <td>0.007073</td>\n",
       "    </tr>\n",
       "    <tr>\n",
       "      <th>Visitors_with_Patient</th>\n",
       "      <td>0.003200</td>\n",
       "    </tr>\n",
       "    <tr>\n",
       "      <th>Ward_Type_Q</th>\n",
       "      <td>0.001252</td>\n",
       "    </tr>\n",
       "    <tr>\n",
       "      <th>Ward_Type_S</th>\n",
       "      <td>0.000511</td>\n",
       "    </tr>\n",
       "    <tr>\n",
       "      <th>Ward_Type_T</th>\n",
       "      <td>0.000282</td>\n",
       "    </tr>\n",
       "    <tr>\n",
       "      <th>Ward_Type_R</th>\n",
       "      <td>0.000131</td>\n",
       "    </tr>\n",
       "    <tr>\n",
       "      <th>Available_Extra_Rooms_in_Hospital</th>\n",
       "      <td>0.000076</td>\n",
       "    </tr>\n",
       "    <tr>\n",
       "      <th>Ward_Type_P</th>\n",
       "      <td>0.000000</td>\n",
       "    </tr>\n",
       "    <tr>\n",
       "      <th>Ward_Type_U</th>\n",
       "      <td>0.000000</td>\n",
       "    </tr>\n",
       "  </tbody>\n",
       "</table>\n",
       "</div>"
      ],
      "text/plain": [
       "                                   Feature_Importance\n",
       "Administrative_Delay                         0.974970\n",
       "Admission_Deposit                            0.012506\n",
       "Age                                          0.007073\n",
       "Visitors_with_Patient                        0.003200\n",
       "Ward_Type_Q                                  0.001252\n",
       "Ward_Type_S                                  0.000511\n",
       "Ward_Type_T                                  0.000282\n",
       "Ward_Type_R                                  0.000131\n",
       "Available_Extra_Rooms_in_Hospital            0.000076\n",
       "Ward_Type_P                                  0.000000\n",
       "Ward_Type_U                                  0.000000"
      ]
     },
     "execution_count": 233,
     "metadata": {},
     "output_type": "execute_result"
    }
   ],
   "source": [
    "#clf_reg.feature_importances_\n",
    "feat_imp_dict_Admin = dict(zip(X_train_Admin.columns, clf_reg_Admin.feature_importances_))\n",
    "feat_imp_Admin = pd.DataFrame.from_dict(feat_imp_dict_Admin, orient='index')\n",
    "feat_imp_Admin.rename(columns = {0:'Feature_Importance'}, inplace = True)\n",
    "feat_imp_Admin.sort_values(by=['Feature_Importance'], ascending=False)"
   ]
  },
  {
   "cell_type": "markdown",
   "metadata": {},
   "source": [
    "## Variable Importance Administrative Variables - Random Forest"
   ]
  },
  {
   "cell_type": "code",
   "execution_count": 220,
   "metadata": {},
   "outputs": [
    {
     "data": {
      "text/plain": [
       "RandomForestRegressor(max_features=11, max_samples=3000, n_estimators=2500,\n",
       "                      random_state=2022)"
      ]
     },
     "execution_count": 220,
     "metadata": {},
     "output_type": "execute_result"
    }
   ],
   "source": [
    "# Using best model params, max_features= (2 from the max), max_samples=3000, n_estimators=1500,\n",
    "rf_Admin = RandomForestRegressor(n_estimators = 2500, max_samples = 3000, max_features = 11, random_state = 2022)\n",
    "\n",
    "# Train the model on training data\n",
    "rf_Admin.fit(X_train_Admin, Y_train_Admin)"
   ]
  },
  {
   "cell_type": "code",
   "execution_count": 221,
   "metadata": {},
   "outputs": [],
   "source": [
    "# Use the forest's predict method on the test data\n",
    "predictions_Admin = rf_Admin.predict(X_test_Admin)"
   ]
  },
  {
   "cell_type": "code",
   "execution_count": 222,
   "metadata": {},
   "outputs": [
    {
     "name": "stdout",
     "output_type": "stream",
     "text": [
      "Mean Absolute Error: 6.041544775781936\n",
      "Mean Squared Error: 177.80758858013718\n",
      "Root Mean Squared Error: 13.334451191561548\n"
     ]
    }
   ],
   "source": [
    "# Checking of test_set errors for Admin\n",
    "print('Mean Absolute Error:', metrics.mean_absolute_error(Y_test_Admin, predictions_Admin))  \n",
    "print('Mean Squared Error:', metrics.mean_squared_error(Y_test_Admin, predictions_Admin))  \n",
    "print('Root Mean Squared Error:', np.sqrt(metrics.mean_squared_error(Y_test_Admin, predictions_Admin)))"
   ]
  },
  {
   "cell_type": "code",
   "execution_count": 223,
   "metadata": {},
   "outputs": [
    {
     "data": {
      "text/plain": [
       "7.449414073498072"
      ]
     },
     "execution_count": 223,
     "metadata": {},
     "output_type": "execute_result"
    }
   ],
   "source": [
    "# Normalised RMSE\n",
    "np.sqrt(metrics.mean_squared_error(Y_test_Admin, predictions_Admin)) / (max(Y_test_Admin) - min(Y_test_Admin)) * 100"
   ]
  },
  {
   "cell_type": "markdown",
   "metadata": {},
   "source": [
    "## Random Forest Variable Importance"
   ]
  },
  {
   "cell_type": "code",
   "execution_count": 224,
   "metadata": {},
   "outputs": [
    {
     "data": {
      "text/plain": [
       "<BarContainer object of 11 artists>"
      ]
     },
     "execution_count": 224,
     "metadata": {},
     "output_type": "execute_result"
    },
    {
     "data": {
      "image/png": "[encoded data removed]",
      "text/plain": [
       "<Figure size 432x288 with 1 Axes>"
      ]
     },
     "metadata": {},
     "output_type": "display_data"
    }
   ],
   "source": [
    "# Basic but inaccurate\n",
    "rf_Admin.feature_importances_\n",
    "plt.barh(X_train_Admin.columns, rf_Admin.feature_importances_)"
   ]
  },
  {
   "cell_type": "code",
   "execution_count": 225,
   "metadata": {},
   "outputs": [
    {
     "data": {
      "text/plain": [
       "Text(0.5, 0, 'Random Forest Feature Importance')"
      ]
     },
     "execution_count": 225,
     "metadata": {},
     "output_type": "execute_result"
    },
    {
     "data": {
      "image/png": "[encoded data removed]",
      "text/plain": [
       "<Figure size 432x288 with 1 Axes>"
      ]
     },
     "metadata": {},
     "output_type": "display_data"
    }
   ],
   "source": [
    "sorted_idx = rf_Admin.feature_importances_.argsort()\n",
    "plt.barh(X_train_Admin.columns[sorted_idx], rf_Admin.feature_importances_[sorted_idx])\n",
    "plt.xlabel(\"Random Forest Feature Importance\")"
   ]
  },
  {
   "cell_type": "code",
   "execution_count": 100,
   "metadata": {},
   "outputs": [],
   "source": [
    "# Using shap\n",
    "explainer = shap.TreeExplainer(rf_Admin)\n",
    "shap_values_Admin = explainer.shap_values(X_test_Admin)"
   ]
  },
  {
   "cell_type": "code",
   "execution_count": 47,
   "metadata": {},
   "outputs": [
    {
     "data": {
      "image/png": "[encoded data removed]",
      "text/plain": [
       "<Figure size 576x424.8 with 1 Axes>"
      ]
     },
     "metadata": {
      "needs_background": "light"
     },
     "output_type": "display_data"
    }
   ],
   "source": [
    "shap.summary_plot(shap_values_Admin, X_test_Admin, plot_type=\"bar\")"
   ]
  },
  {
   "cell_type": "code",
   "execution_count": 48,
   "metadata": {},
   "outputs": [
    {
     "data": {
      "image/png": "[encoded data removed]",
      "text/plain": [
       "<Figure size 576x424.8 with 2 Axes>"
      ]
     },
     "metadata": {
      "needs_background": "light"
     },
     "output_type": "display_data"
    }
   ],
   "source": [
    "shap.summary_plot(shap_values_Admin, X_test_Admin)"
   ]
  },
  {
   "cell_type": "code",
   "execution_count": 53,
   "metadata": {},
   "outputs": [
    {
     "data": {
      "text/plain": [
       "array([[-3.49422023e-02, -4.02332492e-02,  8.29039173e+00, ...,\n",
       "         5.47090764e-01, -1.24353477e-02, -3.96802592e-04],\n",
       "       [-3.88987503e-01, -1.87365020e-02,  1.40045881e+01, ...,\n",
       "        -1.52789875e-01, -1.49795874e-02, -4.95674896e-04],\n",
       "       [-9.86084697e-02, -5.22977589e-02, -6.13441634e+00, ...,\n",
       "        -4.00577314e-02, -5.42801949e-03, -1.05734095e-04],\n",
       "       ...,\n",
       "       [ 2.99439322e-01,  4.91546661e+00,  1.90955217e+01, ...,\n",
       "        -2.84240439e-01, -1.57939625e-02, -3.93568972e-04],\n",
       "       [ 9.14947213e-03,  7.67473182e-01, -5.53234270e+00, ...,\n",
       "         3.30110198e-01, -6.51221588e-03, -2.34945431e-04],\n",
       "       [ 2.83481832e-03, -1.72324729e-01, -6.08783024e+00, ...,\n",
       "        -4.42782262e-02, -5.62424771e-03, -1.24904474e-04]])"
      ]
     },
     "execution_count": 53,
     "metadata": {},
     "output_type": "execute_result"
    }
   ],
   "source": [
    "shap_values_Admin"
   ]
  },
  {
   "cell_type": "code",
   "execution_count": 54,
   "metadata": {},
   "outputs": [
    {
     "data": {
      "text/html": [
       "<div>\n",
       "<style scoped>\n",
       "    .dataframe tbody tr th:only-of-type {\n",
       "        vertical-align: middle;\n",
       "    }\n",
       "\n",
       "    .dataframe tbody tr th {\n",
       "        vertical-align: top;\n",
       "    }\n",
       "\n",
       "    .dataframe thead th {\n",
       "        text-align: right;\n",
       "    }\n",
       "</style>\n",
       "<table border=\"1\" class=\"dataframe\">\n",
       "  <thead>\n",
       "    <tr style=\"text-align: right;\">\n",
       "      <th></th>\n",
       "      <th>0</th>\n",
       "      <th>1</th>\n",
       "      <th>2</th>\n",
       "      <th>3</th>\n",
       "      <th>4</th>\n",
       "      <th>5</th>\n",
       "      <th>6</th>\n",
       "      <th>7</th>\n",
       "      <th>8</th>\n",
       "      <th>9</th>\n",
       "      <th>10</th>\n",
       "    </tr>\n",
       "  </thead>\n",
       "  <tbody>\n",
       "    <tr>\n",
       "      <th>0</th>\n",
       "      <td>-0.034942</td>\n",
       "      <td>-0.040233</td>\n",
       "      <td>8.290392</td>\n",
       "      <td>-0.186974</td>\n",
       "      <td>0.293454</td>\n",
       "      <td>-0.034182</td>\n",
       "      <td>-0.218737</td>\n",
       "      <td>-0.004855</td>\n",
       "      <td>0.547091</td>\n",
       "      <td>-0.012435</td>\n",
       "      <td>-0.000397</td>\n",
       "    </tr>\n",
       "    <tr>\n",
       "      <th>1</th>\n",
       "      <td>-0.388988</td>\n",
       "      <td>-0.018737</td>\n",
       "      <td>14.004588</td>\n",
       "      <td>0.070391</td>\n",
       "      <td>-0.951767</td>\n",
       "      <td>-0.029539</td>\n",
       "      <td>0.633875</td>\n",
       "      <td>0.037424</td>\n",
       "      <td>-0.152790</td>\n",
       "      <td>-0.014980</td>\n",
       "      <td>-0.000496</td>\n",
       "    </tr>\n",
       "    <tr>\n",
       "      <th>2</th>\n",
       "      <td>-0.098608</td>\n",
       "      <td>-0.052298</td>\n",
       "      <td>-6.134416</td>\n",
       "      <td>-0.028479</td>\n",
       "      <td>0.071889</td>\n",
       "      <td>-0.011326</td>\n",
       "      <td>0.186402</td>\n",
       "      <td>-0.041790</td>\n",
       "      <td>-0.040058</td>\n",
       "      <td>-0.005428</td>\n",
       "      <td>-0.000106</td>\n",
       "    </tr>\n",
       "    <tr>\n",
       "      <th>3</th>\n",
       "      <td>-0.039673</td>\n",
       "      <td>0.085675</td>\n",
       "      <td>-6.145470</td>\n",
       "      <td>-0.029608</td>\n",
       "      <td>0.062364</td>\n",
       "      <td>-0.010472</td>\n",
       "      <td>0.142087</td>\n",
       "      <td>-0.054856</td>\n",
       "      <td>-0.058976</td>\n",
       "      <td>-0.005551</td>\n",
       "      <td>-0.000138</td>\n",
       "    </tr>\n",
       "    <tr>\n",
       "      <th>4</th>\n",
       "      <td>-0.086669</td>\n",
       "      <td>0.107584</td>\n",
       "      <td>-6.226117</td>\n",
       "      <td>0.003157</td>\n",
       "      <td>-0.076157</td>\n",
       "      <td>-0.010760</td>\n",
       "      <td>0.190343</td>\n",
       "      <td>-0.042667</td>\n",
       "      <td>-0.049259</td>\n",
       "      <td>-0.005538</td>\n",
       "      <td>-0.000135</td>\n",
       "    </tr>\n",
       "    <tr>\n",
       "      <th>...</th>\n",
       "      <td>...</td>\n",
       "      <td>...</td>\n",
       "      <td>...</td>\n",
       "      <td>...</td>\n",
       "      <td>...</td>\n",
       "      <td>...</td>\n",
       "      <td>...</td>\n",
       "      <td>...</td>\n",
       "      <td>...</td>\n",
       "      <td>...</td>\n",
       "      <td>...</td>\n",
       "    </tr>\n",
       "    <tr>\n",
       "      <th>79605</th>\n",
       "      <td>0.906931</td>\n",
       "      <td>-0.046601</td>\n",
       "      <td>-7.440009</td>\n",
       "      <td>0.352231</td>\n",
       "      <td>-0.079743</td>\n",
       "      <td>-0.007497</td>\n",
       "      <td>-0.062302</td>\n",
       "      <td>-0.054673</td>\n",
       "      <td>0.324830</td>\n",
       "      <td>-0.005280</td>\n",
       "      <td>-0.000105</td>\n",
       "    </tr>\n",
       "    <tr>\n",
       "      <th>79606</th>\n",
       "      <td>-0.011716</td>\n",
       "      <td>-0.027944</td>\n",
       "      <td>-6.742221</td>\n",
       "      <td>-0.018804</td>\n",
       "      <td>0.081473</td>\n",
       "      <td>-0.010760</td>\n",
       "      <td>0.133989</td>\n",
       "      <td>-0.052567</td>\n",
       "      <td>-0.060210</td>\n",
       "      <td>-0.005358</td>\n",
       "      <td>-0.000101</td>\n",
       "    </tr>\n",
       "    <tr>\n",
       "      <th>79607</th>\n",
       "      <td>0.299439</td>\n",
       "      <td>4.915467</td>\n",
       "      <td>19.095522</td>\n",
       "      <td>0.211175</td>\n",
       "      <td>2.161180</td>\n",
       "      <td>-0.033165</td>\n",
       "      <td>-0.317484</td>\n",
       "      <td>0.195678</td>\n",
       "      <td>-0.284240</td>\n",
       "      <td>-0.015794</td>\n",
       "      <td>-0.000394</td>\n",
       "    </tr>\n",
       "    <tr>\n",
       "      <th>79608</th>\n",
       "      <td>0.009149</td>\n",
       "      <td>0.767473</td>\n",
       "      <td>-5.532343</td>\n",
       "      <td>-0.035992</td>\n",
       "      <td>-0.163847</td>\n",
       "      <td>-0.012011</td>\n",
       "      <td>-0.061694</td>\n",
       "      <td>-0.073518</td>\n",
       "      <td>0.330110</td>\n",
       "      <td>-0.006512</td>\n",
       "      <td>-0.000235</td>\n",
       "    </tr>\n",
       "    <tr>\n",
       "      <th>79609</th>\n",
       "      <td>0.002835</td>\n",
       "      <td>-0.172325</td>\n",
       "      <td>-6.087830</td>\n",
       "      <td>0.007645</td>\n",
       "      <td>-0.124686</td>\n",
       "      <td>-0.010383</td>\n",
       "      <td>0.167572</td>\n",
       "      <td>-0.045018</td>\n",
       "      <td>-0.044278</td>\n",
       "      <td>-0.005624</td>\n",
       "      <td>-0.000125</td>\n",
       "    </tr>\n",
       "  </tbody>\n",
       "</table>\n",
       "<p>79610 rows × 11 columns</p>\n",
       "</div>"
      ],
      "text/plain": [
       "             0         1          2         3         4         5         6   \\\n",
       "0     -0.034942 -0.040233   8.290392 -0.186974  0.293454 -0.034182 -0.218737   \n",
       "1     -0.388988 -0.018737  14.004588  0.070391 -0.951767 -0.029539  0.633875   \n",
       "2     -0.098608 -0.052298  -6.134416 -0.028479  0.071889 -0.011326  0.186402   \n",
       "3     -0.039673  0.085675  -6.145470 -0.029608  0.062364 -0.010472  0.142087   \n",
       "4     -0.086669  0.107584  -6.226117  0.003157 -0.076157 -0.010760  0.190343   \n",
       "...         ...       ...        ...       ...       ...       ...       ...   \n",
       "79605  0.906931 -0.046601  -7.440009  0.352231 -0.079743 -0.007497 -0.062302   \n",
       "79606 -0.011716 -0.027944  -6.742221 -0.018804  0.081473 -0.010760  0.133989   \n",
       "79607  0.299439  4.915467  19.095522  0.211175  2.161180 -0.033165 -0.317484   \n",
       "79608  0.009149  0.767473  -5.532343 -0.035992 -0.163847 -0.012011 -0.061694   \n",
       "79609  0.002835 -0.172325  -6.087830  0.007645 -0.124686 -0.010383  0.167572   \n",
       "\n",
       "             7         8         9         10  \n",
       "0     -0.004855  0.547091 -0.012435 -0.000397  \n",
       "1      0.037424 -0.152790 -0.014980 -0.000496  \n",
       "2     -0.041790 -0.040058 -0.005428 -0.000106  \n",
       "3     -0.054856 -0.058976 -0.005551 -0.000138  \n",
       "4     -0.042667 -0.049259 -0.005538 -0.000135  \n",
       "...         ...       ...       ...       ...  \n",
       "79605 -0.054673  0.324830 -0.005280 -0.000105  \n",
       "79606 -0.052567 -0.060210 -0.005358 -0.000101  \n",
       "79607  0.195678 -0.284240 -0.015794 -0.000394  \n",
       "79608 -0.073518  0.330110 -0.006512 -0.000235  \n",
       "79609 -0.045018 -0.044278 -0.005624 -0.000125  \n",
       "\n",
       "[79610 rows x 11 columns]"
      ]
     },
     "execution_count": 54,
     "metadata": {},
     "output_type": "execute_result"
    }
   ],
   "source": [
    "shap_values_Admin_data = pd.DataFrame(shap_values_Admin)\n",
    "shap_values_Admin_data"
   ]
  },
  {
   "cell_type": "code",
   "execution_count": 55,
   "metadata": {},
   "outputs": [],
   "source": [
    "shap_values_Admin_data.to_csv(f'{path}/shap_values_Admin_data_Results.csv')"
   ]
  },
  {
   "cell_type": "code",
   "execution_count": 56,
   "metadata": {},
   "outputs": [
    {
     "data": {
      "text/html": [
       "<div>\n",
       "<style scoped>\n",
       "    .dataframe tbody tr th:only-of-type {\n",
       "        vertical-align: middle;\n",
       "    }\n",
       "\n",
       "    .dataframe tbody tr th {\n",
       "        vertical-align: top;\n",
       "    }\n",
       "\n",
       "    .dataframe thead th {\n",
       "        text-align: right;\n",
       "    }\n",
       "</style>\n",
       "<table border=\"1\" class=\"dataframe\">\n",
       "  <thead>\n",
       "    <tr style=\"text-align: right;\">\n",
       "      <th></th>\n",
       "      <th>0</th>\n",
       "      <th>1</th>\n",
       "      <th>2</th>\n",
       "      <th>3</th>\n",
       "      <th>4</th>\n",
       "    </tr>\n",
       "  </thead>\n",
       "  <tbody>\n",
       "    <tr>\n",
       "      <th>0</th>\n",
       "      <td>-4.567188e-04</td>\n",
       "      <td>-3.949577e-04</td>\n",
       "      <td>-4.615896e-04</td>\n",
       "      <td>2.444978e-04</td>\n",
       "      <td>-6.465472e-04</td>\n",
       "    </tr>\n",
       "    <tr>\n",
       "      <th>1</th>\n",
       "      <td>-5.933655e-05</td>\n",
       "      <td>-8.416658e-04</td>\n",
       "      <td>9.283913e-04</td>\n",
       "      <td>-7.466245e-04</td>\n",
       "      <td>-3.340170e-04</td>\n",
       "    </tr>\n",
       "    <tr>\n",
       "      <th>2</th>\n",
       "      <td>6.004255e-01</td>\n",
       "      <td>6.027883e-01</td>\n",
       "      <td>6.047159e-01</td>\n",
       "      <td>5.990700e-01</td>\n",
       "      <td>6.024000e-01</td>\n",
       "    </tr>\n",
       "    <tr>\n",
       "      <th>3</th>\n",
       "      <td>1.124644e-03</td>\n",
       "      <td>6.132119e-04</td>\n",
       "      <td>1.252557e-03</td>\n",
       "      <td>9.148699e-04</td>\n",
       "      <td>8.036460e-04</td>\n",
       "    </tr>\n",
       "    <tr>\n",
       "      <th>4</th>\n",
       "      <td>7.848227e-04</td>\n",
       "      <td>1.201123e-03</td>\n",
       "      <td>1.076611e-03</td>\n",
       "      <td>1.538213e-03</td>\n",
       "      <td>5.919500e-04</td>\n",
       "    </tr>\n",
       "    <tr>\n",
       "      <th>5</th>\n",
       "      <td>3.839603e-05</td>\n",
       "      <td>-1.702242e-04</td>\n",
       "      <td>-1.386875e-05</td>\n",
       "      <td>-2.571912e-05</td>\n",
       "      <td>-8.649317e-05</td>\n",
       "    </tr>\n",
       "    <tr>\n",
       "      <th>6</th>\n",
       "      <td>5.180063e-04</td>\n",
       "      <td>7.328831e-04</td>\n",
       "      <td>6.052382e-04</td>\n",
       "      <td>4.393376e-04</td>\n",
       "      <td>4.673846e-04</td>\n",
       "    </tr>\n",
       "    <tr>\n",
       "      <th>7</th>\n",
       "      <td>1.085426e-03</td>\n",
       "      <td>4.540913e-04</td>\n",
       "      <td>7.504139e-04</td>\n",
       "      <td>7.715049e-04</td>\n",
       "      <td>1.058717e-03</td>\n",
       "    </tr>\n",
       "    <tr>\n",
       "      <th>8</th>\n",
       "      <td>1.291718e-03</td>\n",
       "      <td>1.275796e-03</td>\n",
       "      <td>9.833586e-04</td>\n",
       "      <td>1.211332e-03</td>\n",
       "      <td>1.042054e-03</td>\n",
       "    </tr>\n",
       "    <tr>\n",
       "      <th>9</th>\n",
       "      <td>-9.283167e-05</td>\n",
       "      <td>-1.562501e-04</td>\n",
       "      <td>-1.658452e-04</td>\n",
       "      <td>-6.601827e-06</td>\n",
       "      <td>-5.948416e-07</td>\n",
       "    </tr>\n",
       "    <tr>\n",
       "      <th>10</th>\n",
       "      <td>1.351757e-08</td>\n",
       "      <td>1.033060e-08</td>\n",
       "      <td>3.132689e-07</td>\n",
       "      <td>4.690202e-07</td>\n",
       "      <td>-1.949861e-08</td>\n",
       "    </tr>\n",
       "  </tbody>\n",
       "</table>\n",
       "</div>"
      ],
      "text/plain": [
       "               0             1             2             3             4\n",
       "0  -4.567188e-04 -3.949577e-04 -4.615896e-04  2.444978e-04 -6.465472e-04\n",
       "1  -5.933655e-05 -8.416658e-04  9.283913e-04 -7.466245e-04 -3.340170e-04\n",
       "2   6.004255e-01  6.027883e-01  6.047159e-01  5.990700e-01  6.024000e-01\n",
       "3   1.124644e-03  6.132119e-04  1.252557e-03  9.148699e-04  8.036460e-04\n",
       "4   7.848227e-04  1.201123e-03  1.076611e-03  1.538213e-03  5.919500e-04\n",
       "5   3.839603e-05 -1.702242e-04 -1.386875e-05 -2.571912e-05 -8.649317e-05\n",
       "6   5.180063e-04  7.328831e-04  6.052382e-04  4.393376e-04  4.673846e-04\n",
       "7   1.085426e-03  4.540913e-04  7.504139e-04  7.715049e-04  1.058717e-03\n",
       "8   1.291718e-03  1.275796e-03  9.833586e-04  1.211332e-03  1.042054e-03\n",
       "9  -9.283167e-05 -1.562501e-04 -1.658452e-04 -6.601827e-06 -5.948416e-07\n",
       "10  1.351757e-08  1.033060e-08  3.132689e-07  4.690202e-07 -1.949861e-08"
      ]
     },
     "execution_count": 56,
     "metadata": {},
     "output_type": "execute_result"
    }
   ],
   "source": [
    "perm_importance_Admin.importances_data = pd.DataFrame(perm_importance_Admin.importances)\n",
    "perm_importance_Admin.importances_data"
   ]
  },
  {
   "cell_type": "code",
   "execution_count": 57,
   "metadata": {},
   "outputs": [],
   "source": [
    "perm_importance_Admin.importances_data.to_csv(f'{path}/perm_importance_Admin.importances_data_Results.csv')"
   ]
  },
  {
   "cell_type": "markdown",
   "metadata": {},
   "source": [
    "# Section 12: Limitations/Challenges"
   ]
  },
  {
   "cell_type": "markdown",
   "metadata": {},
   "source": [
    "## Severity Split Analysis"
   ]
  },
  {
   "cell_type": "markdown",
   "metadata": {},
   "source": [
    "## Split preparation"
   ]
  },
  {
   "cell_type": "code",
   "execution_count": 132,
   "metadata": {},
   "outputs": [],
   "source": [
    "# One hot encode\n",
    "fullData = pd.get_dummies(fullData, columns=['Type_of_Admission','Ward_Type', 'APR_Medical_Surgical_Description','Payment_Typology_1', 'Patient_Disposition'])\n",
    "\n",
    "# Label encode\n",
    "fullData['Severity_of_Illness'] = fullData['Severity_of_Illness'].apply(lambda x: ['Minor', 'Moderate', 'Extreme'].index(x))\n",
    "fullData['APR_Risk_of_Mortality'] = fullData['APR_Risk_of_Mortality'].apply(lambda y: ['Minor', 'Moderate', 'Major','Extreme'].index(y))"
   ]
  },
  {
   "cell_type": "code",
   "execution_count": 133,
   "metadata": {},
   "outputs": [],
   "source": [
    "Y = fullData['Length_of_Stay']\n",
    "X = fullData.drop([\"Length_of_Stay\"] ,axis= 1)"
   ]
  },
  {
   "cell_type": "code",
   "execution_count": 134,
   "metadata": {},
   "outputs": [
    {
     "data": {
      "text/plain": [
       "1    175843\n",
       "0     85872\n",
       "2     56723\n",
       "Name: Severity_of_Illness, dtype: int64"
      ]
     },
     "execution_count": 134,
     "metadata": {},
     "output_type": "execute_result"
    }
   ],
   "source": [
    "fullData['Severity_of_Illness'].value_counts()"
   ]
  },
  {
   "cell_type": "markdown",
   "metadata": {},
   "source": [
    "## Extreme Severity"
   ]
  },
  {
   "cell_type": "code",
   "execution_count": 135,
   "metadata": {},
   "outputs": [],
   "source": [
    "fullData = fullData.sort_values(by=['Severity_of_Illness'])"
   ]
  },
  {
   "cell_type": "code",
   "execution_count": 136,
   "metadata": {},
   "outputs": [
    {
     "name": "stdout",
     "output_type": "stream",
     "text": [
      "Training Features Shape: (42542, 31)\n",
      "Training Labels Shape: (42542,)\n",
      "Testing Features Shape: (14181, 31)\n",
      "Testing Labels Shape: (14181,)\n"
     ]
    }
   ],
   "source": [
    "extremeData = fullData[:56723]\n",
    "extremeData = extremeData.drop([\"Severity_of_Illness\"] ,axis= 1)\n",
    "\n",
    "Y_ext = extremeData['Length_of_Stay']\n",
    "X_ext = extremeData.drop([\"Length_of_Stay\"] ,axis= 1)\n",
    "X_ext_train, X_ext_test, Y_ext_train, Y_ext_test = train_test_split(X_ext, Y_ext, test_size = 0.25, random_state = 2022)\n",
    "\n",
    "\n",
    "print('Training Features Shape:', X_ext_train.shape)\n",
    "print('Training Labels Shape:',  Y_ext_train.shape)\n",
    "print('Testing Features Shape:', X_ext_test.shape)\n",
    "print('Testing Labels Shape:', Y_ext_test.shape)\n",
    "\n",
    "#Prepare log dataset\n",
    "log_X_ext = X_ext.copy()\n",
    "\n",
    "# Logging of variables\n",
    "log_X_ext['Visitors_with_Patient'] = np.log(log_X_ext['Visitors_with_Patient'] + 1)\n",
    "log_X_ext['Admission_Deposit'] = np.log(log_X_ext['Admission_Deposit'] + 1)\n",
    "\n",
    "# Logging of Y\n",
    "log_Y_ext = np.log(Y_ext+1)\n",
    "\n",
    "log_X_ext_train, log_X_ext_test, log_Y_ext_train, log_Y_ext_test = train_test_split(log_X_ext, log_Y_ext, test_size = 0.25, random_state = 2022)"
   ]
  },
  {
   "cell_type": "markdown",
   "metadata": {},
   "source": [
    "## Moderate Severity"
   ]
  },
  {
   "cell_type": "code",
   "execution_count": 137,
   "metadata": {},
   "outputs": [
    {
     "data": {
      "text/html": [
       "<div>\n",
       "<style scoped>\n",
       "    .dataframe tbody tr th:only-of-type {\n",
       "        vertical-align: middle;\n",
       "    }\n",
       "\n",
       "    .dataframe tbody tr th {\n",
       "        vertical-align: top;\n",
       "    }\n",
       "\n",
       "    .dataframe thead th {\n",
       "        text-align: right;\n",
       "    }\n",
       "</style>\n",
       "<table border=\"1\" class=\"dataframe\">\n",
       "  <thead>\n",
       "    <tr style=\"text-align: right;\">\n",
       "      <th></th>\n",
       "      <th>Length_of_Stay</th>\n",
       "      <th>Available_Extra_Rooms_in_Hospital</th>\n",
       "      <th>Admission_Deposit</th>\n",
       "      <th>Administrative_Delay</th>\n",
       "      <th>Visitors_with_Patient</th>\n",
       "      <th>Age</th>\n",
       "      <th>APR_Risk_of_Mortality</th>\n",
       "      <th>Type_of_Admission_Emergency</th>\n",
       "      <th>Type_of_Admission_Trauma</th>\n",
       "      <th>Type_of_Admission_Urgent</th>\n",
       "      <th>...</th>\n",
       "      <th>Payment_Typology_1_Medicaid</th>\n",
       "      <th>Payment_Typology_1_Medicare</th>\n",
       "      <th>Payment_Typology_1_Miscellaneous/Other</th>\n",
       "      <th>Payment_Typology_1_Private Health Insurance</th>\n",
       "      <th>Payment_Typology_1_Self-Pay</th>\n",
       "      <th>Payment_Typology_1_Unknown</th>\n",
       "      <th>Patient_Disposition_Home or Self Care</th>\n",
       "      <th>Patient_Disposition_Home w/ Home Health Services</th>\n",
       "      <th>Patient_Disposition_Others</th>\n",
       "      <th>Patient_Disposition_Skilled Nursing Home</th>\n",
       "    </tr>\n",
       "  </thead>\n",
       "  <tbody>\n",
       "    <tr>\n",
       "      <th>239943</th>\n",
       "      <td>4</td>\n",
       "      <td>4.0</td>\n",
       "      <td>6399.0</td>\n",
       "      <td>2.07</td>\n",
       "      <td>2.0</td>\n",
       "      <td>45</td>\n",
       "      <td>1</td>\n",
       "      <td>0</td>\n",
       "      <td>1</td>\n",
       "      <td>0</td>\n",
       "      <td>...</td>\n",
       "      <td>0</td>\n",
       "      <td>1</td>\n",
       "      <td>0</td>\n",
       "      <td>0</td>\n",
       "      <td>0</td>\n",
       "      <td>0</td>\n",
       "      <td>1</td>\n",
       "      <td>0</td>\n",
       "      <td>0</td>\n",
       "      <td>0</td>\n",
       "    </tr>\n",
       "    <tr>\n",
       "      <th>239942</th>\n",
       "      <td>21</td>\n",
       "      <td>4.0</td>\n",
       "      <td>4338.0</td>\n",
       "      <td>2.47</td>\n",
       "      <td>2.0</td>\n",
       "      <td>46</td>\n",
       "      <td>0</td>\n",
       "      <td>0</td>\n",
       "      <td>1</td>\n",
       "      <td>0</td>\n",
       "      <td>...</td>\n",
       "      <td>1</td>\n",
       "      <td>0</td>\n",
       "      <td>0</td>\n",
       "      <td>0</td>\n",
       "      <td>0</td>\n",
       "      <td>0</td>\n",
       "      <td>1</td>\n",
       "      <td>0</td>\n",
       "      <td>0</td>\n",
       "      <td>0</td>\n",
       "    </tr>\n",
       "    <tr>\n",
       "      <th>239941</th>\n",
       "      <td>10</td>\n",
       "      <td>4.0</td>\n",
       "      <td>8204.0</td>\n",
       "      <td>2.24</td>\n",
       "      <td>2.0</td>\n",
       "      <td>42</td>\n",
       "      <td>2</td>\n",
       "      <td>0</td>\n",
       "      <td>1</td>\n",
       "      <td>0</td>\n",
       "      <td>...</td>\n",
       "      <td>0</td>\n",
       "      <td>1</td>\n",
       "      <td>0</td>\n",
       "      <td>0</td>\n",
       "      <td>0</td>\n",
       "      <td>0</td>\n",
       "      <td>0</td>\n",
       "      <td>1</td>\n",
       "      <td>0</td>\n",
       "      <td>0</td>\n",
       "    </tr>\n",
       "    <tr>\n",
       "      <th>239940</th>\n",
       "      <td>7</td>\n",
       "      <td>3.0</td>\n",
       "      <td>4027.0</td>\n",
       "      <td>2.17</td>\n",
       "      <td>3.0</td>\n",
       "      <td>92</td>\n",
       "      <td>0</td>\n",
       "      <td>1</td>\n",
       "      <td>0</td>\n",
       "      <td>0</td>\n",
       "      <td>...</td>\n",
       "      <td>0</td>\n",
       "      <td>1</td>\n",
       "      <td>0</td>\n",
       "      <td>0</td>\n",
       "      <td>0</td>\n",
       "      <td>0</td>\n",
       "      <td>0</td>\n",
       "      <td>0</td>\n",
       "      <td>0</td>\n",
       "      <td>1</td>\n",
       "    </tr>\n",
       "    <tr>\n",
       "      <th>239939</th>\n",
       "      <td>6</td>\n",
       "      <td>4.0</td>\n",
       "      <td>4373.0</td>\n",
       "      <td>2.18</td>\n",
       "      <td>4.0</td>\n",
       "      <td>94</td>\n",
       "      <td>1</td>\n",
       "      <td>1</td>\n",
       "      <td>0</td>\n",
       "      <td>0</td>\n",
       "      <td>...</td>\n",
       "      <td>0</td>\n",
       "      <td>0</td>\n",
       "      <td>0</td>\n",
       "      <td>0</td>\n",
       "      <td>0</td>\n",
       "      <td>0</td>\n",
       "      <td>1</td>\n",
       "      <td>0</td>\n",
       "      <td>0</td>\n",
       "      <td>0</td>\n",
       "    </tr>\n",
       "    <tr>\n",
       "      <th>...</th>\n",
       "      <td>...</td>\n",
       "      <td>...</td>\n",
       "      <td>...</td>\n",
       "      <td>...</td>\n",
       "      <td>...</td>\n",
       "      <td>...</td>\n",
       "      <td>...</td>\n",
       "      <td>...</td>\n",
       "      <td>...</td>\n",
       "      <td>...</td>\n",
       "      <td>...</td>\n",
       "      <td>...</td>\n",
       "      <td>...</td>\n",
       "      <td>...</td>\n",
       "      <td>...</td>\n",
       "      <td>...</td>\n",
       "      <td>...</td>\n",
       "      <td>...</td>\n",
       "      <td>...</td>\n",
       "      <td>...</td>\n",
       "      <td>...</td>\n",
       "    </tr>\n",
       "    <tr>\n",
       "      <th>37811</th>\n",
       "      <td>22</td>\n",
       "      <td>2.0</td>\n",
       "      <td>5024.0</td>\n",
       "      <td>2.39</td>\n",
       "      <td>2.0</td>\n",
       "      <td>44</td>\n",
       "      <td>3</td>\n",
       "      <td>0</td>\n",
       "      <td>0</td>\n",
       "      <td>1</td>\n",
       "      <td>...</td>\n",
       "      <td>0</td>\n",
       "      <td>1</td>\n",
       "      <td>0</td>\n",
       "      <td>0</td>\n",
       "      <td>0</td>\n",
       "      <td>0</td>\n",
       "      <td>0</td>\n",
       "      <td>0</td>\n",
       "      <td>0</td>\n",
       "      <td>1</td>\n",
       "    </tr>\n",
       "    <tr>\n",
       "      <th>37810</th>\n",
       "      <td>4</td>\n",
       "      <td>2.0</td>\n",
       "      <td>4555.0</td>\n",
       "      <td>2.45</td>\n",
       "      <td>4.0</td>\n",
       "      <td>78</td>\n",
       "      <td>3</td>\n",
       "      <td>1</td>\n",
       "      <td>0</td>\n",
       "      <td>0</td>\n",
       "      <td>...</td>\n",
       "      <td>0</td>\n",
       "      <td>1</td>\n",
       "      <td>0</td>\n",
       "      <td>0</td>\n",
       "      <td>0</td>\n",
       "      <td>0</td>\n",
       "      <td>0</td>\n",
       "      <td>0</td>\n",
       "      <td>1</td>\n",
       "      <td>0</td>\n",
       "    </tr>\n",
       "    <tr>\n",
       "      <th>37809</th>\n",
       "      <td>37</td>\n",
       "      <td>2.0</td>\n",
       "      <td>4276.0</td>\n",
       "      <td>2.38</td>\n",
       "      <td>3.0</td>\n",
       "      <td>79</td>\n",
       "      <td>2</td>\n",
       "      <td>1</td>\n",
       "      <td>0</td>\n",
       "      <td>0</td>\n",
       "      <td>...</td>\n",
       "      <td>1</td>\n",
       "      <td>0</td>\n",
       "      <td>0</td>\n",
       "      <td>0</td>\n",
       "      <td>0</td>\n",
       "      <td>0</td>\n",
       "      <td>1</td>\n",
       "      <td>0</td>\n",
       "      <td>0</td>\n",
       "      <td>0</td>\n",
       "    </tr>\n",
       "    <tr>\n",
       "      <th>37820</th>\n",
       "      <td>9</td>\n",
       "      <td>2.0</td>\n",
       "      <td>5377.0</td>\n",
       "      <td>2.21</td>\n",
       "      <td>2.0</td>\n",
       "      <td>55</td>\n",
       "      <td>3</td>\n",
       "      <td>1</td>\n",
       "      <td>0</td>\n",
       "      <td>0</td>\n",
       "      <td>...</td>\n",
       "      <td>0</td>\n",
       "      <td>1</td>\n",
       "      <td>0</td>\n",
       "      <td>0</td>\n",
       "      <td>0</td>\n",
       "      <td>0</td>\n",
       "      <td>0</td>\n",
       "      <td>0</td>\n",
       "      <td>0</td>\n",
       "      <td>1</td>\n",
       "    </tr>\n",
       "    <tr>\n",
       "      <th>0</th>\n",
       "      <td>45</td>\n",
       "      <td>3.0</td>\n",
       "      <td>4911.0</td>\n",
       "      <td>2.32</td>\n",
       "      <td>2.0</td>\n",
       "      <td>59</td>\n",
       "      <td>3</td>\n",
       "      <td>1</td>\n",
       "      <td>0</td>\n",
       "      <td>0</td>\n",
       "      <td>...</td>\n",
       "      <td>0</td>\n",
       "      <td>1</td>\n",
       "      <td>0</td>\n",
       "      <td>0</td>\n",
       "      <td>0</td>\n",
       "      <td>0</td>\n",
       "      <td>0</td>\n",
       "      <td>0</td>\n",
       "      <td>1</td>\n",
       "      <td>0</td>\n",
       "    </tr>\n",
       "  </tbody>\n",
       "</table>\n",
       "<p>175843 rows × 32 columns</p>\n",
       "</div>"
      ],
      "text/plain": [
       "        Length_of_Stay  Available_Extra_Rooms_in_Hospital  Admission_Deposit  \\\n",
       "239943               4                                4.0             6399.0   \n",
       "239942              21                                4.0             4338.0   \n",
       "239941              10                                4.0             8204.0   \n",
       "239940               7                                3.0             4027.0   \n",
       "239939               6                                4.0             4373.0   \n",
       "...                ...                                ...                ...   \n",
       "37811               22                                2.0             5024.0   \n",
       "37810                4                                2.0             4555.0   \n",
       "37809               37                                2.0             4276.0   \n",
       "37820                9                                2.0             5377.0   \n",
       "0                   45                                3.0             4911.0   \n",
       "\n",
       "        Administrative_Delay  Visitors_with_Patient  Age  \\\n",
       "239943                  2.07                    2.0   45   \n",
       "239942                  2.47                    2.0   46   \n",
       "239941                  2.24                    2.0   42   \n",
       "239940                  2.17                    3.0   92   \n",
       "239939                  2.18                    4.0   94   \n",
       "...                      ...                    ...  ...   \n",
       "37811                   2.39                    2.0   44   \n",
       "37810                   2.45                    4.0   78   \n",
       "37809                   2.38                    3.0   79   \n",
       "37820                   2.21                    2.0   55   \n",
       "0                       2.32                    2.0   59   \n",
       "\n",
       "        APR_Risk_of_Mortality  Type_of_Admission_Emergency  \\\n",
       "239943                      1                            0   \n",
       "239942                      0                            0   \n",
       "239941                      2                            0   \n",
       "239940                      0                            1   \n",
       "239939                      1                            1   \n",
       "...                       ...                          ...   \n",
       "37811                       3                            0   \n",
       "37810                       3                            1   \n",
       "37809                       2                            1   \n",
       "37820                       3                            1   \n",
       "0                           3                            1   \n",
       "\n",
       "        Type_of_Admission_Trauma  Type_of_Admission_Urgent  ...  \\\n",
       "239943                         1                         0  ...   \n",
       "239942                         1                         0  ...   \n",
       "239941                         1                         0  ...   \n",
       "239940                         0                         0  ...   \n",
       "239939                         0                         0  ...   \n",
       "...                          ...                       ...  ...   \n",
       "37811                          0                         1  ...   \n",
       "37810                          0                         0  ...   \n",
       "37809                          0                         0  ...   \n",
       "37820                          0                         0  ...   \n",
       "0                              0                         0  ...   \n",
       "\n",
       "        Payment_Typology_1_Medicaid  Payment_Typology_1_Medicare  \\\n",
       "239943                            0                            1   \n",
       "239942                            1                            0   \n",
       "239941                            0                            1   \n",
       "239940                            0                            1   \n",
       "239939                            0                            0   \n",
       "...                             ...                          ...   \n",
       "37811                             0                            1   \n",
       "37810                             0                            1   \n",
       "37809                             1                            0   \n",
       "37820                             0                            1   \n",
       "0                                 0                            1   \n",
       "\n",
       "        Payment_Typology_1_Miscellaneous/Other  \\\n",
       "239943                                       0   \n",
       "239942                                       0   \n",
       "239941                                       0   \n",
       "239940                                       0   \n",
       "239939                                       0   \n",
       "...                                        ...   \n",
       "37811                                        0   \n",
       "37810                                        0   \n",
       "37809                                        0   \n",
       "37820                                        0   \n",
       "0                                            0   \n",
       "\n",
       "        Payment_Typology_1_Private Health Insurance  \\\n",
       "239943                                            0   \n",
       "239942                                            0   \n",
       "239941                                            0   \n",
       "239940                                            0   \n",
       "239939                                            0   \n",
       "...                                             ...   \n",
       "37811                                             0   \n",
       "37810                                             0   \n",
       "37809                                             0   \n",
       "37820                                             0   \n",
       "0                                                 0   \n",
       "\n",
       "        Payment_Typology_1_Self-Pay  Payment_Typology_1_Unknown  \\\n",
       "239943                            0                           0   \n",
       "239942                            0                           0   \n",
       "239941                            0                           0   \n",
       "239940                            0                           0   \n",
       "239939                            0                           0   \n",
       "...                             ...                         ...   \n",
       "37811                             0                           0   \n",
       "37810                             0                           0   \n",
       "37809                             0                           0   \n",
       "37820                             0                           0   \n",
       "0                                 0                           0   \n",
       "\n",
       "        Patient_Disposition_Home or Self Care  \\\n",
       "239943                                      1   \n",
       "239942                                      1   \n",
       "239941                                      0   \n",
       "239940                                      0   \n",
       "239939                                      1   \n",
       "...                                       ...   \n",
       "37811                                       0   \n",
       "37810                                       0   \n",
       "37809                                       1   \n",
       "37820                                       0   \n",
       "0                                           0   \n",
       "\n",
       "        Patient_Disposition_Home w/ Home Health Services  \\\n",
       "239943                                                 0   \n",
       "239942                                                 0   \n",
       "239941                                                 1   \n",
       "239940                                                 0   \n",
       "239939                                                 0   \n",
       "...                                                  ...   \n",
       "37811                                                  0   \n",
       "37810                                                  0   \n",
       "37809                                                  0   \n",
       "37820                                                  0   \n",
       "0                                                      0   \n",
       "\n",
       "        Patient_Disposition_Others  Patient_Disposition_Skilled Nursing Home  \n",
       "239943                           0                                         0  \n",
       "239942                           0                                         0  \n",
       "239941                           0                                         0  \n",
       "239940                           0                                         1  \n",
       "239939                           0                                         0  \n",
       "...                            ...                                       ...  \n",
       "37811                            0                                         1  \n",
       "37810                            1                                         0  \n",
       "37809                            0                                         0  \n",
       "37820                            0                                         1  \n",
       "0                                1                                         0  \n",
       "\n",
       "[175843 rows x 32 columns]"
      ]
     },
     "execution_count": 137,
     "metadata": {},
     "output_type": "execute_result"
    }
   ],
   "source": [
    "moderateData = fullData[56723+85872:]\n",
    "moderateData = moderateData.drop([\"Severity_of_Illness\"] ,axis= 1)\n",
    "moderateData"
   ]
  },
  {
   "cell_type": "code",
   "execution_count": 138,
   "metadata": {},
   "outputs": [
    {
     "name": "stdout",
     "output_type": "stream",
     "text": [
      "Training Features Shape: (131882, 31)\n",
      "Training Labels Shape: (131882,)\n",
      "Testing Features Shape: (43961, 31)\n",
      "Testing Labels Shape: (43961,)\n"
     ]
    }
   ],
   "source": [
    "Y_mod = moderateData['Length_of_Stay']\n",
    "X_mod = moderateData.drop([\"Length_of_Stay\"] ,axis= 1)\n",
    "X_mod_train, X_mod_test, Y_mod_train, Y_mod_test = train_test_split(X_mod, Y_mod, test_size = 0.25, random_state = 2022)\n",
    "\n",
    "print('Training Features Shape:', X_mod_train.shape)\n",
    "print('Training Labels Shape:',  Y_mod_train.shape)\n",
    "print('Testing Features Shape:', X_mod_test.shape)\n",
    "print('Testing Labels Shape:', Y_mod_test.shape)\n",
    "\n",
    "#Prepare log dataset\n",
    "log_X_mod = X_mod.copy()\n",
    "\n",
    "# Logging of variables\n",
    "log_X_mod['Visitors_with_Patient'] = np.log(log_X_mod['Visitors_with_Patient'] + 1)\n",
    "log_X_mod['Admission_Deposit'] = np.log(log_X_mod['Admission_Deposit'] + 1)\n",
    "\n",
    "# Logging of Y\n",
    "log_Y_mod = np.log(Y_mod+1)\n",
    "\n",
    "log_X_mod_train, log_X_mod_test, log_Y_mod_train, log_Y_mod_test = train_test_split(log_X_mod, log_Y_mod, test_size = 0.25, random_state = 2022)"
   ]
  },
  {
   "cell_type": "markdown",
   "metadata": {},
   "source": [
    "## Minor Severity"
   ]
  },
  {
   "cell_type": "code",
   "execution_count": 139,
   "metadata": {},
   "outputs": [
    {
     "name": "stdout",
     "output_type": "stream",
     "text": [
      "Training Features Shape: (64404, 31)\n",
      "Training Labels Shape: (64404,)\n",
      "Testing Features Shape: (21468, 31)\n",
      "Testing Labels Shape: (21468,)\n"
     ]
    }
   ],
   "source": [
    "minorData = fullData[56723:56723+85872]\n",
    "minorData = minorData.drop([\"Severity_of_Illness\"] ,axis= 1)\n",
    "\n",
    "Y_min = minorData['Length_of_Stay']\n",
    "X_min = minorData.drop([\"Length_of_Stay\"] ,axis= 1)\n",
    "X_min_train, X_min_test, Y_min_train, Y_min_test = train_test_split(X_min, Y_min, test_size = 0.25, random_state = 2022)\n",
    "\n",
    "print('Training Features Shape:', X_min_train.shape)\n",
    "print('Training Labels Shape:',  Y_min_train.shape)\n",
    "print('Testing Features Shape:', X_min_test.shape)\n",
    "print('Testing Labels Shape:', Y_min_test.shape)\n",
    "\n",
    "#Prepare log dataset\n",
    "log_X_min = X_min.copy()\n",
    "\n",
    "# Logging of variables\n",
    "log_X_min['Visitors_with_Patient'] = np.log(log_X_min['Visitors_with_Patient'] + 1)\n",
    "log_X_min['Admission_Deposit'] = np.log(log_X_min['Admission_Deposit'] + 1)\n",
    "\n",
    "# Logging of Y\n",
    "log_Y_min = np.log(Y_min+1)\n",
    "\n",
    "log_X_min_train, log_X_min_test, log_Y_min_train, log_Y_min_test = train_test_split(log_X_min, log_Y_min, test_size = 0.25, random_state = 2022)"
   ]
  },
  {
   "cell_type": "markdown",
   "metadata": {},
   "source": [
    "## MARS"
   ]
  },
  {
   "cell_type": "markdown",
   "metadata": {},
   "source": [
    "### Extreme Severity"
   ]
  },
  {
   "cell_type": "markdown",
   "metadata": {},
   "source": [
    "#### MARS Degree 1"
   ]
  },
  {
   "cell_type": "code",
   "execution_count": 140,
   "metadata": {},
   "outputs": [
    {
     "name": "stdout",
     "output_type": "stream",
     "text": [
      "RMSE:  5.533991486823178\n",
      "Normalised RMSE:  3.0916153557671384\n"
     ]
    },
    {
     "name": "stderr",
     "output_type": "stream",
     "text": [
      "`rcond` parameter will change to the default of machine precision times ``max(M, N)`` where M and N are the input matrix dimensions.\n",
      "To use the future default and silence this warning we advise to pass `rcond=None`, to keep using the old, explicitly pass `rcond=-1`.\n",
      "`rcond` parameter will change to the default of machine precision times ``max(M, N)`` where M and N are the input matrix dimensions.\n",
      "To use the future default and silence this warning we advise to pass `rcond=None`, to keep using the old, explicitly pass `rcond=-1`.\n"
     ]
    },
    {
     "data": {
      "text/html": [
       "<div>\n",
       "<style scoped>\n",
       "    .dataframe tbody tr th:only-of-type {\n",
       "        vertical-align: middle;\n",
       "    }\n",
       "\n",
       "    .dataframe tbody tr th {\n",
       "        vertical-align: top;\n",
       "    }\n",
       "\n",
       "    .dataframe thead th {\n",
       "        text-align: right;\n",
       "    }\n",
       "</style>\n",
       "<table border=\"1\" class=\"dataframe\">\n",
       "  <thead>\n",
       "    <tr style=\"text-align: right;\">\n",
       "      <th></th>\n",
       "      <th>Model</th>\n",
       "      <th>RMSE</th>\n",
       "      <th>Normalised RMSE</th>\n",
       "    </tr>\n",
       "  </thead>\n",
       "  <tbody>\n",
       "    <tr>\n",
       "      <th>0</th>\n",
       "      <td>MARS Degree 1</td>\n",
       "      <td>13.396318</td>\n",
       "      <td>7.483976</td>\n",
       "    </tr>\n",
       "    <tr>\n",
       "      <th>1</th>\n",
       "      <td>MARS Degree 2</td>\n",
       "      <td>12.309775</td>\n",
       "      <td>6.876969</td>\n",
       "    </tr>\n",
       "    <tr>\n",
       "      <th>2</th>\n",
       "      <td>Log MARS Degree 1</td>\n",
       "      <td>0.582010</td>\n",
       "      <td>12.918202</td>\n",
       "    </tr>\n",
       "    <tr>\n",
       "      <th>3</th>\n",
       "      <td>Log MARS Degree 2</td>\n",
       "      <td>0.525214</td>\n",
       "      <td>11.657563</td>\n",
       "    </tr>\n",
       "    <tr>\n",
       "      <th>4</th>\n",
       "      <td>MARS Degree 1 (Extreme)</td>\n",
       "      <td>5.533991</td>\n",
       "      <td>3.091615</td>\n",
       "    </tr>\n",
       "  </tbody>\n",
       "</table>\n",
       "</div>"
      ],
      "text/plain": [
       "                     Model       RMSE  Normalised RMSE\n",
       "0            MARS Degree 1  13.396318         7.483976\n",
       "1            MARS Degree 2  12.309775         6.876969\n",
       "2        Log MARS Degree 1   0.582010        12.918202\n",
       "3        Log MARS Degree 2   0.525214        11.657563\n",
       "4  MARS Degree 1 (Extreme)   5.533991         3.091615"
      ]
     },
     "execution_count": 140,
     "metadata": {},
     "output_type": "execute_result"
    }
   ],
   "source": [
    "random.seed(2022)\n",
    "mars1_ext = Earth(feature_importance_type='gcv')\n",
    "mars1_ext.fit(X_ext_train,Y_ext_train)\n",
    "mars1_predict_ext = mars1_ext.predict(X_ext_test)\n",
    "\n",
    "\n",
    "rmse_mars1_ext = np.sqrt(metrics.mean_squared_error(Y_ext_test, mars1_predict_ext))\n",
    "print('RMSE: ', rmse_mars1_ext)\n",
    "\n",
    "# Normalised RMSE\n",
    "rmse_normalised_mars1_ext = np.sqrt(metrics.mean_squared_error(Y_ext_test, mars1_predict_ext)) / (max(Y_ext_test) - min(Y_ext_test)) * 100\n",
    "print('Normalised RMSE: ', rmse_normalised_mars1_ext)\n",
    "\n",
    "marsResults = marsResults.append({'Model': 'MARS Degree 1 (Extreme)', 'RMSE': rmse_mars1_ext, 'Normalised RMSE': rmse_normalised_mars1_ext}, ignore_index = True)\n",
    "marsResults"
   ]
  },
  {
   "cell_type": "markdown",
   "metadata": {},
   "source": [
    "#### MARS Degree 2"
   ]
  },
  {
   "cell_type": "code",
   "execution_count": 141,
   "metadata": {},
   "outputs": [
    {
     "name": "stderr",
     "output_type": "stream",
     "text": [
      "`rcond` parameter will change to the default of machine precision times ``max(M, N)`` where M and N are the input matrix dimensions.\n",
      "To use the future default and silence this warning we advise to pass `rcond=None`, to keep using the old, explicitly pass `rcond=-1`.\n"
     ]
    },
    {
     "name": "stdout",
     "output_type": "stream",
     "text": [
      "RMSE:  4.9590994984480545\n",
      "Normalised RMSE:  2.770446647177684\n"
     ]
    },
    {
     "name": "stderr",
     "output_type": "stream",
     "text": [
      "`rcond` parameter will change to the default of machine precision times ``max(M, N)`` where M and N are the input matrix dimensions.\n",
      "To use the future default and silence this warning we advise to pass `rcond=None`, to keep using the old, explicitly pass `rcond=-1`.\n"
     ]
    },
    {
     "data": {
      "text/html": [
       "<div>\n",
       "<style scoped>\n",
       "    .dataframe tbody tr th:only-of-type {\n",
       "        vertical-align: middle;\n",
       "    }\n",
       "\n",
       "    .dataframe tbody tr th {\n",
       "        vertical-align: top;\n",
       "    }\n",
       "\n",
       "    .dataframe thead th {\n",
       "        text-align: right;\n",
       "    }\n",
       "</style>\n",
       "<table border=\"1\" class=\"dataframe\">\n",
       "  <thead>\n",
       "    <tr style=\"text-align: right;\">\n",
       "      <th></th>\n",
       "      <th>Model</th>\n",
       "      <th>RMSE</th>\n",
       "      <th>Normalised RMSE</th>\n",
       "    </tr>\n",
       "  </thead>\n",
       "  <tbody>\n",
       "    <tr>\n",
       "      <th>0</th>\n",
       "      <td>MARS Degree 1</td>\n",
       "      <td>13.396318</td>\n",
       "      <td>7.483976</td>\n",
       "    </tr>\n",
       "    <tr>\n",
       "      <th>1</th>\n",
       "      <td>MARS Degree 2</td>\n",
       "      <td>12.309775</td>\n",
       "      <td>6.876969</td>\n",
       "    </tr>\n",
       "    <tr>\n",
       "      <th>2</th>\n",
       "      <td>Log MARS Degree 1</td>\n",
       "      <td>0.582010</td>\n",
       "      <td>12.918202</td>\n",
       "    </tr>\n",
       "    <tr>\n",
       "      <th>3</th>\n",
       "      <td>Log MARS Degree 2</td>\n",
       "      <td>0.525214</td>\n",
       "      <td>11.657563</td>\n",
       "    </tr>\n",
       "    <tr>\n",
       "      <th>4</th>\n",
       "      <td>MARS Degree 1 (Extreme)</td>\n",
       "      <td>5.533991</td>\n",
       "      <td>3.091615</td>\n",
       "    </tr>\n",
       "    <tr>\n",
       "      <th>5</th>\n",
       "      <td>MARS Degree 2 (Extreme)</td>\n",
       "      <td>4.959099</td>\n",
       "      <td>2.770447</td>\n",
       "    </tr>\n",
       "  </tbody>\n",
       "</table>\n",
       "</div>"
      ],
      "text/plain": [
       "                     Model       RMSE  Normalised RMSE\n",
       "0            MARS Degree 1  13.396318         7.483976\n",
       "1            MARS Degree 2  12.309775         6.876969\n",
       "2        Log MARS Degree 1   0.582010        12.918202\n",
       "3        Log MARS Degree 2   0.525214        11.657563\n",
       "4  MARS Degree 1 (Extreme)   5.533991         3.091615\n",
       "5  MARS Degree 2 (Extreme)   4.959099         2.770447"
      ]
     },
     "execution_count": 141,
     "metadata": {},
     "output_type": "execute_result"
    }
   ],
   "source": [
    "random.seed(2022)\n",
    "mars2_ext = Earth(feature_importance_type='gcv', max_degree=2)\n",
    "mars2_ext.fit(X_ext_train,Y_ext_train)\n",
    "mars2_predict_ext = mars2_ext.predict(X_ext_test)\n",
    "\n",
    "\n",
    "rmse_mars2_ext = np.sqrt(metrics.mean_squared_error(Y_ext_test, mars2_predict_ext))\n",
    "print('RMSE: ', rmse_mars2_ext)\n",
    "\n",
    "# Normalised RMSE\n",
    "rmse_normalised_mars2_ext = np.s7qrt(metrics.mean_squared_error(Y_ext_test, mars2_predict_ext)) / (max(Y_ext_test) - min(Y_ext_test)) * 100\n",
    "print('Normalised RMSE: ', rmse_normalised_mars2_ext)\n",
    "\n",
    "marsResults = marsResults.append({'Model': 'MARS Degree 2 (Extreme)', 'RMSE': rmse_mars2_ext, 'Normalised RMSE': rmse_normalised_mars2_ext}, ignore_index = True)\n",
    "marsResults"
   ]
  },
  {
   "cell_type": "markdown",
   "metadata": {},
   "source": [
    "#### Log Mars Degree 1"
   ]
  },
  {
   "cell_type": "code",
   "execution_count": 201,
   "metadata": {},
   "outputs": [
    {
     "name": "stderr",
     "output_type": "stream",
     "text": [
      "`rcond` parameter will change to the default of machine precision times ``max(M, N)`` where M and N are the input matrix dimensions.\n",
      "To use the future default and silence this warning we advise to pass `rcond=None`, to keep using the old, explicitly pass `rcond=-1`.\n"
     ]
    },
    {
     "name": "stdout",
     "output_type": "stream",
     "text": [
      "RMSE:  5.533991486823178\n",
      "Normalised RMSE:  10.994253361286288\n"
     ]
    },
    {
     "name": "stderr",
     "output_type": "stream",
     "text": [
      "`rcond` parameter will change to the default of machine precision times ``max(M, N)`` where M and N are the input matrix dimensions.\n",
      "To use the future default and silence this warning we advise to pass `rcond=None`, to keep using the old, explicitly pass `rcond=-1`.\n"
     ]
    },
    {
     "data": {
      "text/html": [
       "<div>\n",
       "<style scoped>\n",
       "    .dataframe tbody tr th:only-of-type {\n",
       "        vertical-align: middle;\n",
       "    }\n",
       "\n",
       "    .dataframe tbody tr th {\n",
       "        vertical-align: top;\n",
       "    }\n",
       "\n",
       "    .dataframe thead th {\n",
       "        text-align: right;\n",
       "    }\n",
       "</style>\n",
       "<table border=\"1\" class=\"dataframe\">\n",
       "  <thead>\n",
       "    <tr style=\"text-align: right;\">\n",
       "      <th></th>\n",
       "      <th>Model</th>\n",
       "      <th>RMSE</th>\n",
       "      <th>Normalised RMSE</th>\n",
       "    </tr>\n",
       "  </thead>\n",
       "  <tbody>\n",
       "    <tr>\n",
       "      <th>0</th>\n",
       "      <td>MARS Degree 1</td>\n",
       "      <td>13.396318</td>\n",
       "      <td>7.483976</td>\n",
       "    </tr>\n",
       "    <tr>\n",
       "      <th>1</th>\n",
       "      <td>MARS Degree 2</td>\n",
       "      <td>12.309775</td>\n",
       "      <td>6.876969</td>\n",
       "    </tr>\n",
       "    <tr>\n",
       "      <th>2</th>\n",
       "      <td>Log MARS Degree 1</td>\n",
       "      <td>0.582010</td>\n",
       "      <td>12.918202</td>\n",
       "    </tr>\n",
       "    <tr>\n",
       "      <th>3</th>\n",
       "      <td>Log MARS Degree 2</td>\n",
       "      <td>0.525214</td>\n",
       "      <td>11.657563</td>\n",
       "    </tr>\n",
       "    <tr>\n",
       "      <th>4</th>\n",
       "      <td>MARS Degree 1 (Extreme)</td>\n",
       "      <td>5.533991</td>\n",
       "      <td>3.091615</td>\n",
       "    </tr>\n",
       "    <tr>\n",
       "      <th>5</th>\n",
       "      <td>MARS Degree 2 (Extreme)</td>\n",
       "      <td>4.959099</td>\n",
       "      <td>2.770447</td>\n",
       "    </tr>\n",
       "    <tr>\n",
       "      <th>6</th>\n",
       "      <td>Log MARS Degree 1 (Extreme)</td>\n",
       "      <td>0.495330</td>\n",
       "      <td>10.994253</td>\n",
       "    </tr>\n",
       "  </tbody>\n",
       "</table>\n",
       "</div>"
      ],
      "text/plain": [
       "                         Model       RMSE  Normalised RMSE\n",
       "0                MARS Degree 1  13.396318         7.483976\n",
       "1                MARS Degree 2  12.309775         6.876969\n",
       "2            Log MARS Degree 1   0.582010        12.918202\n",
       "3            Log MARS Degree 2   0.525214        11.657563\n",
       "4      MARS Degree 1 (Extreme)   5.533991         3.091615\n",
       "5      MARS Degree 2 (Extreme)   4.959099         2.770447\n",
       "6  Log MARS Degree 1 (Extreme)   0.495330        10.994253"
      ]
     },
     "execution_count": 201,
     "metadata": {},
     "output_type": "execute_result"
    }
   ],
   "source": [
    "random.seed(2022)\n",
    "log_mars1_ext = Earth(feature_importance_type='gcv', max_degree=1)\n",
    "log_mars1_ext.fit(log_X_ext_train,log_Y_ext_train)\n",
    "log_mars1_predict_ext = log_mars1_ext.predict(log_X_ext_test)\n",
    "\n",
    "\n",
    "rmse_log_mars1_ext = np.sqrt(metrics.mean_squared_error(log_Y_ext_test, log_mars1_predict_ext))\n",
    "print('RMSE: ', rmse_mars1_ext)\n",
    "\n",
    "# Normalised RMSE\n",
    "rmse_normalised_log_mars1_ext = np.sqrt(metrics.mean_squared_error(log_Y_ext_test, log_mars1_predict_ext)) / (max(log_Y_ext_test) - min(log_Y_ext_test)) * 100\n",
    "print('Normalised RMSE: ', rmse_normalised_log_mars1_ext)\n",
    "\n",
    "marsResults = marsResults.append({'Model': 'Log MARS Degree 1 (Extreme)', 'RMSE': rmse_log_mars1_ext, 'Normalised RMSE': rmse_normalised_log_mars1_ext}, ignore_index = True)\n",
    "marsResults"
   ]
  },
  {
   "cell_type": "markdown",
   "metadata": {},
   "source": [
    "#### Logs MARS Degree 2"
   ]
  },
  {
   "cell_type": "code",
   "execution_count": 202,
   "metadata": {},
   "outputs": [
    {
     "name": "stderr",
     "output_type": "stream",
     "text": [
      "`rcond` parameter will change to the default of machine precision times ``max(M, N)`` where M and N are the input matrix dimensions.\n",
      "To use the future default and silence this warning we advise to pass `rcond=None`, to keep using the old, explicitly pass `rcond=-1`.\n"
     ]
    },
    {
     "name": "stdout",
     "output_type": "stream",
     "text": [
      "RMSE:  4.9590994984480545\n",
      "Normalised RMSE:  10.283441921015427\n"
     ]
    },
    {
     "name": "stderr",
     "output_type": "stream",
     "text": [
      "`rcond` parameter will change to the default of machine precision times ``max(M, N)`` where M and N are the input matrix dimensions.\n",
      "To use the future default and silence this warning we advise to pass `rcond=None`, to keep using the old, explicitly pass `rcond=-1`.\n"
     ]
    },
    {
     "data": {
      "text/html": [
       "<div>\n",
       "<style scoped>\n",
       "    .dataframe tbody tr th:only-of-type {\n",
       "        vertical-align: middle;\n",
       "    }\n",
       "\n",
       "    .dataframe tbody tr th {\n",
       "        vertical-align: top;\n",
       "    }\n",
       "\n",
       "    .dataframe thead th {\n",
       "        text-align: right;\n",
       "    }\n",
       "</style>\n",
       "<table border=\"1\" class=\"dataframe\">\n",
       "  <thead>\n",
       "    <tr style=\"text-align: right;\">\n",
       "      <th></th>\n",
       "      <th>Model</th>\n",
       "      <th>RMSE</th>\n",
       "      <th>Normalised RMSE</th>\n",
       "    </tr>\n",
       "  </thead>\n",
       "  <tbody>\n",
       "    <tr>\n",
       "      <th>0</th>\n",
       "      <td>MARS Degree 1</td>\n",
       "      <td>13.396318</td>\n",
       "      <td>7.483976</td>\n",
       "    </tr>\n",
       "    <tr>\n",
       "      <th>1</th>\n",
       "      <td>MARS Degree 2</td>\n",
       "      <td>12.309775</td>\n",
       "      <td>6.876969</td>\n",
       "    </tr>\n",
       "    <tr>\n",
       "      <th>2</th>\n",
       "      <td>Log MARS Degree 1</td>\n",
       "      <td>0.582010</td>\n",
       "      <td>12.918202</td>\n",
       "    </tr>\n",
       "    <tr>\n",
       "      <th>3</th>\n",
       "      <td>Log MARS Degree 2</td>\n",
       "      <td>0.525214</td>\n",
       "      <td>11.657563</td>\n",
       "    </tr>\n",
       "    <tr>\n",
       "      <th>4</th>\n",
       "      <td>MARS Degree 1 (Extreme)</td>\n",
       "      <td>5.533991</td>\n",
       "      <td>3.091615</td>\n",
       "    </tr>\n",
       "    <tr>\n",
       "      <th>5</th>\n",
       "      <td>MARS Degree 2 (Extreme)</td>\n",
       "      <td>4.959099</td>\n",
       "      <td>2.770447</td>\n",
       "    </tr>\n",
       "    <tr>\n",
       "      <th>6</th>\n",
       "      <td>Log MARS Degree 1 (Extreme)</td>\n",
       "      <td>0.495330</td>\n",
       "      <td>10.994253</td>\n",
       "    </tr>\n",
       "    <tr>\n",
       "      <th>7</th>\n",
       "      <td>Log MARS Degree 2 (Extreme)</td>\n",
       "      <td>0.463305</td>\n",
       "      <td>10.283442</td>\n",
       "    </tr>\n",
       "  </tbody>\n",
       "</table>\n",
       "</div>"
      ],
      "text/plain": [
       "                         Model       RMSE  Normalised RMSE\n",
       "0                MARS Degree 1  13.396318         7.483976\n",
       "1                MARS Degree 2  12.309775         6.876969\n",
       "2            Log MARS Degree 1   0.582010        12.918202\n",
       "3            Log MARS Degree 2   0.525214        11.657563\n",
       "4      MARS Degree 1 (Extreme)   5.533991         3.091615\n",
       "5      MARS Degree 2 (Extreme)   4.959099         2.770447\n",
       "6  Log MARS Degree 1 (Extreme)   0.495330        10.994253\n",
       "7  Log MARS Degree 2 (Extreme)   0.463305        10.283442"
      ]
     },
     "execution_count": 202,
     "metadata": {},
     "output_type": "execute_result"
    }
   ],
   "source": [
    "random.seed(2022)\n",
    "log_mars2_ext = Earth(feature_importance_type='gcv', max_degree=2)\n",
    "log_mars2_ext.fit(log_X_ext_train,log_Y_ext_train)\n",
    "log_mars2_predict_ext = log_mars2_ext.predict(log_X_ext_test)\n",
    "\n",
    "\n",
    "rmse_log_mars2_ext = np.sqrt(metrics.mean_squared_error(log_Y_ext_test, log_mars2_predict_ext))\n",
    "print('RMSE: ', rmse_mars2_ext)\n",
    "\n",
    "# Normalised RMSE\n",
    "rmse_normalised_log_mars2_ext = np.sqrt(metrics.mean_squared_error(log_Y_ext_test, log_mars2_predict_ext)) / (max(log_Y_ext_test) - min(log_Y_ext_test)) * 100\n",
    "print('Normalised RMSE: ', rmse_normalised_log_mars2_ext)\n",
    "\n",
    "marsResults = marsResults.append({'Model': 'Log MARS Degree 2 (Extreme)', 'RMSE': rmse_log_mars2_ext, 'Normalised RMSE': rmse_normalised_log_mars2_ext}, ignore_index = True)\n",
    "marsResults"
   ]
  },
  {
   "cell_type": "markdown",
   "metadata": {},
   "source": [
    "### Moderate Severity"
   ]
  },
  {
   "cell_type": "markdown",
   "metadata": {},
   "source": [
    "#### MARS Degree 1"
   ]
  },
  {
   "cell_type": "code",
   "execution_count": 203,
   "metadata": {},
   "outputs": [
    {
     "name": "stderr",
     "output_type": "stream",
     "text": [
      "`rcond` parameter will change to the default of machine precision times ``max(M, N)`` where M and N are the input matrix dimensions.\n",
      "To use the future default and silence this warning we advise to pass `rcond=None`, to keep using the old, explicitly pass `rcond=-1`.\n"
     ]
    },
    {
     "name": "stdout",
     "output_type": "stream",
     "text": [
      "RMSE:  16.32386867966768\n",
      "Normalised RMSE:  9.119479709311552\n"
     ]
    },
    {
     "name": "stderr",
     "output_type": "stream",
     "text": [
      "`rcond` parameter will change to the default of machine precision times ``max(M, N)`` where M and N are the input matrix dimensions.\n",
      "To use the future default and silence this warning we advise to pass `rcond=None`, to keep using the old, explicitly pass `rcond=-1`.\n"
     ]
    },
    {
     "data": {
      "text/html": [
       "<div>\n",
       "<style scoped>\n",
       "    .dataframe tbody tr th:only-of-type {\n",
       "        vertical-align: middle;\n",
       "    }\n",
       "\n",
       "    .dataframe tbody tr th {\n",
       "        vertical-align: top;\n",
       "    }\n",
       "\n",
       "    .dataframe thead th {\n",
       "        text-align: right;\n",
       "    }\n",
       "</style>\n",
       "<table border=\"1\" class=\"dataframe\">\n",
       "  <thead>\n",
       "    <tr style=\"text-align: right;\">\n",
       "      <th></th>\n",
       "      <th>Model</th>\n",
       "      <th>RMSE</th>\n",
       "      <th>Normalised RMSE</th>\n",
       "    </tr>\n",
       "  </thead>\n",
       "  <tbody>\n",
       "    <tr>\n",
       "      <th>0</th>\n",
       "      <td>MARS Degree 1</td>\n",
       "      <td>13.396318</td>\n",
       "      <td>7.483976</td>\n",
       "    </tr>\n",
       "    <tr>\n",
       "      <th>1</th>\n",
       "      <td>MARS Degree 2</td>\n",
       "      <td>12.309775</td>\n",
       "      <td>6.876969</td>\n",
       "    </tr>\n",
       "    <tr>\n",
       "      <th>2</th>\n",
       "      <td>Log MARS Degree 1</td>\n",
       "      <td>0.582010</td>\n",
       "      <td>12.918202</td>\n",
       "    </tr>\n",
       "    <tr>\n",
       "      <th>3</th>\n",
       "      <td>Log MARS Degree 2</td>\n",
       "      <td>0.525214</td>\n",
       "      <td>11.657563</td>\n",
       "    </tr>\n",
       "    <tr>\n",
       "      <th>4</th>\n",
       "      <td>MARS Degree 1 (Extreme)</td>\n",
       "      <td>5.533991</td>\n",
       "      <td>3.091615</td>\n",
       "    </tr>\n",
       "    <tr>\n",
       "      <th>5</th>\n",
       "      <td>MARS Degree 2 (Extreme)</td>\n",
       "      <td>4.959099</td>\n",
       "      <td>2.770447</td>\n",
       "    </tr>\n",
       "    <tr>\n",
       "      <th>6</th>\n",
       "      <td>Log MARS Degree 1 (Extreme)</td>\n",
       "      <td>0.495330</td>\n",
       "      <td>10.994253</td>\n",
       "    </tr>\n",
       "    <tr>\n",
       "      <th>7</th>\n",
       "      <td>Log MARS Degree 2 (Extreme)</td>\n",
       "      <td>0.463305</td>\n",
       "      <td>10.283442</td>\n",
       "    </tr>\n",
       "    <tr>\n",
       "      <th>8</th>\n",
       "      <td>MARS Degree 1 (Moderate)</td>\n",
       "      <td>16.323869</td>\n",
       "      <td>9.119480</td>\n",
       "    </tr>\n",
       "  </tbody>\n",
       "</table>\n",
       "</div>"
      ],
      "text/plain": [
       "                         Model       RMSE  Normalised RMSE\n",
       "0                MARS Degree 1  13.396318         7.483976\n",
       "1                MARS Degree 2  12.309775         6.876969\n",
       "2            Log MARS Degree 1   0.582010        12.918202\n",
       "3            Log MARS Degree 2   0.525214        11.657563\n",
       "4      MARS Degree 1 (Extreme)   5.533991         3.091615\n",
       "5      MARS Degree 2 (Extreme)   4.959099         2.770447\n",
       "6  Log MARS Degree 1 (Extreme)   0.495330        10.994253\n",
       "7  Log MARS Degree 2 (Extreme)   0.463305        10.283442\n",
       "8     MARS Degree 1 (Moderate)  16.323869         9.119480"
      ]
     },
     "execution_count": 203,
     "metadata": {},
     "output_type": "execute_result"
    }
   ],
   "source": [
    "random.seed(2022)\n",
    "mars1_mod = Earth(feature_importance_type='gcv')\n",
    "mars1_mod.fit(X_mod_train,Y_mod_train)\n",
    "mars1_predict_mod = mars1_mod.predict(X_mod_test)\n",
    "\n",
    "\n",
    "rmse_mars1_mod = np.sqrt(metrics.mean_squared_error(Y_mod_test, mars1_predict_mod))\n",
    "print('RMSE: ', rmse_mars1_mod)\n",
    "\n",
    "# Normalised RMSE\n",
    "rmse_normalised_mars1_mod = np.sqrt(metrics.mean_squared_error(Y_mod_test, mars1_predict_mod)) / (max(Y_mod_test) - min(Y_mod_test)) * 100\n",
    "print('Normalised RMSE: ', rmse_normalised_mars1_mod)\n",
    "\n",
    "marsResults = marsResults.append({'Model': 'MARS Degree 1 (Moderate)', 'RMSE': rmse_mars1_mod, 'Normalised RMSE': rmse_normalised_mars1_mod}, ignore_index = True)\n",
    "marsResults"
   ]
  },
  {
   "cell_type": "markdown",
   "metadata": {},
   "source": [
    "#### MARS Degree 2"
   ]
  },
  {
   "cell_type": "code",
   "execution_count": 204,
   "metadata": {},
   "outputs": [
    {
     "name": "stderr",
     "output_type": "stream",
     "text": [
      "`rcond` parameter will change to the default of machine precision times ``max(M, N)`` where M and N are the input matrix dimensions.\n",
      "To use the future default and silence this warning we advise to pass `rcond=None`, to keep using the old, explicitly pass `rcond=-1`.\n"
     ]
    },
    {
     "name": "stdout",
     "output_type": "stream",
     "text": [
      "RMSE:  15.370329814061474\n",
      "Normalised RMSE:  8.586776432436578\n"
     ]
    },
    {
     "name": "stderr",
     "output_type": "stream",
     "text": [
      "`rcond` parameter will change to the default of machine precision times ``max(M, N)`` where M and N are the input matrix dimensions.\n",
      "To use the future default and silence this warning we advise to pass `rcond=None`, to keep using the old, explicitly pass `rcond=-1`.\n"
     ]
    },
    {
     "data": {
      "text/html": [
       "<div>\n",
       "<style scoped>\n",
       "    .dataframe tbody tr th:only-of-type {\n",
       "        vertical-align: middle;\n",
       "    }\n",
       "\n",
       "    .dataframe tbody tr th {\n",
       "        vertical-align: top;\n",
       "    }\n",
       "\n",
       "    .dataframe thead th {\n",
       "        text-align: right;\n",
       "    }\n",
       "</style>\n",
       "<table border=\"1\" class=\"dataframe\">\n",
       "  <thead>\n",
       "    <tr style=\"text-align: right;\">\n",
       "      <th></th>\n",
       "      <th>Model</th>\n",
       "      <th>RMSE</th>\n",
       "      <th>Normalised RMSE</th>\n",
       "    </tr>\n",
       "  </thead>\n",
       "  <tbody>\n",
       "    <tr>\n",
       "      <th>0</th>\n",
       "      <td>MARS Degree 1</td>\n",
       "      <td>13.396318</td>\n",
       "      <td>7.483976</td>\n",
       "    </tr>\n",
       "    <tr>\n",
       "      <th>1</th>\n",
       "      <td>MARS Degree 2</td>\n",
       "      <td>12.309775</td>\n",
       "      <td>6.876969</td>\n",
       "    </tr>\n",
       "    <tr>\n",
       "      <th>2</th>\n",
       "      <td>Log MARS Degree 1</td>\n",
       "      <td>0.582010</td>\n",
       "      <td>12.918202</td>\n",
       "    </tr>\n",
       "    <tr>\n",
       "      <th>3</th>\n",
       "      <td>Log MARS Degree 2</td>\n",
       "      <td>0.525214</td>\n",
       "      <td>11.657563</td>\n",
       "    </tr>\n",
       "    <tr>\n",
       "      <th>4</th>\n",
       "      <td>MARS Degree 1 (Extreme)</td>\n",
       "      <td>5.533991</td>\n",
       "      <td>3.091615</td>\n",
       "    </tr>\n",
       "    <tr>\n",
       "      <th>5</th>\n",
       "      <td>MARS Degree 2 (Extreme)</td>\n",
       "      <td>4.959099</td>\n",
       "      <td>2.770447</td>\n",
       "    </tr>\n",
       "    <tr>\n",
       "      <th>6</th>\n",
       "      <td>Log MARS Degree 1 (Extreme)</td>\n",
       "      <td>0.495330</td>\n",
       "      <td>10.994253</td>\n",
       "    </tr>\n",
       "    <tr>\n",
       "      <th>7</th>\n",
       "      <td>Log MARS Degree 2 (Extreme)</td>\n",
       "      <td>0.463305</td>\n",
       "      <td>10.283442</td>\n",
       "    </tr>\n",
       "    <tr>\n",
       "      <th>8</th>\n",
       "      <td>MARS Degree 1 (Moderate)</td>\n",
       "      <td>16.323869</td>\n",
       "      <td>9.119480</td>\n",
       "    </tr>\n",
       "    <tr>\n",
       "      <th>9</th>\n",
       "      <td>MARS Degree 2 (Moderate)</td>\n",
       "      <td>15.370330</td>\n",
       "      <td>8.586776</td>\n",
       "    </tr>\n",
       "  </tbody>\n",
       "</table>\n",
       "</div>"
      ],
      "text/plain": [
       "                         Model       RMSE  Normalised RMSE\n",
       "0                MARS Degree 1  13.396318         7.483976\n",
       "1                MARS Degree 2  12.309775         6.876969\n",
       "2            Log MARS Degree 1   0.582010        12.918202\n",
       "3            Log MARS Degree 2   0.525214        11.657563\n",
       "4      MARS Degree 1 (Extreme)   5.533991         3.091615\n",
       "5      MARS Degree 2 (Extreme)   4.959099         2.770447\n",
       "6  Log MARS Degree 1 (Extreme)   0.495330        10.994253\n",
       "7  Log MARS Degree 2 (Extreme)   0.463305        10.283442\n",
       "8     MARS Degree 1 (Moderate)  16.323869         9.119480\n",
       "9     MARS Degree 2 (Moderate)  15.370330         8.586776"
      ]
     },
     "execution_count": 204,
     "metadata": {},
     "output_type": "execute_result"
    }
   ],
   "source": [
    "random.seed(2022)\n",
    "mars2_mod = Earth(feature_importance_type='gcv', max_degree=2)\n",
    "mars2_mod.fit(X_mod_train,Y_mod_train)\n",
    "mars2_predict_mod = mars2_mod.predict(X_mod_test)\n",
    "\n",
    "\n",
    "rmse_mars2_mod = np.sqrt(metrics.mean_squared_error(Y_mod_test, mars2_predict_mod))\n",
    "print('RMSE: ', rmse_mars2_mod)\n",
    "\n",
    "# Normalised RMSE\n",
    "rmse_normalised_mars2_mod = np.sqrt(metrics.mean_squared_error(Y_mod_test, mars2_predict_mod)) / (max(Y_mod_test) - min(Y_mod_test)) * 100\n",
    "print('Normalised RMSE: ', rmse_normalised_mars2_mod)\n",
    "\n",
    "marsResults = marsResults.append({'Model': 'MARS Degree 2 (Moderate)', 'RMSE': rmse_mars2_mod, 'Normalised RMSE': rmse_normalised_mars2_mod}, ignore_index = True)\n",
    "marsResults"
   ]
  },
  {
   "cell_type": "markdown",
   "metadata": {},
   "source": [
    "#### Log MARS Degree 1"
   ]
  },
  {
   "cell_type": "code",
   "execution_count": 205,
   "metadata": {},
   "outputs": [
    {
     "name": "stderr",
     "output_type": "stream",
     "text": [
      "`rcond` parameter will change to the default of machine precision times ``max(M, N)`` where M and N are the input matrix dimensions.\n",
      "To use the future default and silence this warning we advise to pass `rcond=None`, to keep using the old, explicitly pass `rcond=-1`.\n"
     ]
    },
    {
     "name": "stdout",
     "output_type": "stream",
     "text": [
      "RMSE:  16.32386867966768\n",
      "Normalised RMSE:  13.434249995624572\n"
     ]
    },
    {
     "name": "stderr",
     "output_type": "stream",
     "text": [
      "`rcond` parameter will change to the default of machine precision times ``max(M, N)`` where M and N are the input matrix dimensions.\n",
      "To use the future default and silence this warning we advise to pass `rcond=None`, to keep using the old, explicitly pass `rcond=-1`.\n"
     ]
    },
    {
     "data": {
      "text/html": [
       "<div>\n",
       "<style scoped>\n",
       "    .dataframe tbody tr th:only-of-type {\n",
       "        vertical-align: middle;\n",
       "    }\n",
       "\n",
       "    .dataframe tbody tr th {\n",
       "        vertical-align: top;\n",
       "    }\n",
       "\n",
       "    .dataframe thead th {\n",
       "        text-align: right;\n",
       "    }\n",
       "</style>\n",
       "<table border=\"1\" class=\"dataframe\">\n",
       "  <thead>\n",
       "    <tr style=\"text-align: right;\">\n",
       "      <th></th>\n",
       "      <th>Model</th>\n",
       "      <th>RMSE</th>\n",
       "      <th>Normalised RMSE</th>\n",
       "    </tr>\n",
       "  </thead>\n",
       "  <tbody>\n",
       "    <tr>\n",
       "      <th>0</th>\n",
       "      <td>MARS Degree 1</td>\n",
       "      <td>13.396318</td>\n",
       "      <td>7.483976</td>\n",
       "    </tr>\n",
       "    <tr>\n",
       "      <th>1</th>\n",
       "      <td>MARS Degree 2</td>\n",
       "      <td>12.309775</td>\n",
       "      <td>6.876969</td>\n",
       "    </tr>\n",
       "    <tr>\n",
       "      <th>2</th>\n",
       "      <td>Log MARS Degree 1</td>\n",
       "      <td>0.582010</td>\n",
       "      <td>12.918202</td>\n",
       "    </tr>\n",
       "    <tr>\n",
       "      <th>3</th>\n",
       "      <td>Log MARS Degree 2</td>\n",
       "      <td>0.525214</td>\n",
       "      <td>11.657563</td>\n",
       "    </tr>\n",
       "    <tr>\n",
       "      <th>4</th>\n",
       "      <td>MARS Degree 1 (Extreme)</td>\n",
       "      <td>5.533991</td>\n",
       "      <td>3.091615</td>\n",
       "    </tr>\n",
       "    <tr>\n",
       "      <th>5</th>\n",
       "      <td>MARS Degree 2 (Extreme)</td>\n",
       "      <td>4.959099</td>\n",
       "      <td>2.770447</td>\n",
       "    </tr>\n",
       "    <tr>\n",
       "      <th>6</th>\n",
       "      <td>Log MARS Degree 1 (Extreme)</td>\n",
       "      <td>0.495330</td>\n",
       "      <td>10.994253</td>\n",
       "    </tr>\n",
       "    <tr>\n",
       "      <th>7</th>\n",
       "      <td>Log MARS Degree 2 (Extreme)</td>\n",
       "      <td>0.463305</td>\n",
       "      <td>10.283442</td>\n",
       "    </tr>\n",
       "    <tr>\n",
       "      <th>8</th>\n",
       "      <td>MARS Degree 1 (Moderate)</td>\n",
       "      <td>16.323869</td>\n",
       "      <td>9.119480</td>\n",
       "    </tr>\n",
       "    <tr>\n",
       "      <th>9</th>\n",
       "      <td>MARS Degree 2 (Moderate)</td>\n",
       "      <td>15.370330</td>\n",
       "      <td>8.586776</td>\n",
       "    </tr>\n",
       "    <tr>\n",
       "      <th>10</th>\n",
       "      <td>Log MARS Degree 1 (Moderate)</td>\n",
       "      <td>0.605260</td>\n",
       "      <td>13.434250</td>\n",
       "    </tr>\n",
       "  </tbody>\n",
       "</table>\n",
       "</div>"
      ],
      "text/plain": [
       "                           Model       RMSE  Normalised RMSE\n",
       "0                  MARS Degree 1  13.396318         7.483976\n",
       "1                  MARS Degree 2  12.309775         6.876969\n",
       "2              Log MARS Degree 1   0.582010        12.918202\n",
       "3              Log MARS Degree 2   0.525214        11.657563\n",
       "4        MARS Degree 1 (Extreme)   5.533991         3.091615\n",
       "5        MARS Degree 2 (Extreme)   4.959099         2.770447\n",
       "6    Log MARS Degree 1 (Extreme)   0.495330        10.994253\n",
       "7    Log MARS Degree 2 (Extreme)   0.463305        10.283442\n",
       "8       MARS Degree 1 (Moderate)  16.323869         9.119480\n",
       "9       MARS Degree 2 (Moderate)  15.370330         8.586776\n",
       "10  Log MARS Degree 1 (Moderate)   0.605260        13.434250"
      ]
     },
     "execution_count": 205,
     "metadata": {},
     "output_type": "execute_result"
    }
   ],
   "source": [
    "random.seed(2022)\n",
    "log_mars1_mod = Earth(feature_importance_type='gcv')\n",
    "log_mars1_mod.fit(log_X_mod_train,log_Y_mod_train)\n",
    "log_mars1_predict_mod = log_mars1_mod.predict(log_X_mod_test)\n",
    "\n",
    "\n",
    "rmse_log_mars1_mod = np.sqrt(metrics.mean_squared_error(log_Y_mod_test, log_mars1_predict_mod))\n",
    "print('RMSE: ', rmse_mars1_mod)\n",
    "\n",
    "# Normalised RMSE\n",
    "rmse_normalised_log_mars1_mod = np.sqrt(metrics.mean_squared_error(log_Y_mod_test, log_mars1_predict_mod)) / (max(log_Y_mod_test) - min(log_Y_mod_test)) * 100\n",
    "print('Normalised RMSE: ', rmse_normalised_log_mars1_mod)\n",
    "\n",
    "marsResults = marsResults.append({'Model': 'Log MARS Degree 1 (Moderate)', 'RMSE': rmse_log_mars1_mod, 'Normalised RMSE': rmse_normalised_log_mars1_mod}, ignore_index = True)\n",
    "marsResults"
   ]
  },
  {
   "cell_type": "markdown",
   "metadata": {},
   "source": [
    "#### Log MARS Degree 2"
   ]
  },
  {
   "cell_type": "code",
   "execution_count": 206,
   "metadata": {},
   "outputs": [
    {
     "name": "stderr",
     "output_type": "stream",
     "text": [
      "`rcond` parameter will change to the default of machine precision times ``max(M, N)`` where M and N are the input matrix dimensions.\n",
      "To use the future default and silence this warning we advise to pass `rcond=None`, to keep using the old, explicitly pass `rcond=-1`.\n"
     ]
    },
    {
     "name": "stdout",
     "output_type": "stream",
     "text": [
      "RMSE:  15.370329814061474\n",
      "Normalised RMSE:  12.456869678383798\n"
     ]
    },
    {
     "name": "stderr",
     "output_type": "stream",
     "text": [
      "`rcond` parameter will change to the default of machine precision times ``max(M, N)`` where M and N are the input matrix dimensions.\n",
      "To use the future default and silence this warning we advise to pass `rcond=None`, to keep using the old, explicitly pass `rcond=-1`.\n"
     ]
    },
    {
     "data": {
      "text/html": [
       "<div>\n",
       "<style scoped>\n",
       "    .dataframe tbody tr th:only-of-type {\n",
       "        vertical-align: middle;\n",
       "    }\n",
       "\n",
       "    .dataframe tbody tr th {\n",
       "        vertical-align: top;\n",
       "    }\n",
       "\n",
       "    .dataframe thead th {\n",
       "        text-align: right;\n",
       "    }\n",
       "</style>\n",
       "<table border=\"1\" class=\"dataframe\">\n",
       "  <thead>\n",
       "    <tr style=\"text-align: right;\">\n",
       "      <th></th>\n",
       "      <th>Model</th>\n",
       "      <th>RMSE</th>\n",
       "      <th>Normalised RMSE</th>\n",
       "    </tr>\n",
       "  </thead>\n",
       "  <tbody>\n",
       "    <tr>\n",
       "      <th>0</th>\n",
       "      <td>MARS Degree 1</td>\n",
       "      <td>13.396318</td>\n",
       "      <td>7.483976</td>\n",
       "    </tr>\n",
       "    <tr>\n",
       "      <th>1</th>\n",
       "      <td>MARS Degree 2</td>\n",
       "      <td>12.309775</td>\n",
       "      <td>6.876969</td>\n",
       "    </tr>\n",
       "    <tr>\n",
       "      <th>2</th>\n",
       "      <td>Log MARS Degree 1</td>\n",
       "      <td>0.582010</td>\n",
       "      <td>12.918202</td>\n",
       "    </tr>\n",
       "    <tr>\n",
       "      <th>3</th>\n",
       "      <td>Log MARS Degree 2</td>\n",
       "      <td>0.525214</td>\n",
       "      <td>11.657563</td>\n",
       "    </tr>\n",
       "    <tr>\n",
       "      <th>4</th>\n",
       "      <td>MARS Degree 1 (Extreme)</td>\n",
       "      <td>5.533991</td>\n",
       "      <td>3.091615</td>\n",
       "    </tr>\n",
       "    <tr>\n",
       "      <th>5</th>\n",
       "      <td>MARS Degree 2 (Extreme)</td>\n",
       "      <td>4.959099</td>\n",
       "      <td>2.770447</td>\n",
       "    </tr>\n",
       "    <tr>\n",
       "      <th>6</th>\n",
       "      <td>Log MARS Degree 1 (Extreme)</td>\n",
       "      <td>0.495330</td>\n",
       "      <td>10.994253</td>\n",
       "    </tr>\n",
       "    <tr>\n",
       "      <th>7</th>\n",
       "      <td>Log MARS Degree 2 (Extreme)</td>\n",
       "      <td>0.463305</td>\n",
       "      <td>10.283442</td>\n",
       "    </tr>\n",
       "    <tr>\n",
       "      <th>8</th>\n",
       "      <td>MARS Degree 1 (Moderate)</td>\n",
       "      <td>16.323869</td>\n",
       "      <td>9.119480</td>\n",
       "    </tr>\n",
       "    <tr>\n",
       "      <th>9</th>\n",
       "      <td>MARS Degree 2 (Moderate)</td>\n",
       "      <td>15.370330</td>\n",
       "      <td>8.586776</td>\n",
       "    </tr>\n",
       "    <tr>\n",
       "      <th>10</th>\n",
       "      <td>Log MARS Degree 1 (Moderate)</td>\n",
       "      <td>0.605260</td>\n",
       "      <td>13.434250</td>\n",
       "    </tr>\n",
       "    <tr>\n",
       "      <th>11</th>\n",
       "      <td>Log MARS Degree 2 (Moderate)</td>\n",
       "      <td>0.561226</td>\n",
       "      <td>12.456870</td>\n",
       "    </tr>\n",
       "  </tbody>\n",
       "</table>\n",
       "</div>"
      ],
      "text/plain": [
       "                           Model       RMSE  Normalised RMSE\n",
       "0                  MARS Degree 1  13.396318         7.483976\n",
       "1                  MARS Degree 2  12.309775         6.876969\n",
       "2              Log MARS Degree 1   0.582010        12.918202\n",
       "3              Log MARS Degree 2   0.525214        11.657563\n",
       "4        MARS Degree 1 (Extreme)   5.533991         3.091615\n",
       "5        MARS Degree 2 (Extreme)   4.959099         2.770447\n",
       "6    Log MARS Degree 1 (Extreme)   0.495330        10.994253\n",
       "7    Log MARS Degree 2 (Extreme)   0.463305        10.283442\n",
       "8       MARS Degree 1 (Moderate)  16.323869         9.119480\n",
       "9       MARS Degree 2 (Moderate)  15.370330         8.586776\n",
       "10  Log MARS Degree 1 (Moderate)   0.605260        13.434250\n",
       "11  Log MARS Degree 2 (Moderate)   0.561226        12.456870"
      ]
     },
     "execution_count": 206,
     "metadata": {},
     "output_type": "execute_result"
    }
   ],
   "source": [
    "random.seed(2022)\n",
    "log_mars2_mod = Earth(feature_importance_type='gcv', max_degree=2)\n",
    "log_mars2_mod.fit(log_X_mod_train,log_Y_mod_train)\n",
    "log_mars2_predict_mod = log_mars2_mod.predict(log_X_mod_test)\n",
    "\n",
    "\n",
    "rmse_log_mars2_mod = np.sqrt(metrics.mean_squared_error(log_Y_mod_test, log_mars2_predict_mod))\n",
    "print('RMSE: ', rmse_mars2_mod)\n",
    "\n",
    "# Normalised RMSE\n",
    "rmse_normalised_log_mars2_mod = np.sqrt(metrics.mean_squared_error(log_Y_mod_test, log_mars2_predict_mod)) / (max(log_Y_mod_test) - min(log_Y_mod_test)) * 100\n",
    "print('Normalised RMSE: ', rmse_normalised_log_mars2_mod)\n",
    "\n",
    "marsResults = marsResults.append({'Model': 'Log MARS Degree 2 (Moderate)', 'RMSE': rmse_log_mars2_mod, 'Normalised RMSE': rmse_normalised_log_mars2_mod}, ignore_index = True)\n",
    "marsResults"
   ]
  },
  {
   "cell_type": "markdown",
   "metadata": {},
   "source": [
    "### Minor"
   ]
  },
  {
   "cell_type": "markdown",
   "metadata": {},
   "source": [
    "#### MARS Degree 1"
   ]
  },
  {
   "cell_type": "code",
   "execution_count": 207,
   "metadata": {},
   "outputs": [
    {
     "name": "stdout",
     "output_type": "stream",
     "text": [
      "RMSE:  9.17686432643067\n",
      "Normalised RMSE:  5.126739847167972\n"
     ]
    },
    {
     "name": "stderr",
     "output_type": "stream",
     "text": [
      "`rcond` parameter will change to the default of machine precision times ``max(M, N)`` where M and N are the input matrix dimensions.\n",
      "To use the future default and silence this warning we advise to pass `rcond=None`, to keep using the old, explicitly pass `rcond=-1`.\n",
      "`rcond` parameter will change to the default of machine precision times ``max(M, N)`` where M and N are the input matrix dimensions.\n",
      "To use the future default and silence this warning we advise to pass `rcond=None`, to keep using the old, explicitly pass `rcond=-1`.\n"
     ]
    },
    {
     "data": {
      "text/html": [
       "<div>\n",
       "<style scoped>\n",
       "    .dataframe tbody tr th:only-of-type {\n",
       "        vertical-align: middle;\n",
       "    }\n",
       "\n",
       "    .dataframe tbody tr th {\n",
       "        vertical-align: top;\n",
       "    }\n",
       "\n",
       "    .dataframe thead th {\n",
       "        text-align: right;\n",
       "    }\n",
       "</style>\n",
       "<table border=\"1\" class=\"dataframe\">\n",
       "  <thead>\n",
       "    <tr style=\"text-align: right;\">\n",
       "      <th></th>\n",
       "      <th>Model</th>\n",
       "      <th>RMSE</th>\n",
       "      <th>Normalised RMSE</th>\n",
       "    </tr>\n",
       "  </thead>\n",
       "  <tbody>\n",
       "    <tr>\n",
       "      <th>0</th>\n",
       "      <td>MARS Degree 1</td>\n",
       "      <td>13.396318</td>\n",
       "      <td>7.483976</td>\n",
       "    </tr>\n",
       "    <tr>\n",
       "      <th>1</th>\n",
       "      <td>MARS Degree 2</td>\n",
       "      <td>12.309775</td>\n",
       "      <td>6.876969</td>\n",
       "    </tr>\n",
       "    <tr>\n",
       "      <th>2</th>\n",
       "      <td>Log MARS Degree 1</td>\n",
       "      <td>0.582010</td>\n",
       "      <td>12.918202</td>\n",
       "    </tr>\n",
       "    <tr>\n",
       "      <th>3</th>\n",
       "      <td>Log MARS Degree 2</td>\n",
       "      <td>0.525214</td>\n",
       "      <td>11.657563</td>\n",
       "    </tr>\n",
       "    <tr>\n",
       "      <th>4</th>\n",
       "      <td>MARS Degree 1 (Extreme)</td>\n",
       "      <td>5.533991</td>\n",
       "      <td>3.091615</td>\n",
       "    </tr>\n",
       "    <tr>\n",
       "      <th>5</th>\n",
       "      <td>MARS Degree 2 (Extreme)</td>\n",
       "      <td>4.959099</td>\n",
       "      <td>2.770447</td>\n",
       "    </tr>\n",
       "    <tr>\n",
       "      <th>6</th>\n",
       "      <td>Log MARS Degree 1 (Extreme)</td>\n",
       "      <td>0.495330</td>\n",
       "      <td>10.994253</td>\n",
       "    </tr>\n",
       "    <tr>\n",
       "      <th>7</th>\n",
       "      <td>Log MARS Degree 2 (Extreme)</td>\n",
       "      <td>0.463305</td>\n",
       "      <td>10.283442</td>\n",
       "    </tr>\n",
       "    <tr>\n",
       "      <th>8</th>\n",
       "      <td>MARS Degree 1 (Moderate)</td>\n",
       "      <td>16.323869</td>\n",
       "      <td>9.119480</td>\n",
       "    </tr>\n",
       "    <tr>\n",
       "      <th>9</th>\n",
       "      <td>MARS Degree 2 (Moderate)</td>\n",
       "      <td>15.370330</td>\n",
       "      <td>8.586776</td>\n",
       "    </tr>\n",
       "    <tr>\n",
       "      <th>10</th>\n",
       "      <td>Log MARS Degree 1 (Moderate)</td>\n",
       "      <td>0.605260</td>\n",
       "      <td>13.434250</td>\n",
       "    </tr>\n",
       "    <tr>\n",
       "      <th>11</th>\n",
       "      <td>Log MARS Degree 2 (Moderate)</td>\n",
       "      <td>0.561226</td>\n",
       "      <td>12.456870</td>\n",
       "    </tr>\n",
       "    <tr>\n",
       "      <th>12</th>\n",
       "      <td>MARS Degree 1 (Minor)</td>\n",
       "      <td>9.176864</td>\n",
       "      <td>5.126740</td>\n",
       "    </tr>\n",
       "  </tbody>\n",
       "</table>\n",
       "</div>"
      ],
      "text/plain": [
       "                           Model       RMSE  Normalised RMSE\n",
       "0                  MARS Degree 1  13.396318         7.483976\n",
       "1                  MARS Degree 2  12.309775         6.876969\n",
       "2              Log MARS Degree 1   0.582010        12.918202\n",
       "3              Log MARS Degree 2   0.525214        11.657563\n",
       "4        MARS Degree 1 (Extreme)   5.533991         3.091615\n",
       "5        MARS Degree 2 (Extreme)   4.959099         2.770447\n",
       "6    Log MARS Degree 1 (Extreme)   0.495330        10.994253\n",
       "7    Log MARS Degree 2 (Extreme)   0.463305        10.283442\n",
       "8       MARS Degree 1 (Moderate)  16.323869         9.119480\n",
       "9       MARS Degree 2 (Moderate)  15.370330         8.586776\n",
       "10  Log MARS Degree 1 (Moderate)   0.605260        13.434250\n",
       "11  Log MARS Degree 2 (Moderate)   0.561226        12.456870\n",
       "12         MARS Degree 1 (Minor)   9.176864         5.126740"
      ]
     },
     "execution_count": 207,
     "metadata": {},
     "output_type": "execute_result"
    }
   ],
   "source": [
    "random.seed(2022)\n",
    "mars1_min = Earth(feature_importance_type='gcv')\n",
    "mars1_min.fit(X_min_train,Y_min_train)\n",
    "mars1_predict_min = mars1_min.predict(X_min_test)\n",
    "\n",
    "\n",
    "rmse_mars1_min = np.sqrt(metrics.mean_squared_error(Y_min_test, mars1_predict_min))\n",
    "print('RMSE: ', rmse_mars1_min)\n",
    "\n",
    "# Normalised RMSE\n",
    "rmse_normalised_mars1_min = np.sqrt(metrics.mean_squared_error(Y_min_test, mars1_predict_min)) / (max(Y_min_test) - min(Y_min_test)) * 100\n",
    "print('Normalised RMSE: ', rmse_normalised_mars1_min)\n",
    "\n",
    "marsResults = marsResults.append({'Model': 'MARS Degree 1 (Minor)', 'RMSE': rmse_mars1_min, 'Normalised RMSE': rmse_normalised_mars1_min}, ignore_index = True)\n",
    "marsResults"
   ]
  },
  {
   "cell_type": "markdown",
   "metadata": {},
   "source": [
    "#### MARS Degree 2"
   ]
  },
  {
   "cell_type": "code",
   "execution_count": 208,
   "metadata": {},
   "outputs": [
    {
     "name": "stderr",
     "output_type": "stream",
     "text": [
      "`rcond` parameter will change to the default of machine precision times ``max(M, N)`` where M and N are the input matrix dimensions.\n",
      "To use the future default and silence this warning we advise to pass `rcond=None`, to keep using the old, explicitly pass `rcond=-1`.\n"
     ]
    },
    {
     "name": "stdout",
     "output_type": "stream",
     "text": [
      "RMSE:  8.616499874957652\n",
      "Normalised RMSE:  4.8136870809819285\n"
     ]
    },
    {
     "name": "stderr",
     "output_type": "stream",
     "text": [
      "`rcond` parameter will change to the default of machine precision times ``max(M, N)`` where M and N are the input matrix dimensions.\n",
      "To use the future default and silence this warning we advise to pass `rcond=None`, to keep using the old, explicitly pass `rcond=-1`.\n"
     ]
    },
    {
     "data": {
      "text/html": [
       "<div>\n",
       "<style scoped>\n",
       "    .dataframe tbody tr th:only-of-type {\n",
       "        vertical-align: middle;\n",
       "    }\n",
       "\n",
       "    .dataframe tbody tr th {\n",
       "        vertical-align: top;\n",
       "    }\n",
       "\n",
       "    .dataframe thead th {\n",
       "        text-align: right;\n",
       "    }\n",
       "</style>\n",
       "<table border=\"1\" class=\"dataframe\">\n",
       "  <thead>\n",
       "    <tr style=\"text-align: right;\">\n",
       "      <th></th>\n",
       "      <th>Model</th>\n",
       "      <th>RMSE</th>\n",
       "      <th>Normalised RMSE</th>\n",
       "    </tr>\n",
       "  </thead>\n",
       "  <tbody>\n",
       "    <tr>\n",
       "      <th>0</th>\n",
       "      <td>MARS Degree 1</td>\n",
       "      <td>13.396318</td>\n",
       "      <td>7.483976</td>\n",
       "    </tr>\n",
       "    <tr>\n",
       "      <th>1</th>\n",
       "      <td>MARS Degree 2</td>\n",
       "      <td>12.309775</td>\n",
       "      <td>6.876969</td>\n",
       "    </tr>\n",
       "    <tr>\n",
       "      <th>2</th>\n",
       "      <td>Log MARS Degree 1</td>\n",
       "      <td>0.582010</td>\n",
       "      <td>12.918202</td>\n",
       "    </tr>\n",
       "    <tr>\n",
       "      <th>3</th>\n",
       "      <td>Log MARS Degree 2</td>\n",
       "      <td>0.525214</td>\n",
       "      <td>11.657563</td>\n",
       "    </tr>\n",
       "    <tr>\n",
       "      <th>4</th>\n",
       "      <td>MARS Degree 1 (Extreme)</td>\n",
       "      <td>5.533991</td>\n",
       "      <td>3.091615</td>\n",
       "    </tr>\n",
       "    <tr>\n",
       "      <th>5</th>\n",
       "      <td>MARS Degree 2 (Extreme)</td>\n",
       "      <td>4.959099</td>\n",
       "      <td>2.770447</td>\n",
       "    </tr>\n",
       "    <tr>\n",
       "      <th>6</th>\n",
       "      <td>Log MARS Degree 1 (Extreme)</td>\n",
       "      <td>0.495330</td>\n",
       "      <td>10.994253</td>\n",
       "    </tr>\n",
       "    <tr>\n",
       "      <th>7</th>\n",
       "      <td>Log MARS Degree 2 (Extreme)</td>\n",
       "      <td>0.463305</td>\n",
       "      <td>10.283442</td>\n",
       "    </tr>\n",
       "    <tr>\n",
       "      <th>8</th>\n",
       "      <td>MARS Degree 1 (Moderate)</td>\n",
       "      <td>16.323869</td>\n",
       "      <td>9.119480</td>\n",
       "    </tr>\n",
       "    <tr>\n",
       "      <th>9</th>\n",
       "      <td>MARS Degree 2 (Moderate)</td>\n",
       "      <td>15.370330</td>\n",
       "      <td>8.586776</td>\n",
       "    </tr>\n",
       "    <tr>\n",
       "      <th>10</th>\n",
       "      <td>Log MARS Degree 1 (Moderate)</td>\n",
       "      <td>0.605260</td>\n",
       "      <td>13.434250</td>\n",
       "    </tr>\n",
       "    <tr>\n",
       "      <th>11</th>\n",
       "      <td>Log MARS Degree 2 (Moderate)</td>\n",
       "      <td>0.561226</td>\n",
       "      <td>12.456870</td>\n",
       "    </tr>\n",
       "    <tr>\n",
       "      <th>12</th>\n",
       "      <td>MARS Degree 1 (Minor)</td>\n",
       "      <td>9.176864</td>\n",
       "      <td>5.126740</td>\n",
       "    </tr>\n",
       "    <tr>\n",
       "      <th>13</th>\n",
       "      <td>MARS Degree 2 (Minor)</td>\n",
       "      <td>8.616500</td>\n",
       "      <td>4.813687</td>\n",
       "    </tr>\n",
       "  </tbody>\n",
       "</table>\n",
       "</div>"
      ],
      "text/plain": [
       "                           Model       RMSE  Normalised RMSE\n",
       "0                  MARS Degree 1  13.396318         7.483976\n",
       "1                  MARS Degree 2  12.309775         6.876969\n",
       "2              Log MARS Degree 1   0.582010        12.918202\n",
       "3              Log MARS Degree 2   0.525214        11.657563\n",
       "4        MARS Degree 1 (Extreme)   5.533991         3.091615\n",
       "5        MARS Degree 2 (Extreme)   4.959099         2.770447\n",
       "6    Log MARS Degree 1 (Extreme)   0.495330        10.994253\n",
       "7    Log MARS Degree 2 (Extreme)   0.463305        10.283442\n",
       "8       MARS Degree 1 (Moderate)  16.323869         9.119480\n",
       "9       MARS Degree 2 (Moderate)  15.370330         8.586776\n",
       "10  Log MARS Degree 1 (Moderate)   0.605260        13.434250\n",
       "11  Log MARS Degree 2 (Moderate)   0.561226        12.456870\n",
       "12         MARS Degree 1 (Minor)   9.176864         5.126740\n",
       "13         MARS Degree 2 (Minor)   8.616500         4.813687"
      ]
     },
     "execution_count": 208,
     "metadata": {},
     "output_type": "execute_result"
    }
   ],
   "source": [
    "random.seed(2022)\n",
    "mars2_min = Earth(feature_importance_type='gcv', max_degree=2)\n",
    "mars2_min.fit(X_min_train,Y_min_train)\n",
    "mars2_predict_min = mars2_min.predict(X_min_test)\n",
    "\n",
    "\n",
    "rmse_mars2_min = np.sqrt(metrics.mean_squared_error(Y_min_test, mars2_predict_min))\n",
    "print('RMSE: ', rmse_mars2_min)\n",
    "\n",
    "# Normalised RMSE\n",
    "rmse_normalised_mars2_min = np.sqrt(metrics.mean_squared_error(Y_min_test, mars2_predict_min)) / (max(Y_min_test) - min(Y_min_test)) * 100\n",
    "print('Normalised RMSE: ', rmse_normalised_mars2_min)\n",
    "\n",
    "marsResults = marsResults.append({'Model': 'MARS Degree 2 (Minor)', 'RMSE': rmse_mars2_min, 'Normalised RMSE': rmse_normalised_mars2_min}, ignore_index = True)\n",
    "marsResults"
   ]
  },
  {
   "cell_type": "markdown",
   "metadata": {},
   "source": [
    "### Log Mars Degree 1"
   ]
  },
  {
   "cell_type": "code",
   "execution_count": 209,
   "metadata": {},
   "outputs": [
    {
     "name": "stderr",
     "output_type": "stream",
     "text": [
      "`rcond` parameter will change to the default of machine precision times ``max(M, N)`` where M and N are the input matrix dimensions.\n",
      "To use the future default and silence this warning we advise to pass `rcond=None`, to keep using the old, explicitly pass `rcond=-1`.\n"
     ]
    },
    {
     "name": "stdout",
     "output_type": "stream",
     "text": [
      "RMSE:  9.17686432643067\n",
      "Normalised RMSE:  11.789071765124971\n"
     ]
    },
    {
     "name": "stderr",
     "output_type": "stream",
     "text": [
      "`rcond` parameter will change to the default of machine precision times ``max(M, N)`` where M and N are the input matrix dimensions.\n",
      "To use the future default and silence this warning we advise to pass `rcond=None`, to keep using the old, explicitly pass `rcond=-1`.\n"
     ]
    },
    {
     "data": {
      "text/html": [
       "<div>\n",
       "<style scoped>\n",
       "    .dataframe tbody tr th:only-of-type {\n",
       "        vertical-align: middle;\n",
       "    }\n",
       "\n",
       "    .dataframe tbody tr th {\n",
       "        vertical-align: top;\n",
       "    }\n",
       "\n",
       "    .dataframe thead th {\n",
       "        text-align: right;\n",
       "    }\n",
       "</style>\n",
       "<table border=\"1\" class=\"dataframe\">\n",
       "  <thead>\n",
       "    <tr style=\"text-align: right;\">\n",
       "      <th></th>\n",
       "      <th>Model</th>\n",
       "      <th>RMSE</th>\n",
       "      <th>Normalised RMSE</th>\n",
       "    </tr>\n",
       "  </thead>\n",
       "  <tbody>\n",
       "    <tr>\n",
       "      <th>0</th>\n",
       "      <td>MARS Degree 1</td>\n",
       "      <td>13.396318</td>\n",
       "      <td>7.483976</td>\n",
       "    </tr>\n",
       "    <tr>\n",
       "      <th>1</th>\n",
       "      <td>MARS Degree 2</td>\n",
       "      <td>12.309775</td>\n",
       "      <td>6.876969</td>\n",
       "    </tr>\n",
       "    <tr>\n",
       "      <th>2</th>\n",
       "      <td>Log MARS Degree 1</td>\n",
       "      <td>0.582010</td>\n",
       "      <td>12.918202</td>\n",
       "    </tr>\n",
       "    <tr>\n",
       "      <th>3</th>\n",
       "      <td>Log MARS Degree 2</td>\n",
       "      <td>0.525214</td>\n",
       "      <td>11.657563</td>\n",
       "    </tr>\n",
       "    <tr>\n",
       "      <th>4</th>\n",
       "      <td>MARS Degree 1 (Extreme)</td>\n",
       "      <td>5.533991</td>\n",
       "      <td>3.091615</td>\n",
       "    </tr>\n",
       "    <tr>\n",
       "      <th>5</th>\n",
       "      <td>MARS Degree 2 (Extreme)</td>\n",
       "      <td>4.959099</td>\n",
       "      <td>2.770447</td>\n",
       "    </tr>\n",
       "    <tr>\n",
       "      <th>6</th>\n",
       "      <td>Log MARS Degree 1 (Extreme)</td>\n",
       "      <td>0.495330</td>\n",
       "      <td>10.994253</td>\n",
       "    </tr>\n",
       "    <tr>\n",
       "      <th>7</th>\n",
       "      <td>Log MARS Degree 2 (Extreme)</td>\n",
       "      <td>0.463305</td>\n",
       "      <td>10.283442</td>\n",
       "    </tr>\n",
       "    <tr>\n",
       "      <th>8</th>\n",
       "      <td>MARS Degree 1 (Moderate)</td>\n",
       "      <td>16.323869</td>\n",
       "      <td>9.119480</td>\n",
       "    </tr>\n",
       "    <tr>\n",
       "      <th>9</th>\n",
       "      <td>MARS Degree 2 (Moderate)</td>\n",
       "      <td>15.370330</td>\n",
       "      <td>8.586776</td>\n",
       "    </tr>\n",
       "    <tr>\n",
       "      <th>10</th>\n",
       "      <td>Log MARS Degree 1 (Moderate)</td>\n",
       "      <td>0.605260</td>\n",
       "      <td>13.434250</td>\n",
       "    </tr>\n",
       "    <tr>\n",
       "      <th>11</th>\n",
       "      <td>Log MARS Degree 2 (Moderate)</td>\n",
       "      <td>0.561226</td>\n",
       "      <td>12.456870</td>\n",
       "    </tr>\n",
       "    <tr>\n",
       "      <th>12</th>\n",
       "      <td>MARS Degree 1 (Minor)</td>\n",
       "      <td>9.176864</td>\n",
       "      <td>5.126740</td>\n",
       "    </tr>\n",
       "    <tr>\n",
       "      <th>13</th>\n",
       "      <td>MARS Degree 2 (Minor)</td>\n",
       "      <td>8.616500</td>\n",
       "      <td>4.813687</td>\n",
       "    </tr>\n",
       "    <tr>\n",
       "      <th>14</th>\n",
       "      <td>Log MARS Degree 1 (Minor)</td>\n",
       "      <td>0.531139</td>\n",
       "      <td>11.789072</td>\n",
       "    </tr>\n",
       "  </tbody>\n",
       "</table>\n",
       "</div>"
      ],
      "text/plain": [
       "                           Model       RMSE  Normalised RMSE\n",
       "0                  MARS Degree 1  13.396318         7.483976\n",
       "1                  MARS Degree 2  12.309775         6.876969\n",
       "2              Log MARS Degree 1   0.582010        12.918202\n",
       "3              Log MARS Degree 2   0.525214        11.657563\n",
       "4        MARS Degree 1 (Extreme)   5.533991         3.091615\n",
       "5        MARS Degree 2 (Extreme)   4.959099         2.770447\n",
       "6    Log MARS Degree 1 (Extreme)   0.495330        10.994253\n",
       "7    Log MARS Degree 2 (Extreme)   0.463305        10.283442\n",
       "8       MARS Degree 1 (Moderate)  16.323869         9.119480\n",
       "9       MARS Degree 2 (Moderate)  15.370330         8.586776\n",
       "10  Log MARS Degree 1 (Moderate)   0.605260        13.434250\n",
       "11  Log MARS Degree 2 (Moderate)   0.561226        12.456870\n",
       "12         MARS Degree 1 (Minor)   9.176864         5.126740\n",
       "13         MARS Degree 2 (Minor)   8.616500         4.813687\n",
       "14     Log MARS Degree 1 (Minor)   0.531139        11.789072"
      ]
     },
     "execution_count": 209,
     "metadata": {},
     "output_type": "execute_result"
    }
   ],
   "source": [
    "random.seed(2022)\n",
    "log_mars1_min = Earth(feature_importance_type='gcv')\n",
    "log_mars1_min.fit(log_X_min_train,log_Y_min_train)\n",
    "log_mars1_predict_min = log_mars1_min.predict(log_X_min_test)\n",
    "\n",
    "\n",
    "rmse_log_mars1_min = np.sqrt(metrics.mean_squared_error(log_Y_min_test, log_mars1_predict_min))\n",
    "print('RMSE: ', rmse_mars1_min)\n",
    "\n",
    "# Normalised RMSE\n",
    "rmse_normalised_log_mars1_min = np.sqrt(metrics.mean_squared_error(log_Y_min_test, log_mars1_predict_min)) / (max(log_Y_min_test) - min(log_Y_min_test)) * 100\n",
    "print('Normalised RMSE: ', rmse_normalised_log_mars1_min)\n",
    "\n",
    "marsResults = marsResults.append({'Model': 'Log MARS Degree 1 (Minor)', 'RMSE': rmse_log_mars1_min, 'Normalised RMSE': rmse_normalised_log_mars1_min}, ignore_index = True)\n",
    "marsResults"
   ]
  },
  {
   "cell_type": "markdown",
   "metadata": {},
   "source": [
    "#### Log Mars Degree 2"
   ]
  },
  {
   "cell_type": "code",
   "execution_count": 210,
   "metadata": {},
   "outputs": [
    {
     "name": "stderr",
     "output_type": "stream",
     "text": [
      "`rcond` parameter will change to the default of machine precision times ``max(M, N)`` where M and N are the input matrix dimensions.\n",
      "To use the future default and silence this warning we advise to pass `rcond=None`, to keep using the old, explicitly pass `rcond=-1`.\n"
     ]
    },
    {
     "name": "stdout",
     "output_type": "stream",
     "text": [
      "RMSE:  8.616499874957652\n",
      "Normalised RMSE:  11.004249730476475\n"
     ]
    },
    {
     "name": "stderr",
     "output_type": "stream",
     "text": [
      "`rcond` parameter will change to the default of machine precision times ``max(M, N)`` where M and N are the input matrix dimensions.\n",
      "To use the future default and silence this warning we advise to pass `rcond=None`, to keep using the old, explicitly pass `rcond=-1`.\n"
     ]
    },
    {
     "data": {
      "text/html": [
       "<div>\n",
       "<style scoped>\n",
       "    .dataframe tbody tr th:only-of-type {\n",
       "        vertical-align: middle;\n",
       "    }\n",
       "\n",
       "    .dataframe tbody tr th {\n",
       "        vertical-align: top;\n",
       "    }\n",
       "\n",
       "    .dataframe thead th {\n",
       "        text-align: right;\n",
       "    }\n",
       "</style>\n",
       "<table border=\"1\" class=\"dataframe\">\n",
       "  <thead>\n",
       "    <tr style=\"text-align: right;\">\n",
       "      <th></th>\n",
       "      <th>Model</th>\n",
       "      <th>RMSE</th>\n",
       "      <th>Normalised RMSE</th>\n",
       "    </tr>\n",
       "  </thead>\n",
       "  <tbody>\n",
       "    <tr>\n",
       "      <th>0</th>\n",
       "      <td>MARS Degree 1</td>\n",
       "      <td>13.396318</td>\n",
       "      <td>7.483976</td>\n",
       "    </tr>\n",
       "    <tr>\n",
       "      <th>1</th>\n",
       "      <td>MARS Degree 2</td>\n",
       "      <td>12.309775</td>\n",
       "      <td>6.876969</td>\n",
       "    </tr>\n",
       "    <tr>\n",
       "      <th>2</th>\n",
       "      <td>Log MARS Degree 1</td>\n",
       "      <td>0.582010</td>\n",
       "      <td>12.918202</td>\n",
       "    </tr>\n",
       "    <tr>\n",
       "      <th>3</th>\n",
       "      <td>Log MARS Degree 2</td>\n",
       "      <td>0.525214</td>\n",
       "      <td>11.657563</td>\n",
       "    </tr>\n",
       "    <tr>\n",
       "      <th>4</th>\n",
       "      <td>MARS Degree 1 (Extreme)</td>\n",
       "      <td>5.533991</td>\n",
       "      <td>3.091615</td>\n",
       "    </tr>\n",
       "    <tr>\n",
       "      <th>5</th>\n",
       "      <td>MARS Degree 2 (Extreme)</td>\n",
       "      <td>4.959099</td>\n",
       "      <td>2.770447</td>\n",
       "    </tr>\n",
       "    <tr>\n",
       "      <th>6</th>\n",
       "      <td>Log MARS Degree 1 (Extreme)</td>\n",
       "      <td>0.495330</td>\n",
       "      <td>10.994253</td>\n",
       "    </tr>\n",
       "    <tr>\n",
       "      <th>7</th>\n",
       "      <td>Log MARS Degree 2 (Extreme)</td>\n",
       "      <td>0.463305</td>\n",
       "      <td>10.283442</td>\n",
       "    </tr>\n",
       "    <tr>\n",
       "      <th>8</th>\n",
       "      <td>MARS Degree 1 (Moderate)</td>\n",
       "      <td>16.323869</td>\n",
       "      <td>9.119480</td>\n",
       "    </tr>\n",
       "    <tr>\n",
       "      <th>9</th>\n",
       "      <td>MARS Degree 2 (Moderate)</td>\n",
       "      <td>15.370330</td>\n",
       "      <td>8.586776</td>\n",
       "    </tr>\n",
       "    <tr>\n",
       "      <th>10</th>\n",
       "      <td>Log MARS Degree 1 (Moderate)</td>\n",
       "      <td>0.605260</td>\n",
       "      <td>13.434250</td>\n",
       "    </tr>\n",
       "    <tr>\n",
       "      <th>11</th>\n",
       "      <td>Log MARS Degree 2 (Moderate)</td>\n",
       "      <td>0.561226</td>\n",
       "      <td>12.456870</td>\n",
       "    </tr>\n",
       "    <tr>\n",
       "      <th>12</th>\n",
       "      <td>MARS Degree 1 (Minor)</td>\n",
       "      <td>9.176864</td>\n",
       "      <td>5.126740</td>\n",
       "    </tr>\n",
       "    <tr>\n",
       "      <th>13</th>\n",
       "      <td>MARS Degree 2 (Minor)</td>\n",
       "      <td>8.616500</td>\n",
       "      <td>4.813687</td>\n",
       "    </tr>\n",
       "    <tr>\n",
       "      <th>14</th>\n",
       "      <td>Log MARS Degree 1 (Minor)</td>\n",
       "      <td>0.531139</td>\n",
       "      <td>11.789072</td>\n",
       "    </tr>\n",
       "    <tr>\n",
       "      <th>15</th>\n",
       "      <td>Log MARS Degree 2 (Minor)</td>\n",
       "      <td>0.495780</td>\n",
       "      <td>11.004250</td>\n",
       "    </tr>\n",
       "  </tbody>\n",
       "</table>\n",
       "</div>"
      ],
      "text/plain": [
       "                           Model       RMSE  Normalised RMSE\n",
       "0                  MARS Degree 1  13.396318         7.483976\n",
       "1                  MARS Degree 2  12.309775         6.876969\n",
       "2              Log MARS Degree 1   0.582010        12.918202\n",
       "3              Log MARS Degree 2   0.525214        11.657563\n",
       "4        MARS Degree 1 (Extreme)   5.533991         3.091615\n",
       "5        MARS Degree 2 (Extreme)   4.959099         2.770447\n",
       "6    Log MARS Degree 1 (Extreme)   0.495330        10.994253\n",
       "7    Log MARS Degree 2 (Extreme)   0.463305        10.283442\n",
       "8       MARS Degree 1 (Moderate)  16.323869         9.119480\n",
       "9       MARS Degree 2 (Moderate)  15.370330         8.586776\n",
       "10  Log MARS Degree 1 (Moderate)   0.605260        13.434250\n",
       "11  Log MARS Degree 2 (Moderate)   0.561226        12.456870\n",
       "12         MARS Degree 1 (Minor)   9.176864         5.126740\n",
       "13         MARS Degree 2 (Minor)   8.616500         4.813687\n",
       "14     Log MARS Degree 1 (Minor)   0.531139        11.789072\n",
       "15     Log MARS Degree 2 (Minor)   0.495780        11.004250"
      ]
     },
     "execution_count": 210,
     "metadata": {},
     "output_type": "execute_result"
    }
   ],
   "source": [
    "random.seed(2022)\n",
    "log_mars2_min = Earth(feature_importance_type='gcv', max_degree=2)\n",
    "log_mars2_min.fit(log_X_min_train,log_Y_min_train)\n",
    "log_mars2_predict_min = log_mars2_min.predict(log_X_min_test)\n",
    "\n",
    "\n",
    "rmse_log_mars2_min = np.sqrt(metrics.mean_squared_error(log_Y_min_test, log_mars2_predict_min))\n",
    "print('RMSE: ', rmse_mars2_min)\n",
    "\n",
    "# Normalised RMSE\n",
    "rmse_normalised_log_mars2_min = np.sqrt(metrics.mean_squared_error(log_Y_min_test, log_mars2_predict_min)) / (max(log_Y_min_test) - min(log_Y_min_test)) * 100\n",
    "print('Normalised RMSE: ', rmse_normalised_log_mars2_min)\n",
    "\n",
    "marsResults = marsResults.append({'Model': 'Log MARS Degree 2 (Minor)', 'RMSE': rmse_log_mars2_min, 'Normalised RMSE': rmse_normalised_log_mars2_min}, ignore_index = True)\n",
    "marsResults"
   ]
  },
  {
   "cell_type": "markdown",
   "metadata": {},
   "source": [
    "## CART"
   ]
  },
  {
   "cell_type": "markdown",
   "metadata": {},
   "source": [
    "### CART extreme severity"
   ]
  },
  {
   "cell_type": "code",
   "execution_count": 152,
   "metadata": {},
   "outputs": [],
   "source": [
    "X_ext_tr = X_ext_train.values #transform data frame to array \n",
    "X_ext_tra= X_ext_tr.reshape((X_ext_train.shape[0],-1)) #reshape array so that [[]] are used\n",
    "\n",
    "y_ext_ar = Y_ext_train.values #transform data frame to array "
   ]
  },
  {
   "cell_type": "code",
   "execution_count": 153,
   "metadata": {},
   "outputs": [
    {
     "name": "stdout",
     "output_type": "stream",
     "text": [
      "0.3684607116286258 {'max_depth': 4}\n"
     ]
    }
   ],
   "source": [
    "parameters = {'max_depth':range(3,20)}\n",
    "regressor4 = GridSearchCV(DecisionTreeRegressor(), parameters, n_jobs=4)\n",
    "regressor4.fit(X=X_ext_tra, y=y_ext_ar)\n",
    "tree_model = regressor4.best_estimator_\n",
    "print (regressor4.best_score_, regressor4.best_params_)"
   ]
  },
  {
   "cell_type": "code",
   "execution_count": 154,
   "metadata": {},
   "outputs": [
    {
     "name": "stdout",
     "output_type": "stream",
     "text": [
      "Train Set Errors\n",
      "Root Mean Squared Error: 4.52408\n",
      "Normalized Root Mean Squared Error: 2.527%\n",
      "\n",
      "Test Set Errors\n",
      "Root Mean Squared Error: 4.57906\n",
      "Normalized Root Mean Squared Error: 2.558%\n"
     ]
    }
   ],
   "source": [
    "#Optimal Pruning\n",
    "clf_ext_pruned = DecisionTreeRegressor(criterion = 'mse',random_state = 2022, max_depth = regressor4.best_params_['max_depth'])\n",
    "clf_ext_reg = clf_ext_pruned.fit(X_ext_train, Y_ext_train)\n",
    "\n",
    "#Train RMSE\n",
    "clf_ext_predict = clf_ext_reg.predict(X_ext_train)\n",
    "rmse_ext_train = np.sqrt(metrics.mean_squared_error(Y_ext_train, clf_ext_predict))\n",
    "norm_rmse_ext_train = rmse_ext_train/(max(Y_ext_train)-min(Y_ext_train))* 100\n",
    "print(\"Train Set Errors\")\n",
    "print('Root Mean Squared Error:',  round(rmse_ext_train,5))\n",
    "print('Normalized Root Mean Squared Error:',  str(round(norm_rmse_ext_train,3)) + \"%\\n\")\n",
    "\n",
    "#Test RMSE\n",
    "clf_ext_predict_test = clf_ext_reg.predict(X_ext_test)\n",
    "rmse_ext_test = np.sqrt(metrics.mean_squared_error(Y_ext_test, clf_ext_predict_test))\n",
    "norm_rmse_ext_test = rmse_ext_test/(max(Y_ext_test)-min(Y_ext_test))* 100\n",
    "print(\"Test Set Errors\")\n",
    "print('Root Mean Squared Error:',  round(rmse_ext_test,5))\n",
    "print('Normalized Root Mean Squared Error:',  str(round(norm_rmse_ext_test,3)) + \"%\")\n"
   ]
  },
  {
   "cell_type": "markdown",
   "metadata": {},
   "source": [
    "### CART moderate severity"
   ]
  },
  {
   "cell_type": "code",
   "execution_count": 155,
   "metadata": {},
   "outputs": [],
   "source": [
    "X_mod_tr = X_mod_train.values #transform data frame to array \n",
    "X_mod_tra= X_mod_tr.reshape((X_mod_train.shape[0],-1)) #reshape array so that [[]] are used\n",
    "\n",
    "y_mod_ar = Y_mod_train.values #transform data frame to array "
   ]
  },
  {
   "cell_type": "code",
   "execution_count": 156,
   "metadata": {},
   "outputs": [
    {
     "name": "stdout",
     "output_type": "stream",
     "text": [
      "0.3391137485664998 {'max_depth': 7}\n"
     ]
    }
   ],
   "source": [
    "parameters = {'max_depth':range(3,20)}\n",
    "regressor5 = GridSearchCV(DecisionTreeRegressor(), parameters, n_jobs=4)\n",
    "regressor5.fit(X=X_mod_tra, y=y_mod_ar)\n",
    "tree_model = regressor5.best_estimator_\n",
    "print (regressor5.best_score_, regressor5.best_params_)"
   ]
  },
  {
   "cell_type": "code",
   "execution_count": 157,
   "metadata": {},
   "outputs": [
    {
     "name": "stdout",
     "output_type": "stream",
     "text": [
      "Train Set Errors\n",
      "Root Mean Squared Error: 15.04343\n",
      "Normalized Root Mean Squared Error: 8.404%\n",
      "\n",
      "Test Set Errors\n",
      "Root Mean Squared Error: 15.31483\n",
      "Normalized Root Mean Squared Error: 8.556%\n"
     ]
    }
   ],
   "source": [
    "#Optimal Pruning\n",
    "clf_mod_pruned = DecisionTreeRegressor(criterion = 'mse',random_state = 2022, max_depth = regressor5.best_params_['max_depth'])\n",
    "clf_mod_reg = clf_mod_pruned.fit(X_mod_train, Y_mod_train)\n",
    "\n",
    "#Train RMSE\n",
    "clf_mod_predict = clf_mod_reg.predict(X_mod_train)\n",
    "rmse_mod_train = np.sqrt(metrics.mean_squared_error(Y_mod_train, clf_mod_predict))\n",
    "norm_rmse_mod_train = rmse_mod_train/(max(Y_mod_train)-min(Y_mod_train))* 100\n",
    "print(\"Train Set Errors\")\n",
    "print('Root Mean Squared Error:',  round(rmse_mod_train,5))\n",
    "print('Normalized Root Mean Squared Error:',  str(round(norm_rmse_mod_train,3)) + \"%\\n\")\n",
    "\n",
    "#Test RMSE\n",
    "clf_mod_predict_test = clf_mod_reg.predict(X_mod_test)\n",
    "rmse_mod_test = np.sqrt(metrics.mean_squared_error(Y_mod_test, clf_mod_predict_test))\n",
    "norm_rmse_mod_test = rmse_mod_test/(max(Y_mod_test)-min(Y_mod_test))* 100\n",
    "print(\"Test Set Errors\")\n",
    "print('Root Mean Squared Error:',  round(rmse_mod_test,5))\n",
    "print('Normalized Root Mean Squared Error:',  str(round(norm_rmse_mod_test,3)) + \"%\")"
   ]
  },
  {
   "cell_type": "code",
   "execution_count": 158,
   "metadata": {},
   "outputs": [
    {
     "data": {
      "text/html": [
       "<div>\n",
       "<style scoped>\n",
       "    .dataframe tbody tr th:only-of-type {\n",
       "        vertical-align: middle;\n",
       "    }\n",
       "\n",
       "    .dataframe tbody tr th {\n",
       "        vertical-align: top;\n",
       "    }\n",
       "\n",
       "    .dataframe thead th {\n",
       "        text-align: right;\n",
       "    }\n",
       "</style>\n",
       "<table border=\"1\" class=\"dataframe\">\n",
       "  <thead>\n",
       "    <tr style=\"text-align: right;\">\n",
       "      <th></th>\n",
       "      <th>Feature_Importance</th>\n",
       "    </tr>\n",
       "  </thead>\n",
       "  <tbody>\n",
       "    <tr>\n",
       "      <th>Administrative_Delay</th>\n",
       "      <td>0.725359</td>\n",
       "    </tr>\n",
       "    <tr>\n",
       "      <th>APR_Risk_of_Mortality</th>\n",
       "      <td>0.095174</td>\n",
       "    </tr>\n",
       "    <tr>\n",
       "      <th>APR_Medical_Surgical_Description_Medical</th>\n",
       "      <td>0.071938</td>\n",
       "    </tr>\n",
       "    <tr>\n",
       "      <th>APR_Medical_Surgical_Description_Surgical</th>\n",
       "      <td>0.043499</td>\n",
       "    </tr>\n",
       "    <tr>\n",
       "      <th>Patient_Disposition_Skilled Nursing Home</th>\n",
       "      <td>0.017741</td>\n",
       "    </tr>\n",
       "    <tr>\n",
       "      <th>Payment_Typology_1_Medicare</th>\n",
       "      <td>0.014403</td>\n",
       "    </tr>\n",
       "    <tr>\n",
       "      <th>Patient_Disposition_Home or Self Care</th>\n",
       "      <td>0.009408</td>\n",
       "    </tr>\n",
       "    <tr>\n",
       "      <th>Payment_Typology_1_Medicaid</th>\n",
       "      <td>0.009170</td>\n",
       "    </tr>\n",
       "    <tr>\n",
       "      <th>Admission_Deposit</th>\n",
       "      <td>0.005449</td>\n",
       "    </tr>\n",
       "    <tr>\n",
       "      <th>Age</th>\n",
       "      <td>0.002631</td>\n",
       "    </tr>\n",
       "  </tbody>\n",
       "</table>\n",
       "</div>"
      ],
      "text/plain": [
       "                                           Feature_Importance\n",
       "Administrative_Delay                                 0.725359\n",
       "APR_Risk_of_Mortality                                0.095174\n",
       "APR_Medical_Surgical_Description_Medical             0.071938\n",
       "APR_Medical_Surgical_Description_Surgical            0.043499\n",
       "Patient_Disposition_Skilled Nursing Home             0.017741\n",
       "Payment_Typology_1_Medicare                          0.014403\n",
       "Patient_Disposition_Home or Self Care                0.009408\n",
       "Payment_Typology_1_Medicaid                          0.009170\n",
       "Admission_Deposit                                    0.005449\n",
       "Age                                                  0.002631"
      ]
     },
     "execution_count": 158,
     "metadata": {},
     "output_type": "execute_result"
    }
   ],
   "source": [
    "#clf_reg.feature_importances_\n",
    "\n",
    "feat_imp_dict_mod = dict(zip(X_mod_train.columns, clf_mod_reg.feature_importances_))\n",
    "feat_imp_mod = pd.DataFrame.from_dict(feat_imp_dict_mod, orient='index')\n",
    "feat_imp_mod.rename(columns = {0:'Feature_Importance'}, inplace = True)\n",
    "feat_imp_mod.sort_values(by=['Feature_Importance'], ascending=False).head(10)"
   ]
  },
  {
   "cell_type": "markdown",
   "metadata": {},
   "source": [
    "### CART at minor severity"
   ]
  },
  {
   "cell_type": "code",
   "execution_count": 159,
   "metadata": {},
   "outputs": [],
   "source": [
    "X_min_tr = X_min_train.values #transform data frame to array \n",
    "X_min_tra= X_min_tr.reshape((X_min_train.shape[0],-1)) #reshape array so that [[]] are used\n",
    "\n",
    "y_min_ar = Y_min_train.values #transform data frame to array "
   ]
  },
  {
   "cell_type": "code",
   "execution_count": 160,
   "metadata": {},
   "outputs": [
    {
     "name": "stdout",
     "output_type": "stream",
     "text": [
      "0.3959637796209588 {'max_depth': 5}\n"
     ]
    }
   ],
   "source": [
    "parameters = {'max_depth':range(3,20)}\n",
    "regressor6 = GridSearchCV(DecisionTreeRegressor(), parameters, n_jobs=4)\n",
    "regressor6.fit(X=X_min_tra, y=y_min_ar)\n",
    "tree_minel = regressor6.best_estimator_\n",
    "print (regressor6.best_score_, regressor6.best_params_)"
   ]
  },
  {
   "cell_type": "code",
   "execution_count": 161,
   "metadata": {},
   "outputs": [
    {
     "name": "stdout",
     "output_type": "stream",
     "text": [
      "Train Set Errors\n",
      "Root Mean Squared Error: 7.29373\n",
      "Normalized Root Mean Squared Error: 4.075%\n",
      "\n",
      "Test Set Errors\n",
      "Root Mean Squared Error: 8.31161\n",
      "Normalized Root Mean Squared Error: 4.643%\n"
     ]
    }
   ],
   "source": [
    "#Optimal Pruning\n",
    "clf_min_pruned = DecisionTreeRegressor(criterion = 'mse',random_state = 2022, max_depth = regressor6.best_params_['max_depth'])\n",
    "clf_min_reg = clf_min_pruned.fit(X_min_train, Y_min_train)\n",
    "\n",
    "#Train RMSE\n",
    "clf_min_predict = clf_min_reg.predict(X_min_train)\n",
    "rmse_min_train = np.sqrt(metrics.mean_squared_error(Y_min_train, clf_min_predict))\n",
    "norm_rmse_min_train = rmse_min_train/(max(Y_min_train)-min(Y_min_train))* 100\n",
    "print(\"Train Set Errors\")\n",
    "print('Root Mean Squared Error:',  round(rmse_min_train,5))\n",
    "print('Normalized Root Mean Squared Error:',  str(round(norm_rmse_min_train,3)) + \"%\\n\")\n",
    "\n",
    "#Test RMSE\n",
    "clf_min_predict_test = clf_min_reg.predict(X_min_test)\n",
    "rmse_min_test = np.sqrt(metrics.mean_squared_error(Y_min_test, clf_min_predict_test))\n",
    "norm_rmse_min_test = rmse_min_test/(max(Y_min_test)-min(Y_min_test))* 100\n",
    "print(\"Test Set Errors\")\n",
    "print('Root Mean Squared Error:',  round(rmse_min_test,5))\n",
    "print('Normalized Root Mean Squared Error:',  str(round(norm_rmse_min_test,3)) + \"%\")"
   ]
  },
  {
   "cell_type": "code",
   "execution_count": 162,
   "metadata": {
    "scrolled": true
   },
   "outputs": [
    {
     "data": {
      "text/html": [
       "<div>\n",
       "<style scoped>\n",
       "    .dataframe tbody tr th:only-of-type {\n",
       "        vertical-align: middle;\n",
       "    }\n",
       "\n",
       "    .dataframe tbody tr th {\n",
       "        vertical-align: top;\n",
       "    }\n",
       "\n",
       "    .dataframe thead th {\n",
       "        text-align: right;\n",
       "    }\n",
       "</style>\n",
       "<table border=\"1\" class=\"dataframe\">\n",
       "  <thead>\n",
       "    <tr style=\"text-align: right;\">\n",
       "      <th></th>\n",
       "      <th>Feature_Importance</th>\n",
       "    </tr>\n",
       "  </thead>\n",
       "  <tbody>\n",
       "    <tr>\n",
       "      <th>Administrative_Delay</th>\n",
       "      <td>0.736747</td>\n",
       "    </tr>\n",
       "    <tr>\n",
       "      <th>APR_Medical_Surgical_Description_Medical</th>\n",
       "      <td>0.179675</td>\n",
       "    </tr>\n",
       "    <tr>\n",
       "      <th>APR_Risk_of_Mortality</th>\n",
       "      <td>0.073064</td>\n",
       "    </tr>\n",
       "    <tr>\n",
       "      <th>Visitors_with_Patient</th>\n",
       "      <td>0.003658</td>\n",
       "    </tr>\n",
       "    <tr>\n",
       "      <th>Patient_Disposition_Skilled Nursing Home</th>\n",
       "      <td>0.003171</td>\n",
       "    </tr>\n",
       "    <tr>\n",
       "      <th>Payment_Typology_1_Medicaid</th>\n",
       "      <td>0.002386</td>\n",
       "    </tr>\n",
       "    <tr>\n",
       "      <th>Patient_Disposition_Home or Self Care</th>\n",
       "      <td>0.001093</td>\n",
       "    </tr>\n",
       "    <tr>\n",
       "      <th>Patient_Disposition_Others</th>\n",
       "      <td>0.000207</td>\n",
       "    </tr>\n",
       "    <tr>\n",
       "      <th>Age</th>\n",
       "      <td>0.000000</td>\n",
       "    </tr>\n",
       "    <tr>\n",
       "      <th>Type_of_Admission_Emergency</th>\n",
       "      <td>0.000000</td>\n",
       "    </tr>\n",
       "  </tbody>\n",
       "</table>\n",
       "</div>"
      ],
      "text/plain": [
       "                                          Feature_Importance\n",
       "Administrative_Delay                                0.736747\n",
       "APR_Medical_Surgical_Description_Medical            0.179675\n",
       "APR_Risk_of_Mortality                               0.073064\n",
       "Visitors_with_Patient                               0.003658\n",
       "Patient_Disposition_Skilled Nursing Home            0.003171\n",
       "Payment_Typology_1_Medicaid                         0.002386\n",
       "Patient_Disposition_Home or Self Care               0.001093\n",
       "Patient_Disposition_Others                          0.000207\n",
       "Age                                                 0.000000\n",
       "Type_of_Admission_Emergency                         0.000000"
      ]
     },
     "execution_count": 162,
     "metadata": {},
     "output_type": "execute_result"
    }
   ],
   "source": [
    "#clf_reg.feature_importances_\n",
    "\n",
    "feat_imp_dict_min = dict(zip(X_min_train.columns, clf_min_reg.feature_importances_))\n",
    "feat_imp_min = pd.DataFrame.from_dict(feat_imp_dict_min, orient='index')\n",
    "feat_imp_min.rename(columns = {0:'Feature_Importance'}, inplace = True)\n",
    "feat_imp_min.sort_values(by=['Feature_Importance'], ascending=False).head(10)"
   ]
  },
  {
   "cell_type": "markdown",
   "metadata": {},
   "source": [
    "### CART extreme severity - log dataset"
   ]
  },
  {
   "cell_type": "code",
   "execution_count": 163,
   "metadata": {},
   "outputs": [],
   "source": [
    "log_X_ext_tr = log_X_ext_train.values #transform data frame to array \n",
    "log_X_ext_tra= log_X_ext_tr.reshape((X_ext_train.shape[0],-1)) #reshape array so that [[]] are used\n",
    "\n",
    "log_y_ext_ar = log_Y_ext_train.values #transform data frame to array "
   ]
  },
  {
   "cell_type": "code",
   "execution_count": 164,
   "metadata": {},
   "outputs": [
    {
     "name": "stdout",
     "output_type": "stream",
     "text": [
      "0.3637265727574047 {'max_depth': 6}\n"
     ]
    }
   ],
   "source": [
    "parameters = {'max_depth':range(3,20)}\n",
    "regressor7 = GridSearchCV(DecisionTreeRegressor(), parameters, n_jobs=4)\n",
    "regressor7.fit(X=log_X_ext_tra, y=log_y_ext_ar)\n",
    "tree_model = regressor7.best_estimator_\n",
    "print (regressor7.best_score_, regressor7.best_params_)"
   ]
  },
  {
   "cell_type": "code",
   "execution_count": 165,
   "metadata": {},
   "outputs": [
    {
     "name": "stdout",
     "output_type": "stream",
     "text": [
      "Train Set Errors\n",
      "Root Mean Squared Error: 0.45174\n",
      "Normalized Root Mean Squared Error: 10.027%\n",
      "\n",
      "Test Set Errors\n",
      "Root Mean Squared Error: 0.4547\n",
      "Normalized Root Mean Squared Error: 10.092%\n"
     ]
    }
   ],
   "source": [
    "#Optimal Pruning\n",
    "log_clf_ext_pruned = DecisionTreeRegressor(criterion = 'mse',random_state = 2022, max_depth = regressor7.best_params_['max_depth'])\n",
    "log_clf_ext_reg = log_clf_ext_pruned.fit(log_X_ext_train, log_Y_ext_train)\n",
    "\n",
    "#Train RMSE\n",
    "log_clf_ext_predict = log_clf_ext_reg.predict(log_X_ext_train)\n",
    "log_rmse_ext_train = np.sqrt(metrics.mean_squared_error(log_Y_ext_train, log_clf_ext_predict))\n",
    "log_norm_rmse_ext_train = log_rmse_ext_train/(max(log_Y_ext_train)-min(log_Y_ext_train))* 100\n",
    "print(\"Train Set Errors\")\n",
    "print('Root Mean Squared Error:',  round(log_rmse_ext_train,5))\n",
    "print('Normalized Root Mean Squared Error:',  str(round(log_norm_rmse_ext_train,3)) + \"%\\n\")\n",
    "\n",
    "#Test RMSE\n",
    "log_clf_ext_predict_test = log_clf_ext_reg.predict(log_X_ext_test)\n",
    "log_rmse_ext_test = np.sqrt(metrics.mean_squared_error(log_Y_ext_test, log_clf_ext_predict_test))\n",
    "log_norm_rmse_ext_test = log_rmse_ext_test/(max(log_Y_ext_test)-min(log_Y_ext_test))* 100\n",
    "print(\"Test Set Errors\")\n",
    "print('Root Mean Squared Error:',  round(log_rmse_ext_test,5))\n",
    "print('Normalized Root Mean Squared Error:',  str(round(log_norm_rmse_ext_test,3)) + \"%\")\n"
   ]
  },
  {
   "cell_type": "markdown",
   "metadata": {},
   "source": [
    "### CART moderate severity - log dataset "
   ]
  },
  {
   "cell_type": "code",
   "execution_count": 166,
   "metadata": {},
   "outputs": [],
   "source": [
    "log_X_mod_tr = log_X_mod_train.values #transform data frame to array \n",
    "log_X_mod_tra= log_X_mod_tr.reshape((log_X_mod_train.shape[0],-1)) #reshape array so that [[]] are used\n",
    "\n",
    "log_y_mod_ar = log_Y_mod_train.values #transform data frame to array "
   ]
  },
  {
   "cell_type": "code",
   "execution_count": 167,
   "metadata": {},
   "outputs": [
    {
     "name": "stdout",
     "output_type": "stream",
     "text": [
      "0.6142172009164654 {'max_depth': 8}\n"
     ]
    }
   ],
   "source": [
    "parameters = {'max_depth':range(3,20)}\n",
    "regressor8 = GridSearchCV(DecisionTreeRegressor(), parameters, n_jobs=4)\n",
    "regressor8.fit(X=log_X_mod_tra, y=log_y_mod_ar)\n",
    "tree_model = regressor8.best_estimator_\n",
    "print (regressor8.best_score_, regressor8.best_params_)"
   ]
  },
  {
   "cell_type": "code",
   "execution_count": 168,
   "metadata": {},
   "outputs": [
    {
     "name": "stdout",
     "output_type": "stream",
     "text": [
      "Train Set Errors\n",
      "Root Mean Squared Error: 0.59383\n",
      "Normalized Root Mean Squared Error: 13.18%\n",
      "\n",
      "Test Set Errors\n",
      "Root Mean Squared Error: 0.55984\n",
      "Normalized Root Mean Squared Error: 12.426%\n"
     ]
    }
   ],
   "source": [
    "#Optimal Pruning\n",
    "log_clf_mod_pruned = DecisionTreeRegressor(criterion = 'mse',random_state = 2022, max_depth = regressor8.best_params_['max_depth'])\n",
    "log_clf_mod_reg = log_clf_mod_pruned.fit(log_X_mod_train, log_Y_mod_train)\n",
    "\n",
    "#Train RMSE\n",
    "log_clf_mod_predict = log_clf_mod_reg.predict(X_mod_train)\n",
    "log_rmse_mod_train = np.sqrt(metrics.mean_squared_error(log_Y_mod_train, log_clf_mod_predict))\n",
    "log_norm_rmse_mod_train = log_rmse_mod_train/(max(log_Y_mod_train)-min(log_Y_mod_train))* 100\n",
    "print(\"Train Set Errors\")\n",
    "print('Root Mean Squared Error:',  round(log_rmse_mod_train,5))\n",
    "print('Normalized Root Mean Squared Error:',  str(round(log_norm_rmse_mod_train,3)) + \"%\\n\")\n",
    "\n",
    "#Test RMSE\n",
    "log_clf_mod_predict_test = log_clf_mod_reg.predict(log_X_mod_test)\n",
    "log_rmse_mod_test = np.sqrt(metrics.mean_squared_error(log_Y_mod_test, log_clf_mod_predict_test))\n",
    "log_norm_rmse_mod_test = log_rmse_mod_test/(max(log_Y_mod_test)-min(log_Y_mod_test))* 100\n",
    "print(\"Test Set Errors\")\n",
    "print('Root Mean Squared Error:',  round(log_rmse_mod_test,5))\n",
    "print('Normalized Root Mean Squared Error:',  str(round(log_norm_rmse_mod_test,3)) + \"%\")"
   ]
  },
  {
   "cell_type": "markdown",
   "metadata": {},
   "source": [
    "### CART at minor severity  - log dataset"
   ]
  },
  {
   "cell_type": "code",
   "execution_count": 169,
   "metadata": {},
   "outputs": [],
   "source": [
    "log_X_min_tr = log_X_min_train.values #transform data frame to array \n",
    "log_X_min_tra= log_X_min_tr.reshape((log_X_min_train.shape[0],-1)) #reshape array so that [[]] are used\n",
    "\n",
    "log_y_min_ar = log_Y_min_train.values #transform data frame to array "
   ]
  },
  {
   "cell_type": "code",
   "execution_count": 170,
   "metadata": {},
   "outputs": [
    {
     "name": "stdout",
     "output_type": "stream",
     "text": [
      "0.5434866557981073 {'max_depth': 7}\n"
     ]
    }
   ],
   "source": [
    "parameters = {'max_depth':range(3,20)}\n",
    "regressor9 = GridSearchCV(DecisionTreeRegressor(), parameters, n_jobs=4)\n",
    "regressor9.fit(X=log_X_min_tra, y=log_y_min_ar)\n",
    "tree_minel = regressor9.best_estimator_\n",
    "print (regressor9.best_score_, regressor9.best_params_)"
   ]
  },
  {
   "cell_type": "code",
   "execution_count": 171,
   "metadata": {},
   "outputs": [
    {
     "name": "stdout",
     "output_type": "stream",
     "text": [
      "Train Set Errors\n",
      "Root Mean Squared Error: 0.49819\n",
      "Normalized Root Mean Squared Error: 11.058%\n",
      "\n",
      "Test Set Errors\n",
      "Root Mean Squared Error: 0.50198\n",
      "Normalized Root Mean Squared Error: 11.142%\n"
     ]
    }
   ],
   "source": [
    "#Optimal Pruning\n",
    "log_clf_min_pruned = DecisionTreeRegressor(criterion = 'mse',random_state = 2022, max_depth = regressor4.best_params_['max_depth'])\n",
    "log_clf_min_reg = log_clf_min_pruned.fit(log_X_min_train, log_Y_min_train)\n",
    "\n",
    "#Train RMSE\n",
    "log_clf_min_predict = log_clf_min_reg.predict(log_X_min_train)\n",
    "log_rmse_min_train = np.sqrt(metrics.mean_squared_error(log_Y_min_train, log_clf_min_predict))\n",
    "log_norm_rmse_min_train = log_rmse_min_train/(max(log_Y_min_train)-min(log_Y_min_train))* 100\n",
    "print(\"Train Set Errors\")\n",
    "print('Root Mean Squared Error:',  round(log_rmse_min_train,5))\n",
    "print('Normalized Root Mean Squared Error:',  str(round(log_norm_rmse_min_train,3)) + \"%\\n\")\n",
    "\n",
    "#Test RMSE\n",
    "log_clf_min_predict_test = log_clf_min_reg.predict(log_X_min_test)\n",
    "log_rmse_min_test = np.sqrt(metrics.mean_squared_error(log_Y_min_test, log_clf_min_predict_test))\n",
    "log_norm_rmse_min_test = log_rmse_min_test/(max(log_Y_min_test)-min(log_Y_min_test))* 100\n",
    "print(\"Test Set Errors\")\n",
    "print('Root Mean Squared Error:',  round(log_rmse_min_test,5))\n",
    "print('Normalized Root Mean Squared Error:',  str(round(log_norm_rmse_min_test,3)) + \"%\")"
   ]
  },
  {
   "cell_type": "markdown",
   "metadata": {},
   "source": [
    "### CART Summary of Error"
   ]
  },
  {
   "cell_type": "code",
   "execution_count": 172,
   "metadata": {},
   "outputs": [
    {
     "name": "stdout",
     "output_type": "stream",
     "text": [
      "Summary of Normalised RMSE Errors\n",
      "Train Set Errors\n",
      "Normalized RMSE for Train Dataset: 6.608%\n",
      "Normalized RMSE for Extreme Severity: 2.527%\n",
      "Normalized RMSE for Moderate Severity: 8.404%\n",
      "Normalized RMSE for Minor Severity: 4.075%\n",
      "\n",
      "Test Set Errors\n",
      "Normalized RMSE for Test Dataset: 6.776%\n",
      "Normalized RMSE for Extreme Severity: 2.558%\n",
      "Normalized RMSE for Moderate Severity: 8.556%\n",
      "Normalized RMSE for Minor Severity: 4.643%\n"
     ]
    }
   ],
   "source": [
    "print(\"Summary of Normalised RMSE Errors\")\n",
    "\n",
    "#Train RMSE\n",
    "print(\"Train Set Errors\")\n",
    "print('Normalized RMSE for Train Dataset:',  str(round(norm_rmse_c1_train,3)) + \"%\")\n",
    "print('Normalized RMSE for Extreme Severity:',  str(round(norm_rmse_ext_train,3)) + \"%\")\n",
    "print('Normalized RMSE for Moderate Severity:',  str(round(norm_rmse_mod_train,3)) + \"%\")\n",
    "print('Normalized RMSE for Minor Severity:',  str(round(norm_rmse_min_train,3)) + \"%\\n\")\n",
    "\n",
    "#Test RMSE\n",
    "print(\"Test Set Errors\")\n",
    "print('Normalized RMSE for Test Dataset:',  str(round(norm_rmse_c1_test,3)) + \"%\")\n",
    "print('Normalized RMSE for Extreme Severity:',  str(round(norm_rmse_ext_test,3)) + \"%\")\n",
    "print('Normalized RMSE for Moderate Severity:',  str(round(norm_rmse_mod_test,3)) + \"%\")\n",
    "print('Normalized RMSE for Minor Severity:',  str(round(norm_rmse_min_test,3)) + \"%\")\n"
   ]
  },
  {
   "cell_type": "markdown",
   "metadata": {},
   "source": [
    "### CART Summary of Error - (Log dataset)"
   ]
  },
  {
   "cell_type": "code",
   "execution_count": 173,
   "metadata": {},
   "outputs": [
    {
     "name": "stdout",
     "output_type": "stream",
     "text": [
      "Summary of Normalised RMSE Errors (Log dataset)\n",
      "Train Set Errors\n",
      "Normalized RMSE for Train Dataset: 12.25%\n",
      "Normalized RMSE for Extreme Severity: 10.027%\n",
      "Normalized RMSE for Moderate Severity: 13.18%\n",
      "Normalized RMSE for Minor Severity: 11.058%\n",
      "\n",
      "Test Set Errors\n",
      "Normalized RMSE for Test Dataset: 12.243%\n",
      "Normalized RMSE for Extreme Severity: 10.092%\n",
      "Normalized RMSE for Moderate Severity: 12.426%\n",
      "Normalized RMSE for Minor Severity: 11.142%\n"
     ]
    }
   ],
   "source": [
    "print(\"Summary of Normalised RMSE Errors (Log dataset)\")\n",
    "\n",
    "#Train RMSE\n",
    "print(\"Train Set Errors\")\n",
    "print('Normalized RMSE for Train Dataset:',  str(round(norm_rmse_c2_train,3)) + \"%\")\n",
    "print('Normalized RMSE for Extreme Severity:',  str(round(log_norm_rmse_ext_train,3)) + \"%\")\n",
    "print('Normalized RMSE for Moderate Severity:',  str(round(log_norm_rmse_mod_train,3)) + \"%\")\n",
    "print('Normalized RMSE for Minor Severity:',  str(round(log_norm_rmse_min_train,3)) + \"%\\n\")\n",
    "\n",
    "#Test RMSE\n",
    "print(\"Test Set Errors\")\n",
    "print('Normalized RMSE for Test Dataset:',  str(round(norm_rmse_c2_test,3)) + \"%\")\n",
    "print('Normalized RMSE for Extreme Severity:',  str(round(log_norm_rmse_ext_test,3)) + \"%\")\n",
    "print('Normalized RMSE for Moderate Severity:',  str(round(log_norm_rmse_mod_test,3)) + \"%\")\n",
    "print('Normalized RMSE for Minor Severity:',  str(round(log_norm_rmse_min_test,3)) + \"%\")\n"
   ]
  },
  {
   "cell_type": "markdown",
   "metadata": {},
   "source": [
    "## Random Forest Errors based on severity"
   ]
  },
  {
   "cell_type": "markdown",
   "metadata": {},
   "source": [
    "### Random Forest Errors for Extreme dataset"
   ]
  },
  {
   "cell_type": "code",
   "execution_count": 174,
   "metadata": {},
   "outputs": [
    {
     "data": {
      "text/plain": [
       "RandomForestRegressor(max_features=10, max_samples=3000, n_estimators=2500,\n",
       "                      random_state=2022)"
      ]
     },
     "execution_count": 174,
     "metadata": {},
     "output_type": "execute_result"
    }
   ],
   "source": [
    "#using optimal random forest model\n",
    "rf_1 = RandomForestRegressor(n_estimators = 2500, max_samples = 3000, max_features = 10, random_state = 2022)\n",
    "\n",
    "# Train the model on training data\n",
    "rf_1.fit(X_ext_train, Y_ext_train)"
   ]
  },
  {
   "cell_type": "code",
   "execution_count": 175,
   "metadata": {},
   "outputs": [],
   "source": [
    "# Use the forest's predict method on the test data\n",
    "predictions_1 = rf_1.predict(X_ext_test)"
   ]
  },
  {
   "cell_type": "code",
   "execution_count": 176,
   "metadata": {},
   "outputs": [
    {
     "name": "stdout",
     "output_type": "stream",
     "text": [
      "Mean Absolute Error: 2.0463633876313376\n",
      "Mean Squared Error: 20.880554749165785\n",
      "Root Mean Squared Error: 4.569524564893571\n",
      "R-Squared Error:\n"
     ]
    },
    {
     "data": {
      "text/plain": [
       "(None, 0.43812620880345177)"
      ]
     },
     "execution_count": 176,
     "metadata": {},
     "output_type": "execute_result"
    }
   ],
   "source": [
    "# Checking of test_set errors\n",
    "print('Mean Absolute Error:', metrics.mean_absolute_error(Y_ext_test, predictions_1))  \n",
    "print('Mean Squared Error:', metrics.mean_squared_error(Y_ext_test, predictions_1))  \n",
    "print('Root Mean Squared Error:', np.sqrt(metrics.mean_squared_error(Y_ext_test, predictions_1)))\n",
    "print('R-Squared Error:'), r2_score(Y_ext_test, predictions_1)"
   ]
  },
  {
   "cell_type": "code",
   "execution_count": 177,
   "metadata": {},
   "outputs": [
    {
     "name": "stdout",
     "output_type": "stream",
     "text": [
      "Normalized Root Mean Squared Error: 2.552807019493615\n"
     ]
    }
   ],
   "source": [
    "# Normalised RMSE\n",
    "print('Normalized Root Mean Squared Error:', np.sqrt(metrics.mean_squared_error(Y_ext_test, predictions_1)) / (max(Y_ext_test) - min(Y_ext_test)) * 100)"
   ]
  },
  {
   "cell_type": "markdown",
   "metadata": {},
   "source": [
    "### Random Forest Errors for Moderate dataset"
   ]
  },
  {
   "cell_type": "code",
   "execution_count": 178,
   "metadata": {},
   "outputs": [
    {
     "data": {
      "text/plain": [
       "RandomForestRegressor(max_features=10, max_samples=3000, n_estimators=2500,\n",
       "                      random_state=2022)"
      ]
     },
     "execution_count": 178,
     "metadata": {},
     "output_type": "execute_result"
    }
   ],
   "source": [
    "#using optimal random forest model\n",
    "rf_2 = RandomForestRegressor(n_estimators = 2500, max_samples = 3000, max_features = 10, random_state = 2022)\n",
    "\n",
    "# Train the model on training data\n",
    "rf_2.fit(X_mod_train, Y_mod_train)"
   ]
  },
  {
   "cell_type": "code",
   "execution_count": 179,
   "metadata": {},
   "outputs": [],
   "source": [
    "# Use the forest's predict method on the test data\n",
    "predictions_2 = rf_2.predict(X_mod_test)"
   ]
  },
  {
   "cell_type": "code",
   "execution_count": 180,
   "metadata": {},
   "outputs": [
    {
     "name": "stdout",
     "output_type": "stream",
     "text": [
      "Mean Absolute Error: 7.197947923538288\n",
      "Mean Squared Error: 231.98640518838428\n",
      "Root Mean Squared Error: 15.231099933635269\n",
      "R-Squared Error:\n"
     ]
    },
    {
     "data": {
      "text/plain": [
       "(None, 0.34129752493225274)"
      ]
     },
     "execution_count": 180,
     "metadata": {},
     "output_type": "execute_result"
    }
   ],
   "source": [
    "# Checking of test_set errors\n",
    "print('Mean Absolute Error:', metrics.mean_absolute_error(Y_mod_test, predictions_2))  \n",
    "print('Mean Squared Error:', metrics.mean_squared_error(Y_mod_test, predictions_2))  \n",
    "print('Root Mean Squared Error:', np.sqrt(metrics.mean_squared_error(Y_mod_test, predictions_2)))\n",
    "print('R-Squared Error:'), r2_score(Y_mod_test, predictions_2)"
   ]
  },
  {
   "cell_type": "code",
   "execution_count": 181,
   "metadata": {},
   "outputs": [
    {
     "name": "stdout",
     "output_type": "stream",
     "text": [
      "Normalized Root Mean Squared Error: 8.508994376332552\n"
     ]
    }
   ],
   "source": [
    "# Normalised RMSE\n",
    "print('Normalized Root Mean Squared Error:', np.sqrt(metrics.mean_squared_error(Y_mod_test, predictions_2)) / (max(Y_mod_test) - min(Y_mod_test)) * 100)"
   ]
  },
  {
   "cell_type": "markdown",
   "metadata": {},
   "source": [
    "### Random Forest Errors for Minor dataset"
   ]
  },
  {
   "cell_type": "code",
   "execution_count": 182,
   "metadata": {},
   "outputs": [
    {
     "data": {
      "text/plain": [
       "RandomForestRegressor(max_features=10, max_samples=3000, n_estimators=2500,\n",
       "                      random_state=2022)"
      ]
     },
     "execution_count": 182,
     "metadata": {},
     "output_type": "execute_result"
    }
   ],
   "source": [
    "#using optimal random forest model\n",
    "rf_3 = RandomForestRegressor(n_estimators = 2500, max_samples = 3000, max_features = 10, random_state = 2022)\n",
    "\n",
    "# Train the model on training data\n",
    "rf_3.fit(X_min_train, Y_min_train)"
   ]
  },
  {
   "cell_type": "code",
   "execution_count": 183,
   "metadata": {},
   "outputs": [],
   "source": [
    "# Use the forest's predict method on the test data\n",
    "predictions_3 = rf_3.predict(X_min_test)"
   ]
  },
  {
   "cell_type": "code",
   "execution_count": 184,
   "metadata": {},
   "outputs": [
    {
     "name": "stdout",
     "output_type": "stream",
     "text": [
      "Mean Absolute Error: 3.408420961430967\n",
      "Mean Squared Error: 67.98734764612634\n",
      "Root Mean Squared Error: 8.245444053907972\n",
      "R-Squared Error:\n"
     ]
    },
    {
     "data": {
      "text/plain": [
       "(None, 0.3834760465152359)"
      ]
     },
     "execution_count": 184,
     "metadata": {},
     "output_type": "execute_result"
    }
   ],
   "source": [
    "# Checking of test_set errors\n",
    "print('Mean Absolute Error:', metrics.mean_absolute_error(Y_min_test, predictions_3))  \n",
    "print('Mean Squared Error:', metrics.mean_squared_error(Y_min_test, predictions_3))  \n",
    "print('Root Mean Squared Error:', np.sqrt(metrics.mean_squared_error(Y_min_test, predictions_3)))\n",
    "print('R-Squared Error:'), r2_score(Y_min_test, predictions_3)"
   ]
  },
  {
   "cell_type": "code",
   "execution_count": 185,
   "metadata": {},
   "outputs": [
    {
     "name": "stdout",
     "output_type": "stream",
     "text": [
      "Normalized Root Mean Squared Error: 6.162934241213604\n"
     ]
    }
   ],
   "source": [
    "# Normalised RMSE\n",
    "print('Normalized Root Mean Squared Error:', np.sqrt(metrics.mean_squared_error(Y_min_test, predictions_3) / (max(Y_min_test) - min(Y_min_test)) * 100))"
   ]
  },
  {
   "cell_type": "markdown",
   "metadata": {},
   "source": [
    "### Random Forest Errors for Extreme Log dataset"
   ]
  },
  {
   "cell_type": "code",
   "execution_count": 186,
   "metadata": {},
   "outputs": [
    {
     "data": {
      "text/plain": [
       "RandomForestRegressor(max_features=10, max_samples=3000, n_estimators=2500,\n",
       "                      random_state=2022)"
      ]
     },
     "execution_count": 186,
     "metadata": {},
     "output_type": "execute_result"
    }
   ],
   "source": [
    "#using optimal random forest model\n",
    "rf_4 = RandomForestRegressor(n_estimators = 2500, max_samples = 3000, max_features = 10, random_state = 2022)\n",
    "\n",
    "# Train the model on training data\n",
    "rf_4.fit(log_X_ext_train, log_Y_ext_train)"
   ]
  },
  {
   "cell_type": "code",
   "execution_count": 187,
   "metadata": {},
   "outputs": [],
   "source": [
    "# Use the forest's predict method on the test data\n",
    "predictions_4 = rf_4.predict(log_X_ext_test)"
   ]
  },
  {
   "cell_type": "code",
   "execution_count": 188,
   "metadata": {},
   "outputs": [
    {
     "name": "stdout",
     "output_type": "stream",
     "text": [
      "Mean Absolute Error: 0.34440028830250735\n",
      "Mean Squared Error: 0.20488351764291787\n",
      "Root Mean Squared Error: 0.4526406053845787\n",
      "R-Squared Error:\n"
     ]
    },
    {
     "data": {
      "text/plain": [
       "(None, 0.37111293027604464)"
      ]
     },
     "execution_count": 188,
     "metadata": {},
     "output_type": "execute_result"
    }
   ],
   "source": [
    "# Checking of test_set errors\n",
    "print('Mean Absolute Error:', metrics.mean_absolute_error(log_Y_ext_test, predictions_4))  \n",
    "print('Mean Squared Error:', metrics.mean_squared_error(log_Y_ext_test, predictions_4))  \n",
    "print('Root Mean Squared Error:', np.sqrt(metrics.mean_squared_error(log_Y_ext_test, predictions_4)))\n",
    "print('R-Squared Error:'), r2_score(log_Y_ext_test, predictions_4)"
   ]
  },
  {
   "cell_type": "code",
   "execution_count": 189,
   "metadata": {},
   "outputs": [
    {
     "name": "stdout",
     "output_type": "stream",
     "text": [
      "Normalized Root Mean Squared Error: 10.046736000172345\n"
     ]
    }
   ],
   "source": [
    "# Normalised RMSE\n",
    "print('Normalized Root Mean Squared Error:', np.sqrt(metrics.mean_squared_error(log_Y_ext_test, predictions_4)) / (max(log_Y_ext_test) - min(log_Y_ext_test)) * 100)"
   ]
  },
  {
   "cell_type": "markdown",
   "metadata": {},
   "source": [
    "### Random Forest Errors for Moderate Log dataset"
   ]
  },
  {
   "cell_type": "code",
   "execution_count": 190,
   "metadata": {},
   "outputs": [
    {
     "data": {
      "text/plain": [
       "RandomForestRegressor(max_features=10, max_samples=3000, n_estimators=2500,\n",
       "                      random_state=2022)"
      ]
     },
     "execution_count": 190,
     "metadata": {},
     "output_type": "execute_result"
    }
   ],
   "source": [
    "#using optimal random forest model\n",
    "rf_5 = RandomForestRegressor(n_estimators = 2500, max_samples = 3000, max_features = 10, random_state = 2022)\n",
    "\n",
    "# Train the model on training data\n",
    "rf_5.fit(log_X_mod_train, log_Y_mod_train)"
   ]
  },
  {
   "cell_type": "code",
   "execution_count": 191,
   "metadata": {},
   "outputs": [],
   "source": [
    "# Use the forest's predict method on the test data\n",
    "predictions_5 = rf_5.predict(log_X_mod_test)"
   ]
  },
  {
   "cell_type": "code",
   "execution_count": 192,
   "metadata": {},
   "outputs": [
    {
     "name": "stdout",
     "output_type": "stream",
     "text": [
      "Mean Absolute Error: 0.411944794979709\n",
      "Mean Squared Error: 0.30669852242083684\n",
      "Root Mean Squared Error: 0.5538036858136978\n",
      "R-Squared Error:\n"
     ]
    },
    {
     "data": {
      "text/plain": [
       "(None, 0.6183205796081805)"
      ]
     },
     "execution_count": 192,
     "metadata": {},
     "output_type": "execute_result"
    }
   ],
   "source": [
    "# Checking of test_set errors\n",
    "print('Mean Absolute Error:', metrics.mean_absolute_error(log_Y_mod_test, predictions_5))  \n",
    "print('Mean Squared Error:', metrics.mean_squared_error(log_Y_mod_test, predictions_5))  \n",
    "print('Root Mean Squared Error:', np.sqrt(metrics.mean_squared_error(log_Y_mod_test, predictions_5)))\n",
    "print('R-Squared Error:'), r2_score(log_Y_mod_test, predictions_5)"
   ]
  },
  {
   "cell_type": "code",
   "execution_count": 193,
   "metadata": {},
   "outputs": [
    {
     "name": "stdout",
     "output_type": "stream",
     "text": [
      "Normalized Root Mean Squared Error: 12.292134998726679\n"
     ]
    }
   ],
   "source": [
    "# Normalised RMSE\n",
    "print('Normalized Root Mean Squared Error:', np.sqrt(metrics.mean_squared_error(log_Y_mod_test, predictions_5)) / (max(log_Y_mod_test) - min(log_Y_mod_test)) * 100)"
   ]
  },
  {
   "cell_type": "markdown",
   "metadata": {},
   "source": [
    "### Random Forest Errors for Minor Log  dataset"
   ]
  },
  {
   "cell_type": "code",
   "execution_count": 194,
   "metadata": {},
   "outputs": [
    {
     "data": {
      "text/plain": [
       "RandomForestRegressor(max_features=10, max_samples=3000, n_estimators=2500,\n",
       "                      random_state=2022)"
      ]
     },
     "execution_count": 194,
     "metadata": {},
     "output_type": "execute_result"
    }
   ],
   "source": [
    "#using optimal random forest model\n",
    "rf_6 = RandomForestRegressor(n_estimators = 2500, max_samples = 3000, max_features = 10, random_state = 2022)\n",
    "\n",
    "# Train the model on training data\n",
    "rf_6.fit(log_X_min_train, log_Y_min_train)"
   ]
  },
  {
   "cell_type": "code",
   "execution_count": 195,
   "metadata": {},
   "outputs": [],
   "source": [
    "# Use the forest's predict method on the test data\n",
    "predictions_6 = rf_6.predict(log_X_min_test)"
   ]
  },
  {
   "cell_type": "code",
   "execution_count": 196,
   "metadata": {},
   "outputs": [
    {
     "name": "stdout",
     "output_type": "stream",
     "text": [
      "Mean Absolute Error: 0.36840036115305896\n",
      "Mean Squared Error: 0.233451416256895\n",
      "Root Mean Squared Error: 0.4831681035177043\n",
      "R-Squared Error:\n"
     ]
    },
    {
     "data": {
      "text/plain": [
       "(None, 0.5560640139994779)"
      ]
     },
     "execution_count": 196,
     "metadata": {},
     "output_type": "execute_result"
    }
   ],
   "source": [
    "# Checking of test_set errors\n",
    "print('Mean Absolute Error:', metrics.mean_absolute_error(log_Y_min_test, predictions_6))  \n",
    "print('Mean Squared Error:', metrics.mean_squared_error(log_Y_min_test, predictions_6))  \n",
    "print('Root Mean Squared Error:', np.sqrt(metrics.mean_squared_error(log_Y_min_test, predictions_6)))\n",
    "print('R-Squared Error:'), r2_score(log_Y_min_test, predictions_6)"
   ]
  },
  {
   "cell_type": "code",
   "execution_count": 197,
   "metadata": {},
   "outputs": [
    {
     "name": "stdout",
     "output_type": "stream",
     "text": [
      "Normalized Root Mean Squared Error: 10.724319298799923\n"
     ]
    }
   ],
   "source": [
    "# Normalised RMSE\n",
    "print('Normalized Root Mean Squared Error:', np.sqrt(metrics.mean_squared_error(log_Y_min_test, predictions_6)) / (max(log_Y_min_test) - min(log_Y_min_test)) * 100)"
   ]
  },
  {
   "cell_type": "code",
   "execution_count": null,
   "metadata": {},
   "outputs": [],
   "source": []
  },
  {
   "cell_type": "code",
   "execution_count": null,
   "metadata": {},
   "outputs": [],
   "source": []
  },
  {
   "cell_type": "code",
   "execution_count": null,
   "metadata": {},
   "outputs": [],
   "source": []
  },
  {
   "cell_type": "code",
   "execution_count": null,
   "metadata": {},
   "outputs": [],
   "source": []
  },
  {
   "cell_type": "code",
   "execution_count": null,
   "metadata": {},
   "outputs": [],
   "source": []
  }
 ],
 "metadata": {
  "interpreter": {
   "hash": "9b6b05c16468b3a24ddc4dc010700be3d4043c6940c6e2741ee87361981c70b6"
  },
  "kernelspec": {
   "display_name": "Python 3",
   "language": "python",
   "name": "python3"
  },
  "language_info": {
   "codemirror_mode": {
    "name": "ipython",
    "version": 3
   },
   "file_extension": ".py",
   "mimetype": "text/x-python",
   "name": "python",
   "nbconvert_exporter": "python",
   "pygments_lexer": "ipython3",
   "version": "3.8.5"
  }
 },
 "nbformat": 4,
 "nbformat_minor": 2
}
